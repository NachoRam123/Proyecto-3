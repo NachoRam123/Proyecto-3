{
  "cells": [
    {
      "cell_type": "markdown",
      "metadata": {
        "id": "Y5xSScYVId1j"
      },
      "source": [
        "# Proyecto 03 - Series de Tiempo\n",
        "\n",
        "## Dataset: Flujo Vehicular por Unidades de Peaje AUSA\n",
        "\n",
        "**Recuerda descargar el dataset de [aquí](https://data.buenosaires.gob.ar/dataset/flujo-vehicular-por-unidades-peaje-ausa). Deberás descargar -  al menos para comenzar - los años 2017, 2018 y 2019.**\n",
        "\n",
        "En este notebook te dejamos unas celdas para que puedas comenzar a trabajar con este dataset para los años 2017, 2018 y 2019. Si deseas utilizar otros años, ten en cuenta que deberás hacer el preprocesamiento correspondiente, ya que la estructura de los datos puede variar.\n",
        "\n",
        "**Importante:** Para el proyecto, debes comenzar con los datos de la autopista Illia, pago en Efectivo.\n",
        "\n",
        "### Exploración de datos\n",
        "\n",
        "Dedícale un buen tiempo a hacer un Análisis Exploratorio de Datos. Elige preguntas que creas que puedas responder con este dataset. Por ejemplo, ¿Cuáles son los días y horarios de mayor tráfico? También, estudia autocorrelaciones, resampleos, etc.\n",
        "\n",
        "#### Componentes de la serie\n",
        "\n",
        "1. Calcula las componentes estacionales y tendencia de la serie. Interpreta los resultados, si es necesario con información auxiliar (por fuera del dataset) o elementos del dataset que no estés utilizando (por ejemplo, si la tendencia es negativa, ¿puede ser porque se migre a otras formas de pago?).\n",
        "1. ¿La serie posee valores atípicos? Si es así, interpreta, si es necesario con información auxiliar. **Pista**: primer semestre 2019.\n",
        "\n",
        "### Predicción a Futuro\n",
        "\n",
        "Debes implementar un modelo que prediga el tráfico en la autopista Illia para el último trimestre del 2019. \n",
        "\n",
        "1. Haz todas las transformaciones de datos que consideres necesarias. Justifica.\n",
        "1. Evalúa de forma apropiada tus resultados. Justifica la métrica elegida.\n",
        "1. Elige un modelo benchmark y compara tus resultados con este modelo.\n",
        "1. Optimiza los hiperparámetros de tu modelo. \n",
        "1. Intenta responder la pregunta: ¿Qué información está usando el modelo para predecir?\n",
        "1. Utiliza el modelo creado para predecir el tráfico en el año 2020. ¿Cómo funciona?\n",
        "1. Si lo deseas, puedes agregar información de años anteriores a 2017. ¿Mejoran los resultados?\n",
        "\n",
        "### Para pensar, investigar y, opcionalmente, implementar\n",
        "1. ¿Cómo incorporarías la información sobre tipo de vehículo, forma de pago, sentido, día de la semana, etc.? En lo que respecta a las predicciones, ¿mejoran o empeoran?\n",
        "1. ¿Qué ocurre si comparas las series de tiempo entre distintas estaciones de peajes?¿Tienen el mismo comportamiento o hay alguna que sea distinta a las otras? Si es así, ¿hay información auxiliar que te ayude a explicar lo que encuentras?\n",
        "1. ¿Hay algo que te gustaría investigar o probar?\n",
        "\n",
        "### **¡Tómate tiempo para investigar y leer mucho!**\n",
        "\n",
        "### 1. Preparación del Dataset y Exploracón de Datos"
      ]
    },
    {
      "cell_type": "markdown",
      "metadata": {},
      "source": [
        "Fuente de Datos\n",
        "Los datos provienen de la página data.buenosaires.gob.ar. Es una página oficial del gobierno de la provincia de Buenos Aires que contiene Datasets referidos a distintos temas y son de acceso público.\n",
        "Los Datasets del Flujo Vehicular por Unidades de Peaje AUSA se encuentran disponibles a partir del año 2008 hasta el año 2021 (completo hasta 01/12/2021) y estan acompañados con información adicional. De ahí sabemos que la frecuencia de actualización es mensual, el responsable de los datos es Autopistas Urbanas (AUSA), Secretaría de Transporte y Obras Públicas, Jefatura de Gabinetes de Ministros; y el organismo encargado de mantenimiento es la Gerencia Operativa de Ingeniería de Datos, Secretaría de Innovación y Transformación Digital, Jefatura de Gabinetes de Ministros.\n",
        "Los datasets hacen referencia a la información del paso de vehículos por las unidades de peaje AUSA. No hay información extra sobre los distintos atributos o columnas. De todas maneras es de fácil interpretación."
      ]
    },
    {
      "cell_type": "code",
      "execution_count": 4,
      "metadata": {
        "id": "W7HAw3EvId1m"
      },
      "outputs": [],
      "source": [
        "import pandas as pd\n",
        "import numpy as np\n",
        "import matplotlib.pyplot as plt\n",
        "import seaborn as sns\n",
        "import datetime"
      ]
    },
    {
      "cell_type": "code",
      "execution_count": 5,
      "metadata": {
        "id": "hgxJSUQ0Id1x"
      },
      "outputs": [],
      "source": [
        "data_2019 = pd.read_csv('flujo-vehicular-2019.csv', sep =',')\n",
        "data_2018 = pd.read_csv('flujo-vehicular-2018.csv', sep =',')\n",
        "data_2017 = pd.read_csv('flujo-vehicular-2017.csv', sep =',')"
      ]
    },
    {
      "cell_type": "code",
      "execution_count": 6,
      "metadata": {
        "id": "-rqv8_yHId19",
        "outputId": "775c8fcb-7707-4d61-b520-703151acb587"
      },
      "outputs": [
        {
          "name": "stdout",
          "output_type": "stream",
          "text": [
            "<class 'pandas.core.frame.DataFrame'>\n",
            "RangeIndex: 812153 entries, 0 to 812152\n",
            "Data columns (total 10 columns):\n",
            " #   Column          Non-Null Count   Dtype \n",
            "---  ------          --------------   ----- \n",
            " 0   periodo         812153 non-null  int64 \n",
            " 1   fecha           812153 non-null  object\n",
            " 2   hora_inicio     812153 non-null  int64 \n",
            " 3   hora_fin        812153 non-null  int64 \n",
            " 4   dia             812153 non-null  object\n",
            " 5   estacion        812153 non-null  object\n",
            " 6   sentido         812153 non-null  object\n",
            " 7   tipo_vehiculo   812153 non-null  object\n",
            " 8   forma_pago      812153 non-null  object\n",
            " 9   cantidad_pasos  812153 non-null  int64 \n",
            "dtypes: int64(4), object(6)\n",
            "memory usage: 62.0+ MB\n"
          ]
        },
        {
          "data": {
            "text/html": [
              "<div>\n",
              "<style scoped>\n",
              "    .dataframe tbody tr th:only-of-type {\n",
              "        vertical-align: middle;\n",
              "    }\n",
              "\n",
              "    .dataframe tbody tr th {\n",
              "        vertical-align: top;\n",
              "    }\n",
              "\n",
              "    .dataframe thead th {\n",
              "        text-align: right;\n",
              "    }\n",
              "</style>\n",
              "<table border=\"1\" class=\"dataframe\">\n",
              "  <thead>\n",
              "    <tr style=\"text-align: right;\">\n",
              "      <th></th>\n",
              "      <th>periodo</th>\n",
              "      <th>fecha</th>\n",
              "      <th>hora_inicio</th>\n",
              "      <th>hora_fin</th>\n",
              "      <th>dia</th>\n",
              "      <th>estacion</th>\n",
              "      <th>sentido</th>\n",
              "      <th>tipo_vehiculo</th>\n",
              "      <th>forma_pago</th>\n",
              "      <th>cantidad_pasos</th>\n",
              "    </tr>\n",
              "  </thead>\n",
              "  <tbody>\n",
              "    <tr>\n",
              "      <th>0</th>\n",
              "      <td>2019</td>\n",
              "      <td>2019-01-01</td>\n",
              "      <td>0</td>\n",
              "      <td>1</td>\n",
              "      <td>Martes</td>\n",
              "      <td>Alberti</td>\n",
              "      <td>Centro</td>\n",
              "      <td>Liviano</td>\n",
              "      <td>NO COBRADO</td>\n",
              "      <td>22</td>\n",
              "    </tr>\n",
              "    <tr>\n",
              "      <th>1</th>\n",
              "      <td>2019</td>\n",
              "      <td>2019-01-01</td>\n",
              "      <td>0</td>\n",
              "      <td>1</td>\n",
              "      <td>Martes</td>\n",
              "      <td>Alberti</td>\n",
              "      <td>Centro</td>\n",
              "      <td>Liviano</td>\n",
              "      <td>TELEPASE</td>\n",
              "      <td>6</td>\n",
              "    </tr>\n",
              "    <tr>\n",
              "      <th>2</th>\n",
              "      <td>2019</td>\n",
              "      <td>2019-01-01</td>\n",
              "      <td>0</td>\n",
              "      <td>1</td>\n",
              "      <td>Martes</td>\n",
              "      <td>Alberti</td>\n",
              "      <td>Provincia</td>\n",
              "      <td>Liviano</td>\n",
              "      <td>NO COBRADO</td>\n",
              "      <td>53</td>\n",
              "    </tr>\n",
              "    <tr>\n",
              "      <th>3</th>\n",
              "      <td>2019</td>\n",
              "      <td>2019-01-01</td>\n",
              "      <td>0</td>\n",
              "      <td>1</td>\n",
              "      <td>Martes</td>\n",
              "      <td>Alberti</td>\n",
              "      <td>Provincia</td>\n",
              "      <td>Liviano</td>\n",
              "      <td>TELEPASE</td>\n",
              "      <td>18</td>\n",
              "    </tr>\n",
              "    <tr>\n",
              "      <th>4</th>\n",
              "      <td>2019</td>\n",
              "      <td>2019-01-01</td>\n",
              "      <td>0</td>\n",
              "      <td>1</td>\n",
              "      <td>Martes</td>\n",
              "      <td>Avellaneda</td>\n",
              "      <td>Centro</td>\n",
              "      <td>Liviano</td>\n",
              "      <td>EFECTIVO</td>\n",
              "      <td>16</td>\n",
              "    </tr>\n",
              "  </tbody>\n",
              "</table>\n",
              "</div>"
            ],
            "text/plain": [
              "   periodo       fecha  hora_inicio  hora_fin     dia    estacion    sentido  \\\n",
              "0     2019  2019-01-01            0         1  Martes     Alberti     Centro   \n",
              "1     2019  2019-01-01            0         1  Martes     Alberti     Centro   \n",
              "2     2019  2019-01-01            0         1  Martes     Alberti  Provincia   \n",
              "3     2019  2019-01-01            0         1  Martes     Alberti  Provincia   \n",
              "4     2019  2019-01-01            0         1  Martes  Avellaneda     Centro   \n",
              "\n",
              "  tipo_vehiculo  forma_pago  cantidad_pasos  \n",
              "0       Liviano  NO COBRADO              22  \n",
              "1       Liviano    TELEPASE               6  \n",
              "2       Liviano  NO COBRADO              53  \n",
              "3       Liviano    TELEPASE              18  \n",
              "4       Liviano    EFECTIVO              16  "
            ]
          },
          "execution_count": 6,
          "metadata": {},
          "output_type": "execute_result"
        }
      ],
      "source": [
        "data_2019.info()\n",
        "data_2019.head()"
      ]
    },
    {
      "cell_type": "code",
      "execution_count": 7,
      "metadata": {
        "id": "t327LOEhId2G",
        "outputId": "56c75966-efc5-437f-9579-a953f202ba0c"
      },
      "outputs": [
        {
          "name": "stdout",
          "output_type": "stream",
          "text": [
            "<class 'pandas.core.frame.DataFrame'>\n",
            "RangeIndex: 1375908 entries, 0 to 1375907\n",
            "Data columns (total 10 columns):\n",
            " #   Column          Non-Null Count    Dtype \n",
            "---  ------          --------------    ----- \n",
            " 0   periodo         1375908 non-null  int64 \n",
            " 1   fecha           1375908 non-null  object\n",
            " 2   hora_inicio     1375908 non-null  int64 \n",
            " 3   hora_fin        1375908 non-null  int64 \n",
            " 4   dia             1375908 non-null  object\n",
            " 5   estacion        1375908 non-null  object\n",
            " 6   sentido         1375908 non-null  object\n",
            " 7   tipo_vehiculo   1375908 non-null  object\n",
            " 8   forma_pago      1375908 non-null  object\n",
            " 9   cantidad_pasos  1375908 non-null  int64 \n",
            "dtypes: int64(4), object(6)\n",
            "memory usage: 105.0+ MB\n"
          ]
        },
        {
          "data": {
            "text/html": [
              "<div>\n",
              "<style scoped>\n",
              "    .dataframe tbody tr th:only-of-type {\n",
              "        vertical-align: middle;\n",
              "    }\n",
              "\n",
              "    .dataframe tbody tr th {\n",
              "        vertical-align: top;\n",
              "    }\n",
              "\n",
              "    .dataframe thead th {\n",
              "        text-align: right;\n",
              "    }\n",
              "</style>\n",
              "<table border=\"1\" class=\"dataframe\">\n",
              "  <thead>\n",
              "    <tr style=\"text-align: right;\">\n",
              "      <th></th>\n",
              "      <th>periodo</th>\n",
              "      <th>fecha</th>\n",
              "      <th>hora_inicio</th>\n",
              "      <th>hora_fin</th>\n",
              "      <th>dia</th>\n",
              "      <th>estacion</th>\n",
              "      <th>sentido</th>\n",
              "      <th>tipo_vehiculo</th>\n",
              "      <th>forma_pago</th>\n",
              "      <th>cantidad_pasos</th>\n",
              "    </tr>\n",
              "  </thead>\n",
              "  <tbody>\n",
              "    <tr>\n",
              "      <th>0</th>\n",
              "      <td>2018</td>\n",
              "      <td>2018-01-01</td>\n",
              "      <td>0</td>\n",
              "      <td>1</td>\n",
              "      <td>Lunes</td>\n",
              "      <td>Alberdi</td>\n",
              "      <td>Centro</td>\n",
              "      <td>Liviano</td>\n",
              "      <td>NO COBRADO</td>\n",
              "      <td>29</td>\n",
              "    </tr>\n",
              "    <tr>\n",
              "      <th>1</th>\n",
              "      <td>2018</td>\n",
              "      <td>2018-01-01</td>\n",
              "      <td>0</td>\n",
              "      <td>1</td>\n",
              "      <td>Lunes</td>\n",
              "      <td>Alberdi</td>\n",
              "      <td>Centro</td>\n",
              "      <td>Liviano</td>\n",
              "      <td>TELEPASE</td>\n",
              "      <td>9</td>\n",
              "    </tr>\n",
              "    <tr>\n",
              "      <th>2</th>\n",
              "      <td>2018</td>\n",
              "      <td>2018-01-01</td>\n",
              "      <td>1</td>\n",
              "      <td>2</td>\n",
              "      <td>Lunes</td>\n",
              "      <td>Alberdi</td>\n",
              "      <td>Centro</td>\n",
              "      <td>Liviano</td>\n",
              "      <td>NO COBRADO</td>\n",
              "      <td>73</td>\n",
              "    </tr>\n",
              "    <tr>\n",
              "      <th>3</th>\n",
              "      <td>2018</td>\n",
              "      <td>2018-01-01</td>\n",
              "      <td>1</td>\n",
              "      <td>2</td>\n",
              "      <td>Lunes</td>\n",
              "      <td>Alberdi</td>\n",
              "      <td>Centro</td>\n",
              "      <td>Liviano</td>\n",
              "      <td>TELEPASE</td>\n",
              "      <td>39</td>\n",
              "    </tr>\n",
              "    <tr>\n",
              "      <th>4</th>\n",
              "      <td>2018</td>\n",
              "      <td>2018-01-01</td>\n",
              "      <td>2</td>\n",
              "      <td>3</td>\n",
              "      <td>Lunes</td>\n",
              "      <td>Alberdi</td>\n",
              "      <td>Centro</td>\n",
              "      <td>Liviano</td>\n",
              "      <td>NO COBRADO</td>\n",
              "      <td>115</td>\n",
              "    </tr>\n",
              "  </tbody>\n",
              "</table>\n",
              "</div>"
            ],
            "text/plain": [
              "   periodo       fecha  hora_inicio  hora_fin    dia estacion sentido  \\\n",
              "0     2018  2018-01-01            0         1  Lunes  Alberdi  Centro   \n",
              "1     2018  2018-01-01            0         1  Lunes  Alberdi  Centro   \n",
              "2     2018  2018-01-01            1         2  Lunes  Alberdi  Centro   \n",
              "3     2018  2018-01-01            1         2  Lunes  Alberdi  Centro   \n",
              "4     2018  2018-01-01            2         3  Lunes  Alberdi  Centro   \n",
              "\n",
              "  tipo_vehiculo  forma_pago  cantidad_pasos  \n",
              "0       Liviano  NO COBRADO              29  \n",
              "1       Liviano    TELEPASE               9  \n",
              "2       Liviano  NO COBRADO              73  \n",
              "3       Liviano    TELEPASE              39  \n",
              "4       Liviano  NO COBRADO             115  "
            ]
          },
          "execution_count": 7,
          "metadata": {},
          "output_type": "execute_result"
        }
      ],
      "source": [
        "data_2018.info()\n",
        "data_2018.head()"
      ]
    },
    {
      "cell_type": "code",
      "execution_count": 8,
      "metadata": {
        "id": "OvaBbZf_Id2N",
        "outputId": "cec6fee3-7f73-46c7-ea00-95dd150cd80a"
      },
      "outputs": [
        {
          "name": "stdout",
          "output_type": "stream",
          "text": [
            "<class 'pandas.core.frame.DataFrame'>\n",
            "RangeIndex: 1372645 entries, 0 to 1372644\n",
            "Data columns (total 10 columns):\n",
            " #   Column          Non-Null Count    Dtype \n",
            "---  ------          --------------    ----- \n",
            " 0   periodo         1372645 non-null  int64 \n",
            " 1   fecha           1372645 non-null  object\n",
            " 2   hora_inicio     1372645 non-null  int64 \n",
            " 3   hora_fin        1372645 non-null  int64 \n",
            " 4   dia             1372645 non-null  object\n",
            " 5   estacion        1372645 non-null  object\n",
            " 6   sentido         1372645 non-null  object\n",
            " 7   tipo_vehiculo   1372645 non-null  object\n",
            " 8   forma_pago      1372645 non-null  object\n",
            " 9   cantidad_pasos  1372645 non-null  int64 \n",
            "dtypes: int64(4), object(6)\n",
            "memory usage: 104.7+ MB\n"
          ]
        },
        {
          "data": {
            "text/html": [
              "<div>\n",
              "<style scoped>\n",
              "    .dataframe tbody tr th:only-of-type {\n",
              "        vertical-align: middle;\n",
              "    }\n",
              "\n",
              "    .dataframe tbody tr th {\n",
              "        vertical-align: top;\n",
              "    }\n",
              "\n",
              "    .dataframe thead th {\n",
              "        text-align: right;\n",
              "    }\n",
              "</style>\n",
              "<table border=\"1\" class=\"dataframe\">\n",
              "  <thead>\n",
              "    <tr style=\"text-align: right;\">\n",
              "      <th></th>\n",
              "      <th>periodo</th>\n",
              "      <th>fecha</th>\n",
              "      <th>hora_inicio</th>\n",
              "      <th>hora_fin</th>\n",
              "      <th>dia</th>\n",
              "      <th>estacion</th>\n",
              "      <th>sentido</th>\n",
              "      <th>tipo_vehiculo</th>\n",
              "      <th>forma_pago</th>\n",
              "      <th>cantidad_pasos</th>\n",
              "    </tr>\n",
              "  </thead>\n",
              "  <tbody>\n",
              "    <tr>\n",
              "      <th>0</th>\n",
              "      <td>2017</td>\n",
              "      <td>2017-01-01</td>\n",
              "      <td>0</td>\n",
              "      <td>1</td>\n",
              "      <td>Domingo</td>\n",
              "      <td>Alberdi</td>\n",
              "      <td>Centro</td>\n",
              "      <td>Liviano</td>\n",
              "      <td>NO COBRADO</td>\n",
              "      <td>25</td>\n",
              "    </tr>\n",
              "    <tr>\n",
              "      <th>1</th>\n",
              "      <td>2017</td>\n",
              "      <td>2017-01-01</td>\n",
              "      <td>0</td>\n",
              "      <td>1</td>\n",
              "      <td>Domingo</td>\n",
              "      <td>Alberdi</td>\n",
              "      <td>Centro</td>\n",
              "      <td>Liviano</td>\n",
              "      <td>TELEPASE</td>\n",
              "      <td>7</td>\n",
              "    </tr>\n",
              "    <tr>\n",
              "      <th>2</th>\n",
              "      <td>2017</td>\n",
              "      <td>2017-01-01</td>\n",
              "      <td>1</td>\n",
              "      <td>2</td>\n",
              "      <td>Domingo</td>\n",
              "      <td>Alberdi</td>\n",
              "      <td>Centro</td>\n",
              "      <td>Liviano</td>\n",
              "      <td>NO COBRADO</td>\n",
              "      <td>5</td>\n",
              "    </tr>\n",
              "    <tr>\n",
              "      <th>3</th>\n",
              "      <td>2017</td>\n",
              "      <td>2017-01-01</td>\n",
              "      <td>1</td>\n",
              "      <td>2</td>\n",
              "      <td>Domingo</td>\n",
              "      <td>Alberdi</td>\n",
              "      <td>Centro</td>\n",
              "      <td>Liviano</td>\n",
              "      <td>EFECTIVO</td>\n",
              "      <td>2</td>\n",
              "    </tr>\n",
              "    <tr>\n",
              "      <th>4</th>\n",
              "      <td>2017</td>\n",
              "      <td>2017-01-01</td>\n",
              "      <td>1</td>\n",
              "      <td>2</td>\n",
              "      <td>Domingo</td>\n",
              "      <td>Alberdi</td>\n",
              "      <td>Centro</td>\n",
              "      <td>Liviano</td>\n",
              "      <td>EFECTIVO</td>\n",
              "      <td>94</td>\n",
              "    </tr>\n",
              "  </tbody>\n",
              "</table>\n",
              "</div>"
            ],
            "text/plain": [
              "   periodo       fecha  hora_inicio  hora_fin      dia estacion sentido  \\\n",
              "0     2017  2017-01-01            0         1  Domingo  Alberdi  Centro   \n",
              "1     2017  2017-01-01            0         1  Domingo  Alberdi  Centro   \n",
              "2     2017  2017-01-01            1         2  Domingo  Alberdi  Centro   \n",
              "3     2017  2017-01-01            1         2  Domingo  Alberdi  Centro   \n",
              "4     2017  2017-01-01            1         2  Domingo  Alberdi  Centro   \n",
              "\n",
              "  tipo_vehiculo  forma_pago  cantidad_pasos  \n",
              "0       Liviano  NO COBRADO              25  \n",
              "1       Liviano    TELEPASE               7  \n",
              "2       Liviano  NO COBRADO               5  \n",
              "3       Liviano    EFECTIVO               2  \n",
              "4       Liviano    EFECTIVO              94  "
            ]
          },
          "execution_count": 8,
          "metadata": {},
          "output_type": "execute_result"
        }
      ],
      "source": [
        "data_2017.info()\n",
        "data_2017.head()"
      ]
    },
    {
      "cell_type": "markdown",
      "metadata": {
        "id": "KcR5QSDTId2U"
      },
      "source": [
        "Investiguemos que valores toman los campos **estacion, sentido, tipo_vehiculo y forma_pago**"
      ]
    },
    {
      "cell_type": "code",
      "execution_count": 9,
      "metadata": {
        "id": "5C-XUOgYId2V",
        "outputId": "65c139de-d876-4414-bea3-476d316dc643"
      },
      "outputs": [
        {
          "name": "stdout",
          "output_type": "stream",
          "text": [
            "['Alberti' 'Avellaneda' 'Dellepiane' 'Illia' 'Retiro' 'Salguero'\n",
            " 'Sarmiento' 'PDB']\n",
            "['Alberdi' 'Avellaneda' 'Dellepiane Centro' 'Dellepiane Liniers' 'Illia'\n",
            " 'Retiro' 'Salguero' 'Sarmiento']\n",
            "['Alberdi' 'Avellaneda' 'Dellepiane Centro' 'Dellepiane Liniers' 'Illia'\n",
            " 'Retiro' 'Salguero' 'Sarmiento']\n"
          ]
        }
      ],
      "source": [
        "print(data_2019['estacion'].unique())\n",
        "print(data_2018['estacion'].unique())\n",
        "print(data_2017['estacion'].unique())"
      ]
    },
    {
      "cell_type": "code",
      "execution_count": 10,
      "metadata": {
        "id": "qqvXxv-DId2b",
        "outputId": "01efcab6-d5cd-4f9e-b8fc-ab7b10374560"
      },
      "outputs": [
        {
          "name": "stdout",
          "output_type": "stream",
          "text": [
            "['Centro' 'Provincia']\n",
            "['Centro' 'Provincia']\n",
            "['Centro' 'Provincia']\n"
          ]
        }
      ],
      "source": [
        "print(data_2019['sentido'].unique())\n",
        "print(data_2018['sentido'].unique())\n",
        "print(data_2017['sentido'].unique())"
      ]
    },
    {
      "cell_type": "code",
      "execution_count": 11,
      "metadata": {
        "id": "KK4J02tHId2f",
        "outputId": "ddd178d0-5f28-4f45-d162-6b5944af306b"
      },
      "outputs": [
        {
          "name": "stdout",
          "output_type": "stream",
          "text": [
            "['Liviano' 'Pesado']\n",
            "['Liviano' 'Pesado']\n",
            "['Liviano' 'Pesado']\n"
          ]
        }
      ],
      "source": [
        "print(data_2019['tipo_vehiculo'].unique())\n",
        "print(data_2018['tipo_vehiculo'].unique())\n",
        "print(data_2017['tipo_vehiculo'].unique())"
      ]
    },
    {
      "cell_type": "code",
      "execution_count": 12,
      "metadata": {
        "id": "_m8VhDhtId2k",
        "outputId": "a44b93a9-8bdb-4bbf-d7f5-1543c97bb447"
      },
      "outputs": [
        {
          "name": "stdout",
          "output_type": "stream",
          "text": [
            "['NO COBRADO' 'TELEPASE' 'EFECTIVO' 'EXENTO' 'INFRACCION'\n",
            " 'T. DISCAPACIDAD']\n",
            "['NO COBRADO' 'TELEPASE' 'EFECTIVO' 'EXENTO' 'TARJETA DISCAPACIDAD'\n",
            " 'INFRACCION']\n",
            "['NO COBRADO' 'TELEPASE' 'EFECTIVO' 'TARJETA DISCAPACIDAD' 'EXENTO'\n",
            " 'INFRACCION' 'MONEDERO' 'Otros']\n"
          ]
        }
      ],
      "source": [
        "print(data_2019['forma_pago'].unique())\n",
        "print(data_2018['forma_pago'].unique())\n",
        "print(data_2017['forma_pago'].unique())"
      ]
    },
    {
      "cell_type": "markdown",
      "metadata": {
        "id": "OUImrZ0HId2q"
      },
      "source": [
        "##### Podemos decir entonces que los años 2017, 2018 y 2019 tienen las siguientes columnas con la siguiente información:\n",
        "\n",
        "**periodo**: año del dset \n",
        "\n",
        "**fecha**: año dia mes\n",
        "\n",
        "**hora_inicio** hora de inicio de la cuenta de vehiculos (DROP)\n",
        "\n",
        "**hora_fin** hora de fin de la cuenta de vehiculos (Vamos a usar esta para tomar la hora)\n",
        "\n",
        "**dia**: dia de la semana \n",
        "\n",
        "**estacion**: estaciones de peaje, difieren levemente entre los años (Dellepiane se unifica en 2019, antes habia Dellepiane Liniers y Centro, y se agrega PDB)\n",
        "\n",
        "**sentido**: Centro o Provincia\n",
        "\n",
        "**tipo_vehiculo**: Liviano o Pesado\n",
        "\n",
        "**forma_pago**: Hay varias y varian entre los años.\n",
        "\n",
        "**cantidad_pasos**: Cantidad de vehiculos"
      ]
    },
    {
      "cell_type": "markdown",
      "metadata": {
        "id": "cDmDNVJDId2r"
      },
      "source": [
        "Vamos a estar trabajando con la estación **Illia** y la forma de pago **Efectivo**\n"
      ]
    },
    {
      "cell_type": "code",
      "execution_count": 13,
      "metadata": {
        "id": "SOUCg2f7Id2s",
        "outputId": "7c8c43a7-63c9-4179-dc60-04c358afd65d"
      },
      "outputs": [
        {
          "data": {
            "text/html": [
              "<div>\n",
              "<style scoped>\n",
              "    .dataframe tbody tr th:only-of-type {\n",
              "        vertical-align: middle;\n",
              "    }\n",
              "\n",
              "    .dataframe tbody tr th {\n",
              "        vertical-align: top;\n",
              "    }\n",
              "\n",
              "    .dataframe thead th {\n",
              "        text-align: right;\n",
              "    }\n",
              "</style>\n",
              "<table border=\"1\" class=\"dataframe\">\n",
              "  <thead>\n",
              "    <tr style=\"text-align: right;\">\n",
              "      <th></th>\n",
              "      <th>fecha</th>\n",
              "      <th>hora_fin</th>\n",
              "      <th>dia</th>\n",
              "      <th>sentido</th>\n",
              "      <th>tipo_vehiculo</th>\n",
              "      <th>cantidad_pasos</th>\n",
              "    </tr>\n",
              "  </thead>\n",
              "  <tbody>\n",
              "    <tr>\n",
              "      <th>80</th>\n",
              "      <td>2019-01-01</td>\n",
              "      <td>2</td>\n",
              "      <td>Martes</td>\n",
              "      <td>Centro</td>\n",
              "      <td>Liviano</td>\n",
              "      <td>537</td>\n",
              "    </tr>\n",
              "    <tr>\n",
              "      <th>86</th>\n",
              "      <td>2019-01-01</td>\n",
              "      <td>2</td>\n",
              "      <td>Martes</td>\n",
              "      <td>Centro</td>\n",
              "      <td>Pesado</td>\n",
              "      <td>1</td>\n",
              "    </tr>\n",
              "    <tr>\n",
              "      <th>88</th>\n",
              "      <td>2019-01-01</td>\n",
              "      <td>2</td>\n",
              "      <td>Martes</td>\n",
              "      <td>Provincia</td>\n",
              "      <td>Liviano</td>\n",
              "      <td>443</td>\n",
              "    </tr>\n",
              "    <tr>\n",
              "      <th>94</th>\n",
              "      <td>2019-01-01</td>\n",
              "      <td>2</td>\n",
              "      <td>Martes</td>\n",
              "      <td>Provincia</td>\n",
              "      <td>Pesado</td>\n",
              "      <td>1</td>\n",
              "    </tr>\n",
              "    <tr>\n",
              "      <th>149</th>\n",
              "      <td>2019-01-01</td>\n",
              "      <td>3</td>\n",
              "      <td>Martes</td>\n",
              "      <td>Centro</td>\n",
              "      <td>Liviano</td>\n",
              "      <td>769</td>\n",
              "    </tr>\n",
              "  </tbody>\n",
              "</table>\n",
              "</div>"
            ],
            "text/plain": [
              "          fecha  hora_fin     dia    sentido tipo_vehiculo  cantidad_pasos\n",
              "80   2019-01-01         2  Martes     Centro       Liviano             537\n",
              "86   2019-01-01         2  Martes     Centro        Pesado               1\n",
              "88   2019-01-01         2  Martes  Provincia       Liviano             443\n",
              "94   2019-01-01         2  Martes  Provincia        Pesado               1\n",
              "149  2019-01-01         3  Martes     Centro       Liviano             769"
            ]
          },
          "execution_count": 13,
          "metadata": {},
          "output_type": "execute_result"
        }
      ],
      "source": [
        "#Unimos los 3 datasets, podemos hacerlo asi directamente ya que tienen las mismas columnas\n",
        "dataset = pd.concat([data_2019, data_2018, data_2017])\n",
        "\n",
        "#Nos quedamos solamente con la estación Illia y la forma de pago Efectivo\n",
        "mask = np.logical_and(dataset.estacion=='Illia', dataset.forma_pago == 'EFECTIVO')\n",
        "dataset = dataset[mask]\n",
        "\n",
        "#Quitamos las columnas que no vamos a utilizar\n",
        "dataset.drop(columns = ['periodo','hora_inicio','forma_pago', 'estacion'], inplace = True)\n",
        "\n",
        "dataset.head()"
      ]
    },
    {
      "cell_type": "code",
      "execution_count": 14,
      "metadata": {},
      "outputs": [
        {
          "data": {
            "text/html": [
              "<div>\n",
              "<style scoped>\n",
              "    .dataframe tbody tr th:only-of-type {\n",
              "        vertical-align: middle;\n",
              "    }\n",
              "\n",
              "    .dataframe tbody tr th {\n",
              "        vertical-align: top;\n",
              "    }\n",
              "\n",
              "    .dataframe thead th {\n",
              "        text-align: right;\n",
              "    }\n",
              "</style>\n",
              "<table border=\"1\" class=\"dataframe\">\n",
              "  <thead>\n",
              "    <tr style=\"text-align: right;\">\n",
              "      <th></th>\n",
              "      <th>fecha</th>\n",
              "      <th>hora_fin</th>\n",
              "      <th>dia</th>\n",
              "      <th>sentido</th>\n",
              "      <th>tipo_vehiculo</th>\n",
              "      <th>cantidad_pasos</th>\n",
              "    </tr>\n",
              "  </thead>\n",
              "  <tbody>\n",
              "    <tr>\n",
              "      <th>1372316</th>\n",
              "      <td>2017-12-31</td>\n",
              "      <td>22</td>\n",
              "      <td>Domingo</td>\n",
              "      <td>Provincia</td>\n",
              "      <td>Pesado</td>\n",
              "      <td>8</td>\n",
              "    </tr>\n",
              "    <tr>\n",
              "      <th>1372319</th>\n",
              "      <td>2017-12-31</td>\n",
              "      <td>23</td>\n",
              "      <td>Domingo</td>\n",
              "      <td>Provincia</td>\n",
              "      <td>Liviano</td>\n",
              "      <td>8</td>\n",
              "    </tr>\n",
              "    <tr>\n",
              "      <th>1372320</th>\n",
              "      <td>2017-12-31</td>\n",
              "      <td>23</td>\n",
              "      <td>Domingo</td>\n",
              "      <td>Provincia</td>\n",
              "      <td>Liviano</td>\n",
              "      <td>148</td>\n",
              "    </tr>\n",
              "    <tr>\n",
              "      <th>1372324</th>\n",
              "      <td>2017-12-31</td>\n",
              "      <td>23</td>\n",
              "      <td>Domingo</td>\n",
              "      <td>Provincia</td>\n",
              "      <td>Pesado</td>\n",
              "      <td>1</td>\n",
              "    </tr>\n",
              "    <tr>\n",
              "      <th>1372326</th>\n",
              "      <td>2017-12-31</td>\n",
              "      <td>23</td>\n",
              "      <td>Domingo</td>\n",
              "      <td>Provincia</td>\n",
              "      <td>Pesado</td>\n",
              "      <td>1</td>\n",
              "    </tr>\n",
              "  </tbody>\n",
              "</table>\n",
              "</div>"
            ],
            "text/plain": [
              "              fecha  hora_fin      dia    sentido tipo_vehiculo  \\\n",
              "1372316  2017-12-31        22  Domingo  Provincia        Pesado   \n",
              "1372319  2017-12-31        23  Domingo  Provincia       Liviano   \n",
              "1372320  2017-12-31        23  Domingo  Provincia       Liviano   \n",
              "1372324  2017-12-31        23  Domingo  Provincia        Pesado   \n",
              "1372326  2017-12-31        23  Domingo  Provincia        Pesado   \n",
              "\n",
              "         cantidad_pasos  \n",
              "1372316               8  \n",
              "1372319               8  \n",
              "1372320             148  \n",
              "1372324               1  \n",
              "1372326               1  "
            ]
          },
          "execution_count": 14,
          "metadata": {},
          "output_type": "execute_result"
        }
      ],
      "source": [
        "dataset.tail(5)"
      ]
    },
    {
      "cell_type": "code",
      "execution_count": 15,
      "metadata": {},
      "outputs": [
        {
          "data": {
            "text/plain": [
              "fecha             0\n",
              "hora_fin          0\n",
              "dia               0\n",
              "sentido           0\n",
              "tipo_vehiculo     0\n",
              "cantidad_pasos    0\n",
              "dtype: int64"
            ]
          },
          "execution_count": 15,
          "metadata": {},
          "output_type": "execute_result"
        }
      ],
      "source": [
        "#Vemos los datos nulos\n",
        "dataset.isnull().sum()"
      ]
    },
    {
      "cell_type": "code",
      "execution_count": 16,
      "metadata": {
        "id": "kLi3lxc_Id2x",
        "outputId": "7103c2e7-9908-48c1-e6b6-65930c273e56"
      },
      "outputs": [
        {
          "data": {
            "text/html": [
              "<div>\n",
              "<style scoped>\n",
              "    .dataframe tbody tr th:only-of-type {\n",
              "        vertical-align: middle;\n",
              "    }\n",
              "\n",
              "    .dataframe tbody tr th {\n",
              "        vertical-align: top;\n",
              "    }\n",
              "\n",
              "    .dataframe thead th {\n",
              "        text-align: right;\n",
              "    }\n",
              "</style>\n",
              "<table border=\"1\" class=\"dataframe\">\n",
              "  <thead>\n",
              "    <tr style=\"text-align: right;\">\n",
              "      <th></th>\n",
              "      <th>dia</th>\n",
              "      <th>sentido</th>\n",
              "      <th>tipo_vehiculo</th>\n",
              "      <th>cantidad_pasos</th>\n",
              "      <th>fecha2</th>\n",
              "    </tr>\n",
              "  </thead>\n",
              "  <tbody>\n",
              "    <tr>\n",
              "      <th>80</th>\n",
              "      <td>Martes</td>\n",
              "      <td>Centro</td>\n",
              "      <td>Liviano</td>\n",
              "      <td>537</td>\n",
              "      <td>2019-01-01 02:00:00</td>\n",
              "    </tr>\n",
              "    <tr>\n",
              "      <th>86</th>\n",
              "      <td>Martes</td>\n",
              "      <td>Centro</td>\n",
              "      <td>Pesado</td>\n",
              "      <td>1</td>\n",
              "      <td>2019-01-01 02:00:00</td>\n",
              "    </tr>\n",
              "    <tr>\n",
              "      <th>88</th>\n",
              "      <td>Martes</td>\n",
              "      <td>Provincia</td>\n",
              "      <td>Liviano</td>\n",
              "      <td>443</td>\n",
              "      <td>2019-01-01 02:00:00</td>\n",
              "    </tr>\n",
              "    <tr>\n",
              "      <th>94</th>\n",
              "      <td>Martes</td>\n",
              "      <td>Provincia</td>\n",
              "      <td>Pesado</td>\n",
              "      <td>1</td>\n",
              "      <td>2019-01-01 02:00:00</td>\n",
              "    </tr>\n",
              "    <tr>\n",
              "      <th>149</th>\n",
              "      <td>Martes</td>\n",
              "      <td>Centro</td>\n",
              "      <td>Liviano</td>\n",
              "      <td>769</td>\n",
              "      <td>2019-01-01 03:00:00</td>\n",
              "    </tr>\n",
              "  </tbody>\n",
              "</table>\n",
              "</div>"
            ],
            "text/plain": [
              "        dia    sentido tipo_vehiculo  cantidad_pasos              fecha2\n",
              "80   Martes     Centro       Liviano             537 2019-01-01 02:00:00\n",
              "86   Martes     Centro        Pesado               1 2019-01-01 02:00:00\n",
              "88   Martes  Provincia       Liviano             443 2019-01-01 02:00:00\n",
              "94   Martes  Provincia        Pesado               1 2019-01-01 02:00:00\n",
              "149  Martes     Centro       Liviano             769 2019-01-01 03:00:00"
            ]
          },
          "execution_count": 16,
          "metadata": {},
          "output_type": "execute_result"
        }
      ],
      "source": [
        "#Pasamos la columna fecha a formato datetime, y le unimos la hora_fin como hora\n",
        "dataset1=dataset.copy()\n",
        "dataset1['fecha2'] = pd.to_datetime(dataset1.fecha) + pd.to_timedelta(dataset1.hora_fin, unit = 'h')\n",
        "\n",
        "#Quitamos las columnas fecha y hora_fin ya que las incluimos en el campo fecha2\n",
        "dataset1.drop(columns=['fecha','hora_fin'], inplace = True)\n",
        "\n",
        "dataset1.head()"
      ]
    },
    {
      "cell_type": "code",
      "execution_count": 17,
      "metadata": {
        "id": "8coELKbyId23",
        "outputId": "e0175e08-c1bd-4bb5-9af0-3df5ebe8f152"
      },
      "outputs": [
        {
          "data": {
            "text/html": [
              "<div>\n",
              "<style scoped>\n",
              "    .dataframe tbody tr th:only-of-type {\n",
              "        vertical-align: middle;\n",
              "    }\n",
              "\n",
              "    .dataframe tbody tr th {\n",
              "        vertical-align: top;\n",
              "    }\n",
              "\n",
              "    .dataframe thead th {\n",
              "        text-align: right;\n",
              "    }\n",
              "</style>\n",
              "<table border=\"1\" class=\"dataframe\">\n",
              "  <thead>\n",
              "    <tr style=\"text-align: right;\">\n",
              "      <th></th>\n",
              "      <th>dia</th>\n",
              "      <th>sentido</th>\n",
              "      <th>tipo_vehiculo</th>\n",
              "      <th>cantidad_pasos</th>\n",
              "      <th>fecha</th>\n",
              "    </tr>\n",
              "  </thead>\n",
              "  <tbody>\n",
              "    <tr>\n",
              "      <th>80</th>\n",
              "      <td>Martes</td>\n",
              "      <td>Centro</td>\n",
              "      <td>Liviano</td>\n",
              "      <td>537</td>\n",
              "      <td>2019-01-01 02:00:00</td>\n",
              "    </tr>\n",
              "    <tr>\n",
              "      <th>86</th>\n",
              "      <td>Martes</td>\n",
              "      <td>Centro</td>\n",
              "      <td>Pesado</td>\n",
              "      <td>1</td>\n",
              "      <td>2019-01-01 02:00:00</td>\n",
              "    </tr>\n",
              "    <tr>\n",
              "      <th>88</th>\n",
              "      <td>Martes</td>\n",
              "      <td>Provincia</td>\n",
              "      <td>Liviano</td>\n",
              "      <td>443</td>\n",
              "      <td>2019-01-01 02:00:00</td>\n",
              "    </tr>\n",
              "    <tr>\n",
              "      <th>94</th>\n",
              "      <td>Martes</td>\n",
              "      <td>Provincia</td>\n",
              "      <td>Pesado</td>\n",
              "      <td>1</td>\n",
              "      <td>2019-01-01 02:00:00</td>\n",
              "    </tr>\n",
              "    <tr>\n",
              "      <th>149</th>\n",
              "      <td>Martes</td>\n",
              "      <td>Centro</td>\n",
              "      <td>Liviano</td>\n",
              "      <td>769</td>\n",
              "      <td>2019-01-01 03:00:00</td>\n",
              "    </tr>\n",
              "  </tbody>\n",
              "</table>\n",
              "</div>"
            ],
            "text/plain": [
              "        dia    sentido tipo_vehiculo  cantidad_pasos               fecha\n",
              "80   Martes     Centro       Liviano             537 2019-01-01 02:00:00\n",
              "86   Martes     Centro        Pesado               1 2019-01-01 02:00:00\n",
              "88   Martes  Provincia       Liviano             443 2019-01-01 02:00:00\n",
              "94   Martes  Provincia        Pesado               1 2019-01-01 02:00:00\n",
              "149  Martes     Centro       Liviano             769 2019-01-01 03:00:00"
            ]
          },
          "execution_count": 17,
          "metadata": {},
          "output_type": "execute_result"
        }
      ],
      "source": [
        "#Corregimos el nombre de fecha2 a fecha\n",
        "dataset1.rename(columns = {'fecha2':'fecha'}, inplace = True) \n",
        "dataset1.head()"
      ]
    },
    {
      "cell_type": "code",
      "execution_count": 18,
      "metadata": {
        "id": "Z4Uzn2ktId29",
        "outputId": "909993f9-0918-4736-f457-cc0b25bcb500"
      },
      "outputs": [
        {
          "data": {
            "text/html": [
              "<div>\n",
              "<style scoped>\n",
              "    .dataframe tbody tr th:only-of-type {\n",
              "        vertical-align: middle;\n",
              "    }\n",
              "\n",
              "    .dataframe tbody tr th {\n",
              "        vertical-align: top;\n",
              "    }\n",
              "\n",
              "    .dataframe thead th {\n",
              "        text-align: right;\n",
              "    }\n",
              "</style>\n",
              "<table border=\"1\" class=\"dataframe\">\n",
              "  <thead>\n",
              "    <tr style=\"text-align: right;\">\n",
              "      <th></th>\n",
              "      <th>dia</th>\n",
              "      <th>sentido</th>\n",
              "      <th>tipo_vehiculo</th>\n",
              "      <th>cantidad_pasos</th>\n",
              "      <th>fecha</th>\n",
              "    </tr>\n",
              "  </thead>\n",
              "  <tbody>\n",
              "    <tr>\n",
              "      <th>0</th>\n",
              "      <td>Domingo</td>\n",
              "      <td>Provincia</td>\n",
              "      <td>Pesado</td>\n",
              "      <td>1</td>\n",
              "      <td>2017-01-01 00:00:00</td>\n",
              "    </tr>\n",
              "    <tr>\n",
              "      <th>1</th>\n",
              "      <td>Domingo</td>\n",
              "      <td>Provincia</td>\n",
              "      <td>Liviano</td>\n",
              "      <td>9</td>\n",
              "      <td>2017-01-01 00:00:00</td>\n",
              "    </tr>\n",
              "    <tr>\n",
              "      <th>2</th>\n",
              "      <td>Domingo</td>\n",
              "      <td>Provincia</td>\n",
              "      <td>Liviano</td>\n",
              "      <td>644</td>\n",
              "      <td>2017-01-01 00:00:00</td>\n",
              "    </tr>\n",
              "    <tr>\n",
              "      <th>3</th>\n",
              "      <td>Domingo</td>\n",
              "      <td>Provincia</td>\n",
              "      <td>Pesado</td>\n",
              "      <td>6</td>\n",
              "      <td>2017-01-01 00:00:00</td>\n",
              "    </tr>\n",
              "    <tr>\n",
              "      <th>4</th>\n",
              "      <td>Domingo</td>\n",
              "      <td>Provincia</td>\n",
              "      <td>Pesado</td>\n",
              "      <td>1</td>\n",
              "      <td>2017-01-01 00:00:00</td>\n",
              "    </tr>\n",
              "    <tr>\n",
              "      <th>...</th>\n",
              "      <td>...</td>\n",
              "      <td>...</td>\n",
              "      <td>...</td>\n",
              "      <td>...</td>\n",
              "      <td>...</td>\n",
              "    </tr>\n",
              "    <tr>\n",
              "      <th>238864</th>\n",
              "      <td>Martes</td>\n",
              "      <td>Provincia</td>\n",
              "      <td>Liviano</td>\n",
              "      <td>556</td>\n",
              "      <td>2019-12-31 22:00:00</td>\n",
              "    </tr>\n",
              "    <tr>\n",
              "      <th>238865</th>\n",
              "      <td>Martes</td>\n",
              "      <td>Provincia</td>\n",
              "      <td>Pesado</td>\n",
              "      <td>1</td>\n",
              "      <td>2019-12-31 22:00:00</td>\n",
              "    </tr>\n",
              "    <tr>\n",
              "      <th>238866</th>\n",
              "      <td>Martes</td>\n",
              "      <td>Centro</td>\n",
              "      <td>Liviano</td>\n",
              "      <td>580</td>\n",
              "      <td>2019-12-31 22:00:00</td>\n",
              "    </tr>\n",
              "    <tr>\n",
              "      <th>238867</th>\n",
              "      <td>Martes</td>\n",
              "      <td>Centro</td>\n",
              "      <td>Liviano</td>\n",
              "      <td>214</td>\n",
              "      <td>2019-12-31 23:00:00</td>\n",
              "    </tr>\n",
              "    <tr>\n",
              "      <th>238868</th>\n",
              "      <td>Martes</td>\n",
              "      <td>Provincia</td>\n",
              "      <td>Liviano</td>\n",
              "      <td>190</td>\n",
              "      <td>2019-12-31 23:00:00</td>\n",
              "    </tr>\n",
              "  </tbody>\n",
              "</table>\n",
              "<p>238869 rows × 5 columns</p>\n",
              "</div>"
            ],
            "text/plain": [
              "            dia    sentido tipo_vehiculo  cantidad_pasos               fecha\n",
              "0       Domingo  Provincia        Pesado               1 2017-01-01 00:00:00\n",
              "1       Domingo  Provincia       Liviano               9 2017-01-01 00:00:00\n",
              "2       Domingo  Provincia       Liviano             644 2017-01-01 00:00:00\n",
              "3       Domingo  Provincia        Pesado               6 2017-01-01 00:00:00\n",
              "4       Domingo  Provincia        Pesado               1 2017-01-01 00:00:00\n",
              "...         ...        ...           ...             ...                 ...\n",
              "238864   Martes  Provincia       Liviano             556 2019-12-31 22:00:00\n",
              "238865   Martes  Provincia        Pesado               1 2019-12-31 22:00:00\n",
              "238866   Martes     Centro       Liviano             580 2019-12-31 22:00:00\n",
              "238867   Martes     Centro       Liviano             214 2019-12-31 23:00:00\n",
              "238868   Martes  Provincia       Liviano             190 2019-12-31 23:00:00\n",
              "\n",
              "[238869 rows x 5 columns]"
            ]
          },
          "execution_count": 18,
          "metadata": {},
          "output_type": "execute_result"
        }
      ],
      "source": [
        "#Reordenamos el dataset por fecha\n",
        "dataset1.sort_values('fecha', inplace = True)\n",
        "dataset1.reset_index(drop=True, inplace = True)\n",
        "dataset1"
      ]
    },
    {
      "cell_type": "code",
      "execution_count": 19,
      "metadata": {
        "id": "ZzYn6u95Id3B",
        "outputId": "0fb0f7bf-be9e-4ac4-9028-4c6e0947dc9c"
      },
      "outputs": [
        {
          "data": {
            "image/png": "[encoded data removed]",
            "text/plain": [
              "<Figure size 1080x432 with 1 Axes>"
            ]
          },
          "metadata": {
            "needs_background": "light"
          },
          "output_type": "display_data"
        }
      ],
      "source": [
        "#Graficamos nuestros datos, tal como están\n",
        "plt.figure(figsize = (15,6))\n",
        "plt.plot(dataset1.fecha, dataset1.cantidad_pasos)\n",
        "plt.xlabel('Tiempo')\n",
        "plt.ylabel('Cantidad de autos, por hora')\n",
        "plt.show()"
      ]
    },
    {
      "cell_type": "markdown",
      "metadata": {},
      "source": [
        "Se observa una tendencia decreciente de la serie desde principios de 2017 a fines de 2018 y luego una leve recuperación a principios de 2019 con una posterior estabilización. A primera vista se pueden reconocer los bloques de cada año y podría deberse a que cada uno de los 3 dataset contiene información no cien por ciento homogénea con los demás. Es decir pueden estar construídos con diferentes metodologías o teniendo en cuenta diferentes aspectos.\n",
        "Sin embargo también puede deberse a la creación de nuevos puntos de peajes o causas similares y en ese caso la información que nos dan los datos si estarían reflejando la realidad."
      ]
    },
    {
      "cell_type": "code",
      "execution_count": 20,
      "metadata": {
        "id": "amoQFmNpId3F",
        "outputId": "07236a00-29a6-435a-cd3d-f32cc7c07d35"
      },
      "outputs": [
        {
          "name": "stdout",
          "output_type": "stream",
          "text": [
            "(1095, 1)\n"
          ]
        },
        {
          "data": {
            "text/html": [
              "<div>\n",
              "<style scoped>\n",
              "    .dataframe tbody tr th:only-of-type {\n",
              "        vertical-align: middle;\n",
              "    }\n",
              "\n",
              "    .dataframe tbody tr th {\n",
              "        vertical-align: top;\n",
              "    }\n",
              "\n",
              "    .dataframe thead th {\n",
              "        text-align: right;\n",
              "    }\n",
              "</style>\n",
              "<table border=\"1\" class=\"dataframe\">\n",
              "  <thead>\n",
              "    <tr style=\"text-align: right;\">\n",
              "      <th></th>\n",
              "      <th>cantidad_pasos</th>\n",
              "    </tr>\n",
              "    <tr>\n",
              "      <th>fecha</th>\n",
              "      <th></th>\n",
              "    </tr>\n",
              "  </thead>\n",
              "  <tbody>\n",
              "    <tr>\n",
              "      <th>2017-01-01</th>\n",
              "      <td>31183</td>\n",
              "    </tr>\n",
              "    <tr>\n",
              "      <th>2017-01-02</th>\n",
              "      <td>51568</td>\n",
              "    </tr>\n",
              "    <tr>\n",
              "      <th>2017-01-03</th>\n",
              "      <td>51093</td>\n",
              "    </tr>\n",
              "    <tr>\n",
              "      <th>2017-01-04</th>\n",
              "      <td>53332</td>\n",
              "    </tr>\n",
              "    <tr>\n",
              "      <th>2017-01-05</th>\n",
              "      <td>56486</td>\n",
              "    </tr>\n",
              "  </tbody>\n",
              "</table>\n",
              "</div>"
            ],
            "text/plain": [
              "            cantidad_pasos\n",
              "fecha                     \n",
              "2017-01-01           31183\n",
              "2017-01-02           51568\n",
              "2017-01-03           51093\n",
              "2017-01-04           53332\n",
              "2017-01-05           56486"
            ]
          },
          "execution_count": 20,
          "metadata": {},
          "output_type": "execute_result"
        }
      ],
      "source": [
        "#Resampleamos nuestros datos para agrupar por dia, y asi tal vez lograr una visualización mas amigable\n",
        "diario = dataset1.resample('D', on = 'fecha').sum()\n",
        "print(diario.shape)\n",
        "diario.head(5)"
      ]
    },
    {
      "cell_type": "code",
      "execution_count": 21,
      "metadata": {
        "id": "JgqZaiEDId3L",
        "outputId": "381d8dc4-877c-4ccb-c0cd-83f54a1dfc0a"
      },
      "outputs": [
        {
          "data": {
            "image/png": "[encoded data removed]",
            "text/plain": [
              "<Figure size 1080x432 with 1 Axes>"
            ]
          },
          "metadata": {
            "needs_background": "light"
          },
          "output_type": "display_data"
        }
      ],
      "source": [
        "plt.figure(figsize = (15,6))\n",
        "plt.plot(diario.index, diario.cantidad_pasos)\n",
        "plt.xlabel('Tiempo')\n",
        "plt.ylabel('Cantidad de autos, por dia')\n",
        "plt.show()"
      ]
    },
    {
      "cell_type": "code",
      "execution_count": 22,
      "metadata": {},
      "outputs": [
        {
          "data": {
            "text/html": [
              "<div>\n",
              "<style scoped>\n",
              "    .dataframe tbody tr th:only-of-type {\n",
              "        vertical-align: middle;\n",
              "    }\n",
              "\n",
              "    .dataframe tbody tr th {\n",
              "        vertical-align: top;\n",
              "    }\n",
              "\n",
              "    .dataframe thead th {\n",
              "        text-align: right;\n",
              "    }\n",
              "</style>\n",
              "<table border=\"1\" class=\"dataframe\">\n",
              "  <thead>\n",
              "    <tr style=\"text-align: right;\">\n",
              "      <th></th>\n",
              "      <th>cantidad_pasos</th>\n",
              "    </tr>\n",
              "  </thead>\n",
              "  <tbody>\n",
              "    <tr>\n",
              "      <th>count</th>\n",
              "      <td>1095.00</td>\n",
              "    </tr>\n",
              "    <tr>\n",
              "      <th>mean</th>\n",
              "      <td>43712.86</td>\n",
              "    </tr>\n",
              "    <tr>\n",
              "      <th>std</th>\n",
              "      <td>8192.74</td>\n",
              "    </tr>\n",
              "    <tr>\n",
              "      <th>min</th>\n",
              "      <td>0.00</td>\n",
              "    </tr>\n",
              "    <tr>\n",
              "      <th>1%</th>\n",
              "      <td>21553.60</td>\n",
              "    </tr>\n",
              "    <tr>\n",
              "      <th>5%</th>\n",
              "      <td>31194.20</td>\n",
              "    </tr>\n",
              "    <tr>\n",
              "      <th>25%</th>\n",
              "      <td>39061.50</td>\n",
              "    </tr>\n",
              "    <tr>\n",
              "      <th>50%</th>\n",
              "      <td>43761.00</td>\n",
              "    </tr>\n",
              "    <tr>\n",
              "      <th>75%</th>\n",
              "      <td>49498.00</td>\n",
              "    </tr>\n",
              "    <tr>\n",
              "      <th>95%</th>\n",
              "      <td>56016.10</td>\n",
              "    </tr>\n",
              "    <tr>\n",
              "      <th>99%</th>\n",
              "      <td>59427.38</td>\n",
              "    </tr>\n",
              "    <tr>\n",
              "      <th>max</th>\n",
              "      <td>63127.00</td>\n",
              "    </tr>\n",
              "  </tbody>\n",
              "</table>\n",
              "</div>"
            ],
            "text/plain": [
              "       cantidad_pasos\n",
              "count         1095.00\n",
              "mean         43712.86\n",
              "std           8192.74\n",
              "min              0.00\n",
              "1%           21553.60\n",
              "5%           31194.20\n",
              "25%          39061.50\n",
              "50%          43761.00\n",
              "75%          49498.00\n",
              "95%          56016.10\n",
              "99%          59427.38\n",
              "max          63127.00"
            ]
          },
          "execution_count": 22,
          "metadata": {},
          "output_type": "execute_result"
        }
      ],
      "source": [
        "#Observamos los estadisticos descriptivos de la variable cantidad de pasos\n",
        "diario.describe(percentiles=[.01,.05,.25,.5,.75,.95,.99]).round(2)"
      ]
    },
    {
      "cell_type": "code",
      "execution_count": 23,
      "metadata": {},
      "outputs": [
        {
          "data": {
            "text/plain": [
              "<AxesSubplot:xlabel='cantidad_pasos', ylabel='Count'>"
            ]
          },
          "execution_count": 23,
          "metadata": {},
          "output_type": "execute_result"
        },
        {
          "data": {
            "image/png": "[encoded data removed]",
            "text/plain": [
              "<Figure size 432x288 with 1 Axes>"
            ]
          },
          "metadata": {
            "needs_background": "light"
          },
          "output_type": "display_data"
        }
      ],
      "source": [
        "#Graficamos la distribucion de probabilidad\n",
        "sns.histplot(data=diario,x='cantidad_pasos')"
      ]
    },
    {
      "cell_type": "markdown",
      "metadata": {},
      "source": [
        "Se observa un intervalo atipico. Vamos a ver a que fechas corresponden"
      ]
    },
    {
      "cell_type": "code",
      "execution_count": 24,
      "metadata": {},
      "outputs": [
        {
          "data": {
            "text/html": [
              "<div>\n",
              "<style scoped>\n",
              "    .dataframe tbody tr th:only-of-type {\n",
              "        vertical-align: middle;\n",
              "    }\n",
              "\n",
              "    .dataframe tbody tr th {\n",
              "        vertical-align: top;\n",
              "    }\n",
              "\n",
              "    .dataframe thead th {\n",
              "        text-align: right;\n",
              "    }\n",
              "</style>\n",
              "<table border=\"1\" class=\"dataframe\">\n",
              "  <thead>\n",
              "    <tr style=\"text-align: right;\">\n",
              "      <th></th>\n",
              "      <th>cantidad_pasos</th>\n",
              "    </tr>\n",
              "    <tr>\n",
              "      <th>fecha</th>\n",
              "      <th></th>\n",
              "    </tr>\n",
              "  </thead>\n",
              "  <tbody>\n",
              "    <tr>\n",
              "      <th>2018-06-25</th>\n",
              "      <td>0</td>\n",
              "    </tr>\n",
              "    <tr>\n",
              "      <th>2018-09-25</th>\n",
              "      <td>0</td>\n",
              "    </tr>\n",
              "    <tr>\n",
              "      <th>2018-11-30</th>\n",
              "      <td>0</td>\n",
              "    </tr>\n",
              "    <tr>\n",
              "      <th>2019-05-29</th>\n",
              "      <td>0</td>\n",
              "    </tr>\n",
              "    <tr>\n",
              "      <th>2017-04-06</th>\n",
              "      <td>40</td>\n",
              "    </tr>\n",
              "    <tr>\n",
              "      <th>...</th>\n",
              "      <td>...</td>\n",
              "    </tr>\n",
              "    <tr>\n",
              "      <th>2017-11-17</th>\n",
              "      <td>61259</td>\n",
              "    </tr>\n",
              "    <tr>\n",
              "      <th>2017-11-10</th>\n",
              "      <td>61382</td>\n",
              "    </tr>\n",
              "    <tr>\n",
              "      <th>2017-10-13</th>\n",
              "      <td>61421</td>\n",
              "    </tr>\n",
              "    <tr>\n",
              "      <th>2017-11-24</th>\n",
              "      <td>61594</td>\n",
              "    </tr>\n",
              "    <tr>\n",
              "      <th>2017-12-07</th>\n",
              "      <td>63127</td>\n",
              "    </tr>\n",
              "  </tbody>\n",
              "</table>\n",
              "<p>1095 rows × 1 columns</p>\n",
              "</div>"
            ],
            "text/plain": [
              "            cantidad_pasos\n",
              "fecha                     \n",
              "2018-06-25               0\n",
              "2018-09-25               0\n",
              "2018-11-30               0\n",
              "2019-05-29               0\n",
              "2017-04-06              40\n",
              "...                    ...\n",
              "2017-11-17           61259\n",
              "2017-11-10           61382\n",
              "2017-10-13           61421\n",
              "2017-11-24           61594\n",
              "2017-12-07           63127\n",
              "\n",
              "[1095 rows x 1 columns]"
            ]
          },
          "execution_count": 24,
          "metadata": {},
          "output_type": "execute_result"
        }
      ],
      "source": [
        "diario.sort_values('cantidad_pasos',inplace=True)#.head(10)\n",
        "diario"
      ]
    },
    {
      "cell_type": "markdown",
      "metadata": {},
      "source": [
        "Las primeras 6 fechas parecen tener valores que no son correctos. Podria deberse a cortes en esa autopista y por lo tanto no hubo circulacion, o a otras razones similares. Pero a los fines de la prediccion a futuro esto no es relevante por lo que vamos a imputar los datos con la media del dia de la semana al que corresponden"
      ]
    },
    {
      "cell_type": "code",
      "execution_count": 25,
      "metadata": {},
      "outputs": [],
      "source": [
        "dia_fecha1 = dataset.copy()\n",
        "dia_fecha1['fecha2'] = pd.to_datetime(dataset.fecha)\n",
        "dia_fecha = dia_fecha1.set_index('fecha2')['dia'].to_dict()"
      ]
    },
    {
      "cell_type": "code",
      "execution_count": 26,
      "metadata": {},
      "outputs": [
        {
          "data": {
            "text/html": [
              "<div>\n",
              "<style scoped>\n",
              "    .dataframe tbody tr th:only-of-type {\n",
              "        vertical-align: middle;\n",
              "    }\n",
              "\n",
              "    .dataframe tbody tr th {\n",
              "        vertical-align: top;\n",
              "    }\n",
              "\n",
              "    .dataframe thead th {\n",
              "        text-align: right;\n",
              "    }\n",
              "</style>\n",
              "<table border=\"1\" class=\"dataframe\">\n",
              "  <thead>\n",
              "    <tr style=\"text-align: right;\">\n",
              "      <th></th>\n",
              "      <th>cantidad_pasos</th>\n",
              "      <th>dia</th>\n",
              "    </tr>\n",
              "    <tr>\n",
              "      <th>fecha</th>\n",
              "      <th></th>\n",
              "      <th></th>\n",
              "    </tr>\n",
              "  </thead>\n",
              "  <tbody>\n",
              "    <tr>\n",
              "      <th>2018-06-25</th>\n",
              "      <td>0</td>\n",
              "      <td>Lunes</td>\n",
              "    </tr>\n",
              "    <tr>\n",
              "      <th>2018-09-25</th>\n",
              "      <td>0</td>\n",
              "      <td>Martes</td>\n",
              "    </tr>\n",
              "    <tr>\n",
              "      <th>2018-11-30</th>\n",
              "      <td>0</td>\n",
              "      <td>Viernes</td>\n",
              "    </tr>\n",
              "    <tr>\n",
              "      <th>2019-05-29</th>\n",
              "      <td>0</td>\n",
              "      <td>Miércoles</td>\n",
              "    </tr>\n",
              "    <tr>\n",
              "      <th>2017-04-06</th>\n",
              "      <td>40</td>\n",
              "      <td>Jueves</td>\n",
              "    </tr>\n",
              "    <tr>\n",
              "      <th>2018-12-01</th>\n",
              "      <td>350</td>\n",
              "      <td>Sábado</td>\n",
              "    </tr>\n",
              "    <tr>\n",
              "      <th>2019-01-13</th>\n",
              "      <td>18076</td>\n",
              "      <td>Domingo</td>\n",
              "    </tr>\n",
              "    <tr>\n",
              "      <th>2018-11-29</th>\n",
              "      <td>19728</td>\n",
              "      <td>Jueves</td>\n",
              "    </tr>\n",
              "    <tr>\n",
              "      <th>2019-12-01</th>\n",
              "      <td>20553</td>\n",
              "      <td>Domingo</td>\n",
              "    </tr>\n",
              "    <tr>\n",
              "      <th>2019-12-31</th>\n",
              "      <td>21447</td>\n",
              "      <td>Martes</td>\n",
              "    </tr>\n",
              "  </tbody>\n",
              "</table>\n",
              "</div>"
            ],
            "text/plain": [
              "            cantidad_pasos        dia\n",
              "fecha                                \n",
              "2018-06-25               0      Lunes\n",
              "2018-09-25               0     Martes\n",
              "2018-11-30               0    Viernes\n",
              "2019-05-29               0  Miércoles\n",
              "2017-04-06              40     Jueves\n",
              "2018-12-01             350     Sábado\n",
              "2019-01-13           18076    Domingo\n",
              "2018-11-29           19728     Jueves\n",
              "2019-12-01           20553    Domingo\n",
              "2019-12-31           21447     Martes"
            ]
          },
          "execution_count": 26,
          "metadata": {},
          "output_type": "execute_result"
        }
      ],
      "source": [
        "diario['dia']=np.nan\n",
        "diario.dia.fillna(dia_fecha,inplace=True)\n",
        "diario.loc['2018-06-25','dia'] ='Lunes'\n",
        "diario.loc['2018-09-25','dia'] ='Martes'\n",
        "diario.loc['2018-11-30','dia']='Viernes'\n",
        "diario.loc['2019-05-29','dia']='Miércoles'\n",
        "diario.head(10)"
      ]
    },
    {
      "cell_type": "code",
      "execution_count": 27,
      "metadata": {},
      "outputs": [
        {
          "data": {
            "text/html": [
              "<div>\n",
              "<style scoped>\n",
              "    .dataframe tbody tr th:only-of-type {\n",
              "        vertical-align: middle;\n",
              "    }\n",
              "\n",
              "    .dataframe tbody tr th {\n",
              "        vertical-align: top;\n",
              "    }\n",
              "\n",
              "    .dataframe thead th {\n",
              "        text-align: right;\n",
              "    }\n",
              "</style>\n",
              "<table border=\"1\" class=\"dataframe\">\n",
              "  <thead>\n",
              "    <tr style=\"text-align: right;\">\n",
              "      <th></th>\n",
              "      <th>cantidad_pasos</th>\n",
              "      <th>dia</th>\n",
              "    </tr>\n",
              "    <tr>\n",
              "      <th>fecha</th>\n",
              "      <th></th>\n",
              "      <th></th>\n",
              "    </tr>\n",
              "  </thead>\n",
              "  <tbody>\n",
              "    <tr>\n",
              "      <th>2018-06-25</th>\n",
              "      <td>NaN</td>\n",
              "      <td>Lunes</td>\n",
              "    </tr>\n",
              "    <tr>\n",
              "      <th>2018-09-25</th>\n",
              "      <td>NaN</td>\n",
              "      <td>Martes</td>\n",
              "    </tr>\n",
              "    <tr>\n",
              "      <th>2018-11-30</th>\n",
              "      <td>NaN</td>\n",
              "      <td>Viernes</td>\n",
              "    </tr>\n",
              "    <tr>\n",
              "      <th>2019-05-29</th>\n",
              "      <td>NaN</td>\n",
              "      <td>Miércoles</td>\n",
              "    </tr>\n",
              "    <tr>\n",
              "      <th>2017-04-06</th>\n",
              "      <td>NaN</td>\n",
              "      <td>Jueves</td>\n",
              "    </tr>\n",
              "    <tr>\n",
              "      <th>2018-12-01</th>\n",
              "      <td>NaN</td>\n",
              "      <td>Sábado</td>\n",
              "    </tr>\n",
              "    <tr>\n",
              "      <th>2019-01-13</th>\n",
              "      <td>18076.0</td>\n",
              "      <td>Domingo</td>\n",
              "    </tr>\n",
              "    <tr>\n",
              "      <th>2018-11-29</th>\n",
              "      <td>19728.0</td>\n",
              "      <td>Jueves</td>\n",
              "    </tr>\n",
              "    <tr>\n",
              "      <th>2019-12-01</th>\n",
              "      <td>20553.0</td>\n",
              "      <td>Domingo</td>\n",
              "    </tr>\n",
              "    <tr>\n",
              "      <th>2019-12-31</th>\n",
              "      <td>21447.0</td>\n",
              "      <td>Martes</td>\n",
              "    </tr>\n",
              "  </tbody>\n",
              "</table>\n",
              "</div>"
            ],
            "text/plain": [
              "            cantidad_pasos        dia\n",
              "fecha                                \n",
              "2018-06-25             NaN      Lunes\n",
              "2018-09-25             NaN     Martes\n",
              "2018-11-30             NaN    Viernes\n",
              "2019-05-29             NaN  Miércoles\n",
              "2017-04-06             NaN     Jueves\n",
              "2018-12-01             NaN     Sábado\n",
              "2019-01-13         18076.0    Domingo\n",
              "2018-11-29         19728.0     Jueves\n",
              "2019-12-01         20553.0    Domingo\n",
              "2019-12-31         21447.0     Martes"
            ]
          },
          "execution_count": 27,
          "metadata": {},
          "output_type": "execute_result"
        }
      ],
      "source": [
        "lista=diario.index[:6]\n",
        "diario.loc[lista,'cantidad_pasos'] =np.nan\n",
        "diario.head(10)"
      ]
    },
    {
      "cell_type": "code",
      "execution_count": 28,
      "metadata": {},
      "outputs": [
        {
          "data": {
            "text/plain": [
              "{'Domingo': 36891.47133757962,\n",
              " 'Jueves': 47110.50967741935,\n",
              " 'Lunes': 42893.506410256414,\n",
              " 'Martes': 44009.942307692305,\n",
              " 'Miércoles': 45971.13548387097,\n",
              " 'Sábado': 41557.1935483871,\n",
              " 'Viernes': 49337.23870967742}"
            ]
          },
          "execution_count": 28,
          "metadata": {},
          "output_type": "execute_result"
        }
      ],
      "source": [
        "prom_dia = diario.groupby(['dia']).mean('cantidad_pasos').to_dict()['cantidad_pasos']\n",
        "prom_dia"
      ]
    },
    {
      "cell_type": "code",
      "execution_count": 29,
      "metadata": {},
      "outputs": [
        {
          "data": {
            "text/html": [
              "<div>\n",
              "<style scoped>\n",
              "    .dataframe tbody tr th:only-of-type {\n",
              "        vertical-align: middle;\n",
              "    }\n",
              "\n",
              "    .dataframe tbody tr th {\n",
              "        vertical-align: top;\n",
              "    }\n",
              "\n",
              "    .dataframe thead th {\n",
              "        text-align: right;\n",
              "    }\n",
              "</style>\n",
              "<table border=\"1\" class=\"dataframe\">\n",
              "  <thead>\n",
              "    <tr style=\"text-align: right;\">\n",
              "      <th></th>\n",
              "      <th>cantidad_pasos</th>\n",
              "    </tr>\n",
              "    <tr>\n",
              "      <th>fecha</th>\n",
              "      <th></th>\n",
              "    </tr>\n",
              "  </thead>\n",
              "  <tbody>\n",
              "    <tr>\n",
              "      <th>2017-01-01</th>\n",
              "      <td>31183.0</td>\n",
              "    </tr>\n",
              "    <tr>\n",
              "      <th>2017-01-02</th>\n",
              "      <td>51568.0</td>\n",
              "    </tr>\n",
              "    <tr>\n",
              "      <th>2017-01-03</th>\n",
              "      <td>51093.0</td>\n",
              "    </tr>\n",
              "    <tr>\n",
              "      <th>2017-01-04</th>\n",
              "      <td>53332.0</td>\n",
              "    </tr>\n",
              "    <tr>\n",
              "      <th>2017-01-05</th>\n",
              "      <td>56486.0</td>\n",
              "    </tr>\n",
              "    <tr>\n",
              "      <th>...</th>\n",
              "      <td>...</td>\n",
              "    </tr>\n",
              "    <tr>\n",
              "      <th>2019-12-27</th>\n",
              "      <td>40182.0</td>\n",
              "    </tr>\n",
              "    <tr>\n",
              "      <th>2019-12-28</th>\n",
              "      <td>30681.0</td>\n",
              "    </tr>\n",
              "    <tr>\n",
              "      <th>2019-12-29</th>\n",
              "      <td>26259.0</td>\n",
              "    </tr>\n",
              "    <tr>\n",
              "      <th>2019-12-30</th>\n",
              "      <td>34523.0</td>\n",
              "    </tr>\n",
              "    <tr>\n",
              "      <th>2019-12-31</th>\n",
              "      <td>21447.0</td>\n",
              "    </tr>\n",
              "  </tbody>\n",
              "</table>\n",
              "<p>1095 rows × 1 columns</p>\n",
              "</div>"
            ],
            "text/plain": [
              "            cantidad_pasos\n",
              "fecha                     \n",
              "2017-01-01         31183.0\n",
              "2017-01-02         51568.0\n",
              "2017-01-03         51093.0\n",
              "2017-01-04         53332.0\n",
              "2017-01-05         56486.0\n",
              "...                    ...\n",
              "2019-12-27         40182.0\n",
              "2019-12-28         30681.0\n",
              "2019-12-29         26259.0\n",
              "2019-12-30         34523.0\n",
              "2019-12-31         21447.0\n",
              "\n",
              "[1095 rows x 1 columns]"
            ]
          },
          "execution_count": 29,
          "metadata": {},
          "output_type": "execute_result"
        }
      ],
      "source": [
        "diario.reset_index(drop=False,inplace=True)\n",
        "diario.set_index('dia',inplace=True)\n",
        "diario.cantidad_pasos.fillna(prom_dia,inplace=True)\n",
        "diario.sort_values('fecha', inplace = True)\n",
        "diario.set_index('fecha',inplace=True)\n",
        "diario"
      ]
    },
    {
      "cell_type": "code",
      "execution_count": 30,
      "metadata": {},
      "outputs": [
        {
          "data": {
            "image/png": "[encoded data removed]",
            "text/plain": [
              "<Figure size 1080x432 with 1 Axes>"
            ]
          },
          "metadata": {
            "needs_background": "light"
          },
          "output_type": "display_data"
        }
      ],
      "source": [
        "plt.figure(figsize = (15,6))\n",
        "plt.plot(diario.index, diario.cantidad_pasos)\n",
        "plt.xlabel('Tiempo')\n",
        "plt.ylabel('Cantidad de autos, por dia')\n",
        "plt.show()"
      ]
    },
    {
      "cell_type": "code",
      "execution_count": 31,
      "metadata": {},
      "outputs": [
        {
          "data": {
            "text/plain": [
              "<AxesSubplot:xlabel='cantidad_pasos'>"
            ]
          },
          "execution_count": 31,
          "metadata": {},
          "output_type": "execute_result"
        },
        {
          "data": {
            "image/png": "[encoded data removed]",
            "text/plain": [
              "<Figure size 1080x576 with 2 Axes>"
            ]
          },
          "metadata": {
            "needs_background": "light"
          },
          "output_type": "display_data"
        }
      ],
      "source": [
        "#Graficamos la distribucion\n",
        "plt.figure(figsize=(15,8))\n",
        "\n",
        "plt.subplot(2,1,1)\n",
        "sns.histplot(data=diario,x='cantidad_pasos')\n",
        "\n",
        "plt.subplot(2,1,2)\n",
        "sns.boxplot(data = diario, x = 'cantidad_pasos', color = 'green')"
      ]
    },
    {
      "cell_type": "code",
      "execution_count": 32,
      "metadata": {
        "id": "vfwxE2VXId3O"
      },
      "outputs": [
        {
          "data": {
            "text/html": [
              "<div>\n",
              "<style scoped>\n",
              "    .dataframe tbody tr th:only-of-type {\n",
              "        vertical-align: middle;\n",
              "    }\n",
              "\n",
              "    .dataframe tbody tr th {\n",
              "        vertical-align: top;\n",
              "    }\n",
              "\n",
              "    .dataframe thead th {\n",
              "        text-align: right;\n",
              "    }\n",
              "</style>\n",
              "<table border=\"1\" class=\"dataframe\">\n",
              "  <thead>\n",
              "    <tr style=\"text-align: right;\">\n",
              "      <th></th>\n",
              "      <th>cantidad_pasos</th>\n",
              "    </tr>\n",
              "    <tr>\n",
              "      <th>dia</th>\n",
              "      <th></th>\n",
              "    </tr>\n",
              "  </thead>\n",
              "  <tbody>\n",
              "    <tr>\n",
              "      <th>Viernes</th>\n",
              "      <td>7647272</td>\n",
              "    </tr>\n",
              "    <tr>\n",
              "      <th>Jueves</th>\n",
              "      <td>7302169</td>\n",
              "    </tr>\n",
              "    <tr>\n",
              "      <th>Miércoles</th>\n",
              "      <td>7125526</td>\n",
              "    </tr>\n",
              "    <tr>\n",
              "      <th>Martes</th>\n",
              "      <td>6865551</td>\n",
              "    </tr>\n",
              "    <tr>\n",
              "      <th>Lunes</th>\n",
              "      <td>6691387</td>\n",
              "    </tr>\n",
              "    <tr>\n",
              "      <th>Sábado</th>\n",
              "      <td>6441715</td>\n",
              "    </tr>\n",
              "    <tr>\n",
              "      <th>Domingo</th>\n",
              "      <td>5791961</td>\n",
              "    </tr>\n",
              "  </tbody>\n",
              "</table>\n",
              "</div>"
            ],
            "text/plain": [
              "           cantidad_pasos\n",
              "dia                      \n",
              "Viernes           7647272\n",
              "Jueves            7302169\n",
              "Miércoles         7125526\n",
              "Martes            6865551\n",
              "Lunes             6691387\n",
              "Sábado            6441715\n",
              "Domingo           5791961"
            ]
          },
          "execution_count": 32,
          "metadata": {},
          "output_type": "execute_result"
        }
      ],
      "source": [
        "#Vemos cual es el dia de la semana que tiene mas circulacion\n",
        "por_dia = dataset1.groupby(['dia']).sum('cantidad_pasos')\n",
        "por_dia.sort_values('cantidad_pasos',ascending=False, inplace=True)\n",
        "por_dia"
      ]
    },
    {
      "cell_type": "code",
      "execution_count": 33,
      "metadata": {},
      "outputs": [
        {
          "data": {
            "image/png": "[encoded data removed]",
            "text/plain": [
              "<Figure size 720x360 with 1 Axes>"
            ]
          },
          "metadata": {
            "needs_background": "light"
          },
          "output_type": "display_data"
        }
      ],
      "source": [
        "#Graficamos\n",
        "plt.figure(figsize=(10,5))\n",
        "sns.barplot(data=por_dia, x=por_dia.index, y='cantidad_pasos', palette='cool')\n",
        "plt.title('Cantidad de pasos segun el dia de la semana')\n",
        "plt.show()"
      ]
    },
    {
      "cell_type": "code",
      "execution_count": 34,
      "metadata": {},
      "outputs": [
        {
          "data": {
            "text/html": [
              "<div>\n",
              "<style scoped>\n",
              "    .dataframe tbody tr th:only-of-type {\n",
              "        vertical-align: middle;\n",
              "    }\n",
              "\n",
              "    .dataframe tbody tr th {\n",
              "        vertical-align: top;\n",
              "    }\n",
              "\n",
              "    .dataframe thead th {\n",
              "        text-align: right;\n",
              "    }\n",
              "</style>\n",
              "<table border=\"1\" class=\"dataframe\">\n",
              "  <thead>\n",
              "    <tr style=\"text-align: right;\">\n",
              "      <th></th>\n",
              "      <th>cantidad_pasos</th>\n",
              "    </tr>\n",
              "    <tr>\n",
              "      <th>hora_fin</th>\n",
              "      <th></th>\n",
              "    </tr>\n",
              "  </thead>\n",
              "  <tbody>\n",
              "    <tr>\n",
              "      <th>0</th>\n",
              "      <td>1057141</td>\n",
              "    </tr>\n",
              "    <tr>\n",
              "      <th>1</th>\n",
              "      <td>879116</td>\n",
              "    </tr>\n",
              "    <tr>\n",
              "      <th>2</th>\n",
              "      <td>614594</td>\n",
              "    </tr>\n",
              "    <tr>\n",
              "      <th>3</th>\n",
              "      <td>429898</td>\n",
              "    </tr>\n",
              "    <tr>\n",
              "      <th>4</th>\n",
              "      <td>334860</td>\n",
              "    </tr>\n",
              "    <tr>\n",
              "      <th>5</th>\n",
              "      <td>411330</td>\n",
              "    </tr>\n",
              "    <tr>\n",
              "      <th>6</th>\n",
              "      <td>781617</td>\n",
              "    </tr>\n",
              "    <tr>\n",
              "      <th>7</th>\n",
              "      <td>1564013</td>\n",
              "    </tr>\n",
              "    <tr>\n",
              "      <th>8</th>\n",
              "      <td>2276977</td>\n",
              "    </tr>\n",
              "    <tr>\n",
              "      <th>9</th>\n",
              "      <td>2476701</td>\n",
              "    </tr>\n",
              "    <tr>\n",
              "      <th>10</th>\n",
              "      <td>2471790</td>\n",
              "    </tr>\n",
              "    <tr>\n",
              "      <th>11</th>\n",
              "      <td>2551110</td>\n",
              "    </tr>\n",
              "    <tr>\n",
              "      <th>12</th>\n",
              "      <td>2729369</td>\n",
              "    </tr>\n",
              "    <tr>\n",
              "      <th>13</th>\n",
              "      <td>2907990</td>\n",
              "    </tr>\n",
              "    <tr>\n",
              "      <th>14</th>\n",
              "      <td>3005578</td>\n",
              "    </tr>\n",
              "    <tr>\n",
              "      <th>15</th>\n",
              "      <td>2933388</td>\n",
              "    </tr>\n",
              "    <tr>\n",
              "      <th>16</th>\n",
              "      <td>2969568</td>\n",
              "    </tr>\n",
              "    <tr>\n",
              "      <th>17</th>\n",
              "      <td>2993721</td>\n",
              "    </tr>\n",
              "    <tr>\n",
              "      <th>18</th>\n",
              "      <td>3115036</td>\n",
              "    </tr>\n",
              "    <tr>\n",
              "      <th>19</th>\n",
              "      <td>3071455</td>\n",
              "    </tr>\n",
              "    <tr>\n",
              "      <th>20</th>\n",
              "      <td>2661885</td>\n",
              "    </tr>\n",
              "    <tr>\n",
              "      <th>21</th>\n",
              "      <td>2339949</td>\n",
              "    </tr>\n",
              "    <tr>\n",
              "      <th>22</th>\n",
              "      <td>1875810</td>\n",
              "    </tr>\n",
              "    <tr>\n",
              "      <th>23</th>\n",
              "      <td>1412685</td>\n",
              "    </tr>\n",
              "  </tbody>\n",
              "</table>\n",
              "</div>"
            ],
            "text/plain": [
              "          cantidad_pasos\n",
              "hora_fin                \n",
              "0                1057141\n",
              "1                 879116\n",
              "2                 614594\n",
              "3                 429898\n",
              "4                 334860\n",
              "5                 411330\n",
              "6                 781617\n",
              "7                1564013\n",
              "8                2276977\n",
              "9                2476701\n",
              "10               2471790\n",
              "11               2551110\n",
              "12               2729369\n",
              "13               2907990\n",
              "14               3005578\n",
              "15               2933388\n",
              "16               2969568\n",
              "17               2993721\n",
              "18               3115036\n",
              "19               3071455\n",
              "20               2661885\n",
              "21               2339949\n",
              "22               1875810\n",
              "23               1412685"
            ]
          },
          "execution_count": 34,
          "metadata": {},
          "output_type": "execute_result"
        }
      ],
      "source": [
        "#Utiizamos la variable dataset para ver saber culaes son las horas con mas circulacion\n",
        "por_hora = dataset.groupby('hora_fin').sum('cantidad_pasos')\n",
        "por_hora"
      ]
    },
    {
      "cell_type": "code",
      "execution_count": 35,
      "metadata": {},
      "outputs": [
        {
          "data": {
            "image/png": "[encoded data removed]",
            "text/plain": [
              "<Figure size 720x360 with 1 Axes>"
            ]
          },
          "metadata": {
            "needs_background": "light"
          },
          "output_type": "display_data"
        }
      ],
      "source": [
        "#Graficamos\n",
        "plt.figure(figsize=(10,5))\n",
        "sns.barplot(data=por_hora, x=por_hora.index, y='cantidad_pasos', palette='cool')\n",
        "plt.title('Cantidad de pasos segun la hora del dia')\n",
        "plt.show()"
      ]
    },
    {
      "cell_type": "markdown",
      "metadata": {},
      "source": [
        "Vemos un resampleo semanal"
      ]
    },
    {
      "cell_type": "code",
      "execution_count": 36,
      "metadata": {},
      "outputs": [],
      "source": [
        "diario.reset_index(drop=False,inplace=True)"
      ]
    },
    {
      "cell_type": "code",
      "execution_count": 37,
      "metadata": {},
      "outputs": [
        {
          "data": {
            "text/html": [
              "<div>\n",
              "<style scoped>\n",
              "    .dataframe tbody tr th:only-of-type {\n",
              "        vertical-align: middle;\n",
              "    }\n",
              "\n",
              "    .dataframe tbody tr th {\n",
              "        vertical-align: top;\n",
              "    }\n",
              "\n",
              "    .dataframe thead th {\n",
              "        text-align: right;\n",
              "    }\n",
              "</style>\n",
              "<table border=\"1\" class=\"dataframe\">\n",
              "  <thead>\n",
              "    <tr style=\"text-align: right;\">\n",
              "      <th></th>\n",
              "      <th>cantidad_pasos</th>\n",
              "    </tr>\n",
              "    <tr>\n",
              "      <th>fecha</th>\n",
              "      <th></th>\n",
              "    </tr>\n",
              "  </thead>\n",
              "  <tbody>\n",
              "    <tr>\n",
              "      <th>2017-01-01</th>\n",
              "      <td>31183.0</td>\n",
              "    </tr>\n",
              "    <tr>\n",
              "      <th>2017-01-08</th>\n",
              "      <td>347212.0</td>\n",
              "    </tr>\n",
              "    <tr>\n",
              "      <th>2017-01-15</th>\n",
              "      <td>366413.0</td>\n",
              "    </tr>\n",
              "    <tr>\n",
              "      <th>2017-01-22</th>\n",
              "      <td>357215.0</td>\n",
              "    </tr>\n",
              "    <tr>\n",
              "      <th>2017-01-29</th>\n",
              "      <td>354581.0</td>\n",
              "    </tr>\n",
              "  </tbody>\n",
              "</table>\n",
              "</div>"
            ],
            "text/plain": [
              "            cantidad_pasos\n",
              "fecha                     \n",
              "2017-01-01         31183.0\n",
              "2017-01-08        347212.0\n",
              "2017-01-15        366413.0\n",
              "2017-01-22        357215.0\n",
              "2017-01-29        354581.0"
            ]
          },
          "execution_count": 37,
          "metadata": {},
          "output_type": "execute_result"
        }
      ],
      "source": [
        "semanal = diario.resample('W', on = 'fecha').sum()\n",
        "semanal.head()"
      ]
    },
    {
      "cell_type": "code",
      "execution_count": 38,
      "metadata": {},
      "outputs": [
        {
          "data": {
            "image/png": "[encoded data removed]",
            "text/plain": [
              "<Figure size 1080x432 with 1 Axes>"
            ]
          },
          "metadata": {
            "needs_background": "light"
          },
          "output_type": "display_data"
        }
      ],
      "source": [
        "plt.figure(figsize = (15,6))\n",
        "plt.plot(semanal.index, semanal.cantidad_pasos)\n",
        "plt.xlabel('Tiempo')\n",
        "plt.ylabel('Cantidad de autos, por semana')\n",
        "plt.show()"
      ]
    },
    {
      "cell_type": "markdown",
      "metadata": {},
      "source": [
        "Vamos a ver la autocorrelacion"
      ]
    },
    {
      "cell_type": "code",
      "execution_count": 39,
      "metadata": {},
      "outputs": [
        {
          "data": {
            "text/plain": [
              "(1095,)"
            ]
          },
          "execution_count": 39,
          "metadata": {},
          "output_type": "execute_result"
        }
      ],
      "source": [
        "from statsmodels.tsa.stattools import acf\n",
        "\n",
        "nlags =  365*3\n",
        "autocorr = acf(diario.cantidad_pasos, nlags = nlags)\n",
        "autocorr.shape"
      ]
    },
    {
      "cell_type": "code",
      "execution_count": 40,
      "metadata": {},
      "outputs": [
        {
          "data": {
            "text/plain": [
              "Text(0.5, 0, 'lag')"
            ]
          },
          "execution_count": 40,
          "metadata": {},
          "output_type": "execute_result"
        },
        {
          "data": {
            "image/png": "[encoded data removed]",
            "text/plain": [
              "<Figure size 576x360 with 1 Axes>"
            ]
          },
          "metadata": {
            "needs_background": "light"
          },
          "output_type": "display_data"
        }
      ],
      "source": [
        "plt.figure(figsize = (8,5))\n",
        "plt.scatter(np.arange(nlags), autocorr)\n",
        "plt.xlabel('lag')"
      ]
    },
    {
      "cell_type": "markdown",
      "metadata": {},
      "source": [
        "Componentes de la serie"
      ]
    },
    {
      "cell_type": "code",
      "execution_count": 41,
      "metadata": {},
      "outputs": [
        {
          "name": "stdout",
          "output_type": "stream",
          "text": [
            "a\n"
          ]
        }
      ],
      "source": [
        "print('a')"
      ]
    },
    {
      "cell_type": "code",
      "execution_count": 42,
      "metadata": {},
      "outputs": [
        {
          "name": "stdout",
          "output_type": "stream",
          "text": [
            "b\n"
          ]
        }
      ],
      "source": [
        "print('b')"
      ]
    }
  ],
  "metadata": {
    "colab": {
      "collapsed_sections": [],
      "name": "DS_Proyecto_03_ST.ipynb",
      "provenance": []
    },
    "interpreter": {
      "hash": "3f7a46753943352118a8c5dcfb1ff7cc9df5eea12c48c710380e7d35f5ca18fd"
    },
    "kernelspec": {
      "display_name": "Python 3.9.7 64-bit ('series': conda)",
      "name": "python3"
    },
    "language_info": {
      "codemirror_mode": {
        "name": "ipython",
        "version": 3
      },
      "file_extension": ".py",
      "mimetype": "text/x-python",
      "name": "python",
      "nbconvert_exporter": "python",
      "pygments_lexer": "ipython3",
      "version": "3.9.7"
    }
  },
  "nbformat": 4,
  "nbformat_minor": 0
}
