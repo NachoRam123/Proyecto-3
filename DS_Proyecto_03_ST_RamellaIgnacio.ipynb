{
  "cells": [
    {
      "cell_type": "markdown",
      "metadata": {
        "id": "Y5xSScYVId1j"
      },
      "source": [
        "# Proyecto 03 - Series de Tiempo\n",
        "\n",
        "## Dataset: Flujo Vehicular por Unidades de Peaje AUSA\n",
        "\n",
        "**Recuerda descargar el dataset de [aquí](https://data.buenosaires.gob.ar/dataset/flujo-vehicular-por-unidades-peaje-ausa). Deberás descargar -  al menos para comenzar - los años 2017, 2018 y 2019.**\n",
        "\n",
        "En este notebook te dejamos unas celdas para que puedas comenzar a trabajar con este dataset para los años 2017, 2018 y 2019. Si deseas utilizar otros años, ten en cuenta que deberás hacer el preprocesamiento correspondiente, ya que la estructura de los datos puede variar.\n",
        "\n",
        "**Importante:** Para el proyecto, debes comenzar con los datos de la autopista Illia, pago en Efectivo.\n",
        "\n",
        "### Exploración de datos\n",
        "\n",
        "Dedícale un buen tiempo a hacer un Análisis Exploratorio de Datos. Elige preguntas que creas que puedas responder con este dataset. Por ejemplo, ¿Cuáles son los días y horarios de mayor tráfico? También, estudia autocorrelaciones, resampleos, etc.\n",
        "\n",
        "#### Componentes de la serie\n",
        "\n",
        "1. Calcula las componentes estacionales y tendencia de la serie. Interpreta los resultados, si es necesario con información auxiliar (por fuera del dataset) o elementos del dataset que no estés utilizando (por ejemplo, si la tendencia es negativa, ¿puede ser porque se migre a otras formas de pago?).\n",
        "1. ¿La serie posee valores atípicos? Si es así, interpreta, si es necesario con información auxiliar. **Pista**: primer semestre 2019.\n",
        "\n",
        "### Predicción a Futuro\n",
        "\n",
        "Debes implementar un modelo que prediga el tráfico en la autopista Illia para el último trimestre del 2019. \n",
        "\n",
        "1. Haz todas las transformaciones de datos que consideres necesarias. Justifica.\n",
        "1. Evalúa de forma apropiada tus resultados. Justifica la métrica elegida.\n",
        "1. Elige un modelo benchmark y compara tus resultados con este modelo.\n",
        "1. Optimiza los hiperparámetros de tu modelo. \n",
        "1. Intenta responder la pregunta: ¿Qué información está usando el modelo para predecir?\n",
        "1. Utiliza el modelo creado para predecir el tráfico en el año 2020. ¿Cómo funciona?\n",
        "1. Si lo deseas, puedes agregar información de años anteriores a 2017. ¿Mejoran los resultados?\n",
        "\n",
        "### Para pensar, investigar y, opcionalmente, implementar\n",
        "1. ¿Cómo incorporarías la información sobre tipo de vehículo, forma de pago, sentido, día de la semana, etc.? En lo que respecta a las predicciones, ¿mejoran o empeoran?\n",
        "1. ¿Qué ocurre si comparas las series de tiempo entre distintas estaciones de peajes?¿Tienen el mismo comportamiento o hay alguna que sea distinta a las otras? Si es así, ¿hay información auxiliar que te ayude a explicar lo que encuentras?\n",
        "1. ¿Hay algo que te gustaría investigar o probar?\n",
        "\n",
        "### **¡Tómate tiempo para investigar y leer mucho!**\n",
        "\n",
        "### 1. Preparación del Dataset y Exploracón de Datos"
      ]
    },
    {
      "cell_type": "markdown",
      "metadata": {},
      "source": [
        "Fuente de Datos\n",
        "Los datos provienen de la página data.buenosaires.gob.ar. Es una página oficial del gobierno de la provincia de Buenos Aires que contiene Datasets referidos a distintos temas y son de acceso público.\n",
        "Los Datasets del Flujo Vehicular por Unidades de Peaje AUSA se encuentran disponibles a partir del año 2008 hasta el año 2021 (completo hasta 01/12/2021) y estan acompañados con información adicional. De ahí sabemos que la frecuencia de actualización es mensual, el responsable de los datos es Autopistas Urbanas (AUSA), Secretaría de Transporte y Obras Públicas, Jefatura de Gabinetes de Ministros; y el organismo encargado de mantenimiento es la Gerencia Operativa de Ingeniería de Datos, Secretaría de Innovación y Transformación Digital, Jefatura de Gabinetes de Ministros.\n",
        "Los datasets hacen referencia a la información del paso de vehículos por las unidades de peaje AUSA. No hay información extra sobre los distintos atributos o columnas. De todas maneras es de fácil interpretación."
      ]
    },
    {
      "cell_type": "code",
      "execution_count": 2,
      "metadata": {
        "id": "W7HAw3EvId1m"
      },
      "outputs": [],
      "source": [
        "import pandas as pd\n",
        "import numpy as np\n",
        "import matplotlib.pyplot as plt\n",
        "import seaborn as sns\n",
        "import datetime\n",
        "import plotly.express as px"
      ]
    },
    {
      "cell_type": "code",
      "execution_count": 3,
      "metadata": {
        "id": "hgxJSUQ0Id1x"
      },
      "outputs": [],
      "source": [
        "data_2019 = pd.read_csv('flujo-vehicular-2019.csv', sep =',')\n",
        "data_2018 = pd.read_csv('flujo-vehicular-2018.csv', sep =',')\n",
        "data_2017 = pd.read_csv('flujo-vehicular-2017.csv', sep =',')"
      ]
    },
    {
      "cell_type": "code",
      "execution_count": 4,
      "metadata": {
        "id": "-rqv8_yHId19",
        "outputId": "775c8fcb-7707-4d61-b520-703151acb587"
      },
      "outputs": [
        {
          "name": "stdout",
          "output_type": "stream",
          "text": [
            "<class 'pandas.core.frame.DataFrame'>\n",
            "RangeIndex: 812153 entries, 0 to 812152\n",
            "Data columns (total 10 columns):\n",
            " #   Column          Non-Null Count   Dtype \n",
            "---  ------          --------------   ----- \n",
            " 0   periodo         812153 non-null  int64 \n",
            " 1   fecha           812153 non-null  object\n",
            " 2   hora_inicio     812153 non-null  int64 \n",
            " 3   hora_fin        812153 non-null  int64 \n",
            " 4   dia             812153 non-null  object\n",
            " 5   estacion        812153 non-null  object\n",
            " 6   sentido         812153 non-null  object\n",
            " 7   tipo_vehiculo   812153 non-null  object\n",
            " 8   forma_pago      812153 non-null  object\n",
            " 9   cantidad_pasos  812153 non-null  int64 \n",
            "dtypes: int64(4), object(6)\n",
            "memory usage: 62.0+ MB\n"
          ]
        },
        {
          "data": {
            "text/html": [
              "<div>\n",
              "<style scoped>\n",
              "    .dataframe tbody tr th:only-of-type {\n",
              "        vertical-align: middle;\n",
              "    }\n",
              "\n",
              "    .dataframe tbody tr th {\n",
              "        vertical-align: top;\n",
              "    }\n",
              "\n",
              "    .dataframe thead th {\n",
              "        text-align: right;\n",
              "    }\n",
              "</style>\n",
              "<table border=\"1\" class=\"dataframe\">\n",
              "  <thead>\n",
              "    <tr style=\"text-align: right;\">\n",
              "      <th></th>\n",
              "      <th>periodo</th>\n",
              "      <th>fecha</th>\n",
              "      <th>hora_inicio</th>\n",
              "      <th>hora_fin</th>\n",
              "      <th>dia</th>\n",
              "      <th>estacion</th>\n",
              "      <th>sentido</th>\n",
              "      <th>tipo_vehiculo</th>\n",
              "      <th>forma_pago</th>\n",
              "      <th>cantidad_pasos</th>\n",
              "    </tr>\n",
              "  </thead>\n",
              "  <tbody>\n",
              "    <tr>\n",
              "      <th>0</th>\n",
              "      <td>2019</td>\n",
              "      <td>2019-01-01</td>\n",
              "      <td>0</td>\n",
              "      <td>1</td>\n",
              "      <td>Martes</td>\n",
              "      <td>Alberti</td>\n",
              "      <td>Centro</td>\n",
              "      <td>Liviano</td>\n",
              "      <td>NO COBRADO</td>\n",
              "      <td>22</td>\n",
              "    </tr>\n",
              "    <tr>\n",
              "      <th>1</th>\n",
              "      <td>2019</td>\n",
              "      <td>2019-01-01</td>\n",
              "      <td>0</td>\n",
              "      <td>1</td>\n",
              "      <td>Martes</td>\n",
              "      <td>Alberti</td>\n",
              "      <td>Centro</td>\n",
              "      <td>Liviano</td>\n",
              "      <td>TELEPASE</td>\n",
              "      <td>6</td>\n",
              "    </tr>\n",
              "    <tr>\n",
              "      <th>2</th>\n",
              "      <td>2019</td>\n",
              "      <td>2019-01-01</td>\n",
              "      <td>0</td>\n",
              "      <td>1</td>\n",
              "      <td>Martes</td>\n",
              "      <td>Alberti</td>\n",
              "      <td>Provincia</td>\n",
              "      <td>Liviano</td>\n",
              "      <td>NO COBRADO</td>\n",
              "      <td>53</td>\n",
              "    </tr>\n",
              "    <tr>\n",
              "      <th>3</th>\n",
              "      <td>2019</td>\n",
              "      <td>2019-01-01</td>\n",
              "      <td>0</td>\n",
              "      <td>1</td>\n",
              "      <td>Martes</td>\n",
              "      <td>Alberti</td>\n",
              "      <td>Provincia</td>\n",
              "      <td>Liviano</td>\n",
              "      <td>TELEPASE</td>\n",
              "      <td>18</td>\n",
              "    </tr>\n",
              "    <tr>\n",
              "      <th>4</th>\n",
              "      <td>2019</td>\n",
              "      <td>2019-01-01</td>\n",
              "      <td>0</td>\n",
              "      <td>1</td>\n",
              "      <td>Martes</td>\n",
              "      <td>Avellaneda</td>\n",
              "      <td>Centro</td>\n",
              "      <td>Liviano</td>\n",
              "      <td>EFECTIVO</td>\n",
              "      <td>16</td>\n",
              "    </tr>\n",
              "  </tbody>\n",
              "</table>\n",
              "</div>"
            ],
            "text/plain": [
              "   periodo       fecha  hora_inicio  hora_fin     dia    estacion    sentido  \\\n",
              "0     2019  2019-01-01            0         1  Martes     Alberti     Centro   \n",
              "1     2019  2019-01-01            0         1  Martes     Alberti     Centro   \n",
              "2     2019  2019-01-01            0         1  Martes     Alberti  Provincia   \n",
              "3     2019  2019-01-01            0         1  Martes     Alberti  Provincia   \n",
              "4     2019  2019-01-01            0         1  Martes  Avellaneda     Centro   \n",
              "\n",
              "  tipo_vehiculo  forma_pago  cantidad_pasos  \n",
              "0       Liviano  NO COBRADO              22  \n",
              "1       Liviano    TELEPASE               6  \n",
              "2       Liviano  NO COBRADO              53  \n",
              "3       Liviano    TELEPASE              18  \n",
              "4       Liviano    EFECTIVO              16  "
            ]
          },
          "execution_count": 4,
          "metadata": {},
          "output_type": "execute_result"
        }
      ],
      "source": [
        "data_2019.info()\n",
        "data_2019.head()"
      ]
    },
    {
      "cell_type": "code",
      "execution_count": 5,
      "metadata": {
        "id": "t327LOEhId2G",
        "outputId": "56c75966-efc5-437f-9579-a953f202ba0c"
      },
      "outputs": [
        {
          "name": "stdout",
          "output_type": "stream",
          "text": [
            "<class 'pandas.core.frame.DataFrame'>\n",
            "RangeIndex: 1375908 entries, 0 to 1375907\n",
            "Data columns (total 10 columns):\n",
            " #   Column          Non-Null Count    Dtype \n",
            "---  ------          --------------    ----- \n",
            " 0   periodo         1375908 non-null  int64 \n",
            " 1   fecha           1375908 non-null  object\n",
            " 2   hora_inicio     1375908 non-null  int64 \n",
            " 3   hora_fin        1375908 non-null  int64 \n",
            " 4   dia             1375908 non-null  object\n",
            " 5   estacion        1375908 non-null  object\n",
            " 6   sentido         1375908 non-null  object\n",
            " 7   tipo_vehiculo   1375908 non-null  object\n",
            " 8   forma_pago      1375908 non-null  object\n",
            " 9   cantidad_pasos  1375908 non-null  int64 \n",
            "dtypes: int64(4), object(6)\n",
            "memory usage: 105.0+ MB\n"
          ]
        },
        {
          "data": {
            "text/html": [
              "<div>\n",
              "<style scoped>\n",
              "    .dataframe tbody tr th:only-of-type {\n",
              "        vertical-align: middle;\n",
              "    }\n",
              "\n",
              "    .dataframe tbody tr th {\n",
              "        vertical-align: top;\n",
              "    }\n",
              "\n",
              "    .dataframe thead th {\n",
              "        text-align: right;\n",
              "    }\n",
              "</style>\n",
              "<table border=\"1\" class=\"dataframe\">\n",
              "  <thead>\n",
              "    <tr style=\"text-align: right;\">\n",
              "      <th></th>\n",
              "      <th>periodo</th>\n",
              "      <th>fecha</th>\n",
              "      <th>hora_inicio</th>\n",
              "      <th>hora_fin</th>\n",
              "      <th>dia</th>\n",
              "      <th>estacion</th>\n",
              "      <th>sentido</th>\n",
              "      <th>tipo_vehiculo</th>\n",
              "      <th>forma_pago</th>\n",
              "      <th>cantidad_pasos</th>\n",
              "    </tr>\n",
              "  </thead>\n",
              "  <tbody>\n",
              "    <tr>\n",
              "      <th>0</th>\n",
              "      <td>2018</td>\n",
              "      <td>2018-01-01</td>\n",
              "      <td>0</td>\n",
              "      <td>1</td>\n",
              "      <td>Lunes</td>\n",
              "      <td>Alberdi</td>\n",
              "      <td>Centro</td>\n",
              "      <td>Liviano</td>\n",
              "      <td>NO COBRADO</td>\n",
              "      <td>29</td>\n",
              "    </tr>\n",
              "    <tr>\n",
              "      <th>1</th>\n",
              "      <td>2018</td>\n",
              "      <td>2018-01-01</td>\n",
              "      <td>0</td>\n",
              "      <td>1</td>\n",
              "      <td>Lunes</td>\n",
              "      <td>Alberdi</td>\n",
              "      <td>Centro</td>\n",
              "      <td>Liviano</td>\n",
              "      <td>TELEPASE</td>\n",
              "      <td>9</td>\n",
              "    </tr>\n",
              "    <tr>\n",
              "      <th>2</th>\n",
              "      <td>2018</td>\n",
              "      <td>2018-01-01</td>\n",
              "      <td>1</td>\n",
              "      <td>2</td>\n",
              "      <td>Lunes</td>\n",
              "      <td>Alberdi</td>\n",
              "      <td>Centro</td>\n",
              "      <td>Liviano</td>\n",
              "      <td>NO COBRADO</td>\n",
              "      <td>73</td>\n",
              "    </tr>\n",
              "    <tr>\n",
              "      <th>3</th>\n",
              "      <td>2018</td>\n",
              "      <td>2018-01-01</td>\n",
              "      <td>1</td>\n",
              "      <td>2</td>\n",
              "      <td>Lunes</td>\n",
              "      <td>Alberdi</td>\n",
              "      <td>Centro</td>\n",
              "      <td>Liviano</td>\n",
              "      <td>TELEPASE</td>\n",
              "      <td>39</td>\n",
              "    </tr>\n",
              "    <tr>\n",
              "      <th>4</th>\n",
              "      <td>2018</td>\n",
              "      <td>2018-01-01</td>\n",
              "      <td>2</td>\n",
              "      <td>3</td>\n",
              "      <td>Lunes</td>\n",
              "      <td>Alberdi</td>\n",
              "      <td>Centro</td>\n",
              "      <td>Liviano</td>\n",
              "      <td>NO COBRADO</td>\n",
              "      <td>115</td>\n",
              "    </tr>\n",
              "  </tbody>\n",
              "</table>\n",
              "</div>"
            ],
            "text/plain": [
              "   periodo       fecha  hora_inicio  hora_fin    dia estacion sentido  \\\n",
              "0     2018  2018-01-01            0         1  Lunes  Alberdi  Centro   \n",
              "1     2018  2018-01-01            0         1  Lunes  Alberdi  Centro   \n",
              "2     2018  2018-01-01            1         2  Lunes  Alberdi  Centro   \n",
              "3     2018  2018-01-01            1         2  Lunes  Alberdi  Centro   \n",
              "4     2018  2018-01-01            2         3  Lunes  Alberdi  Centro   \n",
              "\n",
              "  tipo_vehiculo  forma_pago  cantidad_pasos  \n",
              "0       Liviano  NO COBRADO              29  \n",
              "1       Liviano    TELEPASE               9  \n",
              "2       Liviano  NO COBRADO              73  \n",
              "3       Liviano    TELEPASE              39  \n",
              "4       Liviano  NO COBRADO             115  "
            ]
          },
          "execution_count": 5,
          "metadata": {},
          "output_type": "execute_result"
        }
      ],
      "source": [
        "data_2018.info()\n",
        "data_2018.head()"
      ]
    },
    {
      "cell_type": "code",
      "execution_count": 6,
      "metadata": {
        "id": "OvaBbZf_Id2N",
        "outputId": "cec6fee3-7f73-46c7-ea00-95dd150cd80a"
      },
      "outputs": [
        {
          "name": "stdout",
          "output_type": "stream",
          "text": [
            "<class 'pandas.core.frame.DataFrame'>\n",
            "RangeIndex: 1372645 entries, 0 to 1372644\n",
            "Data columns (total 10 columns):\n",
            " #   Column          Non-Null Count    Dtype \n",
            "---  ------          --------------    ----- \n",
            " 0   periodo         1372645 non-null  int64 \n",
            " 1   fecha           1372645 non-null  object\n",
            " 2   hora_inicio     1372645 non-null  int64 \n",
            " 3   hora_fin        1372645 non-null  int64 \n",
            " 4   dia             1372645 non-null  object\n",
            " 5   estacion        1372645 non-null  object\n",
            " 6   sentido         1372645 non-null  object\n",
            " 7   tipo_vehiculo   1372645 non-null  object\n",
            " 8   forma_pago      1372645 non-null  object\n",
            " 9   cantidad_pasos  1372645 non-null  int64 \n",
            "dtypes: int64(4), object(6)\n",
            "memory usage: 104.7+ MB\n"
          ]
        },
        {
          "data": {
            "text/html": [
              "<div>\n",
              "<style scoped>\n",
              "    .dataframe tbody tr th:only-of-type {\n",
              "        vertical-align: middle;\n",
              "    }\n",
              "\n",
              "    .dataframe tbody tr th {\n",
              "        vertical-align: top;\n",
              "    }\n",
              "\n",
              "    .dataframe thead th {\n",
              "        text-align: right;\n",
              "    }\n",
              "</style>\n",
              "<table border=\"1\" class=\"dataframe\">\n",
              "  <thead>\n",
              "    <tr style=\"text-align: right;\">\n",
              "      <th></th>\n",
              "      <th>periodo</th>\n",
              "      <th>fecha</th>\n",
              "      <th>hora_inicio</th>\n",
              "      <th>hora_fin</th>\n",
              "      <th>dia</th>\n",
              "      <th>estacion</th>\n",
              "      <th>sentido</th>\n",
              "      <th>tipo_vehiculo</th>\n",
              "      <th>forma_pago</th>\n",
              "      <th>cantidad_pasos</th>\n",
              "    </tr>\n",
              "  </thead>\n",
              "  <tbody>\n",
              "    <tr>\n",
              "      <th>0</th>\n",
              "      <td>2017</td>\n",
              "      <td>2017-01-01</td>\n",
              "      <td>0</td>\n",
              "      <td>1</td>\n",
              "      <td>Domingo</td>\n",
              "      <td>Alberdi</td>\n",
              "      <td>Centro</td>\n",
              "      <td>Liviano</td>\n",
              "      <td>NO COBRADO</td>\n",
              "      <td>25</td>\n",
              "    </tr>\n",
              "    <tr>\n",
              "      <th>1</th>\n",
              "      <td>2017</td>\n",
              "      <td>2017-01-01</td>\n",
              "      <td>0</td>\n",
              "      <td>1</td>\n",
              "      <td>Domingo</td>\n",
              "      <td>Alberdi</td>\n",
              "      <td>Centro</td>\n",
              "      <td>Liviano</td>\n",
              "      <td>TELEPASE</td>\n",
              "      <td>7</td>\n",
              "    </tr>\n",
              "    <tr>\n",
              "      <th>2</th>\n",
              "      <td>2017</td>\n",
              "      <td>2017-01-01</td>\n",
              "      <td>1</td>\n",
              "      <td>2</td>\n",
              "      <td>Domingo</td>\n",
              "      <td>Alberdi</td>\n",
              "      <td>Centro</td>\n",
              "      <td>Liviano</td>\n",
              "      <td>NO COBRADO</td>\n",
              "      <td>5</td>\n",
              "    </tr>\n",
              "    <tr>\n",
              "      <th>3</th>\n",
              "      <td>2017</td>\n",
              "      <td>2017-01-01</td>\n",
              "      <td>1</td>\n",
              "      <td>2</td>\n",
              "      <td>Domingo</td>\n",
              "      <td>Alberdi</td>\n",
              "      <td>Centro</td>\n",
              "      <td>Liviano</td>\n",
              "      <td>EFECTIVO</td>\n",
              "      <td>2</td>\n",
              "    </tr>\n",
              "    <tr>\n",
              "      <th>4</th>\n",
              "      <td>2017</td>\n",
              "      <td>2017-01-01</td>\n",
              "      <td>1</td>\n",
              "      <td>2</td>\n",
              "      <td>Domingo</td>\n",
              "      <td>Alberdi</td>\n",
              "      <td>Centro</td>\n",
              "      <td>Liviano</td>\n",
              "      <td>EFECTIVO</td>\n",
              "      <td>94</td>\n",
              "    </tr>\n",
              "  </tbody>\n",
              "</table>\n",
              "</div>"
            ],
            "text/plain": [
              "   periodo       fecha  hora_inicio  hora_fin      dia estacion sentido  \\\n",
              "0     2017  2017-01-01            0         1  Domingo  Alberdi  Centro   \n",
              "1     2017  2017-01-01            0         1  Domingo  Alberdi  Centro   \n",
              "2     2017  2017-01-01            1         2  Domingo  Alberdi  Centro   \n",
              "3     2017  2017-01-01            1         2  Domingo  Alberdi  Centro   \n",
              "4     2017  2017-01-01            1         2  Domingo  Alberdi  Centro   \n",
              "\n",
              "  tipo_vehiculo  forma_pago  cantidad_pasos  \n",
              "0       Liviano  NO COBRADO              25  \n",
              "1       Liviano    TELEPASE               7  \n",
              "2       Liviano  NO COBRADO               5  \n",
              "3       Liviano    EFECTIVO               2  \n",
              "4       Liviano    EFECTIVO              94  "
            ]
          },
          "execution_count": 6,
          "metadata": {},
          "output_type": "execute_result"
        }
      ],
      "source": [
        "data_2017.info()\n",
        "data_2017.head()"
      ]
    },
    {
      "cell_type": "markdown",
      "metadata": {
        "id": "KcR5QSDTId2U"
      },
      "source": [
        "Investiguemos que valores toman los campos **estacion, sentido, tipo_vehiculo y forma_pago**"
      ]
    },
    {
      "cell_type": "code",
      "execution_count": 7,
      "metadata": {
        "id": "5C-XUOgYId2V",
        "outputId": "65c139de-d876-4414-bea3-476d316dc643"
      },
      "outputs": [
        {
          "name": "stdout",
          "output_type": "stream",
          "text": [
            "['Alberti' 'Avellaneda' 'Dellepiane' 'Illia' 'Retiro' 'Salguero'\n",
            " 'Sarmiento' 'PDB']\n",
            "['Alberdi' 'Avellaneda' 'Dellepiane Centro' 'Dellepiane Liniers' 'Illia'\n",
            " 'Retiro' 'Salguero' 'Sarmiento']\n",
            "['Alberdi' 'Avellaneda' 'Dellepiane Centro' 'Dellepiane Liniers' 'Illia'\n",
            " 'Retiro' 'Salguero' 'Sarmiento']\n"
          ]
        }
      ],
      "source": [
        "print(data_2019['estacion'].unique())\n",
        "print(data_2018['estacion'].unique())\n",
        "print(data_2017['estacion'].unique())"
      ]
    },
    {
      "cell_type": "code",
      "execution_count": 8,
      "metadata": {
        "id": "qqvXxv-DId2b",
        "outputId": "01efcab6-d5cd-4f9e-b8fc-ab7b10374560"
      },
      "outputs": [
        {
          "name": "stdout",
          "output_type": "stream",
          "text": [
            "['Centro' 'Provincia']\n",
            "['Centro' 'Provincia']\n",
            "['Centro' 'Provincia']\n"
          ]
        }
      ],
      "source": [
        "print(data_2019['sentido'].unique())\n",
        "print(data_2018['sentido'].unique())\n",
        "print(data_2017['sentido'].unique())"
      ]
    },
    {
      "cell_type": "code",
      "execution_count": 9,
      "metadata": {
        "id": "KK4J02tHId2f",
        "outputId": "ddd178d0-5f28-4f45-d162-6b5944af306b"
      },
      "outputs": [
        {
          "name": "stdout",
          "output_type": "stream",
          "text": [
            "['Liviano' 'Pesado']\n",
            "['Liviano' 'Pesado']\n",
            "['Liviano' 'Pesado']\n"
          ]
        }
      ],
      "source": [
        "print(data_2019['tipo_vehiculo'].unique())\n",
        "print(data_2018['tipo_vehiculo'].unique())\n",
        "print(data_2017['tipo_vehiculo'].unique())"
      ]
    },
    {
      "cell_type": "code",
      "execution_count": 10,
      "metadata": {
        "id": "_m8VhDhtId2k",
        "outputId": "a44b93a9-8bdb-4bbf-d7f5-1543c97bb447"
      },
      "outputs": [
        {
          "name": "stdout",
          "output_type": "stream",
          "text": [
            "['NO COBRADO' 'TELEPASE' 'EFECTIVO' 'EXENTO' 'INFRACCION'\n",
            " 'T. DISCAPACIDAD']\n",
            "['NO COBRADO' 'TELEPASE' 'EFECTIVO' 'EXENTO' 'TARJETA DISCAPACIDAD'\n",
            " 'INFRACCION']\n",
            "['NO COBRADO' 'TELEPASE' 'EFECTIVO' 'TARJETA DISCAPACIDAD' 'EXENTO'\n",
            " 'INFRACCION' 'MONEDERO' 'Otros']\n"
          ]
        }
      ],
      "source": [
        "print(data_2019['forma_pago'].unique())\n",
        "print(data_2018['forma_pago'].unique())\n",
        "print(data_2017['forma_pago'].unique())"
      ]
    },
    {
      "cell_type": "markdown",
      "metadata": {
        "id": "OUImrZ0HId2q"
      },
      "source": [
        "##### Podemos decir entonces que los años 2017, 2018 y 2019 tienen las siguientes columnas con la siguiente información:\n",
        "\n",
        "**periodo**: año del dset \n",
        "\n",
        "**fecha**: año dia mes\n",
        "\n",
        "**hora_inicio** hora de inicio de la cuenta de vehiculos (DROP)\n",
        "\n",
        "**hora_fin** hora de fin de la cuenta de vehiculos (Vamos a usar esta para tomar la hora)\n",
        "\n",
        "**dia**: dia de la semana \n",
        "\n",
        "**estacion**: estaciones de peaje, difieren levemente entre los años (Dellepiane se unifica en 2019, antes habia Dellepiane Liniers y Centro, y se agrega PDB)\n",
        "\n",
        "**sentido**: Centro o Provincia\n",
        "\n",
        "**tipo_vehiculo**: Liviano o Pesado\n",
        "\n",
        "**forma_pago**: Hay varias y varian entre los años.\n",
        "\n",
        "**cantidad_pasos**: Cantidad de vehiculos"
      ]
    },
    {
      "cell_type": "markdown",
      "metadata": {
        "id": "cDmDNVJDId2r"
      },
      "source": [
        "Vamos a estar trabajando con la estación **Illia** y la forma de pago **Efectivo**\n"
      ]
    },
    {
      "cell_type": "code",
      "execution_count": 11,
      "metadata": {
        "id": "SOUCg2f7Id2s",
        "outputId": "7c8c43a7-63c9-4179-dc60-04c358afd65d"
      },
      "outputs": [
        {
          "data": {
            "text/html": [
              "<div>\n",
              "<style scoped>\n",
              "    .dataframe tbody tr th:only-of-type {\n",
              "        vertical-align: middle;\n",
              "    }\n",
              "\n",
              "    .dataframe tbody tr th {\n",
              "        vertical-align: top;\n",
              "    }\n",
              "\n",
              "    .dataframe thead th {\n",
              "        text-align: right;\n",
              "    }\n",
              "</style>\n",
              "<table border=\"1\" class=\"dataframe\">\n",
              "  <thead>\n",
              "    <tr style=\"text-align: right;\">\n",
              "      <th></th>\n",
              "      <th>fecha</th>\n",
              "      <th>hora_fin</th>\n",
              "      <th>dia</th>\n",
              "      <th>sentido</th>\n",
              "      <th>tipo_vehiculo</th>\n",
              "      <th>cantidad_pasos</th>\n",
              "    </tr>\n",
              "  </thead>\n",
              "  <tbody>\n",
              "    <tr>\n",
              "      <th>80</th>\n",
              "      <td>2019-01-01</td>\n",
              "      <td>2</td>\n",
              "      <td>Martes</td>\n",
              "      <td>Centro</td>\n",
              "      <td>Liviano</td>\n",
              "      <td>537</td>\n",
              "    </tr>\n",
              "    <tr>\n",
              "      <th>86</th>\n",
              "      <td>2019-01-01</td>\n",
              "      <td>2</td>\n",
              "      <td>Martes</td>\n",
              "      <td>Centro</td>\n",
              "      <td>Pesado</td>\n",
              "      <td>1</td>\n",
              "    </tr>\n",
              "    <tr>\n",
              "      <th>88</th>\n",
              "      <td>2019-01-01</td>\n",
              "      <td>2</td>\n",
              "      <td>Martes</td>\n",
              "      <td>Provincia</td>\n",
              "      <td>Liviano</td>\n",
              "      <td>443</td>\n",
              "    </tr>\n",
              "    <tr>\n",
              "      <th>94</th>\n",
              "      <td>2019-01-01</td>\n",
              "      <td>2</td>\n",
              "      <td>Martes</td>\n",
              "      <td>Provincia</td>\n",
              "      <td>Pesado</td>\n",
              "      <td>1</td>\n",
              "    </tr>\n",
              "    <tr>\n",
              "      <th>149</th>\n",
              "      <td>2019-01-01</td>\n",
              "      <td>3</td>\n",
              "      <td>Martes</td>\n",
              "      <td>Centro</td>\n",
              "      <td>Liviano</td>\n",
              "      <td>769</td>\n",
              "    </tr>\n",
              "  </tbody>\n",
              "</table>\n",
              "</div>"
            ],
            "text/plain": [
              "          fecha  hora_fin     dia    sentido tipo_vehiculo  cantidad_pasos\n",
              "80   2019-01-01         2  Martes     Centro       Liviano             537\n",
              "86   2019-01-01         2  Martes     Centro        Pesado               1\n",
              "88   2019-01-01         2  Martes  Provincia       Liviano             443\n",
              "94   2019-01-01         2  Martes  Provincia        Pesado               1\n",
              "149  2019-01-01         3  Martes     Centro       Liviano             769"
            ]
          },
          "execution_count": 11,
          "metadata": {},
          "output_type": "execute_result"
        }
      ],
      "source": [
        "#Unimos los 3 datasets, podemos hacerlo asi directamente ya que tienen las mismas columnas\n",
        "dataset = pd.concat([data_2019, data_2018, data_2017])\n",
        "\n",
        "#Nos quedamos solamente con la estación Illia y la forma de pago Efectivo\n",
        "mask = np.logical_and(dataset.estacion=='Illia', dataset.forma_pago == 'EFECTIVO')\n",
        "dataset = dataset[mask]\n",
        "\n",
        "#Quitamos las columnas que no vamos a utilizar\n",
        "dataset.drop(columns = ['periodo','hora_inicio','forma_pago', 'estacion'], inplace = True)\n",
        "\n",
        "dataset.head()"
      ]
    },
    {
      "cell_type": "code",
      "execution_count": 12,
      "metadata": {},
      "outputs": [
        {
          "data": {
            "text/html": [
              "<div>\n",
              "<style scoped>\n",
              "    .dataframe tbody tr th:only-of-type {\n",
              "        vertical-align: middle;\n",
              "    }\n",
              "\n",
              "    .dataframe tbody tr th {\n",
              "        vertical-align: top;\n",
              "    }\n",
              "\n",
              "    .dataframe thead th {\n",
              "        text-align: right;\n",
              "    }\n",
              "</style>\n",
              "<table border=\"1\" class=\"dataframe\">\n",
              "  <thead>\n",
              "    <tr style=\"text-align: right;\">\n",
              "      <th></th>\n",
              "      <th>fecha</th>\n",
              "      <th>hora_fin</th>\n",
              "      <th>dia</th>\n",
              "      <th>sentido</th>\n",
              "      <th>tipo_vehiculo</th>\n",
              "      <th>cantidad_pasos</th>\n",
              "    </tr>\n",
              "  </thead>\n",
              "  <tbody>\n",
              "    <tr>\n",
              "      <th>1372316</th>\n",
              "      <td>2017-12-31</td>\n",
              "      <td>22</td>\n",
              "      <td>Domingo</td>\n",
              "      <td>Provincia</td>\n",
              "      <td>Pesado</td>\n",
              "      <td>8</td>\n",
              "    </tr>\n",
              "    <tr>\n",
              "      <th>1372319</th>\n",
              "      <td>2017-12-31</td>\n",
              "      <td>23</td>\n",
              "      <td>Domingo</td>\n",
              "      <td>Provincia</td>\n",
              "      <td>Liviano</td>\n",
              "      <td>8</td>\n",
              "    </tr>\n",
              "    <tr>\n",
              "      <th>1372320</th>\n",
              "      <td>2017-12-31</td>\n",
              "      <td>23</td>\n",
              "      <td>Domingo</td>\n",
              "      <td>Provincia</td>\n",
              "      <td>Liviano</td>\n",
              "      <td>148</td>\n",
              "    </tr>\n",
              "    <tr>\n",
              "      <th>1372324</th>\n",
              "      <td>2017-12-31</td>\n",
              "      <td>23</td>\n",
              "      <td>Domingo</td>\n",
              "      <td>Provincia</td>\n",
              "      <td>Pesado</td>\n",
              "      <td>1</td>\n",
              "    </tr>\n",
              "    <tr>\n",
              "      <th>1372326</th>\n",
              "      <td>2017-12-31</td>\n",
              "      <td>23</td>\n",
              "      <td>Domingo</td>\n",
              "      <td>Provincia</td>\n",
              "      <td>Pesado</td>\n",
              "      <td>1</td>\n",
              "    </tr>\n",
              "  </tbody>\n",
              "</table>\n",
              "</div>"
            ],
            "text/plain": [
              "              fecha  hora_fin      dia    sentido tipo_vehiculo  \\\n",
              "1372316  2017-12-31        22  Domingo  Provincia        Pesado   \n",
              "1372319  2017-12-31        23  Domingo  Provincia       Liviano   \n",
              "1372320  2017-12-31        23  Domingo  Provincia       Liviano   \n",
              "1372324  2017-12-31        23  Domingo  Provincia        Pesado   \n",
              "1372326  2017-12-31        23  Domingo  Provincia        Pesado   \n",
              "\n",
              "         cantidad_pasos  \n",
              "1372316               8  \n",
              "1372319               8  \n",
              "1372320             148  \n",
              "1372324               1  \n",
              "1372326               1  "
            ]
          },
          "execution_count": 12,
          "metadata": {},
          "output_type": "execute_result"
        }
      ],
      "source": [
        "dataset.tail(5)"
      ]
    },
    {
      "cell_type": "code",
      "execution_count": 13,
      "metadata": {},
      "outputs": [
        {
          "data": {
            "text/plain": [
              "fecha             0\n",
              "hora_fin          0\n",
              "dia               0\n",
              "sentido           0\n",
              "tipo_vehiculo     0\n",
              "cantidad_pasos    0\n",
              "dtype: int64"
            ]
          },
          "execution_count": 13,
          "metadata": {},
          "output_type": "execute_result"
        }
      ],
      "source": [
        "#Vemos los datos nulos\n",
        "dataset.isnull().sum()"
      ]
    },
    {
      "cell_type": "code",
      "execution_count": 14,
      "metadata": {
        "id": "kLi3lxc_Id2x",
        "outputId": "7103c2e7-9908-48c1-e6b6-65930c273e56"
      },
      "outputs": [
        {
          "data": {
            "text/html": [
              "<div>\n",
              "<style scoped>\n",
              "    .dataframe tbody tr th:only-of-type {\n",
              "        vertical-align: middle;\n",
              "    }\n",
              "\n",
              "    .dataframe tbody tr th {\n",
              "        vertical-align: top;\n",
              "    }\n",
              "\n",
              "    .dataframe thead th {\n",
              "        text-align: right;\n",
              "    }\n",
              "</style>\n",
              "<table border=\"1\" class=\"dataframe\">\n",
              "  <thead>\n",
              "    <tr style=\"text-align: right;\">\n",
              "      <th></th>\n",
              "      <th>dia</th>\n",
              "      <th>sentido</th>\n",
              "      <th>tipo_vehiculo</th>\n",
              "      <th>cantidad_pasos</th>\n",
              "      <th>fecha2</th>\n",
              "    </tr>\n",
              "  </thead>\n",
              "  <tbody>\n",
              "    <tr>\n",
              "      <th>80</th>\n",
              "      <td>Martes</td>\n",
              "      <td>Centro</td>\n",
              "      <td>Liviano</td>\n",
              "      <td>537</td>\n",
              "      <td>2019-01-01 02:00:00</td>\n",
              "    </tr>\n",
              "    <tr>\n",
              "      <th>86</th>\n",
              "      <td>Martes</td>\n",
              "      <td>Centro</td>\n",
              "      <td>Pesado</td>\n",
              "      <td>1</td>\n",
              "      <td>2019-01-01 02:00:00</td>\n",
              "    </tr>\n",
              "    <tr>\n",
              "      <th>88</th>\n",
              "      <td>Martes</td>\n",
              "      <td>Provincia</td>\n",
              "      <td>Liviano</td>\n",
              "      <td>443</td>\n",
              "      <td>2019-01-01 02:00:00</td>\n",
              "    </tr>\n",
              "    <tr>\n",
              "      <th>94</th>\n",
              "      <td>Martes</td>\n",
              "      <td>Provincia</td>\n",
              "      <td>Pesado</td>\n",
              "      <td>1</td>\n",
              "      <td>2019-01-01 02:00:00</td>\n",
              "    </tr>\n",
              "    <tr>\n",
              "      <th>149</th>\n",
              "      <td>Martes</td>\n",
              "      <td>Centro</td>\n",
              "      <td>Liviano</td>\n",
              "      <td>769</td>\n",
              "      <td>2019-01-01 03:00:00</td>\n",
              "    </tr>\n",
              "  </tbody>\n",
              "</table>\n",
              "</div>"
            ],
            "text/plain": [
              "        dia    sentido tipo_vehiculo  cantidad_pasos              fecha2\n",
              "80   Martes     Centro       Liviano             537 2019-01-01 02:00:00\n",
              "86   Martes     Centro        Pesado               1 2019-01-01 02:00:00\n",
              "88   Martes  Provincia       Liviano             443 2019-01-01 02:00:00\n",
              "94   Martes  Provincia        Pesado               1 2019-01-01 02:00:00\n",
              "149  Martes     Centro       Liviano             769 2019-01-01 03:00:00"
            ]
          },
          "execution_count": 14,
          "metadata": {},
          "output_type": "execute_result"
        }
      ],
      "source": [
        "#Pasamos la columna fecha a formato datetime, y le unimos la hora_fin como hora\n",
        "dataset1=dataset.copy()\n",
        "dataset1['fecha2'] = pd.to_datetime(dataset1.fecha) + pd.to_timedelta(dataset1.hora_fin, unit = 'h')\n",
        "\n",
        "#Quitamos las columnas fecha y hora_fin ya que las incluimos en el campo fecha2\n",
        "dataset1.drop(columns=['fecha','hora_fin'], inplace = True)\n",
        "\n",
        "dataset1.head()"
      ]
    },
    {
      "cell_type": "code",
      "execution_count": 15,
      "metadata": {
        "id": "8coELKbyId23",
        "outputId": "e0175e08-c1bd-4bb5-9af0-3df5ebe8f152"
      },
      "outputs": [
        {
          "data": {
            "text/html": [
              "<div>\n",
              "<style scoped>\n",
              "    .dataframe tbody tr th:only-of-type {\n",
              "        vertical-align: middle;\n",
              "    }\n",
              "\n",
              "    .dataframe tbody tr th {\n",
              "        vertical-align: top;\n",
              "    }\n",
              "\n",
              "    .dataframe thead th {\n",
              "        text-align: right;\n",
              "    }\n",
              "</style>\n",
              "<table border=\"1\" class=\"dataframe\">\n",
              "  <thead>\n",
              "    <tr style=\"text-align: right;\">\n",
              "      <th></th>\n",
              "      <th>dia</th>\n",
              "      <th>sentido</th>\n",
              "      <th>tipo_vehiculo</th>\n",
              "      <th>cantidad_pasos</th>\n",
              "      <th>fecha</th>\n",
              "    </tr>\n",
              "  </thead>\n",
              "  <tbody>\n",
              "    <tr>\n",
              "      <th>80</th>\n",
              "      <td>Martes</td>\n",
              "      <td>Centro</td>\n",
              "      <td>Liviano</td>\n",
              "      <td>537</td>\n",
              "      <td>2019-01-01 02:00:00</td>\n",
              "    </tr>\n",
              "    <tr>\n",
              "      <th>86</th>\n",
              "      <td>Martes</td>\n",
              "      <td>Centro</td>\n",
              "      <td>Pesado</td>\n",
              "      <td>1</td>\n",
              "      <td>2019-01-01 02:00:00</td>\n",
              "    </tr>\n",
              "    <tr>\n",
              "      <th>88</th>\n",
              "      <td>Martes</td>\n",
              "      <td>Provincia</td>\n",
              "      <td>Liviano</td>\n",
              "      <td>443</td>\n",
              "      <td>2019-01-01 02:00:00</td>\n",
              "    </tr>\n",
              "    <tr>\n",
              "      <th>94</th>\n",
              "      <td>Martes</td>\n",
              "      <td>Provincia</td>\n",
              "      <td>Pesado</td>\n",
              "      <td>1</td>\n",
              "      <td>2019-01-01 02:00:00</td>\n",
              "    </tr>\n",
              "    <tr>\n",
              "      <th>149</th>\n",
              "      <td>Martes</td>\n",
              "      <td>Centro</td>\n",
              "      <td>Liviano</td>\n",
              "      <td>769</td>\n",
              "      <td>2019-01-01 03:00:00</td>\n",
              "    </tr>\n",
              "  </tbody>\n",
              "</table>\n",
              "</div>"
            ],
            "text/plain": [
              "        dia    sentido tipo_vehiculo  cantidad_pasos               fecha\n",
              "80   Martes     Centro       Liviano             537 2019-01-01 02:00:00\n",
              "86   Martes     Centro        Pesado               1 2019-01-01 02:00:00\n",
              "88   Martes  Provincia       Liviano             443 2019-01-01 02:00:00\n",
              "94   Martes  Provincia        Pesado               1 2019-01-01 02:00:00\n",
              "149  Martes     Centro       Liviano             769 2019-01-01 03:00:00"
            ]
          },
          "execution_count": 15,
          "metadata": {},
          "output_type": "execute_result"
        }
      ],
      "source": [
        "#Corregimos el nombre de fecha2 a fecha\n",
        "dataset1.rename(columns = {'fecha2':'fecha'}, inplace = True) \n",
        "dataset1.head()"
      ]
    },
    {
      "cell_type": "code",
      "execution_count": 16,
      "metadata": {
        "id": "Z4Uzn2ktId29",
        "outputId": "909993f9-0918-4736-f457-cc0b25bcb500"
      },
      "outputs": [
        {
          "data": {
            "text/html": [
              "<div>\n",
              "<style scoped>\n",
              "    .dataframe tbody tr th:only-of-type {\n",
              "        vertical-align: middle;\n",
              "    }\n",
              "\n",
              "    .dataframe tbody tr th {\n",
              "        vertical-align: top;\n",
              "    }\n",
              "\n",
              "    .dataframe thead th {\n",
              "        text-align: right;\n",
              "    }\n",
              "</style>\n",
              "<table border=\"1\" class=\"dataframe\">\n",
              "  <thead>\n",
              "    <tr style=\"text-align: right;\">\n",
              "      <th></th>\n",
              "      <th>dia</th>\n",
              "      <th>sentido</th>\n",
              "      <th>tipo_vehiculo</th>\n",
              "      <th>cantidad_pasos</th>\n",
              "      <th>fecha</th>\n",
              "    </tr>\n",
              "  </thead>\n",
              "  <tbody>\n",
              "    <tr>\n",
              "      <th>0</th>\n",
              "      <td>Domingo</td>\n",
              "      <td>Provincia</td>\n",
              "      <td>Pesado</td>\n",
              "      <td>1</td>\n",
              "      <td>2017-01-01 00:00:00</td>\n",
              "    </tr>\n",
              "    <tr>\n",
              "      <th>1</th>\n",
              "      <td>Domingo</td>\n",
              "      <td>Provincia</td>\n",
              "      <td>Liviano</td>\n",
              "      <td>9</td>\n",
              "      <td>2017-01-01 00:00:00</td>\n",
              "    </tr>\n",
              "    <tr>\n",
              "      <th>2</th>\n",
              "      <td>Domingo</td>\n",
              "      <td>Provincia</td>\n",
              "      <td>Liviano</td>\n",
              "      <td>644</td>\n",
              "      <td>2017-01-01 00:00:00</td>\n",
              "    </tr>\n",
              "    <tr>\n",
              "      <th>3</th>\n",
              "      <td>Domingo</td>\n",
              "      <td>Provincia</td>\n",
              "      <td>Pesado</td>\n",
              "      <td>6</td>\n",
              "      <td>2017-01-01 00:00:00</td>\n",
              "    </tr>\n",
              "    <tr>\n",
              "      <th>4</th>\n",
              "      <td>Domingo</td>\n",
              "      <td>Provincia</td>\n",
              "      <td>Pesado</td>\n",
              "      <td>1</td>\n",
              "      <td>2017-01-01 00:00:00</td>\n",
              "    </tr>\n",
              "    <tr>\n",
              "      <th>...</th>\n",
              "      <td>...</td>\n",
              "      <td>...</td>\n",
              "      <td>...</td>\n",
              "      <td>...</td>\n",
              "      <td>...</td>\n",
              "    </tr>\n",
              "    <tr>\n",
              "      <th>238864</th>\n",
              "      <td>Martes</td>\n",
              "      <td>Provincia</td>\n",
              "      <td>Liviano</td>\n",
              "      <td>556</td>\n",
              "      <td>2019-12-31 22:00:00</td>\n",
              "    </tr>\n",
              "    <tr>\n",
              "      <th>238865</th>\n",
              "      <td>Martes</td>\n",
              "      <td>Provincia</td>\n",
              "      <td>Pesado</td>\n",
              "      <td>1</td>\n",
              "      <td>2019-12-31 22:00:00</td>\n",
              "    </tr>\n",
              "    <tr>\n",
              "      <th>238866</th>\n",
              "      <td>Martes</td>\n",
              "      <td>Centro</td>\n",
              "      <td>Liviano</td>\n",
              "      <td>580</td>\n",
              "      <td>2019-12-31 22:00:00</td>\n",
              "    </tr>\n",
              "    <tr>\n",
              "      <th>238867</th>\n",
              "      <td>Martes</td>\n",
              "      <td>Centro</td>\n",
              "      <td>Liviano</td>\n",
              "      <td>214</td>\n",
              "      <td>2019-12-31 23:00:00</td>\n",
              "    </tr>\n",
              "    <tr>\n",
              "      <th>238868</th>\n",
              "      <td>Martes</td>\n",
              "      <td>Provincia</td>\n",
              "      <td>Liviano</td>\n",
              "      <td>190</td>\n",
              "      <td>2019-12-31 23:00:00</td>\n",
              "    </tr>\n",
              "  </tbody>\n",
              "</table>\n",
              "<p>238869 rows × 5 columns</p>\n",
              "</div>"
            ],
            "text/plain": [
              "            dia    sentido tipo_vehiculo  cantidad_pasos               fecha\n",
              "0       Domingo  Provincia        Pesado               1 2017-01-01 00:00:00\n",
              "1       Domingo  Provincia       Liviano               9 2017-01-01 00:00:00\n",
              "2       Domingo  Provincia       Liviano             644 2017-01-01 00:00:00\n",
              "3       Domingo  Provincia        Pesado               6 2017-01-01 00:00:00\n",
              "4       Domingo  Provincia        Pesado               1 2017-01-01 00:00:00\n",
              "...         ...        ...           ...             ...                 ...\n",
              "238864   Martes  Provincia       Liviano             556 2019-12-31 22:00:00\n",
              "238865   Martes  Provincia        Pesado               1 2019-12-31 22:00:00\n",
              "238866   Martes     Centro       Liviano             580 2019-12-31 22:00:00\n",
              "238867   Martes     Centro       Liviano             214 2019-12-31 23:00:00\n",
              "238868   Martes  Provincia       Liviano             190 2019-12-31 23:00:00\n",
              "\n",
              "[238869 rows x 5 columns]"
            ]
          },
          "execution_count": 16,
          "metadata": {},
          "output_type": "execute_result"
        }
      ],
      "source": [
        "#Reordenamos el dataset por fecha\n",
        "dataset1.sort_values('fecha', inplace = True)\n",
        "dataset1.reset_index(drop=True, inplace = True)\n",
        "dataset1"
      ]
    },
    {
      "cell_type": "code",
      "execution_count": 17,
      "metadata": {
        "id": "ZzYn6u95Id3B",
        "outputId": "0fb0f7bf-be9e-4ac4-9028-4c6e0947dc9c"
      },
      "outputs": [
        {
          "data": {
            "image/png": "[encoded data removed]",
            "text/plain": [
              "<Figure size 1080x432 with 1 Axes>"
            ]
          },
          "metadata": {
            "needs_background": "light"
          },
          "output_type": "display_data"
        }
      ],
      "source": [
        "#Graficamos nuestros datos, tal como están\n",
        "plt.figure(figsize = (15,6))\n",
        "plt.plot(dataset1.fecha, dataset1.cantidad_pasos)\n",
        "plt.xlabel('Tiempo')\n",
        "plt.ylabel('Cantidad de autos, por hora')\n",
        "plt.show()"
      ]
    },
    {
      "cell_type": "markdown",
      "metadata": {},
      "source": [
        "Se observa una tendencia decreciente de la serie desde principios de 2017 a fines de 2018 y luego una leve recuperación a principios de 2019 con una posterior estabilización. A primera vista se pueden reconocer los bloques de cada año y podría deberse a que cada uno de los 3 dataset contiene información no cien por ciento homogénea con los demás. Es decir pueden estar construídos con diferentes metodologías o teniendo en cuenta diferentes aspectos.\n",
        "Sin embargo también puede deberse a la creación de nuevos puntos de peajes o causas similares y en ese caso la información que nos dan los datos si estaría reflejando la realidad."
      ]
    },
    {
      "cell_type": "code",
      "execution_count": 18,
      "metadata": {
        "id": "amoQFmNpId3F",
        "outputId": "07236a00-29a6-435a-cd3d-f32cc7c07d35"
      },
      "outputs": [
        {
          "name": "stdout",
          "output_type": "stream",
          "text": [
            "(1095, 1)\n"
          ]
        },
        {
          "data": {
            "text/html": [
              "<div>\n",
              "<style scoped>\n",
              "    .dataframe tbody tr th:only-of-type {\n",
              "        vertical-align: middle;\n",
              "    }\n",
              "\n",
              "    .dataframe tbody tr th {\n",
              "        vertical-align: top;\n",
              "    }\n",
              "\n",
              "    .dataframe thead th {\n",
              "        text-align: right;\n",
              "    }\n",
              "</style>\n",
              "<table border=\"1\" class=\"dataframe\">\n",
              "  <thead>\n",
              "    <tr style=\"text-align: right;\">\n",
              "      <th></th>\n",
              "      <th>cantidad_pasos</th>\n",
              "    </tr>\n",
              "    <tr>\n",
              "      <th>fecha</th>\n",
              "      <th></th>\n",
              "    </tr>\n",
              "  </thead>\n",
              "  <tbody>\n",
              "    <tr>\n",
              "      <th>2017-01-01</th>\n",
              "      <td>31183</td>\n",
              "    </tr>\n",
              "    <tr>\n",
              "      <th>2017-01-02</th>\n",
              "      <td>51568</td>\n",
              "    </tr>\n",
              "    <tr>\n",
              "      <th>2017-01-03</th>\n",
              "      <td>51093</td>\n",
              "    </tr>\n",
              "    <tr>\n",
              "      <th>2017-01-04</th>\n",
              "      <td>53332</td>\n",
              "    </tr>\n",
              "    <tr>\n",
              "      <th>2017-01-05</th>\n",
              "      <td>56486</td>\n",
              "    </tr>\n",
              "  </tbody>\n",
              "</table>\n",
              "</div>"
            ],
            "text/plain": [
              "            cantidad_pasos\n",
              "fecha                     \n",
              "2017-01-01           31183\n",
              "2017-01-02           51568\n",
              "2017-01-03           51093\n",
              "2017-01-04           53332\n",
              "2017-01-05           56486"
            ]
          },
          "execution_count": 18,
          "metadata": {},
          "output_type": "execute_result"
        }
      ],
      "source": [
        "#Resampleamos nuestros datos para agrupar por dia, y asi tal vez lograr una visualización mas amigable\n",
        "diario = dataset1.resample('D', on = 'fecha').sum()\n",
        "print(diario.shape)\n",
        "diario.head(5)"
      ]
    },
    {
      "cell_type": "code",
      "execution_count": 19,
      "metadata": {
        "id": "JgqZaiEDId3L",
        "outputId": "381d8dc4-877c-4ccb-c0cd-83f54a1dfc0a"
      },
      "outputs": [
        {
          "data": {
            "image/png": "[encoded data removed]",
            "text/plain": [
              "<Figure size 1080x432 with 1 Axes>"
            ]
          },
          "metadata": {
            "needs_background": "light"
          },
          "output_type": "display_data"
        }
      ],
      "source": [
        "plt.figure(figsize = (15,6))\n",
        "plt.plot(diario.index, diario.cantidad_pasos)\n",
        "plt.xlabel('Tiempo')\n",
        "plt.ylabel('Cantidad de autos, por dia')\n",
        "plt.show()"
      ]
    },
    {
      "cell_type": "code",
      "execution_count": 20,
      "metadata": {},
      "outputs": [
        {
          "data": {
            "text/html": [
              "<div>\n",
              "<style scoped>\n",
              "    .dataframe tbody tr th:only-of-type {\n",
              "        vertical-align: middle;\n",
              "    }\n",
              "\n",
              "    .dataframe tbody tr th {\n",
              "        vertical-align: top;\n",
              "    }\n",
              "\n",
              "    .dataframe thead th {\n",
              "        text-align: right;\n",
              "    }\n",
              "</style>\n",
              "<table border=\"1\" class=\"dataframe\">\n",
              "  <thead>\n",
              "    <tr style=\"text-align: right;\">\n",
              "      <th></th>\n",
              "      <th>cantidad_pasos</th>\n",
              "    </tr>\n",
              "  </thead>\n",
              "  <tbody>\n",
              "    <tr>\n",
              "      <th>count</th>\n",
              "      <td>1095.00</td>\n",
              "    </tr>\n",
              "    <tr>\n",
              "      <th>mean</th>\n",
              "      <td>43712.86</td>\n",
              "    </tr>\n",
              "    <tr>\n",
              "      <th>std</th>\n",
              "      <td>8192.74</td>\n",
              "    </tr>\n",
              "    <tr>\n",
              "      <th>min</th>\n",
              "      <td>0.00</td>\n",
              "    </tr>\n",
              "    <tr>\n",
              "      <th>1%</th>\n",
              "      <td>21553.60</td>\n",
              "    </tr>\n",
              "    <tr>\n",
              "      <th>5%</th>\n",
              "      <td>31194.20</td>\n",
              "    </tr>\n",
              "    <tr>\n",
              "      <th>25%</th>\n",
              "      <td>39061.50</td>\n",
              "    </tr>\n",
              "    <tr>\n",
              "      <th>50%</th>\n",
              "      <td>43761.00</td>\n",
              "    </tr>\n",
              "    <tr>\n",
              "      <th>75%</th>\n",
              "      <td>49498.00</td>\n",
              "    </tr>\n",
              "    <tr>\n",
              "      <th>95%</th>\n",
              "      <td>56016.10</td>\n",
              "    </tr>\n",
              "    <tr>\n",
              "      <th>99%</th>\n",
              "      <td>59427.38</td>\n",
              "    </tr>\n",
              "    <tr>\n",
              "      <th>max</th>\n",
              "      <td>63127.00</td>\n",
              "    </tr>\n",
              "  </tbody>\n",
              "</table>\n",
              "</div>"
            ],
            "text/plain": [
              "       cantidad_pasos\n",
              "count         1095.00\n",
              "mean         43712.86\n",
              "std           8192.74\n",
              "min              0.00\n",
              "1%           21553.60\n",
              "5%           31194.20\n",
              "25%          39061.50\n",
              "50%          43761.00\n",
              "75%          49498.00\n",
              "95%          56016.10\n",
              "99%          59427.38\n",
              "max          63127.00"
            ]
          },
          "execution_count": 20,
          "metadata": {},
          "output_type": "execute_result"
        }
      ],
      "source": [
        "#Observamos los estadisticos descriptivos de la variable cantidad de pasos\n",
        "diario.describe(percentiles=[.01,.05,.25,.5,.75,.95,.99]).round(2)"
      ]
    },
    {
      "cell_type": "code",
      "execution_count": 21,
      "metadata": {},
      "outputs": [
        {
          "data": {
            "text/plain": [
              "<AxesSubplot:xlabel='cantidad_pasos', ylabel='Count'>"
            ]
          },
          "execution_count": 21,
          "metadata": {},
          "output_type": "execute_result"
        },
        {
          "data": {
            "image/png": "[encoded data removed]",
            "text/plain": [
              "<Figure size 432x288 with 1 Axes>"
            ]
          },
          "metadata": {
            "needs_background": "light"
          },
          "output_type": "display_data"
        }
      ],
      "source": [
        "#Graficamos la distribucion de probabilidad\n",
        "sns.histplot(data=diario,x='cantidad_pasos')"
      ]
    },
    {
      "cell_type": "markdown",
      "metadata": {},
      "source": [
        "Se observa un intervalo atipico. Vamos a ver a que fechas corresponden"
      ]
    },
    {
      "cell_type": "code",
      "execution_count": 22,
      "metadata": {},
      "outputs": [
        {
          "data": {
            "text/html": [
              "<div>\n",
              "<style scoped>\n",
              "    .dataframe tbody tr th:only-of-type {\n",
              "        vertical-align: middle;\n",
              "    }\n",
              "\n",
              "    .dataframe tbody tr th {\n",
              "        vertical-align: top;\n",
              "    }\n",
              "\n",
              "    .dataframe thead th {\n",
              "        text-align: right;\n",
              "    }\n",
              "</style>\n",
              "<table border=\"1\" class=\"dataframe\">\n",
              "  <thead>\n",
              "    <tr style=\"text-align: right;\">\n",
              "      <th></th>\n",
              "      <th>cantidad_pasos</th>\n",
              "    </tr>\n",
              "    <tr>\n",
              "      <th>fecha</th>\n",
              "      <th></th>\n",
              "    </tr>\n",
              "  </thead>\n",
              "  <tbody>\n",
              "    <tr>\n",
              "      <th>2018-06-25</th>\n",
              "      <td>0</td>\n",
              "    </tr>\n",
              "    <tr>\n",
              "      <th>2018-09-25</th>\n",
              "      <td>0</td>\n",
              "    </tr>\n",
              "    <tr>\n",
              "      <th>2018-11-30</th>\n",
              "      <td>0</td>\n",
              "    </tr>\n",
              "    <tr>\n",
              "      <th>2019-05-29</th>\n",
              "      <td>0</td>\n",
              "    </tr>\n",
              "    <tr>\n",
              "      <th>2017-04-06</th>\n",
              "      <td>40</td>\n",
              "    </tr>\n",
              "    <tr>\n",
              "      <th>2018-12-01</th>\n",
              "      <td>350</td>\n",
              "    </tr>\n",
              "    <tr>\n",
              "      <th>2019-01-13</th>\n",
              "      <td>18076</td>\n",
              "    </tr>\n",
              "    <tr>\n",
              "      <th>2018-11-29</th>\n",
              "      <td>19728</td>\n",
              "    </tr>\n",
              "    <tr>\n",
              "      <th>2019-12-01</th>\n",
              "      <td>20553</td>\n",
              "    </tr>\n",
              "    <tr>\n",
              "      <th>2019-12-31</th>\n",
              "      <td>21447</td>\n",
              "    </tr>\n",
              "  </tbody>\n",
              "</table>\n",
              "</div>"
            ],
            "text/plain": [
              "            cantidad_pasos\n",
              "fecha                     \n",
              "2018-06-25               0\n",
              "2018-09-25               0\n",
              "2018-11-30               0\n",
              "2019-05-29               0\n",
              "2017-04-06              40\n",
              "2018-12-01             350\n",
              "2019-01-13           18076\n",
              "2018-11-29           19728\n",
              "2019-12-01           20553\n",
              "2019-12-31           21447"
            ]
          },
          "execution_count": 22,
          "metadata": {},
          "output_type": "execute_result"
        }
      ],
      "source": [
        "diario.sort_values('cantidad_pasos',inplace=True)#.head(10)\n",
        "diario.head(10)"
      ]
    },
    {
      "cell_type": "markdown",
      "metadata": {},
      "source": [
        "Las primeras 6 fechas parecen tener valores que no son correctos. Podria deberse a cortes en esa autopista y por lo tanto no hubo circulacion, o a otras razones similares. Pero a los fines de la prediccion a futuro esto no es relevante por lo que vamos a imputar los datos con la media del dia de la semana al que corresponden"
      ]
    },
    {
      "cell_type": "code",
      "execution_count": 23,
      "metadata": {},
      "outputs": [],
      "source": [
        "dia_fecha1 = dataset.copy()\n",
        "dia_fecha1['fecha2'] = pd.to_datetime(dataset.fecha)\n",
        "dia_fecha = dia_fecha1.set_index('fecha2')['dia'].to_dict()"
      ]
    },
    {
      "cell_type": "code",
      "execution_count": 24,
      "metadata": {},
      "outputs": [
        {
          "data": {
            "text/html": [
              "<div>\n",
              "<style scoped>\n",
              "    .dataframe tbody tr th:only-of-type {\n",
              "        vertical-align: middle;\n",
              "    }\n",
              "\n",
              "    .dataframe tbody tr th {\n",
              "        vertical-align: top;\n",
              "    }\n",
              "\n",
              "    .dataframe thead th {\n",
              "        text-align: right;\n",
              "    }\n",
              "</style>\n",
              "<table border=\"1\" class=\"dataframe\">\n",
              "  <thead>\n",
              "    <tr style=\"text-align: right;\">\n",
              "      <th></th>\n",
              "      <th>cantidad_pasos</th>\n",
              "      <th>dia</th>\n",
              "    </tr>\n",
              "    <tr>\n",
              "      <th>fecha</th>\n",
              "      <th></th>\n",
              "      <th></th>\n",
              "    </tr>\n",
              "  </thead>\n",
              "  <tbody>\n",
              "    <tr>\n",
              "      <th>2018-06-25</th>\n",
              "      <td>0</td>\n",
              "      <td>Lunes</td>\n",
              "    </tr>\n",
              "    <tr>\n",
              "      <th>2018-09-25</th>\n",
              "      <td>0</td>\n",
              "      <td>Martes</td>\n",
              "    </tr>\n",
              "    <tr>\n",
              "      <th>2018-11-30</th>\n",
              "      <td>0</td>\n",
              "      <td>Viernes</td>\n",
              "    </tr>\n",
              "    <tr>\n",
              "      <th>2019-05-29</th>\n",
              "      <td>0</td>\n",
              "      <td>Miércoles</td>\n",
              "    </tr>\n",
              "    <tr>\n",
              "      <th>2017-04-06</th>\n",
              "      <td>40</td>\n",
              "      <td>Jueves</td>\n",
              "    </tr>\n",
              "    <tr>\n",
              "      <th>2018-12-01</th>\n",
              "      <td>350</td>\n",
              "      <td>Sábado</td>\n",
              "    </tr>\n",
              "    <tr>\n",
              "      <th>2019-01-13</th>\n",
              "      <td>18076</td>\n",
              "      <td>Domingo</td>\n",
              "    </tr>\n",
              "    <tr>\n",
              "      <th>2018-11-29</th>\n",
              "      <td>19728</td>\n",
              "      <td>Jueves</td>\n",
              "    </tr>\n",
              "    <tr>\n",
              "      <th>2019-12-01</th>\n",
              "      <td>20553</td>\n",
              "      <td>Domingo</td>\n",
              "    </tr>\n",
              "    <tr>\n",
              "      <th>2019-12-31</th>\n",
              "      <td>21447</td>\n",
              "      <td>Martes</td>\n",
              "    </tr>\n",
              "  </tbody>\n",
              "</table>\n",
              "</div>"
            ],
            "text/plain": [
              "            cantidad_pasos        dia\n",
              "fecha                                \n",
              "2018-06-25               0      Lunes\n",
              "2018-09-25               0     Martes\n",
              "2018-11-30               0    Viernes\n",
              "2019-05-29               0  Miércoles\n",
              "2017-04-06              40     Jueves\n",
              "2018-12-01             350     Sábado\n",
              "2019-01-13           18076    Domingo\n",
              "2018-11-29           19728     Jueves\n",
              "2019-12-01           20553    Domingo\n",
              "2019-12-31           21447     Martes"
            ]
          },
          "execution_count": 24,
          "metadata": {},
          "output_type": "execute_result"
        }
      ],
      "source": [
        "diario['dia']=np.nan\n",
        "diario.dia.fillna(dia_fecha,inplace=True)\n",
        "diario.loc['2018-06-25','dia'] ='Lunes'\n",
        "diario.loc['2018-09-25','dia'] ='Martes'\n",
        "diario.loc['2018-11-30','dia']='Viernes'\n",
        "diario.loc['2019-05-29','dia']='Miércoles'\n",
        "diario.head(10)"
      ]
    },
    {
      "cell_type": "code",
      "execution_count": 25,
      "metadata": {},
      "outputs": [
        {
          "data": {
            "text/html": [
              "<div>\n",
              "<style scoped>\n",
              "    .dataframe tbody tr th:only-of-type {\n",
              "        vertical-align: middle;\n",
              "    }\n",
              "\n",
              "    .dataframe tbody tr th {\n",
              "        vertical-align: top;\n",
              "    }\n",
              "\n",
              "    .dataframe thead th {\n",
              "        text-align: right;\n",
              "    }\n",
              "</style>\n",
              "<table border=\"1\" class=\"dataframe\">\n",
              "  <thead>\n",
              "    <tr style=\"text-align: right;\">\n",
              "      <th></th>\n",
              "      <th>cantidad_pasos</th>\n",
              "      <th>dia</th>\n",
              "    </tr>\n",
              "    <tr>\n",
              "      <th>fecha</th>\n",
              "      <th></th>\n",
              "      <th></th>\n",
              "    </tr>\n",
              "  </thead>\n",
              "  <tbody>\n",
              "    <tr>\n",
              "      <th>2018-06-25</th>\n",
              "      <td>NaN</td>\n",
              "      <td>Lunes</td>\n",
              "    </tr>\n",
              "    <tr>\n",
              "      <th>2018-09-25</th>\n",
              "      <td>NaN</td>\n",
              "      <td>Martes</td>\n",
              "    </tr>\n",
              "    <tr>\n",
              "      <th>2018-11-30</th>\n",
              "      <td>NaN</td>\n",
              "      <td>Viernes</td>\n",
              "    </tr>\n",
              "    <tr>\n",
              "      <th>2019-05-29</th>\n",
              "      <td>NaN</td>\n",
              "      <td>Miércoles</td>\n",
              "    </tr>\n",
              "    <tr>\n",
              "      <th>2017-04-06</th>\n",
              "      <td>NaN</td>\n",
              "      <td>Jueves</td>\n",
              "    </tr>\n",
              "    <tr>\n",
              "      <th>2018-12-01</th>\n",
              "      <td>NaN</td>\n",
              "      <td>Sábado</td>\n",
              "    </tr>\n",
              "    <tr>\n",
              "      <th>2019-01-13</th>\n",
              "      <td>18076.0</td>\n",
              "      <td>Domingo</td>\n",
              "    </tr>\n",
              "    <tr>\n",
              "      <th>2018-11-29</th>\n",
              "      <td>19728.0</td>\n",
              "      <td>Jueves</td>\n",
              "    </tr>\n",
              "    <tr>\n",
              "      <th>2019-12-01</th>\n",
              "      <td>20553.0</td>\n",
              "      <td>Domingo</td>\n",
              "    </tr>\n",
              "    <tr>\n",
              "      <th>2019-12-31</th>\n",
              "      <td>21447.0</td>\n",
              "      <td>Martes</td>\n",
              "    </tr>\n",
              "  </tbody>\n",
              "</table>\n",
              "</div>"
            ],
            "text/plain": [
              "            cantidad_pasos        dia\n",
              "fecha                                \n",
              "2018-06-25             NaN      Lunes\n",
              "2018-09-25             NaN     Martes\n",
              "2018-11-30             NaN    Viernes\n",
              "2019-05-29             NaN  Miércoles\n",
              "2017-04-06             NaN     Jueves\n",
              "2018-12-01             NaN     Sábado\n",
              "2019-01-13         18076.0    Domingo\n",
              "2018-11-29         19728.0     Jueves\n",
              "2019-12-01         20553.0    Domingo\n",
              "2019-12-31         21447.0     Martes"
            ]
          },
          "execution_count": 25,
          "metadata": {},
          "output_type": "execute_result"
        }
      ],
      "source": [
        "lista=diario.index[:6]\n",
        "diario.loc[lista,'cantidad_pasos'] =np.nan\n",
        "diario.head(10)"
      ]
    },
    {
      "cell_type": "code",
      "execution_count": 26,
      "metadata": {},
      "outputs": [
        {
          "data": {
            "text/plain": [
              "{'Domingo': 36891.47133757962,\n",
              " 'Jueves': 47110.50967741935,\n",
              " 'Lunes': 42893.506410256414,\n",
              " 'Martes': 44009.942307692305,\n",
              " 'Miércoles': 45971.13548387097,\n",
              " 'Sábado': 41557.1935483871,\n",
              " 'Viernes': 49337.23870967742}"
            ]
          },
          "execution_count": 26,
          "metadata": {},
          "output_type": "execute_result"
        }
      ],
      "source": [
        "prom_dia = diario.groupby(['dia']).mean('cantidad_pasos').to_dict()['cantidad_pasos']\n",
        "prom_dia"
      ]
    },
    {
      "cell_type": "code",
      "execution_count": 27,
      "metadata": {},
      "outputs": [
        {
          "data": {
            "text/html": [
              "<div>\n",
              "<style scoped>\n",
              "    .dataframe tbody tr th:only-of-type {\n",
              "        vertical-align: middle;\n",
              "    }\n",
              "\n",
              "    .dataframe tbody tr th {\n",
              "        vertical-align: top;\n",
              "    }\n",
              "\n",
              "    .dataframe thead th {\n",
              "        text-align: right;\n",
              "    }\n",
              "</style>\n",
              "<table border=\"1\" class=\"dataframe\">\n",
              "  <thead>\n",
              "    <tr style=\"text-align: right;\">\n",
              "      <th></th>\n",
              "      <th>cantidad_pasos</th>\n",
              "    </tr>\n",
              "    <tr>\n",
              "      <th>fecha</th>\n",
              "      <th></th>\n",
              "    </tr>\n",
              "  </thead>\n",
              "  <tbody>\n",
              "    <tr>\n",
              "      <th>2017-01-01</th>\n",
              "      <td>31183.0</td>\n",
              "    </tr>\n",
              "    <tr>\n",
              "      <th>2017-01-02</th>\n",
              "      <td>51568.0</td>\n",
              "    </tr>\n",
              "    <tr>\n",
              "      <th>2017-01-03</th>\n",
              "      <td>51093.0</td>\n",
              "    </tr>\n",
              "    <tr>\n",
              "      <th>2017-01-04</th>\n",
              "      <td>53332.0</td>\n",
              "    </tr>\n",
              "    <tr>\n",
              "      <th>2017-01-05</th>\n",
              "      <td>56486.0</td>\n",
              "    </tr>\n",
              "    <tr>\n",
              "      <th>...</th>\n",
              "      <td>...</td>\n",
              "    </tr>\n",
              "    <tr>\n",
              "      <th>2019-12-27</th>\n",
              "      <td>40182.0</td>\n",
              "    </tr>\n",
              "    <tr>\n",
              "      <th>2019-12-28</th>\n",
              "      <td>30681.0</td>\n",
              "    </tr>\n",
              "    <tr>\n",
              "      <th>2019-12-29</th>\n",
              "      <td>26259.0</td>\n",
              "    </tr>\n",
              "    <tr>\n",
              "      <th>2019-12-30</th>\n",
              "      <td>34523.0</td>\n",
              "    </tr>\n",
              "    <tr>\n",
              "      <th>2019-12-31</th>\n",
              "      <td>21447.0</td>\n",
              "    </tr>\n",
              "  </tbody>\n",
              "</table>\n",
              "<p>1095 rows × 1 columns</p>\n",
              "</div>"
            ],
            "text/plain": [
              "            cantidad_pasos\n",
              "fecha                     \n",
              "2017-01-01         31183.0\n",
              "2017-01-02         51568.0\n",
              "2017-01-03         51093.0\n",
              "2017-01-04         53332.0\n",
              "2017-01-05         56486.0\n",
              "...                    ...\n",
              "2019-12-27         40182.0\n",
              "2019-12-28         30681.0\n",
              "2019-12-29         26259.0\n",
              "2019-12-30         34523.0\n",
              "2019-12-31         21447.0\n",
              "\n",
              "[1095 rows x 1 columns]"
            ]
          },
          "execution_count": 27,
          "metadata": {},
          "output_type": "execute_result"
        }
      ],
      "source": [
        "diario.reset_index(drop=False,inplace=True)\n",
        "diario.set_index('dia',inplace=True)\n",
        "diario.cantidad_pasos.fillna(prom_dia,inplace=True)\n",
        "diario.sort_values('fecha', inplace = True)\n",
        "diario.set_index('fecha',inplace=True)\n",
        "diario"
      ]
    },
    {
      "cell_type": "code",
      "execution_count": 28,
      "metadata": {},
      "outputs": [
        {
          "data": {
            "image/png": "[encoded data removed]",
            "text/plain": [
              "<Figure size 1080x432 with 1 Axes>"
            ]
          },
          "metadata": {
            "needs_background": "light"
          },
          "output_type": "display_data"
        }
      ],
      "source": [
        "plt.figure(figsize = (15,6))\n",
        "plt.plot(diario.index, diario.cantidad_pasos)\n",
        "plt.xlabel('Tiempo')\n",
        "plt.ylabel('Cantidad de autos, por dia')\n",
        "plt.show()"
      ]
    },
    {
      "cell_type": "code",
      "execution_count": 29,
      "metadata": {},
      "outputs": [
        {
          "data": {
            "text/plain": [
              "<AxesSubplot:xlabel='cantidad_pasos'>"
            ]
          },
          "execution_count": 29,
          "metadata": {},
          "output_type": "execute_result"
        },
        {
          "data": {
            "image/png": "[encoded data removed]",
            "text/plain": [
              "<Figure size 1080x576 with 2 Axes>"
            ]
          },
          "metadata": {
            "needs_background": "light"
          },
          "output_type": "display_data"
        }
      ],
      "source": [
        "#Graficamos la distribucion\n",
        "plt.figure(figsize=(15,8))\n",
        "\n",
        "plt.subplot(2,1,1)\n",
        "sns.histplot(data=diario,x='cantidad_pasos')\n",
        "\n",
        "plt.subplot(2,1,2)\n",
        "sns.boxplot(data = diario, x = 'cantidad_pasos', color = 'green')"
      ]
    },
    {
      "cell_type": "code",
      "execution_count": 30,
      "metadata": {
        "id": "vfwxE2VXId3O"
      },
      "outputs": [
        {
          "data": {
            "text/html": [
              "<div>\n",
              "<style scoped>\n",
              "    .dataframe tbody tr th:only-of-type {\n",
              "        vertical-align: middle;\n",
              "    }\n",
              "\n",
              "    .dataframe tbody tr th {\n",
              "        vertical-align: top;\n",
              "    }\n",
              "\n",
              "    .dataframe thead th {\n",
              "        text-align: right;\n",
              "    }\n",
              "</style>\n",
              "<table border=\"1\" class=\"dataframe\">\n",
              "  <thead>\n",
              "    <tr style=\"text-align: right;\">\n",
              "      <th></th>\n",
              "      <th>cantidad_pasos</th>\n",
              "    </tr>\n",
              "    <tr>\n",
              "      <th>dia</th>\n",
              "      <th></th>\n",
              "    </tr>\n",
              "  </thead>\n",
              "  <tbody>\n",
              "    <tr>\n",
              "      <th>Viernes</th>\n",
              "      <td>7647272</td>\n",
              "    </tr>\n",
              "    <tr>\n",
              "      <th>Jueves</th>\n",
              "      <td>7302169</td>\n",
              "    </tr>\n",
              "    <tr>\n",
              "      <th>Miércoles</th>\n",
              "      <td>7125526</td>\n",
              "    </tr>\n",
              "    <tr>\n",
              "      <th>Martes</th>\n",
              "      <td>6865551</td>\n",
              "    </tr>\n",
              "    <tr>\n",
              "      <th>Lunes</th>\n",
              "      <td>6691387</td>\n",
              "    </tr>\n",
              "    <tr>\n",
              "      <th>Sábado</th>\n",
              "      <td>6441715</td>\n",
              "    </tr>\n",
              "    <tr>\n",
              "      <th>Domingo</th>\n",
              "      <td>5791961</td>\n",
              "    </tr>\n",
              "  </tbody>\n",
              "</table>\n",
              "</div>"
            ],
            "text/plain": [
              "           cantidad_pasos\n",
              "dia                      \n",
              "Viernes           7647272\n",
              "Jueves            7302169\n",
              "Miércoles         7125526\n",
              "Martes            6865551\n",
              "Lunes             6691387\n",
              "Sábado            6441715\n",
              "Domingo           5791961"
            ]
          },
          "execution_count": 30,
          "metadata": {},
          "output_type": "execute_result"
        }
      ],
      "source": [
        "#Vemos cual es el dia de la semana que tiene mas circulacion\n",
        "por_dia = dataset1.groupby(['dia']).sum('cantidad_pasos')\n",
        "por_dia.sort_values('cantidad_pasos',ascending=False, inplace=True)\n",
        "por_dia"
      ]
    },
    {
      "cell_type": "code",
      "execution_count": 31,
      "metadata": {},
      "outputs": [
        {
          "data": {
            "image/png": "[encoded data removed]",
            "text/plain": [
              "<Figure size 720x360 with 1 Axes>"
            ]
          },
          "metadata": {
            "needs_background": "light"
          },
          "output_type": "display_data"
        }
      ],
      "source": [
        "#Graficamos\n",
        "plt.figure(figsize=(10,5))\n",
        "sns.barplot(data=por_dia, x=por_dia.index, y='cantidad_pasos', palette='cool')\n",
        "plt.title('Cantidad de pasos segun el dia de la semana')\n",
        "plt.show()"
      ]
    },
    {
      "cell_type": "code",
      "execution_count": 32,
      "metadata": {},
      "outputs": [
        {
          "data": {
            "text/html": [
              "<div>\n",
              "<style scoped>\n",
              "    .dataframe tbody tr th:only-of-type {\n",
              "        vertical-align: middle;\n",
              "    }\n",
              "\n",
              "    .dataframe tbody tr th {\n",
              "        vertical-align: top;\n",
              "    }\n",
              "\n",
              "    .dataframe thead th {\n",
              "        text-align: right;\n",
              "    }\n",
              "</style>\n",
              "<table border=\"1\" class=\"dataframe\">\n",
              "  <thead>\n",
              "    <tr style=\"text-align: right;\">\n",
              "      <th></th>\n",
              "      <th>cantidad_pasos</th>\n",
              "    </tr>\n",
              "    <tr>\n",
              "      <th>hora_fin</th>\n",
              "      <th></th>\n",
              "    </tr>\n",
              "  </thead>\n",
              "  <tbody>\n",
              "    <tr>\n",
              "      <th>0</th>\n",
              "      <td>1057141</td>\n",
              "    </tr>\n",
              "    <tr>\n",
              "      <th>1</th>\n",
              "      <td>879116</td>\n",
              "    </tr>\n",
              "    <tr>\n",
              "      <th>2</th>\n",
              "      <td>614594</td>\n",
              "    </tr>\n",
              "    <tr>\n",
              "      <th>3</th>\n",
              "      <td>429898</td>\n",
              "    </tr>\n",
              "    <tr>\n",
              "      <th>4</th>\n",
              "      <td>334860</td>\n",
              "    </tr>\n",
              "    <tr>\n",
              "      <th>5</th>\n",
              "      <td>411330</td>\n",
              "    </tr>\n",
              "    <tr>\n",
              "      <th>6</th>\n",
              "      <td>781617</td>\n",
              "    </tr>\n",
              "    <tr>\n",
              "      <th>7</th>\n",
              "      <td>1564013</td>\n",
              "    </tr>\n",
              "    <tr>\n",
              "      <th>8</th>\n",
              "      <td>2276977</td>\n",
              "    </tr>\n",
              "    <tr>\n",
              "      <th>9</th>\n",
              "      <td>2476701</td>\n",
              "    </tr>\n",
              "    <tr>\n",
              "      <th>10</th>\n",
              "      <td>2471790</td>\n",
              "    </tr>\n",
              "    <tr>\n",
              "      <th>11</th>\n",
              "      <td>2551110</td>\n",
              "    </tr>\n",
              "    <tr>\n",
              "      <th>12</th>\n",
              "      <td>2729369</td>\n",
              "    </tr>\n",
              "    <tr>\n",
              "      <th>13</th>\n",
              "      <td>2907990</td>\n",
              "    </tr>\n",
              "    <tr>\n",
              "      <th>14</th>\n",
              "      <td>3005578</td>\n",
              "    </tr>\n",
              "    <tr>\n",
              "      <th>15</th>\n",
              "      <td>2933388</td>\n",
              "    </tr>\n",
              "    <tr>\n",
              "      <th>16</th>\n",
              "      <td>2969568</td>\n",
              "    </tr>\n",
              "    <tr>\n",
              "      <th>17</th>\n",
              "      <td>2993721</td>\n",
              "    </tr>\n",
              "    <tr>\n",
              "      <th>18</th>\n",
              "      <td>3115036</td>\n",
              "    </tr>\n",
              "    <tr>\n",
              "      <th>19</th>\n",
              "      <td>3071455</td>\n",
              "    </tr>\n",
              "    <tr>\n",
              "      <th>20</th>\n",
              "      <td>2661885</td>\n",
              "    </tr>\n",
              "    <tr>\n",
              "      <th>21</th>\n",
              "      <td>2339949</td>\n",
              "    </tr>\n",
              "    <tr>\n",
              "      <th>22</th>\n",
              "      <td>1875810</td>\n",
              "    </tr>\n",
              "    <tr>\n",
              "      <th>23</th>\n",
              "      <td>1412685</td>\n",
              "    </tr>\n",
              "  </tbody>\n",
              "</table>\n",
              "</div>"
            ],
            "text/plain": [
              "          cantidad_pasos\n",
              "hora_fin                \n",
              "0                1057141\n",
              "1                 879116\n",
              "2                 614594\n",
              "3                 429898\n",
              "4                 334860\n",
              "5                 411330\n",
              "6                 781617\n",
              "7                1564013\n",
              "8                2276977\n",
              "9                2476701\n",
              "10               2471790\n",
              "11               2551110\n",
              "12               2729369\n",
              "13               2907990\n",
              "14               3005578\n",
              "15               2933388\n",
              "16               2969568\n",
              "17               2993721\n",
              "18               3115036\n",
              "19               3071455\n",
              "20               2661885\n",
              "21               2339949\n",
              "22               1875810\n",
              "23               1412685"
            ]
          },
          "execution_count": 32,
          "metadata": {},
          "output_type": "execute_result"
        }
      ],
      "source": [
        "#Utiizamos la variable dataset para ver saber culaes son las horas con mas circulacion\n",
        "por_hora = dataset.groupby('hora_fin').sum('cantidad_pasos')\n",
        "por_hora"
      ]
    },
    {
      "cell_type": "code",
      "execution_count": 33,
      "metadata": {},
      "outputs": [
        {
          "data": {
            "image/png": "[encoded data removed]",
            "text/plain": [
              "<Figure size 720x360 with 1 Axes>"
            ]
          },
          "metadata": {
            "needs_background": "light"
          },
          "output_type": "display_data"
        }
      ],
      "source": [
        "#Graficamos\n",
        "plt.figure(figsize=(10,5))\n",
        "sns.barplot(data=por_hora, x=por_hora.index, y='cantidad_pasos', palette='cool')\n",
        "plt.title('Cantidad de pasos segun la hora del dia')\n",
        "plt.show()"
      ]
    },
    {
      "cell_type": "markdown",
      "metadata": {},
      "source": [
        "Vemos un resampleo semanal"
      ]
    },
    {
      "cell_type": "code",
      "execution_count": 34,
      "metadata": {},
      "outputs": [],
      "source": [
        "diario.reset_index(drop=False,inplace=True)"
      ]
    },
    {
      "cell_type": "code",
      "execution_count": 35,
      "metadata": {},
      "outputs": [
        {
          "data": {
            "text/html": [
              "<div>\n",
              "<style scoped>\n",
              "    .dataframe tbody tr th:only-of-type {\n",
              "        vertical-align: middle;\n",
              "    }\n",
              "\n",
              "    .dataframe tbody tr th {\n",
              "        vertical-align: top;\n",
              "    }\n",
              "\n",
              "    .dataframe thead th {\n",
              "        text-align: right;\n",
              "    }\n",
              "</style>\n",
              "<table border=\"1\" class=\"dataframe\">\n",
              "  <thead>\n",
              "    <tr style=\"text-align: right;\">\n",
              "      <th></th>\n",
              "      <th>cantidad_pasos</th>\n",
              "    </tr>\n",
              "    <tr>\n",
              "      <th>fecha</th>\n",
              "      <th></th>\n",
              "    </tr>\n",
              "  </thead>\n",
              "  <tbody>\n",
              "    <tr>\n",
              "      <th>2017-01-01</th>\n",
              "      <td>31183.0</td>\n",
              "    </tr>\n",
              "    <tr>\n",
              "      <th>2017-01-08</th>\n",
              "      <td>347212.0</td>\n",
              "    </tr>\n",
              "    <tr>\n",
              "      <th>2017-01-15</th>\n",
              "      <td>366413.0</td>\n",
              "    </tr>\n",
              "    <tr>\n",
              "      <th>2017-01-22</th>\n",
              "      <td>357215.0</td>\n",
              "    </tr>\n",
              "    <tr>\n",
              "      <th>2017-01-29</th>\n",
              "      <td>354581.0</td>\n",
              "    </tr>\n",
              "  </tbody>\n",
              "</table>\n",
              "</div>"
            ],
            "text/plain": [
              "            cantidad_pasos\n",
              "fecha                     \n",
              "2017-01-01         31183.0\n",
              "2017-01-08        347212.0\n",
              "2017-01-15        366413.0\n",
              "2017-01-22        357215.0\n",
              "2017-01-29        354581.0"
            ]
          },
          "execution_count": 35,
          "metadata": {},
          "output_type": "execute_result"
        }
      ],
      "source": [
        "semanal = diario.resample('W', on = 'fecha').sum()\n",
        "semanal.head()"
      ]
    },
    {
      "cell_type": "code",
      "execution_count": 76,
      "metadata": {},
      "outputs": [
        {
          "data": {
            "application/vnd.plotly.v1+json": {
              "config": {
                "plotlyServerURL": "https://plot.ly"
              },
              "data": [
                {
                  "hovertemplate": "variable=cantidad_pasos<br>fecha=%{x}<br>value=%{y}<extra></extra>",
                  "legendgroup": "cantidad_pasos",
                  "line": {
                    "color": "#636efa",
                    "dash": "solid"
                  },
                  "marker": {
                    "symbol": "circle"
                  },
                  "mode": "lines",
                  "name": "cantidad_pasos",
                  "orientation": "v",
                  "showlegend": true,
                  "type": "scatter",
                  "x": [
                    "2017-01-01T00:00:00",
                    "2017-01-08T00:00:00",
                    "2017-01-15T00:00:00",
                    "2017-01-22T00:00:00",
                    "2017-01-29T00:00:00",
                    "2017-02-05T00:00:00",
                    "2017-02-12T00:00:00",
                    "2017-02-19T00:00:00",
                    "2017-02-26T00:00:00",
                    "2017-03-05T00:00:00",
                    "2017-03-12T00:00:00",
                    "2017-03-19T00:00:00",
                    "2017-03-26T00:00:00",
                    "2017-04-02T00:00:00",
                    "2017-04-09T00:00:00",
                    "2017-04-16T00:00:00",
                    "2017-04-23T00:00:00",
                    "2017-04-30T00:00:00",
                    "2017-05-07T00:00:00",
                    "2017-05-14T00:00:00",
                    "2017-05-21T00:00:00",
                    "2017-05-28T00:00:00",
                    "2017-06-04T00:00:00",
                    "2017-06-11T00:00:00",
                    "2017-06-18T00:00:00",
                    "2017-06-25T00:00:00",
                    "2017-07-02T00:00:00",
                    "2017-07-09T00:00:00",
                    "2017-07-16T00:00:00",
                    "2017-07-23T00:00:00",
                    "2017-07-30T00:00:00",
                    "2017-08-06T00:00:00",
                    "2017-08-13T00:00:00",
                    "2017-08-20T00:00:00",
                    "2017-08-27T00:00:00",
                    "2017-09-03T00:00:00",
                    "2017-09-10T00:00:00",
                    "2017-09-17T00:00:00",
                    "2017-09-24T00:00:00",
                    "2017-10-01T00:00:00",
                    "2017-10-08T00:00:00",
                    "2017-10-15T00:00:00",
                    "2017-10-22T00:00:00",
                    "2017-10-29T00:00:00",
                    "2017-11-05T00:00:00",
                    "2017-11-12T00:00:00",
                    "2017-11-19T00:00:00",
                    "2017-11-26T00:00:00",
                    "2017-12-03T00:00:00",
                    "2017-12-10T00:00:00",
                    "2017-12-17T00:00:00",
                    "2017-12-24T00:00:00",
                    "2017-12-31T00:00:00",
                    "2018-01-07T00:00:00",
                    "2018-01-14T00:00:00",
                    "2018-01-21T00:00:00",
                    "2018-01-28T00:00:00",
                    "2018-02-04T00:00:00",
                    "2018-02-11T00:00:00",
                    "2018-02-18T00:00:00",
                    "2018-02-25T00:00:00",
                    "2018-03-04T00:00:00",
                    "2018-03-11T00:00:00",
                    "2018-03-18T00:00:00",
                    "2018-03-25T00:00:00",
                    "2018-04-01T00:00:00",
                    "2018-04-08T00:00:00",
                    "2018-04-15T00:00:00",
                    "2018-04-22T00:00:00",
                    "2018-04-29T00:00:00",
                    "2018-05-06T00:00:00",
                    "2018-05-13T00:00:00",
                    "2018-05-20T00:00:00",
                    "2018-05-27T00:00:00",
                    "2018-06-03T00:00:00",
                    "2018-06-10T00:00:00",
                    "2018-06-17T00:00:00",
                    "2018-06-24T00:00:00",
                    "2018-07-01T00:00:00",
                    "2018-07-08T00:00:00",
                    "2018-07-15T00:00:00",
                    "2018-07-22T00:00:00",
                    "2018-07-29T00:00:00",
                    "2018-08-05T00:00:00",
                    "2018-08-12T00:00:00",
                    "2018-08-19T00:00:00",
                    "2018-08-26T00:00:00",
                    "2018-09-02T00:00:00",
                    "2018-09-09T00:00:00",
                    "2018-09-16T00:00:00",
                    "2018-09-23T00:00:00",
                    "2018-09-30T00:00:00",
                    "2018-10-07T00:00:00",
                    "2018-10-14T00:00:00",
                    "2018-10-21T00:00:00",
                    "2018-10-28T00:00:00",
                    "2018-11-04T00:00:00",
                    "2018-11-11T00:00:00",
                    "2018-11-18T00:00:00",
                    "2018-11-25T00:00:00",
                    "2018-12-02T00:00:00",
                    "2018-12-09T00:00:00",
                    "2018-12-16T00:00:00",
                    "2018-12-23T00:00:00",
                    "2018-12-30T00:00:00",
                    "2019-01-06T00:00:00",
                    "2019-01-13T00:00:00",
                    "2019-01-20T00:00:00",
                    "2019-01-27T00:00:00",
                    "2019-02-03T00:00:00",
                    "2019-02-10T00:00:00",
                    "2019-02-17T00:00:00",
                    "2019-02-24T00:00:00",
                    "2019-03-03T00:00:00",
                    "2019-03-10T00:00:00",
                    "2019-03-17T00:00:00",
                    "2019-03-24T00:00:00",
                    "2019-03-31T00:00:00",
                    "2019-04-07T00:00:00",
                    "2019-04-14T00:00:00",
                    "2019-04-21T00:00:00",
                    "2019-04-28T00:00:00",
                    "2019-05-05T00:00:00",
                    "2019-05-12T00:00:00",
                    "2019-05-19T00:00:00",
                    "2019-05-26T00:00:00",
                    "2019-06-02T00:00:00",
                    "2019-06-09T00:00:00",
                    "2019-06-16T00:00:00",
                    "2019-06-23T00:00:00",
                    "2019-06-30T00:00:00",
                    "2019-07-07T00:00:00",
                    "2019-07-14T00:00:00",
                    "2019-07-21T00:00:00",
                    "2019-07-28T00:00:00",
                    "2019-08-04T00:00:00",
                    "2019-08-11T00:00:00",
                    "2019-08-18T00:00:00",
                    "2019-08-25T00:00:00",
                    "2019-09-01T00:00:00",
                    "2019-09-08T00:00:00",
                    "2019-09-15T00:00:00",
                    "2019-09-22T00:00:00",
                    "2019-09-29T00:00:00",
                    "2019-10-06T00:00:00",
                    "2019-10-13T00:00:00",
                    "2019-10-20T00:00:00",
                    "2019-10-27T00:00:00",
                    "2019-11-03T00:00:00",
                    "2019-11-10T00:00:00",
                    "2019-11-17T00:00:00",
                    "2019-11-24T00:00:00",
                    "2019-12-01T00:00:00",
                    "2019-12-08T00:00:00",
                    "2019-12-15T00:00:00",
                    "2019-12-22T00:00:00",
                    "2019-12-29T00:00:00",
                    "2020-01-05T00:00:00"
                  ],
                  "xaxis": "x",
                  "y": [
                    31183,
                    347212,
                    366413,
                    357215,
                    354581,
                    359401,
                    363774,
                    343877,
                    335395,
                    304908,
                    321494,
                    330794,
                    319083,
                    333297,
                    333932.5096774193,
                    304912,
                    342225,
                    350946,
                    325875,
                    309072,
                    324240,
                    307054,
                    319937,
                    335147,
                    328122,
                    316651,
                    335900,
                    323159,
                    347770,
                    357156,
                    342240,
                    345164,
                    334245,
                    337243,
                    316987,
                    337659,
                    337933,
                    374520,
                    353999,
                    357671,
                    369918,
                    377832,
                    342571,
                    366650,
                    353947,
                    375644,
                    377263,
                    359053,
                    371970,
                    364991,
                    365063,
                    327602,
                    309692,
                    300242,
                    315780,
                    328359,
                    327887,
                    340275,
                    348044,
                    318733,
                    325966,
                    349768,
                    346506,
                    352713,
                    361465,
                    325545,
                    323725,
                    339255,
                    325904,
                    322154,
                    287470,
                    324115,
                    325304,
                    310709,
                    307369,
                    314291,
                    296834,
                    288154,
                    296700.50641025644,
                    310012,
                    312335,
                    314517,
                    294270,
                    300955,
                    301407,
                    308307,
                    290940,
                    293436,
                    298932,
                    284913,
                    295210,
                    281516.9423076923,
                    247986,
                    312089,
                    296381,
                    304897,
                    307134,
                    294310,
                    307352,
                    288934,
                    270872.4322580645,
                    320481,
                    315645,
                    314832,
                    250861,
                    246994,
                    248077,
                    252617,
                    259019,
                    276568,
                    258204,
                    273664,
                    284439,
                    288919,
                    285547,
                    278834,
                    276714,
                    298638,
                    267797,
                    266745,
                    265423,
                    273282,
                    252104,
                    281283,
                    271796,
                    271232,
                    281272.135483871,
                    284432,
                    260940,
                    227123,
                    271865,
                    280160,
                    274852,
                    291431,
                    284822,
                    287773,
                    273867,
                    274513,
                    265594,
                    279775,
                    276271,
                    272592,
                    279927,
                    287568,
                    272483,
                    260840,
                    267147,
                    262950,
                    273129,
                    270536,
                    281790,
                    264500,
                    266555,
                    282891,
                    272960,
                    292881,
                    226390,
                    55970
                  ],
                  "yaxis": "y"
                }
              ],
              "layout": {
                "legend": {
                  "title": {
                    "text": "variable"
                  },
                  "tracegroupgap": 0
                },
                "template": {
                  "data": {
                    "bar": [
                      {
                        "error_x": {
                          "color": "#2a3f5f"
                        },
                        "error_y": {
                          "color": "#2a3f5f"
                        },
                        "marker": {
                          "line": {
                            "color": "#E5ECF6",
                            "width": 0.5
                          },
                          "pattern": {
                            "fillmode": "overlay",
                            "size": 10,
                            "solidity": 0.2
                          }
                        },
                        "type": "bar"
                      }
                    ],
                    "barpolar": [
                      {
                        "marker": {
                          "line": {
                            "color": "#E5ECF6",
                            "width": 0.5
                          },
                          "pattern": {
                            "fillmode": "overlay",
                            "size": 10,
                            "solidity": 0.2
                          }
                        },
                        "type": "barpolar"
                      }
                    ],
                    "carpet": [
                      {
                        "aaxis": {
                          "endlinecolor": "#2a3f5f",
                          "gridcolor": "white",
                          "linecolor": "white",
                          "minorgridcolor": "white",
                          "startlinecolor": "#2a3f5f"
                        },
                        "baxis": {
                          "endlinecolor": "#2a3f5f",
                          "gridcolor": "white",
                          "linecolor": "white",
                          "minorgridcolor": "white",
                          "startlinecolor": "#2a3f5f"
                        },
                        "type": "carpet"
                      }
                    ],
                    "choropleth": [
                      {
                        "colorbar": {
                          "outlinewidth": 0,
                          "ticks": ""
                        },
                        "type": "choropleth"
                      }
                    ],
                    "contour": [
                      {
                        "colorbar": {
                          "outlinewidth": 0,
                          "ticks": ""
                        },
                        "colorscale": [
                          [
                            0,
                            "#0d0887"
                          ],
                          [
                            0.1111111111111111,
                            "#46039f"
                          ],
                          [
                            0.2222222222222222,
                            "#7201a8"
                          ],
                          [
                            0.3333333333333333,
                            "#9c179e"
                          ],
                          [
                            0.4444444444444444,
                            "#bd3786"
                          ],
                          [
                            0.5555555555555556,
                            "#d8576b"
                          ],
                          [
                            0.6666666666666666,
                            "#ed7953"
                          ],
                          [
                            0.7777777777777778,
                            "#fb9f3a"
                          ],
                          [
                            0.8888888888888888,
                            "#fdca26"
                          ],
                          [
                            1,
                            "#f0f921"
                          ]
                        ],
                        "type": "contour"
                      }
                    ],
                    "contourcarpet": [
                      {
                        "colorbar": {
                          "outlinewidth": 0,
                          "ticks": ""
                        },
                        "type": "contourcarpet"
                      }
                    ],
                    "heatmap": [
                      {
                        "colorbar": {
                          "outlinewidth": 0,
                          "ticks": ""
                        },
                        "colorscale": [
                          [
                            0,
                            "#0d0887"
                          ],
                          [
                            0.1111111111111111,
                            "#46039f"
                          ],
                          [
                            0.2222222222222222,
                            "#7201a8"
                          ],
                          [
                            0.3333333333333333,
                            "#9c179e"
                          ],
                          [
                            0.4444444444444444,
                            "#bd3786"
                          ],
                          [
                            0.5555555555555556,
                            "#d8576b"
                          ],
                          [
                            0.6666666666666666,
                            "#ed7953"
                          ],
                          [
                            0.7777777777777778,
                            "#fb9f3a"
                          ],
                          [
                            0.8888888888888888,
                            "#fdca26"
                          ],
                          [
                            1,
                            "#f0f921"
                          ]
                        ],
                        "type": "heatmap"
                      }
                    ],
                    "heatmapgl": [
                      {
                        "colorbar": {
                          "outlinewidth": 0,
                          "ticks": ""
                        },
                        "colorscale": [
                          [
                            0,
                            "#0d0887"
                          ],
                          [
                            0.1111111111111111,
                            "#46039f"
                          ],
                          [
                            0.2222222222222222,
                            "#7201a8"
                          ],
                          [
                            0.3333333333333333,
                            "#9c179e"
                          ],
                          [
                            0.4444444444444444,
                            "#bd3786"
                          ],
                          [
                            0.5555555555555556,
                            "#d8576b"
                          ],
                          [
                            0.6666666666666666,
                            "#ed7953"
                          ],
                          [
                            0.7777777777777778,
                            "#fb9f3a"
                          ],
                          [
                            0.8888888888888888,
                            "#fdca26"
                          ],
                          [
                            1,
                            "#f0f921"
                          ]
                        ],
                        "type": "heatmapgl"
                      }
                    ],
                    "histogram": [
                      {
                        "marker": {
                          "pattern": {
                            "fillmode": "overlay",
                            "size": 10,
                            "solidity": 0.2
                          }
                        },
                        "type": "histogram"
                      }
                    ],
                    "histogram2d": [
                      {
                        "colorbar": {
                          "outlinewidth": 0,
                          "ticks": ""
                        },
                        "colorscale": [
                          [
                            0,
                            "#0d0887"
                          ],
                          [
                            0.1111111111111111,
                            "#46039f"
                          ],
                          [
                            0.2222222222222222,
                            "#7201a8"
                          ],
                          [
                            0.3333333333333333,
                            "#9c179e"
                          ],
                          [
                            0.4444444444444444,
                            "#bd3786"
                          ],
                          [
                            0.5555555555555556,
                            "#d8576b"
                          ],
                          [
                            0.6666666666666666,
                            "#ed7953"
                          ],
                          [
                            0.7777777777777778,
                            "#fb9f3a"
                          ],
                          [
                            0.8888888888888888,
                            "#fdca26"
                          ],
                          [
                            1,
                            "#f0f921"
                          ]
                        ],
                        "type": "histogram2d"
                      }
                    ],
                    "histogram2dcontour": [
                      {
                        "colorbar": {
                          "outlinewidth": 0,
                          "ticks": ""
                        },
                        "colorscale": [
                          [
                            0,
                            "#0d0887"
                          ],
                          [
                            0.1111111111111111,
                            "#46039f"
                          ],
                          [
                            0.2222222222222222,
                            "#7201a8"
                          ],
                          [
                            0.3333333333333333,
                            "#9c179e"
                          ],
                          [
                            0.4444444444444444,
                            "#bd3786"
                          ],
                          [
                            0.5555555555555556,
                            "#d8576b"
                          ],
                          [
                            0.6666666666666666,
                            "#ed7953"
                          ],
                          [
                            0.7777777777777778,
                            "#fb9f3a"
                          ],
                          [
                            0.8888888888888888,
                            "#fdca26"
                          ],
                          [
                            1,
                            "#f0f921"
                          ]
                        ],
                        "type": "histogram2dcontour"
                      }
                    ],
                    "mesh3d": [
                      {
                        "colorbar": {
                          "outlinewidth": 0,
                          "ticks": ""
                        },
                        "type": "mesh3d"
                      }
                    ],
                    "parcoords": [
                      {
                        "line": {
                          "colorbar": {
                            "outlinewidth": 0,
                            "ticks": ""
                          }
                        },
                        "type": "parcoords"
                      }
                    ],
                    "pie": [
                      {
                        "automargin": true,
                        "type": "pie"
                      }
                    ],
                    "scatter": [
                      {
                        "marker": {
                          "colorbar": {
                            "outlinewidth": 0,
                            "ticks": ""
                          }
                        },
                        "type": "scatter"
                      }
                    ],
                    "scatter3d": [
                      {
                        "line": {
                          "colorbar": {
                            "outlinewidth": 0,
                            "ticks": ""
                          }
                        },
                        "marker": {
                          "colorbar": {
                            "outlinewidth": 0,
                            "ticks": ""
                          }
                        },
                        "type": "scatter3d"
                      }
                    ],
                    "scattercarpet": [
                      {
                        "marker": {
                          "colorbar": {
                            "outlinewidth": 0,
                            "ticks": ""
                          }
                        },
                        "type": "scattercarpet"
                      }
                    ],
                    "scattergeo": [
                      {
                        "marker": {
                          "colorbar": {
                            "outlinewidth": 0,
                            "ticks": ""
                          }
                        },
                        "type": "scattergeo"
                      }
                    ],
                    "scattergl": [
                      {
                        "marker": {
                          "colorbar": {
                            "outlinewidth": 0,
                            "ticks": ""
                          }
                        },
                        "type": "scattergl"
                      }
                    ],
                    "scattermapbox": [
                      {
                        "marker": {
                          "colorbar": {
                            "outlinewidth": 0,
                            "ticks": ""
                          }
                        },
                        "type": "scattermapbox"
                      }
                    ],
                    "scatterpolar": [
                      {
                        "marker": {
                          "colorbar": {
                            "outlinewidth": 0,
                            "ticks": ""
                          }
                        },
                        "type": "scatterpolar"
                      }
                    ],
                    "scatterpolargl": [
                      {
                        "marker": {
                          "colorbar": {
                            "outlinewidth": 0,
                            "ticks": ""
                          }
                        },
                        "type": "scatterpolargl"
                      }
                    ],
                    "scatterternary": [
                      {
                        "marker": {
                          "colorbar": {
                            "outlinewidth": 0,
                            "ticks": ""
                          }
                        },
                        "type": "scatterternary"
                      }
                    ],
                    "surface": [
                      {
                        "colorbar": {
                          "outlinewidth": 0,
                          "ticks": ""
                        },
                        "colorscale": [
                          [
                            0,
                            "#0d0887"
                          ],
                          [
                            0.1111111111111111,
                            "#46039f"
                          ],
                          [
                            0.2222222222222222,
                            "#7201a8"
                          ],
                          [
                            0.3333333333333333,
                            "#9c179e"
                          ],
                          [
                            0.4444444444444444,
                            "#bd3786"
                          ],
                          [
                            0.5555555555555556,
                            "#d8576b"
                          ],
                          [
                            0.6666666666666666,
                            "#ed7953"
                          ],
                          [
                            0.7777777777777778,
                            "#fb9f3a"
                          ],
                          [
                            0.8888888888888888,
                            "#fdca26"
                          ],
                          [
                            1,
                            "#f0f921"
                          ]
                        ],
                        "type": "surface"
                      }
                    ],
                    "table": [
                      {
                        "cells": {
                          "fill": {
                            "color": "#EBF0F8"
                          },
                          "line": {
                            "color": "white"
                          }
                        },
                        "header": {
                          "fill": {
                            "color": "#C8D4E3"
                          },
                          "line": {
                            "color": "white"
                          }
                        },
                        "type": "table"
                      }
                    ]
                  },
                  "layout": {
                    "annotationdefaults": {
                      "arrowcolor": "#2a3f5f",
                      "arrowhead": 0,
                      "arrowwidth": 1
                    },
                    "autotypenumbers": "strict",
                    "coloraxis": {
                      "colorbar": {
                        "outlinewidth": 0,
                        "ticks": ""
                      }
                    },
                    "colorscale": {
                      "diverging": [
                        [
                          0,
                          "#8e0152"
                        ],
                        [
                          0.1,
                          "#c51b7d"
                        ],
                        [
                          0.2,
                          "#de77ae"
                        ],
                        [
                          0.3,
                          "#f1b6da"
                        ],
                        [
                          0.4,
                          "#fde0ef"
                        ],
                        [
                          0.5,
                          "#f7f7f7"
                        ],
                        [
                          0.6,
                          "#e6f5d0"
                        ],
                        [
                          0.7,
                          "#b8e186"
                        ],
                        [
                          0.8,
                          "#7fbc41"
                        ],
                        [
                          0.9,
                          "#4d9221"
                        ],
                        [
                          1,
                          "#276419"
                        ]
                      ],
                      "sequential": [
                        [
                          0,
                          "#0d0887"
                        ],
                        [
                          0.1111111111111111,
                          "#46039f"
                        ],
                        [
                          0.2222222222222222,
                          "#7201a8"
                        ],
                        [
                          0.3333333333333333,
                          "#9c179e"
                        ],
                        [
                          0.4444444444444444,
                          "#bd3786"
                        ],
                        [
                          0.5555555555555556,
                          "#d8576b"
                        ],
                        [
                          0.6666666666666666,
                          "#ed7953"
                        ],
                        [
                          0.7777777777777778,
                          "#fb9f3a"
                        ],
                        [
                          0.8888888888888888,
                          "#fdca26"
                        ],
                        [
                          1,
                          "#f0f921"
                        ]
                      ],
                      "sequentialminus": [
                        [
                          0,
                          "#0d0887"
                        ],
                        [
                          0.1111111111111111,
                          "#46039f"
                        ],
                        [
                          0.2222222222222222,
                          "#7201a8"
                        ],
                        [
                          0.3333333333333333,
                          "#9c179e"
                        ],
                        [
                          0.4444444444444444,
                          "#bd3786"
                        ],
                        [
                          0.5555555555555556,
                          "#d8576b"
                        ],
                        [
                          0.6666666666666666,
                          "#ed7953"
                        ],
                        [
                          0.7777777777777778,
                          "#fb9f3a"
                        ],
                        [
                          0.8888888888888888,
                          "#fdca26"
                        ],
                        [
                          1,
                          "#f0f921"
                        ]
                      ]
                    },
                    "colorway": [
                      "#636efa",
                      "#EF553B",
                      "#00cc96",
                      "#ab63fa",
                      "#FFA15A",
                      "#19d3f3",
                      "#FF6692",
                      "#B6E880",
                      "#FF97FF",
                      "#FECB52"
                    ],
                    "font": {
                      "color": "#2a3f5f"
                    },
                    "geo": {
                      "bgcolor": "white",
                      "lakecolor": "white",
                      "landcolor": "#E5ECF6",
                      "showlakes": true,
                      "showland": true,
                      "subunitcolor": "white"
                    },
                    "hoverlabel": {
                      "align": "left"
                    },
                    "hovermode": "closest",
                    "mapbox": {
                      "style": "light"
                    },
                    "paper_bgcolor": "white",
                    "plot_bgcolor": "#E5ECF6",
                    "polar": {
                      "angularaxis": {
                        "gridcolor": "white",
                        "linecolor": "white",
                        "ticks": ""
                      },
                      "bgcolor": "#E5ECF6",
                      "radialaxis": {
                        "gridcolor": "white",
                        "linecolor": "white",
                        "ticks": ""
                      }
                    },
                    "scene": {
                      "xaxis": {
                        "backgroundcolor": "#E5ECF6",
                        "gridcolor": "white",
                        "gridwidth": 2,
                        "linecolor": "white",
                        "showbackground": true,
                        "ticks": "",
                        "zerolinecolor": "white"
                      },
                      "yaxis": {
                        "backgroundcolor": "#E5ECF6",
                        "gridcolor": "white",
                        "gridwidth": 2,
                        "linecolor": "white",
                        "showbackground": true,
                        "ticks": "",
                        "zerolinecolor": "white"
                      },
                      "zaxis": {
                        "backgroundcolor": "#E5ECF6",
                        "gridcolor": "white",
                        "gridwidth": 2,
                        "linecolor": "white",
                        "showbackground": true,
                        "ticks": "",
                        "zerolinecolor": "white"
                      }
                    },
                    "shapedefaults": {
                      "line": {
                        "color": "#2a3f5f"
                      }
                    },
                    "ternary": {
                      "aaxis": {
                        "gridcolor": "white",
                        "linecolor": "white",
                        "ticks": ""
                      },
                      "baxis": {
                        "gridcolor": "white",
                        "linecolor": "white",
                        "ticks": ""
                      },
                      "bgcolor": "#E5ECF6",
                      "caxis": {
                        "gridcolor": "white",
                        "linecolor": "white",
                        "ticks": ""
                      }
                    },
                    "title": {
                      "x": 0.05
                    },
                    "xaxis": {
                      "automargin": true,
                      "gridcolor": "white",
                      "linecolor": "white",
                      "ticks": "",
                      "title": {
                        "standoff": 15
                      },
                      "zerolinecolor": "white",
                      "zerolinewidth": 2
                    },
                    "yaxis": {
                      "automargin": true,
                      "gridcolor": "white",
                      "linecolor": "white",
                      "ticks": "",
                      "title": {
                        "standoff": 15
                      },
                      "zerolinecolor": "white",
                      "zerolinewidth": 2
                    }
                  }
                },
                "title": {
                  "text": "Autocorrelacion"
                },
                "xaxis": {
                  "anchor": "y",
                  "domain": [
                    0,
                    1
                  ],
                  "title": {
                    "text": "Tiempo"
                  }
                },
                "yaxis": {
                  "anchor": "x",
                  "domain": [
                    0,
                    1
                  ],
                  "title": {
                    "text": "Cantidad de autos, por semana"
                  }
                }
              }
            }
          },
          "metadata": {},
          "output_type": "display_data"
        }
      ],
      "source": [
        "grafico_sem = px.line(semanal, title= 'Autocorrelacion')\n",
        "grafico_sem.update_layout(xaxis={\"title\": \"Tiempo\"},yaxis={\"title\": \"Cantidad de autos, por semana\"})\n",
        "grafico_sem.show()"
      ]
    },
    {
      "cell_type": "markdown",
      "metadata": {},
      "source": [
        "Vamos a ver la autocorrelacion"
      ]
    },
    {
      "cell_type": "code",
      "execution_count": 37,
      "metadata": {},
      "outputs": [
        {
          "data": {
            "text/plain": [
              "(1095,)"
            ]
          },
          "execution_count": 37,
          "metadata": {},
          "output_type": "execute_result"
        }
      ],
      "source": [
        "from statsmodels.tsa.stattools import acf\n",
        "\n",
        "nlags =  365*3\n",
        "autocorr = acf(diario.cantidad_pasos, nlags = nlags)\n",
        "autocorr.shape"
      ]
    },
    {
      "cell_type": "code",
      "execution_count": 38,
      "metadata": {},
      "outputs": [
        {
          "data": {
            "application/vnd.plotly.v1+json": {
              "config": {
                "plotlyServerURL": "https://plot.ly"
              },
              "data": [
                {
                  "hovertemplate": "variable=0<br>index=%{x}<br>value=%{y}<extra></extra>",
                  "legendgroup": "0",
                  "marker": {
                    "color": "#636efa",
                    "symbol": "circle"
                  },
                  "mode": "markers",
                  "name": "0",
                  "showlegend": true,
                  "type": "scattergl",
                  "x": [
                    0,
                    1,
                    2,
                    3,
                    4,
                    5,
                    6,
                    7,
                    8,
                    9,
                    10,
                    11,
                    12,
                    13,
                    14,
                    15,
                    16,
                    17,
                    18,
                    19,
                    20,
                    21,
                    22,
                    23,
                    24,
                    25,
                    26,
                    27,
                    28,
                    29,
                    30,
                    31,
                    32,
                    33,
                    34,
                    35,
                    36,
                    37,
                    38,
                    39,
                    40,
                    41,
                    42,
                    43,
                    44,
                    45,
                    46,
                    47,
                    48,
                    49,
                    50,
                    51,
                    52,
                    53,
                    54,
                    55,
                    56,
                    57,
                    58,
                    59,
                    60,
                    61,
                    62,
                    63,
                    64,
                    65,
                    66,
                    67,
                    68,
                    69,
                    70,
                    71,
                    72,
                    73,
                    74,
                    75,
                    76,
                    77,
                    78,
                    79,
                    80,
                    81,
                    82,
                    83,
                    84,
                    85,
                    86,
                    87,
                    88,
                    89,
                    90,
                    91,
                    92,
                    93,
                    94,
                    95,
                    96,
                    97,
                    98,
                    99,
                    100,
                    101,
                    102,
                    103,
                    104,
                    105,
                    106,
                    107,
                    108,
                    109,
                    110,
                    111,
                    112,
                    113,
                    114,
                    115,
                    116,
                    117,
                    118,
                    119,
                    120,
                    121,
                    122,
                    123,
                    124,
                    125,
                    126,
                    127,
                    128,
                    129,
                    130,
                    131,
                    132,
                    133,
                    134,
                    135,
                    136,
                    137,
                    138,
                    139,
                    140,
                    141,
                    142,
                    143,
                    144,
                    145,
                    146,
                    147,
                    148,
                    149,
                    150,
                    151,
                    152,
                    153,
                    154,
                    155,
                    156,
                    157,
                    158,
                    159,
                    160,
                    161,
                    162,
                    163,
                    164,
                    165,
                    166,
                    167,
                    168,
                    169,
                    170,
                    171,
                    172,
                    173,
                    174,
                    175,
                    176,
                    177,
                    178,
                    179,
                    180,
                    181,
                    182,
                    183,
                    184,
                    185,
                    186,
                    187,
                    188,
                    189,
                    190,
                    191,
                    192,
                    193,
                    194,
                    195,
                    196,
                    197,
                    198,
                    199,
                    200,
                    201,
                    202,
                    203,
                    204,
                    205,
                    206,
                    207,
                    208,
                    209,
                    210,
                    211,
                    212,
                    213,
                    214,
                    215,
                    216,
                    217,
                    218,
                    219,
                    220,
                    221,
                    222,
                    223,
                    224,
                    225,
                    226,
                    227,
                    228,
                    229,
                    230,
                    231,
                    232,
                    233,
                    234,
                    235,
                    236,
                    237,
                    238,
                    239,
                    240,
                    241,
                    242,
                    243,
                    244,
                    245,
                    246,
                    247,
                    248,
                    249,
                    250,
                    251,
                    252,
                    253,
                    254,
                    255,
                    256,
                    257,
                    258,
                    259,
                    260,
                    261,
                    262,
                    263,
                    264,
                    265,
                    266,
                    267,
                    268,
                    269,
                    270,
                    271,
                    272,
                    273,
                    274,
                    275,
                    276,
                    277,
                    278,
                    279,
                    280,
                    281,
                    282,
                    283,
                    284,
                    285,
                    286,
                    287,
                    288,
                    289,
                    290,
                    291,
                    292,
                    293,
                    294,
                    295,
                    296,
                    297,
                    298,
                    299,
                    300,
                    301,
                    302,
                    303,
                    304,
                    305,
                    306,
                    307,
                    308,
                    309,
                    310,
                    311,
                    312,
                    313,
                    314,
                    315,
                    316,
                    317,
                    318,
                    319,
                    320,
                    321,
                    322,
                    323,
                    324,
                    325,
                    326,
                    327,
                    328,
                    329,
                    330,
                    331,
                    332,
                    333,
                    334,
                    335,
                    336,
                    337,
                    338,
                    339,
                    340,
                    341,
                    342,
                    343,
                    344,
                    345,
                    346,
                    347,
                    348,
                    349,
                    350,
                    351,
                    352,
                    353,
                    354,
                    355,
                    356,
                    357,
                    358,
                    359,
                    360,
                    361,
                    362,
                    363,
                    364,
                    365,
                    366,
                    367,
                    368,
                    369,
                    370,
                    371,
                    372,
                    373,
                    374,
                    375,
                    376,
                    377,
                    378,
                    379,
                    380,
                    381,
                    382,
                    383,
                    384,
                    385,
                    386,
                    387,
                    388,
                    389,
                    390,
                    391,
                    392,
                    393,
                    394,
                    395,
                    396,
                    397,
                    398,
                    399,
                    400,
                    401,
                    402,
                    403,
                    404,
                    405,
                    406,
                    407,
                    408,
                    409,
                    410,
                    411,
                    412,
                    413,
                    414,
                    415,
                    416,
                    417,
                    418,
                    419,
                    420,
                    421,
                    422,
                    423,
                    424,
                    425,
                    426,
                    427,
                    428,
                    429,
                    430,
                    431,
                    432,
                    433,
                    434,
                    435,
                    436,
                    437,
                    438,
                    439,
                    440,
                    441,
                    442,
                    443,
                    444,
                    445,
                    446,
                    447,
                    448,
                    449,
                    450,
                    451,
                    452,
                    453,
                    454,
                    455,
                    456,
                    457,
                    458,
                    459,
                    460,
                    461,
                    462,
                    463,
                    464,
                    465,
                    466,
                    467,
                    468,
                    469,
                    470,
                    471,
                    472,
                    473,
                    474,
                    475,
                    476,
                    477,
                    478,
                    479,
                    480,
                    481,
                    482,
                    483,
                    484,
                    485,
                    486,
                    487,
                    488,
                    489,
                    490,
                    491,
                    492,
                    493,
                    494,
                    495,
                    496,
                    497,
                    498,
                    499,
                    500,
                    501,
                    502,
                    503,
                    504,
                    505,
                    506,
                    507,
                    508,
                    509,
                    510,
                    511,
                    512,
                    513,
                    514,
                    515,
                    516,
                    517,
                    518,
                    519,
                    520,
                    521,
                    522,
                    523,
                    524,
                    525,
                    526,
                    527,
                    528,
                    529,
                    530,
                    531,
                    532,
                    533,
                    534,
                    535,
                    536,
                    537,
                    538,
                    539,
                    540,
                    541,
                    542,
                    543,
                    544,
                    545,
                    546,
                    547,
                    548,
                    549,
                    550,
                    551,
                    552,
                    553,
                    554,
                    555,
                    556,
                    557,
                    558,
                    559,
                    560,
                    561,
                    562,
                    563,
                    564,
                    565,
                    566,
                    567,
                    568,
                    569,
                    570,
                    571,
                    572,
                    573,
                    574,
                    575,
                    576,
                    577,
                    578,
                    579,
                    580,
                    581,
                    582,
                    583,
                    584,
                    585,
                    586,
                    587,
                    588,
                    589,
                    590,
                    591,
                    592,
                    593,
                    594,
                    595,
                    596,
                    597,
                    598,
                    599,
                    600,
                    601,
                    602,
                    603,
                    604,
                    605,
                    606,
                    607,
                    608,
                    609,
                    610,
                    611,
                    612,
                    613,
                    614,
                    615,
                    616,
                    617,
                    618,
                    619,
                    620,
                    621,
                    622,
                    623,
                    624,
                    625,
                    626,
                    627,
                    628,
                    629,
                    630,
                    631,
                    632,
                    633,
                    634,
                    635,
                    636,
                    637,
                    638,
                    639,
                    640,
                    641,
                    642,
                    643,
                    644,
                    645,
                    646,
                    647,
                    648,
                    649,
                    650,
                    651,
                    652,
                    653,
                    654,
                    655,
                    656,
                    657,
                    658,
                    659,
                    660,
                    661,
                    662,
                    663,
                    664,
                    665,
                    666,
                    667,
                    668,
                    669,
                    670,
                    671,
                    672,
                    673,
                    674,
                    675,
                    676,
                    677,
                    678,
                    679,
                    680,
                    681,
                    682,
                    683,
                    684,
                    685,
                    686,
                    687,
                    688,
                    689,
                    690,
                    691,
                    692,
                    693,
                    694,
                    695,
                    696,
                    697,
                    698,
                    699,
                    700,
                    701,
                    702,
                    703,
                    704,
                    705,
                    706,
                    707,
                    708,
                    709,
                    710,
                    711,
                    712,
                    713,
                    714,
                    715,
                    716,
                    717,
                    718,
                    719,
                    720,
                    721,
                    722,
                    723,
                    724,
                    725,
                    726,
                    727,
                    728,
                    729,
                    730,
                    731,
                    732,
                    733,
                    734,
                    735,
                    736,
                    737,
                    738,
                    739,
                    740,
                    741,
                    742,
                    743,
                    744,
                    745,
                    746,
                    747,
                    748,
                    749,
                    750,
                    751,
                    752,
                    753,
                    754,
                    755,
                    756,
                    757,
                    758,
                    759,
                    760,
                    761,
                    762,
                    763,
                    764,
                    765,
                    766,
                    767,
                    768,
                    769,
                    770,
                    771,
                    772,
                    773,
                    774,
                    775,
                    776,
                    777,
                    778,
                    779,
                    780,
                    781,
                    782,
                    783,
                    784,
                    785,
                    786,
                    787,
                    788,
                    789,
                    790,
                    791,
                    792,
                    793,
                    794,
                    795,
                    796,
                    797,
                    798,
                    799,
                    800,
                    801,
                    802,
                    803,
                    804,
                    805,
                    806,
                    807,
                    808,
                    809,
                    810,
                    811,
                    812,
                    813,
                    814,
                    815,
                    816,
                    817,
                    818,
                    819,
                    820,
                    821,
                    822,
                    823,
                    824,
                    825,
                    826,
                    827,
                    828,
                    829,
                    830,
                    831,
                    832,
                    833,
                    834,
                    835,
                    836,
                    837,
                    838,
                    839,
                    840,
                    841,
                    842,
                    843,
                    844,
                    845,
                    846,
                    847,
                    848,
                    849,
                    850,
                    851,
                    852,
                    853,
                    854,
                    855,
                    856,
                    857,
                    858,
                    859,
                    860,
                    861,
                    862,
                    863,
                    864,
                    865,
                    866,
                    867,
                    868,
                    869,
                    870,
                    871,
                    872,
                    873,
                    874,
                    875,
                    876,
                    877,
                    878,
                    879,
                    880,
                    881,
                    882,
                    883,
                    884,
                    885,
                    886,
                    887,
                    888,
                    889,
                    890,
                    891,
                    892,
                    893,
                    894,
                    895,
                    896,
                    897,
                    898,
                    899,
                    900,
                    901,
                    902,
                    903,
                    904,
                    905,
                    906,
                    907,
                    908,
                    909,
                    910,
                    911,
                    912,
                    913,
                    914,
                    915,
                    916,
                    917,
                    918,
                    919,
                    920,
                    921,
                    922,
                    923,
                    924,
                    925,
                    926,
                    927,
                    928,
                    929,
                    930,
                    931,
                    932,
                    933,
                    934,
                    935,
                    936,
                    937,
                    938,
                    939,
                    940,
                    941,
                    942,
                    943,
                    944,
                    945,
                    946,
                    947,
                    948,
                    949,
                    950,
                    951,
                    952,
                    953,
                    954,
                    955,
                    956,
                    957,
                    958,
                    959,
                    960,
                    961,
                    962,
                    963,
                    964,
                    965,
                    966,
                    967,
                    968,
                    969,
                    970,
                    971,
                    972,
                    973,
                    974,
                    975,
                    976,
                    977,
                    978,
                    979,
                    980,
                    981,
                    982,
                    983,
                    984,
                    985,
                    986,
                    987,
                    988,
                    989,
                    990,
                    991,
                    992,
                    993,
                    994,
                    995,
                    996,
                    997,
                    998,
                    999,
                    1000,
                    1001,
                    1002,
                    1003,
                    1004,
                    1005,
                    1006,
                    1007,
                    1008,
                    1009,
                    1010,
                    1011,
                    1012,
                    1013,
                    1014,
                    1015,
                    1016,
                    1017,
                    1018,
                    1019,
                    1020,
                    1021,
                    1022,
                    1023,
                    1024,
                    1025,
                    1026,
                    1027,
                    1028,
                    1029,
                    1030,
                    1031,
                    1032,
                    1033,
                    1034,
                    1035,
                    1036,
                    1037,
                    1038,
                    1039,
                    1040,
                    1041,
                    1042,
                    1043,
                    1044,
                    1045,
                    1046,
                    1047,
                    1048,
                    1049,
                    1050,
                    1051,
                    1052,
                    1053,
                    1054,
                    1055,
                    1056,
                    1057,
                    1058,
                    1059,
                    1060,
                    1061,
                    1062,
                    1063,
                    1064,
                    1065,
                    1066,
                    1067,
                    1068,
                    1069,
                    1070,
                    1071,
                    1072,
                    1073,
                    1074,
                    1075,
                    1076,
                    1077,
                    1078,
                    1079,
                    1080,
                    1081,
                    1082,
                    1083,
                    1084,
                    1085,
                    1086,
                    1087,
                    1088,
                    1089,
                    1090,
                    1091,
                    1092,
                    1093,
                    1094
                  ],
                  "xaxis": "x",
                  "y": [
                    1,
                    0.527948327208635,
                    0.2798226257688024,
                    0.22992460953166743,
                    0.2195360977153052,
                    0.285867009541182,
                    0.4859747609718582,
                    0.6571767431670542,
                    0.44823242212163156,
                    0.2625313800189459,
                    0.2296287305722633,
                    0.19448722119625303,
                    0.24664302068377303,
                    0.43801282342611225,
                    0.6042318203777219,
                    0.43389179473411676,
                    0.2591374267672739,
                    0.20920501921597853,
                    0.20602319635973798,
                    0.2437099463036406,
                    0.4208064591502652,
                    0.5865322007320927,
                    0.4263940459288581,
                    0.24194127370155175,
                    0.1954003863158873,
                    0.19492836579435427,
                    0.22151323494200867,
                    0.40071598187941676,
                    0.5757489874336246,
                    0.3987774878685795,
                    0.23700930322209315,
                    0.17333742708230512,
                    0.1565916978665986,
                    0.20805380756563016,
                    0.378438131205391,
                    0.5605136278089335,
                    0.4027210714473103,
                    0.2156404107710518,
                    0.17430445577671957,
                    0.15128046803311437,
                    0.18529420626758902,
                    0.3909842171209945,
                    0.5595716568612439,
                    0.3854070201676152,
                    0.20220491257893516,
                    0.16946114559990805,
                    0.16363066635890886,
                    0.1866026250993915,
                    0.369743412545297,
                    0.5264559323215049,
                    0.3874275262706917,
                    0.21210954102284688,
                    0.13944681729505862,
                    0.1478052202853016,
                    0.17626682155958534,
                    0.3776672754953793,
                    0.5484620826350938,
                    0.37743484565685964,
                    0.19702950315980508,
                    0.1426205653935059,
                    0.1578344561008207,
                    0.18355970825121593,
                    0.3699603322677965,
                    0.5520084317719041,
                    0.36725022913221034,
                    0.18702022301199578,
                    0.14432278150809227,
                    0.14934467738729465,
                    0.1849604773729745,
                    0.3727146331123837,
                    0.5099656855150264,
                    0.3664418024903116,
                    0.18045601947695536,
                    0.1426249807940747,
                    0.14179421045174076,
                    0.19048580854125452,
                    0.3357406504184661,
                    0.494314996162905,
                    0.36402818490326583,
                    0.18092864774536077,
                    0.13617552717446255,
                    0.1363528540013402,
                    0.17395329163945433,
                    0.34416053369301014,
                    0.5131601672778683,
                    0.3724535047096903,
                    0.19179347314226936,
                    0.12607285820594635,
                    0.1416903410473292,
                    0.16187703858955202,
                    0.350724305157067,
                    0.5213663911927995,
                    0.34306263149469945,
                    0.188305799294322,
                    0.1281795164258809,
                    0.12962598347554796,
                    0.17202939530989633,
                    0.3322737632100056,
                    0.5058054174535356,
                    0.3488656582407628,
                    0.17593785179757065,
                    0.15344785141209488,
                    0.13862475800607188,
                    0.1580500130247637,
                    0.34063551838114564,
                    0.4996248396641067,
                    0.3494405000295894,
                    0.17970496605040956,
                    0.1501446767196972,
                    0.1370176251167492,
                    0.172948017733642,
                    0.33596856510539214,
                    0.5019027850830515,
                    0.36098922663842675,
                    0.16509878932936484,
                    0.13196576011158587,
                    0.12685218197775153,
                    0.1542634596531393,
                    0.3200504816900108,
                    0.5061469155124926,
                    0.3611961258614446,
                    0.16926288792081054,
                    0.1199072000146796,
                    0.12840996648481492,
                    0.16635804144695512,
                    0.3307387503038415,
                    0.49847428113549225,
                    0.3472606842244627,
                    0.17519394773320035,
                    0.13615331238923767,
                    0.11899999201193855,
                    0.1530649645940327,
                    0.32459114220685115,
                    0.47519915978825317,
                    0.3187869170815348,
                    0.14349943592795056,
                    0.10766933663279038,
                    0.10794522157950694,
                    0.14317112747182875,
                    0.2855663915965847,
                    0.45330073601357923,
                    0.3140966816069847,
                    0.1525536408714384,
                    0.11478633652773851,
                    0.11197050436002849,
                    0.135623074727102,
                    0.31298953467045765,
                    0.4709794497731003,
                    0.31404426211045405,
                    0.1428303951489963,
                    0.08761718508025676,
                    0.10527302815962432,
                    0.13861594589033707,
                    0.318901358991151,
                    0.4780562496265623,
                    0.3120342016483032,
                    0.13638826631738388,
                    0.09951378440689612,
                    0.11736902415812749,
                    0.1267172667512099,
                    0.2873582524283836,
                    0.44853513351914615,
                    0.3040288719577776,
                    0.13431955014944436,
                    0.1040467811968347,
                    0.09932440373615019,
                    0.1131741010254987,
                    0.28448538804133605,
                    0.45102917612623417,
                    0.29516260488860385,
                    0.14420620689587602,
                    0.10327697668339632,
                    0.08210184979471881,
                    0.0985314000953844,
                    0.268748478260318,
                    0.4323352739671417,
                    0.2959507475048447,
                    0.1290120625680659,
                    0.08001555742472925,
                    0.07524778644013606,
                    0.10118082368545427,
                    0.2657958765002812,
                    0.41485575266610064,
                    0.27765817989849734,
                    0.12322360261972995,
                    0.053916121666774015,
                    0.05943454945306939,
                    0.10368878761707886,
                    0.27531952283054334,
                    0.42385186654193197,
                    0.2846643772590632,
                    0.11473884170722998,
                    0.07696182967598171,
                    0.07169411867929469,
                    0.10278198167100076,
                    0.24201394969829929,
                    0.39071903166944555,
                    0.2621776423600881,
                    0.08890597447143277,
                    0.044101089663685054,
                    0.04660670894593191,
                    0.06722004498097682,
                    0.22769164064447026,
                    0.3953962969720854,
                    0.24982178308639003,
                    0.09181075970512362,
                    0.058608964006123775,
                    0.06502893550063407,
                    0.07650860630861041,
                    0.22226864187264397,
                    0.38788076671633087,
                    0.25359887919984153,
                    0.1059836074283231,
                    0.06753581595857122,
                    0.057524878431788794,
                    0.058592547872838505,
                    0.21385211442196697,
                    0.38203411960839767,
                    0.25143102151094326,
                    0.10208668509651848,
                    0.06619297684516365,
                    0.05849307926778292,
                    0.06939059434055918,
                    0.2176093351652774,
                    0.36470370815979014,
                    0.24454512232135328,
                    0.09776614922803575,
                    0.050864426865260534,
                    0.042767832366075564,
                    0.07131363411270715,
                    0.21282683960379647,
                    0.36351134500863397,
                    0.23803669699024402,
                    0.09056440652162465,
                    0.0285074099444473,
                    0.039493429322996605,
                    0.0659198266147307,
                    0.22204458326420526,
                    0.38249974978615164,
                    0.25223715600587954,
                    0.08021824970261388,
                    0.03804146235618521,
                    0.04619416238013311,
                    0.0643546328294656,
                    0.21833087715191749,
                    0.36615356877915173,
                    0.21382055849217255,
                    0.06378936700448704,
                    0.024334010309547398,
                    0.031637287992629826,
                    0.04966213748376611,
                    0.18212019514824032,
                    0.33154174006969805,
                    0.2231429788164096,
                    0.08173542842652388,
                    0.03875490954510543,
                    0.028784034112757474,
                    0.04300478083330036,
                    0.1771073197214829,
                    0.33253872530019657,
                    0.2115470964181369,
                    0.06736214618644285,
                    0.02679536623750662,
                    0.028201064200205773,
                    0.035979488607123494,
                    0.17720786927378762,
                    0.33563231821695544,
                    0.20487224662904543,
                    0.05488803226249936,
                    0.01566990517019614,
                    0.012111614338086033,
                    0.015750101820756954,
                    0.17256283930450209,
                    0.3099898377082523,
                    0.1984968842418643,
                    0.048436567184199995,
                    0.008576786956392642,
                    0.006728471426772849,
                    0.015365784574993862,
                    0.15778964915207438,
                    0.2994065502903169,
                    0.18789151594505102,
                    0.030018366300658378,
                    -0.0008790846917515177,
                    -0.005205730923367685,
                    0.013841791763083224,
                    0.1413746995719772,
                    0.27999139984474164,
                    0.16222217276640105,
                    0.02340599403572628,
                    -0.0200005052783211,
                    -0.029105985889488543,
                    -0.01216632136019142,
                    0.13072626793179218,
                    0.2605777808344459,
                    0.1572562944353449,
                    0.008374559958187863,
                    -0.04588413017822951,
                    -0.04275226815815164,
                    -0.01374587806778839,
                    0.13115673295140923,
                    0.25238440968120673,
                    0.14587536464586093,
                    0.009621181001045207,
                    -0.04487352760261331,
                    -0.0335145558445291,
                    -0.027757867094478448,
                    0.1151161132759394,
                    0.24545221915671275,
                    0.1323864139091203,
                    -0.01863729024912436,
                    -0.038526051885029465,
                    -0.035148789258426974,
                    -0.012119799312269298,
                    0.10546001624034834,
                    0.22329052431702395,
                    0.13484641968976185,
                    -0.0030847732015163226,
                    -0.05295058111177983,
                    -0.05417501436684838,
                    -0.0379227507134369,
                    0.10110266957253361,
                    0.23972117076044622,
                    0.12906983118339727,
                    -0.0266920224716541,
                    -0.06808393961506877,
                    -0.0636436526135955,
                    -0.04800742918475413,
                    0.07590873629376425,
                    0.20772866675206164,
                    0.11280353423890217,
                    -0.03678820870557776,
                    -0.06651165028023334,
                    -0.07074236747579214,
                    -0.04855608720451905,
                    0.07608119270984712,
                    0.20085211027806818,
                    0.07801686760665599,
                    -0.05257180217899395,
                    -0.07260725604802859,
                    -0.0735894892387532,
                    -0.06925391000717633,
                    0.05603281079644858,
                    0.19005984319544955,
                    0.07983780166255951,
                    -0.04146960613244847,
                    -0.07789572084027163,
                    -0.10828322689104196,
                    -0.08804793967561704,
                    0.05210155788073567,
                    0.2018335934406905,
                    0.08081440246985114,
                    -0.05512166882192003,
                    -0.10331176889549724,
                    -0.09894805428789012,
                    -0.08109079283493202,
                    0.043640316043427746,
                    0.17349906667742201,
                    0.08862539380553053,
                    -0.043360566078651255,
                    -0.09636101729741262,
                    -0.0981713965544016,
                    -0.08704260216910474,
                    0.04138238445767964,
                    0.1920459637508259,
                    0.10445920008101325,
                    -0.05424407120814435,
                    -0.09250592748108255,
                    -0.09689025515716693,
                    -0.08221557210278582,
                    0.04158053977163869,
                    0.18031171845509372,
                    0.06312681409596853,
                    -0.07561424239919322,
                    -0.08889801800419096,
                    -0.10797562791835179,
                    -0.08611940637250531,
                    0.030203184687154827,
                    0.14450056200863665,
                    0.028246067713895456,
                    -0.076028380434228,
                    -0.0857902282440269,
                    -0.1032283137756698,
                    -0.09331637133152058,
                    0.02700978638506068,
                    0.14696909759463697,
                    0.0477051117106319,
                    -0.0590264439976134,
                    -0.09745737289451696,
                    -0.10650099757232624,
                    -0.09473968566840214,
                    0.03831212263204561,
                    0.1351393240080819,
                    0.03473922353553537,
                    -0.0753882049757743,
                    -0.11011412570906935,
                    -0.09431589795445905,
                    -0.08729351922393612,
                    0.009225054508088007,
                    0.11893669152483775,
                    0.021459085289334993,
                    -0.08419744685044404,
                    -0.12615998687147334,
                    -0.11942400045217871,
                    -0.11816488919832643,
                    -0.0008421665145036475,
                    0.12711960882223722,
                    0.033652176060446806,
                    -0.09388928950856161,
                    -0.12414034786931592,
                    -0.11767911127277553,
                    -0.11706180831340392,
                    -0.004574162276185265,
                    0.11020430469078406,
                    0.009812662446351214,
                    -0.08877702936273506,
                    -0.13691840644649864,
                    -0.14216472948973094,
                    -0.1219567337394547,
                    -0.019300835212632022,
                    0.08710857468040059,
                    0.007279467259389509,
                    -0.12101204864252187,
                    -0.14759114858449285,
                    -0.1484552206823397,
                    -0.11596861742444338,
                    -0.023911255422028946,
                    0.09750571458518215,
                    -0.003915261726216365,
                    -0.11282157049242383,
                    -0.1404638972121032,
                    -0.13722858365816504,
                    -0.12195277719989187,
                    -0.020791556150672963,
                    0.09305025555413367,
                    -0.008289286303922023,
                    -0.11764538573676937,
                    -0.1579656069520153,
                    -0.16277905545985535,
                    -0.1583905624616844,
                    -0.04978617214692411,
                    0.06440675562461305,
                    -0.017226424130835746,
                    -0.11335981904644814,
                    -0.15181160178770006,
                    -0.16207828405087538,
                    -0.1492076471958006,
                    -0.039383465820890744,
                    0.0706581640781214,
                    -0.008027837704556704,
                    -0.1139927374778492,
                    -0.15406879147907135,
                    -0.16147740228604437,
                    -0.159472363484252,
                    -0.054078886444339176,
                    0.0493530532752948,
                    -0.02558287189023496,
                    -0.13025110332604728,
                    -0.16125845165398447,
                    -0.16510695210783688,
                    -0.16383766912886413,
                    -0.07210654413192795,
                    0.03776817592222708,
                    -0.043658794848077706,
                    -0.138424783590961,
                    -0.15345753753264252,
                    -0.15651544419192004,
                    -0.16359097610404244,
                    -0.07168403283138954,
                    0.03557792343580074,
                    -0.046665838162499855,
                    -0.1345777286198049,
                    -0.17154468287576516,
                    -0.17203142766784507,
                    -0.1651172495196816,
                    -0.07752860047863655,
                    0.026665283672040227,
                    -0.04155035412435817,
                    -0.1371989700291072,
                    -0.17760981832096834,
                    -0.18419919892332584,
                    -0.1683994311567073,
                    -0.07506380441535694,
                    0.018715492359831942,
                    -0.04734834281554384,
                    -0.14582674286756903,
                    -0.16669354149609716,
                    -0.1636942463891798,
                    -0.16810594208617224,
                    -0.0689741058495731,
                    0.021893098446347826,
                    -0.053296140121226486,
                    -0.13743753386527804,
                    -0.16864529189218447,
                    -0.17132802977898023,
                    -0.17451729302409688,
                    -0.07887679600972121,
                    0.01564869529555396,
                    -0.053131422890323673,
                    -0.15364498701635876,
                    -0.19188114299956496,
                    -0.1807120965620464,
                    -0.18976783993277388,
                    -0.0899594929535189,
                    0.0071947221489121515,
                    -0.06532354217503221,
                    -0.15541854675525568,
                    -0.19025235209789043,
                    -0.184608487114701,
                    -0.18808693260567044,
                    -0.09213720016658612,
                    0.0023172451713894347,
                    -0.061048187440582685,
                    -0.15454813289259392,
                    -0.18594943557304588,
                    -0.1863600285908123,
                    -0.17470706480009515,
                    -0.10190185235857564,
                    -0.0103681732716998,
                    -0.05933481519113399,
                    -0.15799030976339715,
                    -0.19507229212695887,
                    -0.18836024170228055,
                    -0.18463072262628044,
                    -0.11932523719680467,
                    -0.029335207234849406,
                    -0.0788063362766701,
                    -0.16643292152822395,
                    -0.1929287156933404,
                    -0.1828754009871427,
                    -0.20526394140715049,
                    -0.11532603796668689,
                    -0.012738402797737405,
                    -0.06822548049033875,
                    -0.1461875642630696,
                    -0.19528654053720976,
                    -0.20726584969136988,
                    -0.19794784123096562,
                    -0.10758175217602227,
                    -0.005698722895354877,
                    -0.0627730062673155,
                    -0.16066505482367102,
                    -0.18869103770614973,
                    -0.1970987692143681,
                    -0.19653684604051166,
                    -0.11622354339923556,
                    -0.027622512728798912,
                    -0.09155335518007039,
                    -0.16984220636853187,
                    -0.1919575927000766,
                    -0.1989951328544975,
                    -0.20537397706413552,
                    -0.11398646793090407,
                    -0.024669415359673638,
                    -0.09065484367428463,
                    -0.15956568554184333,
                    -0.18393908461530828,
                    -0.19477870640076833,
                    -0.192678208226768,
                    -0.10987184851478851,
                    -0.050564630246948815,
                    -0.09649088296181048,
                    -0.17370511724935458,
                    -0.20896395008201235,
                    -0.20509256277488072,
                    -0.21502673984049933,
                    -0.1415587000664735,
                    -0.054913541142397986,
                    -0.11216861157224628,
                    -0.17682951862356416,
                    -0.21255459409340025,
                    -0.21290516427435419,
                    -0.20311195954794964,
                    -0.1355041770896696,
                    -0.050693694961378044,
                    -0.09562539774551723,
                    -0.16036105929258315,
                    -0.19374527081728365,
                    -0.19481504072906577,
                    -0.19718628937072413,
                    -0.14382130172357244,
                    -0.05645377816022459,
                    -0.11072683336640014,
                    -0.17013984630114937,
                    -0.2019516120320308,
                    -0.1966654904829956,
                    -0.20209890722396948,
                    -0.14309973299778084,
                    -0.057408989212443855,
                    -0.09681762197059647,
                    -0.16964420546087905,
                    -0.21443897856446684,
                    -0.21989408428629964,
                    -0.22028524584723766,
                    -0.1127900172744181,
                    -0.044694029316319724,
                    -0.10041860669871848,
                    -0.162229972529209,
                    -0.19995237502327887,
                    -0.20781106582288317,
                    -0.20444976299813772,
                    -0.13075035241506447,
                    -0.0351351874323006,
                    -0.09647804439199086,
                    -0.16828116518442493,
                    -0.20906238608889813,
                    -0.20502392049930573,
                    -0.20347957216616228,
                    -0.12715068059585755,
                    -0.047414758282577844,
                    -0.10878622569192359,
                    -0.17872247697005356,
                    -0.2042284945130937,
                    -0.21017493972975773,
                    -0.20411500435765365,
                    -0.1464831025587622,
                    -0.06696029892014393,
                    -0.10766141811634894,
                    -0.17618675486441077,
                    -0.20356651264118808,
                    -0.20619272585379028,
                    -0.21418657531110336,
                    -0.14305098922858217,
                    -0.0728558416643162,
                    -0.10648699733833761,
                    -0.16319787512968362,
                    -0.20570274112463713,
                    -0.19322277892143644,
                    -0.21668014955010292,
                    -0.15849956829093714,
                    -0.07010170718769235,
                    -0.11011921070890728,
                    -0.16872398045109466,
                    -0.20335960408895828,
                    -0.20347662972574254,
                    -0.1933920216891926,
                    -0.13125907724644642,
                    -0.07023893582087506,
                    -0.1067484086880415,
                    -0.15664586796705013,
                    -0.18185529096217248,
                    -0.1932539149266812,
                    -0.20451324102854357,
                    -0.14432679841517243,
                    -0.06345430322234431,
                    -0.10035530461380922,
                    -0.15679703108579146,
                    -0.19902957551914754,
                    -0.20044571204884662,
                    -0.20501931739980137,
                    -0.13682122492979942,
                    -0.0633145743570929,
                    -0.10111345611654327,
                    -0.16141271760648576,
                    -0.19140265202603785,
                    -0.19820733272562482,
                    -0.19283741150008815,
                    -0.12070955086839406,
                    -0.053577289086329305,
                    -0.10593100868099815,
                    -0.15247598755664446,
                    -0.18470402219058676,
                    -0.18735944766726859,
                    -0.17329809071515667,
                    -0.11913744524374757,
                    -0.04750162930665684,
                    -0.08995260735601279,
                    -0.15696049634257497,
                    -0.185710105314082,
                    -0.18186610254752336,
                    -0.17713878024794674,
                    -0.11446630272447075,
                    -0.042391334341923104,
                    -0.0920916395543222,
                    -0.15587394195470147,
                    -0.18281018293682913,
                    -0.17754511932584896,
                    -0.16992994140344947,
                    -0.12809559772035053,
                    -0.056011489733388486,
                    -0.09145000509608268,
                    -0.1422932343435713,
                    -0.1765709983720693,
                    -0.19073631304505834,
                    -0.17653379210207368,
                    -0.13257953062580624,
                    -0.05802539164945113,
                    -0.08567801023508477,
                    -0.15869898757921944,
                    -0.19321181880638755,
                    -0.1952429783774864,
                    -0.18473606541650484,
                    -0.14022270068858952,
                    -0.06686971973748715,
                    -0.10089894006004825,
                    -0.15651455459717767,
                    -0.18280199342801676,
                    -0.19105778389275896,
                    -0.19198339608140833,
                    -0.1295805830122576,
                    -0.06518991708102673,
                    -0.10705448802737155,
                    -0.15404502842219459,
                    -0.1850315417426836,
                    -0.19356147924655792,
                    -0.19070971138495652,
                    -0.13646854486361026,
                    -0.07317535037207654,
                    -0.10328443151826493,
                    -0.15287149880012113,
                    -0.1764637670341194,
                    -0.19571744634828434,
                    -0.2049649673551378,
                    -0.1443796092318184,
                    -0.08447511310936356,
                    -0.11527135077681042,
                    -0.1648991958410009,
                    -0.19009645164189726,
                    -0.19404148790950923,
                    -0.20171178196232337,
                    -0.143084346633584,
                    -0.08216067582629694,
                    -0.11292363104155663,
                    -0.14629729036546363,
                    -0.1820474436387746,
                    -0.19571546652007343,
                    -0.1763921561210654,
                    -0.11990709039337782,
                    -0.0882441230995712,
                    -0.11747786740731436,
                    -0.14736783418265972,
                    -0.17940823956174187,
                    -0.1833201712071955,
                    -0.1928983480076528,
                    -0.13702632275346524,
                    -0.09289514688201599,
                    -0.10967885319633934,
                    -0.15536539833934412,
                    -0.19193406840043048,
                    -0.18768919978921217,
                    -0.1798349520497588,
                    -0.1323739585960156,
                    -0.08443573009502596,
                    -0.11449055686384065,
                    -0.16283936246936,
                    -0.18328248950731524,
                    -0.17114556994442362,
                    -0.1680531283502527,
                    -0.12780043414866765,
                    -0.08655953175912355,
                    -0.10812132704388032,
                    -0.14308803698521091,
                    -0.1649689901398005,
                    -0.16848057580811307,
                    -0.17703309180683785,
                    -0.13041456020215986,
                    -0.0795982324117645,
                    -0.10670743753132911,
                    -0.14879746775292457,
                    -0.16019429629468934,
                    -0.1699336876994777,
                    -0.16255032045982917,
                    -0.12886957140696687,
                    -0.09131163036019213,
                    -0.09459098786730515,
                    -0.12054527621767983,
                    -0.14439085755800427,
                    -0.14846837058242127,
                    -0.15575569182691965,
                    -0.11418360574862504,
                    -0.06603983473237156,
                    -0.09108927951057341,
                    -0.1267402996438729,
                    -0.14633595100055272,
                    -0.15574871364759302,
                    -0.152578678821996,
                    -0.11242818542623839,
                    -0.06141264866460856,
                    -0.09376020372996409,
                    -0.13400397535983052,
                    -0.13737566131810652,
                    -0.14264213972890372,
                    -0.13959905958755792,
                    -0.10593660051120338,
                    -0.06944002162406197,
                    -0.09563233128743912,
                    -0.12048411062752336,
                    -0.14071442230258946,
                    -0.14637522987301343,
                    -0.130115619724204,
                    -0.10570030118792913,
                    -0.07102654151287938,
                    -0.08339717845290837,
                    -0.11224832841262528,
                    -0.12736117657622834,
                    -0.1333964122442008,
                    -0.13021085160605889,
                    -0.09522512764923236,
                    -0.05966433670642989,
                    -0.0742759404190376,
                    -0.1156794110870086,
                    -0.13049424829226755,
                    -0.13844195459691033,
                    -0.1322819873392818,
                    -0.10036274909961486,
                    -0.06027137855549349,
                    -0.08043252748240852,
                    -0.12015883438525451,
                    -0.13215124347465418,
                    -0.14313348236769302,
                    -0.13809103463942915,
                    -0.09370663551766932,
                    -0.05539325938677377,
                    -0.08779201285622147,
                    -0.11062879164780437,
                    -0.12388517590189367,
                    -0.12696719114059746,
                    -0.12241146545701251,
                    -0.09470960446152513,
                    -0.05899514395647784,
                    -0.07838316452231213,
                    -0.10444888144426918,
                    -0.12019117400243179,
                    -0.12670697078315799,
                    -0.11811634786777013,
                    -0.09270422560154207,
                    -0.0592365194118561,
                    -0.0688870544524015,
                    -0.09256656595878056,
                    -0.12598534155839025,
                    -0.12287274906201417,
                    -0.11321670734998089,
                    -0.08487831209882724,
                    -0.04615243195477171,
                    -0.06873143946652915,
                    -0.09353020627259627,
                    -0.11765531982952918,
                    -0.11494735086381817,
                    -0.10357477084989027,
                    -0.07539949349143761,
                    -0.03087932968030766,
                    -0.05966566397439846,
                    -0.08152314678831293,
                    -0.10787656554040866,
                    -0.10904325878843812,
                    -0.10088492993008118,
                    -0.07236438490677423,
                    -0.040705741206859325,
                    -0.059603689246653074,
                    -0.08114461806614752,
                    -0.09985143697769838,
                    -0.1016422303643431,
                    -0.09381049190768793,
                    -0.07493157035949571,
                    -0.037057340433989026,
                    -0.047263635557263685,
                    -0.08017939532115184,
                    -0.10032065560177894,
                    -0.09795254955781675,
                    -0.09968670110499278,
                    -0.07186064175186928,
                    -0.029787869171088235,
                    -0.043213369814462686,
                    -0.07713110321528252,
                    -0.0997499636216718,
                    -0.10369559075860962,
                    -0.10110383494968408,
                    -0.07451885667335857,
                    -0.030265149854107963,
                    -0.05332541763431301,
                    -0.08171549684819573,
                    -0.09770342521081725,
                    -0.10224000299008035,
                    -0.10196297386231225,
                    -0.06562169489748106,
                    -0.030356954312591437,
                    -0.04454399231424297,
                    -0.06979873534721767,
                    -0.08992743441452544,
                    -0.09268158550155135,
                    -0.09314399246153421,
                    -0.06828293445092369,
                    -0.03923965316179555,
                    -0.042342757679057694,
                    -0.06745814701175017,
                    -0.08518762936876115,
                    -0.09014979891445725,
                    -0.0939775295103719,
                    -0.06931577644450941,
                    -0.0361786601023952,
                    -0.04100161708225811,
                    -0.06990900961738901,
                    -0.09200743646601309,
                    -0.0850850222396535,
                    -0.08889940575903874,
                    -0.06948235796454513,
                    -0.02692984843969869,
                    -0.03575854116752588,
                    -0.06299772166042884,
                    -0.07318629362043207,
                    -0.073675439227742,
                    -0.06843967097567488,
                    -0.04622554385396706,
                    -0.016483404515755855,
                    -0.037531550716764846,
                    -0.053535751312603734,
                    -0.06731141090215909,
                    -0.06940961669480106,
                    -0.07330200458255205,
                    -0.05364342898426816,
                    -0.021658627713285843,
                    -0.03016098115982574,
                    -0.05140144574626981,
                    -0.05357422463888931,
                    -0.06655673134390667,
                    -0.07113545572837754,
                    -0.050175541742460486,
                    -0.020425566278869562,
                    -0.02980777817306523,
                    -0.04624265702625233,
                    -0.05157989077261499,
                    -0.06250762961529566,
                    -0.07072647376176301,
                    -0.048086020422887885,
                    -0.014574776447235033,
                    -0.030697545575026308,
                    -0.04244973060153445,
                    -0.06022466570143981,
                    -0.06895299655089838,
                    -0.06886055967238354,
                    -0.047618930123222734,
                    -0.021930812406457712,
                    -0.03583149900010555,
                    -0.047255012811511135,
                    -0.060128147507991905,
                    -0.07007644782409711,
                    -0.06341329634517387,
                    -0.04902247778182959,
                    -0.025222483881921456,
                    -0.033149324781032205,
                    -0.04358766382189796,
                    -0.05220645312292497,
                    -0.06786884429364813,
                    -0.06028436913677283,
                    -0.038832048100386096,
                    -0.0325443860232874,
                    -0.02822243828098811,
                    -0.03496013771643152,
                    -0.047948375403050005,
                    -0.0637431802046963,
                    -0.06068557128729578,
                    -0.04980952155526327,
                    -0.025672306705302968,
                    -0.023365891820536975,
                    -0.043876910986301226,
                    -0.06141951030282259,
                    -0.05825471759877759,
                    -0.0601703522033764,
                    -0.044822612515426866,
                    -0.016111750912919297,
                    -0.023401542021773126,
                    -0.037443145760456674,
                    -0.05172774787759783,
                    -0.061588336993368305,
                    -0.05851771711118433,
                    -0.04078575832359487,
                    -0.013982465250094864,
                    -0.027822223486016335,
                    -0.040900947258835904,
                    -0.050554288434280274,
                    -0.06081442797799945,
                    -0.05519351952882416,
                    -0.04630580758684187,
                    -0.030463001756075588,
                    -0.028840260844444514,
                    -0.04262452443562543,
                    -0.051184116409191543,
                    -0.06443482580957291,
                    -0.06537511047982517,
                    -0.05018805858906229,
                    -0.028421003308858835,
                    -0.0268478318977851,
                    -0.034815090648291976,
                    -0.05172722236239973,
                    -0.04643236434776526,
                    -0.054317148709463484,
                    -0.039291812222311234,
                    -0.02314813631832976,
                    -0.024196655485003243,
                    -0.032113995432022854,
                    -0.042379353677870144,
                    -0.04561044082465644,
                    -0.05565027015273403,
                    -0.041066869700653326,
                    -0.02011881424701007,
                    -0.028159435228562745,
                    -0.03882344053007385,
                    -0.05573727618431497,
                    -0.05902134491424669,
                    -0.04909402038920586,
                    -0.04386644900249696,
                    -0.028819282348936964,
                    -0.03061262206792711,
                    -0.03848156596095349,
                    -0.04930733239487869,
                    -0.04696726679193636,
                    -0.04393009660010524,
                    -0.03509004863504638,
                    -0.01793463132016596,
                    -0.023656944745028722,
                    -0.03880951842938551,
                    -0.04569671106376545,
                    -0.04765154463988174,
                    -0.05523191465825941,
                    -0.03639112951074182,
                    -0.014359627084255448,
                    -0.019166888110048116,
                    -0.03655131115948773,
                    -0.04692115432627951,
                    -0.05056861230234009,
                    -0.04890661135671265,
                    -0.029702263286551657,
                    -0.01059439436269506,
                    -0.020504233628857206,
                    -0.034629786201358634,
                    -0.04164574451624007,
                    -0.04462295701612404,
                    -0.041799701909004595,
                    -0.034312273982229406,
                    -0.008464457466852187,
                    -0.012180710427996759,
                    -0.02174715818442264,
                    -0.03236801553418957,
                    -0.04140797894918817,
                    -0.03725697792765149,
                    -0.027590754380031696,
                    -0.01092014054249444,
                    -0.016172108740111973,
                    -0.027441852462188485,
                    -0.03251231282654655,
                    -0.04187122661726774,
                    -0.038474809096922934,
                    -0.0335586923884657,
                    -0.014264881762290104,
                    -0.017289027959107483,
                    -0.025051605864869313,
                    -0.03008732373042741,
                    -0.04176278089261826,
                    -0.04658017473796328,
                    -0.03617421871778837,
                    -0.016040476516856646,
                    -0.02004686397024583,
                    -0.02484352868877056,
                    -0.027937257934336678,
                    -0.0382070037056155,
                    -0.042568805160762786,
                    -0.03435213783721473,
                    -0.01276836102536505,
                    -0.01842309275512654,
                    -0.02142979017735248,
                    -0.024310754252953162,
                    -0.03276234705725404,
                    -0.033904136738297584,
                    -0.0286636518881713,
                    -0.010228790936341083,
                    -0.018141270544735775,
                    -0.014061503215626938,
                    -0.014735052411399666,
                    -0.023605193158280382,
                    -0.02777261296745781,
                    -0.02179420012734647,
                    -0.009557731995987674,
                    -0.014409030052628868,
                    -0.011200946776353604,
                    -0.01341197048782455,
                    -0.023771872794564435,
                    -0.02599378813621357,
                    -0.018428438529153435,
                    -0.009517801286916112,
                    -0.014816447920030479,
                    -0.011207904408770963,
                    -0.011218200003423974,
                    -0.018443243956294323,
                    -0.020703064155568395,
                    -0.014864791739742424,
                    -0.007106948783834511,
                    -0.010251885054487929,
                    -0.0027775149288442286,
                    -0.0038238167596930184,
                    -0.010146710622967611,
                    -0.008864267948566078,
                    -0.003925313099138081,
                    -0.00010037525105971352,
                    -0.0008180319815900069,
                    0.004640454568716456
                  ],
                  "yaxis": "y"
                }
              ],
              "layout": {
                "legend": {
                  "title": {
                    "text": "variable"
                  },
                  "tracegroupgap": 0
                },
                "template": {
                  "data": {
                    "bar": [
                      {
                        "error_x": {
                          "color": "#2a3f5f"
                        },
                        "error_y": {
                          "color": "#2a3f5f"
                        },
                        "marker": {
                          "line": {
                            "color": "#E5ECF6",
                            "width": 0.5
                          },
                          "pattern": {
                            "fillmode": "overlay",
                            "size": 10,
                            "solidity": 0.2
                          }
                        },
                        "type": "bar"
                      }
                    ],
                    "barpolar": [
                      {
                        "marker": {
                          "line": {
                            "color": "#E5ECF6",
                            "width": 0.5
                          },
                          "pattern": {
                            "fillmode": "overlay",
                            "size": 10,
                            "solidity": 0.2
                          }
                        },
                        "type": "barpolar"
                      }
                    ],
                    "carpet": [
                      {
                        "aaxis": {
                          "endlinecolor": "#2a3f5f",
                          "gridcolor": "white",
                          "linecolor": "white",
                          "minorgridcolor": "white",
                          "startlinecolor": "#2a3f5f"
                        },
                        "baxis": {
                          "endlinecolor": "#2a3f5f",
                          "gridcolor": "white",
                          "linecolor": "white",
                          "minorgridcolor": "white",
                          "startlinecolor": "#2a3f5f"
                        },
                        "type": "carpet"
                      }
                    ],
                    "choropleth": [
                      {
                        "colorbar": {
                          "outlinewidth": 0,
                          "ticks": ""
                        },
                        "type": "choropleth"
                      }
                    ],
                    "contour": [
                      {
                        "colorbar": {
                          "outlinewidth": 0,
                          "ticks": ""
                        },
                        "colorscale": [
                          [
                            0,
                            "#0d0887"
                          ],
                          [
                            0.1111111111111111,
                            "#46039f"
                          ],
                          [
                            0.2222222222222222,
                            "#7201a8"
                          ],
                          [
                            0.3333333333333333,
                            "#9c179e"
                          ],
                          [
                            0.4444444444444444,
                            "#bd3786"
                          ],
                          [
                            0.5555555555555556,
                            "#d8576b"
                          ],
                          [
                            0.6666666666666666,
                            "#ed7953"
                          ],
                          [
                            0.7777777777777778,
                            "#fb9f3a"
                          ],
                          [
                            0.8888888888888888,
                            "#fdca26"
                          ],
                          [
                            1,
                            "#f0f921"
                          ]
                        ],
                        "type": "contour"
                      }
                    ],
                    "contourcarpet": [
                      {
                        "colorbar": {
                          "outlinewidth": 0,
                          "ticks": ""
                        },
                        "type": "contourcarpet"
                      }
                    ],
                    "heatmap": [
                      {
                        "colorbar": {
                          "outlinewidth": 0,
                          "ticks": ""
                        },
                        "colorscale": [
                          [
                            0,
                            "#0d0887"
                          ],
                          [
                            0.1111111111111111,
                            "#46039f"
                          ],
                          [
                            0.2222222222222222,
                            "#7201a8"
                          ],
                          [
                            0.3333333333333333,
                            "#9c179e"
                          ],
                          [
                            0.4444444444444444,
                            "#bd3786"
                          ],
                          [
                            0.5555555555555556,
                            "#d8576b"
                          ],
                          [
                            0.6666666666666666,
                            "#ed7953"
                          ],
                          [
                            0.7777777777777778,
                            "#fb9f3a"
                          ],
                          [
                            0.8888888888888888,
                            "#fdca26"
                          ],
                          [
                            1,
                            "#f0f921"
                          ]
                        ],
                        "type": "heatmap"
                      }
                    ],
                    "heatmapgl": [
                      {
                        "colorbar": {
                          "outlinewidth": 0,
                          "ticks": ""
                        },
                        "colorscale": [
                          [
                            0,
                            "#0d0887"
                          ],
                          [
                            0.1111111111111111,
                            "#46039f"
                          ],
                          [
                            0.2222222222222222,
                            "#7201a8"
                          ],
                          [
                            0.3333333333333333,
                            "#9c179e"
                          ],
                          [
                            0.4444444444444444,
                            "#bd3786"
                          ],
                          [
                            0.5555555555555556,
                            "#d8576b"
                          ],
                          [
                            0.6666666666666666,
                            "#ed7953"
                          ],
                          [
                            0.7777777777777778,
                            "#fb9f3a"
                          ],
                          [
                            0.8888888888888888,
                            "#fdca26"
                          ],
                          [
                            1,
                            "#f0f921"
                          ]
                        ],
                        "type": "heatmapgl"
                      }
                    ],
                    "histogram": [
                      {
                        "marker": {
                          "pattern": {
                            "fillmode": "overlay",
                            "size": 10,
                            "solidity": 0.2
                          }
                        },
                        "type": "histogram"
                      }
                    ],
                    "histogram2d": [
                      {
                        "colorbar": {
                          "outlinewidth": 0,
                          "ticks": ""
                        },
                        "colorscale": [
                          [
                            0,
                            "#0d0887"
                          ],
                          [
                            0.1111111111111111,
                            "#46039f"
                          ],
                          [
                            0.2222222222222222,
                            "#7201a8"
                          ],
                          [
                            0.3333333333333333,
                            "#9c179e"
                          ],
                          [
                            0.4444444444444444,
                            "#bd3786"
                          ],
                          [
                            0.5555555555555556,
                            "#d8576b"
                          ],
                          [
                            0.6666666666666666,
                            "#ed7953"
                          ],
                          [
                            0.7777777777777778,
                            "#fb9f3a"
                          ],
                          [
                            0.8888888888888888,
                            "#fdca26"
                          ],
                          [
                            1,
                            "#f0f921"
                          ]
                        ],
                        "type": "histogram2d"
                      }
                    ],
                    "histogram2dcontour": [
                      {
                        "colorbar": {
                          "outlinewidth": 0,
                          "ticks": ""
                        },
                        "colorscale": [
                          [
                            0,
                            "#0d0887"
                          ],
                          [
                            0.1111111111111111,
                            "#46039f"
                          ],
                          [
                            0.2222222222222222,
                            "#7201a8"
                          ],
                          [
                            0.3333333333333333,
                            "#9c179e"
                          ],
                          [
                            0.4444444444444444,
                            "#bd3786"
                          ],
                          [
                            0.5555555555555556,
                            "#d8576b"
                          ],
                          [
                            0.6666666666666666,
                            "#ed7953"
                          ],
                          [
                            0.7777777777777778,
                            "#fb9f3a"
                          ],
                          [
                            0.8888888888888888,
                            "#fdca26"
                          ],
                          [
                            1,
                            "#f0f921"
                          ]
                        ],
                        "type": "histogram2dcontour"
                      }
                    ],
                    "mesh3d": [
                      {
                        "colorbar": {
                          "outlinewidth": 0,
                          "ticks": ""
                        },
                        "type": "mesh3d"
                      }
                    ],
                    "parcoords": [
                      {
                        "line": {
                          "colorbar": {
                            "outlinewidth": 0,
                            "ticks": ""
                          }
                        },
                        "type": "parcoords"
                      }
                    ],
                    "pie": [
                      {
                        "automargin": true,
                        "type": "pie"
                      }
                    ],
                    "scatter": [
                      {
                        "marker": {
                          "colorbar": {
                            "outlinewidth": 0,
                            "ticks": ""
                          }
                        },
                        "type": "scatter"
                      }
                    ],
                    "scatter3d": [
                      {
                        "line": {
                          "colorbar": {
                            "outlinewidth": 0,
                            "ticks": ""
                          }
                        },
                        "marker": {
                          "colorbar": {
                            "outlinewidth": 0,
                            "ticks": ""
                          }
                        },
                        "type": "scatter3d"
                      }
                    ],
                    "scattercarpet": [
                      {
                        "marker": {
                          "colorbar": {
                            "outlinewidth": 0,
                            "ticks": ""
                          }
                        },
                        "type": "scattercarpet"
                      }
                    ],
                    "scattergeo": [
                      {
                        "marker": {
                          "colorbar": {
                            "outlinewidth": 0,
                            "ticks": ""
                          }
                        },
                        "type": "scattergeo"
                      }
                    ],
                    "scattergl": [
                      {
                        "marker": {
                          "colorbar": {
                            "outlinewidth": 0,
                            "ticks": ""
                          }
                        },
                        "type": "scattergl"
                      }
                    ],
                    "scattermapbox": [
                      {
                        "marker": {
                          "colorbar": {
                            "outlinewidth": 0,
                            "ticks": ""
                          }
                        },
                        "type": "scattermapbox"
                      }
                    ],
                    "scatterpolar": [
                      {
                        "marker": {
                          "colorbar": {
                            "outlinewidth": 0,
                            "ticks": ""
                          }
                        },
                        "type": "scatterpolar"
                      }
                    ],
                    "scatterpolargl": [
                      {
                        "marker": {
                          "colorbar": {
                            "outlinewidth": 0,
                            "ticks": ""
                          }
                        },
                        "type": "scatterpolargl"
                      }
                    ],
                    "scatterternary": [
                      {
                        "marker": {
                          "colorbar": {
                            "outlinewidth": 0,
                            "ticks": ""
                          }
                        },
                        "type": "scatterternary"
                      }
                    ],
                    "surface": [
                      {
                        "colorbar": {
                          "outlinewidth": 0,
                          "ticks": ""
                        },
                        "colorscale": [
                          [
                            0,
                            "#0d0887"
                          ],
                          [
                            0.1111111111111111,
                            "#46039f"
                          ],
                          [
                            0.2222222222222222,
                            "#7201a8"
                          ],
                          [
                            0.3333333333333333,
                            "#9c179e"
                          ],
                          [
                            0.4444444444444444,
                            "#bd3786"
                          ],
                          [
                            0.5555555555555556,
                            "#d8576b"
                          ],
                          [
                            0.6666666666666666,
                            "#ed7953"
                          ],
                          [
                            0.7777777777777778,
                            "#fb9f3a"
                          ],
                          [
                            0.8888888888888888,
                            "#fdca26"
                          ],
                          [
                            1,
                            "#f0f921"
                          ]
                        ],
                        "type": "surface"
                      }
                    ],
                    "table": [
                      {
                        "cells": {
                          "fill": {
                            "color": "#EBF0F8"
                          },
                          "line": {
                            "color": "white"
                          }
                        },
                        "header": {
                          "fill": {
                            "color": "#C8D4E3"
                          },
                          "line": {
                            "color": "white"
                          }
                        },
                        "type": "table"
                      }
                    ]
                  },
                  "layout": {
                    "annotationdefaults": {
                      "arrowcolor": "#2a3f5f",
                      "arrowhead": 0,
                      "arrowwidth": 1
                    },
                    "autotypenumbers": "strict",
                    "coloraxis": {
                      "colorbar": {
                        "outlinewidth": 0,
                        "ticks": ""
                      }
                    },
                    "colorscale": {
                      "diverging": [
                        [
                          0,
                          "#8e0152"
                        ],
                        [
                          0.1,
                          "#c51b7d"
                        ],
                        [
                          0.2,
                          "#de77ae"
                        ],
                        [
                          0.3,
                          "#f1b6da"
                        ],
                        [
                          0.4,
                          "#fde0ef"
                        ],
                        [
                          0.5,
                          "#f7f7f7"
                        ],
                        [
                          0.6,
                          "#e6f5d0"
                        ],
                        [
                          0.7,
                          "#b8e186"
                        ],
                        [
                          0.8,
                          "#7fbc41"
                        ],
                        [
                          0.9,
                          "#4d9221"
                        ],
                        [
                          1,
                          "#276419"
                        ]
                      ],
                      "sequential": [
                        [
                          0,
                          "#0d0887"
                        ],
                        [
                          0.1111111111111111,
                          "#46039f"
                        ],
                        [
                          0.2222222222222222,
                          "#7201a8"
                        ],
                        [
                          0.3333333333333333,
                          "#9c179e"
                        ],
                        [
                          0.4444444444444444,
                          "#bd3786"
                        ],
                        [
                          0.5555555555555556,
                          "#d8576b"
                        ],
                        [
                          0.6666666666666666,
                          "#ed7953"
                        ],
                        [
                          0.7777777777777778,
                          "#fb9f3a"
                        ],
                        [
                          0.8888888888888888,
                          "#fdca26"
                        ],
                        [
                          1,
                          "#f0f921"
                        ]
                      ],
                      "sequentialminus": [
                        [
                          0,
                          "#0d0887"
                        ],
                        [
                          0.1111111111111111,
                          "#46039f"
                        ],
                        [
                          0.2222222222222222,
                          "#7201a8"
                        ],
                        [
                          0.3333333333333333,
                          "#9c179e"
                        ],
                        [
                          0.4444444444444444,
                          "#bd3786"
                        ],
                        [
                          0.5555555555555556,
                          "#d8576b"
                        ],
                        [
                          0.6666666666666666,
                          "#ed7953"
                        ],
                        [
                          0.7777777777777778,
                          "#fb9f3a"
                        ],
                        [
                          0.8888888888888888,
                          "#fdca26"
                        ],
                        [
                          1,
                          "#f0f921"
                        ]
                      ]
                    },
                    "colorway": [
                      "#636efa",
                      "#EF553B",
                      "#00cc96",
                      "#ab63fa",
                      "#FFA15A",
                      "#19d3f3",
                      "#FF6692",
                      "#B6E880",
                      "#FF97FF",
                      "#FECB52"
                    ],
                    "font": {
                      "color": "#2a3f5f"
                    },
                    "geo": {
                      "bgcolor": "white",
                      "lakecolor": "white",
                      "landcolor": "#E5ECF6",
                      "showlakes": true,
                      "showland": true,
                      "subunitcolor": "white"
                    },
                    "hoverlabel": {
                      "align": "left"
                    },
                    "hovermode": "closest",
                    "mapbox": {
                      "style": "light"
                    },
                    "paper_bgcolor": "white",
                    "plot_bgcolor": "#E5ECF6",
                    "polar": {
                      "angularaxis": {
                        "gridcolor": "white",
                        "linecolor": "white",
                        "ticks": ""
                      },
                      "bgcolor": "#E5ECF6",
                      "radialaxis": {
                        "gridcolor": "white",
                        "linecolor": "white",
                        "ticks": ""
                      }
                    },
                    "scene": {
                      "xaxis": {
                        "backgroundcolor": "#E5ECF6",
                        "gridcolor": "white",
                        "gridwidth": 2,
                        "linecolor": "white",
                        "showbackground": true,
                        "ticks": "",
                        "zerolinecolor": "white"
                      },
                      "yaxis": {
                        "backgroundcolor": "#E5ECF6",
                        "gridcolor": "white",
                        "gridwidth": 2,
                        "linecolor": "white",
                        "showbackground": true,
                        "ticks": "",
                        "zerolinecolor": "white"
                      },
                      "zaxis": {
                        "backgroundcolor": "#E5ECF6",
                        "gridcolor": "white",
                        "gridwidth": 2,
                        "linecolor": "white",
                        "showbackground": true,
                        "ticks": "",
                        "zerolinecolor": "white"
                      }
                    },
                    "shapedefaults": {
                      "line": {
                        "color": "#2a3f5f"
                      }
                    },
                    "ternary": {
                      "aaxis": {
                        "gridcolor": "white",
                        "linecolor": "white",
                        "ticks": ""
                      },
                      "baxis": {
                        "gridcolor": "white",
                        "linecolor": "white",
                        "ticks": ""
                      },
                      "bgcolor": "#E5ECF6",
                      "caxis": {
                        "gridcolor": "white",
                        "linecolor": "white",
                        "ticks": ""
                      }
                    },
                    "title": {
                      "x": 0.05
                    },
                    "xaxis": {
                      "automargin": true,
                      "gridcolor": "white",
                      "linecolor": "white",
                      "ticks": "",
                      "title": {
                        "standoff": 15
                      },
                      "zerolinecolor": "white",
                      "zerolinewidth": 2
                    },
                    "yaxis": {
                      "automargin": true,
                      "gridcolor": "white",
                      "linecolor": "white",
                      "ticks": "",
                      "title": {
                        "standoff": 15
                      },
                      "zerolinecolor": "white",
                      "zerolinewidth": 2
                    }
                  }
                },
                "title": {
                  "text": "Autocorrelacion"
                },
                "xaxis": {
                  "anchor": "y",
                  "domain": [
                    0,
                    1
                  ],
                  "title": {
                    "text": "Lag"
                  }
                },
                "yaxis": {
                  "anchor": "x",
                  "domain": [
                    0,
                    1
                  ],
                  "title": {
                    "text": "Correlacion"
                  }
                }
              }
            }
          },
          "metadata": {},
          "output_type": "display_data"
        }
      ],
      "source": [
        "grafico_corr = px.scatter(autocorr, title= 'Autocorrelacion')\n",
        "grafico_corr.update_layout(xaxis={\"title\": \"Lag\"},yaxis={\"title\": \"Correlacion\"})\n",
        "grafico_corr.show()"
      ]
    },
    {
      "cell_type": "markdown",
      "metadata": {},
      "source": [
        "### Componentes de la serie"
      ]
    },
    {
      "cell_type": "markdown",
      "metadata": {},
      "source": [
        "Para descomponer la serie vamos a utilizar el dataset semanal"
      ]
    },
    {
      "cell_type": "code",
      "execution_count": 51,
      "metadata": {},
      "outputs": [
        {
          "data": {
            "image/png": "[encoded data removed]",
            "text/plain": [
              "<Figure size 432x288 with 4 Axes>"
            ]
          },
          "execution_count": 51,
          "metadata": {},
          "output_type": "execute_result"
        },
        {
          "data": {
            "image/png": "[encoded data removed]",
            "text/plain": [
              "<Figure size 432x288 with 4 Axes>"
            ]
          },
          "metadata": {
            "needs_background": "light"
          },
          "output_type": "display_data"
        }
      ],
      "source": [
        "from statsmodels.tsa.seasonal import seasonal_decompose\n",
        "\n",
        "result = seasonal_decompose(semanal, model='additive', period=(int(365/7)))\n",
        "result.plot()"
      ]
    },
    {
      "cell_type": "code",
      "execution_count": 75,
      "metadata": {},
      "outputs": [
        {
          "data": {
            "application/vnd.plotly.v1+json": {
              "config": {
                "plotlyServerURL": "https://plot.ly"
              },
              "data": [
                {
                  "hovertemplate": "variable=trend<br>fecha=%{x}<br>value=%{y}<extra></extra>",
                  "legendgroup": "trend",
                  "line": {
                    "color": "rgb(0, 255, 0)",
                    "dash": "solid"
                  },
                  "marker": {
                    "symbol": "circle"
                  },
                  "mode": "lines",
                  "name": "trend",
                  "orientation": "v",
                  "showlegend": true,
                  "type": "scatter",
                  "x": [
                    "2017-01-01T00:00:00",
                    "2017-01-08T00:00:00",
                    "2017-01-15T00:00:00",
                    "2017-01-22T00:00:00",
                    "2017-01-29T00:00:00",
                    "2017-02-05T00:00:00",
                    "2017-02-12T00:00:00",
                    "2017-02-19T00:00:00",
                    "2017-02-26T00:00:00",
                    "2017-03-05T00:00:00",
                    "2017-03-12T00:00:00",
                    "2017-03-19T00:00:00",
                    "2017-03-26T00:00:00",
                    "2017-04-02T00:00:00",
                    "2017-04-09T00:00:00",
                    "2017-04-16T00:00:00",
                    "2017-04-23T00:00:00",
                    "2017-04-30T00:00:00",
                    "2017-05-07T00:00:00",
                    "2017-05-14T00:00:00",
                    "2017-05-21T00:00:00",
                    "2017-05-28T00:00:00",
                    "2017-06-04T00:00:00",
                    "2017-06-11T00:00:00",
                    "2017-06-18T00:00:00",
                    "2017-06-25T00:00:00",
                    "2017-07-02T00:00:00",
                    "2017-07-09T00:00:00",
                    "2017-07-16T00:00:00",
                    "2017-07-23T00:00:00",
                    "2017-07-30T00:00:00",
                    "2017-08-06T00:00:00",
                    "2017-08-13T00:00:00",
                    "2017-08-20T00:00:00",
                    "2017-08-27T00:00:00",
                    "2017-09-03T00:00:00",
                    "2017-09-10T00:00:00",
                    "2017-09-17T00:00:00",
                    "2017-09-24T00:00:00",
                    "2017-10-01T00:00:00",
                    "2017-10-08T00:00:00",
                    "2017-10-15T00:00:00",
                    "2017-10-22T00:00:00",
                    "2017-10-29T00:00:00",
                    "2017-11-05T00:00:00",
                    "2017-11-12T00:00:00",
                    "2017-11-19T00:00:00",
                    "2017-11-26T00:00:00",
                    "2017-12-03T00:00:00",
                    "2017-12-10T00:00:00",
                    "2017-12-17T00:00:00",
                    "2017-12-24T00:00:00",
                    "2017-12-31T00:00:00",
                    "2018-01-07T00:00:00",
                    "2018-01-14T00:00:00",
                    "2018-01-21T00:00:00",
                    "2018-01-28T00:00:00",
                    "2018-02-04T00:00:00",
                    "2018-02-11T00:00:00",
                    "2018-02-18T00:00:00",
                    "2018-02-25T00:00:00",
                    "2018-03-04T00:00:00",
                    "2018-03-11T00:00:00",
                    "2018-03-18T00:00:00",
                    "2018-03-25T00:00:00",
                    "2018-04-01T00:00:00",
                    "2018-04-08T00:00:00",
                    "2018-04-15T00:00:00",
                    "2018-04-22T00:00:00",
                    "2018-04-29T00:00:00",
                    "2018-05-06T00:00:00",
                    "2018-05-13T00:00:00",
                    "2018-05-20T00:00:00",
                    "2018-05-27T00:00:00",
                    "2018-06-03T00:00:00",
                    "2018-06-10T00:00:00",
                    "2018-06-17T00:00:00",
                    "2018-06-24T00:00:00",
                    "2018-07-01T00:00:00",
                    "2018-07-08T00:00:00",
                    "2018-07-15T00:00:00",
                    "2018-07-22T00:00:00",
                    "2018-07-29T00:00:00",
                    "2018-08-05T00:00:00",
                    "2018-08-12T00:00:00",
                    "2018-08-19T00:00:00",
                    "2018-08-26T00:00:00",
                    "2018-09-02T00:00:00",
                    "2018-09-09T00:00:00",
                    "2018-09-16T00:00:00",
                    "2018-09-23T00:00:00",
                    "2018-09-30T00:00:00",
                    "2018-10-07T00:00:00",
                    "2018-10-14T00:00:00",
                    "2018-10-21T00:00:00",
                    "2018-10-28T00:00:00",
                    "2018-11-04T00:00:00",
                    "2018-11-11T00:00:00",
                    "2018-11-18T00:00:00",
                    "2018-11-25T00:00:00",
                    "2018-12-02T00:00:00",
                    "2018-12-09T00:00:00",
                    "2018-12-16T00:00:00",
                    "2018-12-23T00:00:00",
                    "2018-12-30T00:00:00",
                    "2019-01-06T00:00:00",
                    "2019-01-13T00:00:00",
                    "2019-01-20T00:00:00",
                    "2019-01-27T00:00:00",
                    "2019-02-03T00:00:00",
                    "2019-02-10T00:00:00",
                    "2019-02-17T00:00:00",
                    "2019-02-24T00:00:00",
                    "2019-03-03T00:00:00",
                    "2019-03-10T00:00:00",
                    "2019-03-17T00:00:00",
                    "2019-03-24T00:00:00",
                    "2019-03-31T00:00:00",
                    "2019-04-07T00:00:00",
                    "2019-04-14T00:00:00",
                    "2019-04-21T00:00:00",
                    "2019-04-28T00:00:00",
                    "2019-05-05T00:00:00",
                    "2019-05-12T00:00:00",
                    "2019-05-19T00:00:00",
                    "2019-05-26T00:00:00",
                    "2019-06-02T00:00:00",
                    "2019-06-09T00:00:00",
                    "2019-06-16T00:00:00",
                    "2019-06-23T00:00:00",
                    "2019-06-30T00:00:00",
                    "2019-07-07T00:00:00",
                    "2019-07-14T00:00:00",
                    "2019-07-21T00:00:00",
                    "2019-07-28T00:00:00",
                    "2019-08-04T00:00:00",
                    "2019-08-11T00:00:00",
                    "2019-08-18T00:00:00",
                    "2019-08-25T00:00:00",
                    "2019-09-01T00:00:00",
                    "2019-09-08T00:00:00",
                    "2019-09-15T00:00:00",
                    "2019-09-22T00:00:00",
                    "2019-09-29T00:00:00",
                    "2019-10-06T00:00:00",
                    "2019-10-13T00:00:00",
                    "2019-10-20T00:00:00",
                    "2019-10-27T00:00:00",
                    "2019-11-03T00:00:00",
                    "2019-11-10T00:00:00",
                    "2019-11-17T00:00:00",
                    "2019-11-24T00:00:00",
                    "2019-12-01T00:00:00",
                    "2019-12-08T00:00:00",
                    "2019-12-15T00:00:00",
                    "2019-12-22T00:00:00",
                    "2019-12-29T00:00:00",
                    "2020-01-05T00:00:00"
                  ],
                  "xaxis": "x",
                  "y": [
                    null,
                    null,
                    null,
                    null,
                    null,
                    null,
                    null,
                    null,
                    null,
                    null,
                    null,
                    null,
                    null,
                    null,
                    null,
                    null,
                    null,
                    null,
                    null,
                    null,
                    null,
                    null,
                    null,
                    null,
                    null,
                    null,
                    339618.1732630273,
                    341844.5098014889,
                    340906.0194168735,
                    340141.7021091812,
                    339607.5674937965,
                    339166.9905707196,
                    338831.8367245658,
                    338438.8174937966,
                    338106.3848014889,
                    338447.0674937965,
                    339118.9136476427,
                    339570.1732630273,
                    340188.4521091812,
                    340521.4328784119,
                    340348.7452853598,
                    340580.81730769225,
                    340754.1057692308,
                    340320.326923077,
                    339674.201923077,
                    339449.56730769225,
                    339604.44230769237,
                    339649.81730769237,
                    339564.1153846154,
                    339242.7307692308,
                    338741.3461538462,
                    338166.4903846154,
                    337515.56256163714,
                    337012.2308925049,
                    336545.09627712035,
                    335794.3847386588,
                    334923.1443540434,
                    334036.8078155819,
                    333295.97127712035,
                    332701.9905078896,
                    332173.3078155819,
                    331497.6347386588,
                    330697.40396942804,
                    329460.7885848126,
                    328033.90396942804,
                    326736.3745685404,
                    324831.7009368837,
                    323027.1336291914,
                    321950.8547830375,
                    320912.941321499,
                    319869.03747534525,
                    318636.85478303744,
                    317182.57593688363,
                    315836.1336291913,
                    314189.8204778266,
                    312789.7477110773,
                    311886.5938649234,
                    311288.63232646184,
                    310600.1611726156,
                    309522.4784803079,
                    308359.48809569253,
                    306980.2092495388,
                    305589.72848030797,
                    304314.9688649234,
                    302838.55540338496,
                    301541.35348030797,
                    300708.6996341541,
                    299724.31501876947,
                    298553.0842495387,
                    297256.56501876947,
                    295731.27655723103,
                    294657.6419418464,
                    293861.15155723103,
                    292626.17078800034,
                    291347.4111726156,
                    290295.94001876947,
                    289485.95924953866,
                    288734.0554033848,
                    287807.7092495387,
                    286913.62271107716,
                    286283.10478303744,
                    285745.0676242285,
                    285112.82723961317,
                    284180.856085767,
                    283355.21660105296,
                    282829.37519326207,
                    282181.9232701851,
                    281599.5290394159,
                    281286.702116339,
                    281069.10596249276,
                    280677.5482701851,
                    280087.7982701851,
                    279519.1444240313,
                    279144.07711633894,
                    278794.82711633894,
                    278458.4617317236,
                    278193.0386548006,
                    278104.26997876505,
                    278398.00130272954,
                    278140.7705334987,
                    277366.8955334987,
                    276682.4628411911,
                    275952.15514888335,
                    275396.5878411911,
                    274922.2032258065,
                    274441.47245657566,
                    274165.01637717115,
                    273762.0602977667,
                    272990.1852977667,
                    272368.68529776676,
                    271922.3199131513,
                    269850.25260545907,
                    null,
                    null,
                    null,
                    null,
                    null,
                    null,
                    null,
                    null,
                    null,
                    null,
                    null,
                    null,
                    null,
                    null,
                    null,
                    null,
                    null,
                    null,
                    null,
                    null,
                    null,
                    null,
                    null,
                    null,
                    null,
                    null
                  ],
                  "yaxis": "y"
                }
              ],
              "layout": {
                "legend": {
                  "title": {
                    "text": "variable"
                  },
                  "tracegroupgap": 0
                },
                "margin": {
                  "t": 60
                },
                "template": {
                  "data": {
                    "bar": [
                      {
                        "error_x": {
                          "color": "#2a3f5f"
                        },
                        "error_y": {
                          "color": "#2a3f5f"
                        },
                        "marker": {
                          "line": {
                            "color": "#E5ECF6",
                            "width": 0.5
                          },
                          "pattern": {
                            "fillmode": "overlay",
                            "size": 10,
                            "solidity": 0.2
                          }
                        },
                        "type": "bar"
                      }
                    ],
                    "barpolar": [
                      {
                        "marker": {
                          "line": {
                            "color": "#E5ECF6",
                            "width": 0.5
                          },
                          "pattern": {
                            "fillmode": "overlay",
                            "size": 10,
                            "solidity": 0.2
                          }
                        },
                        "type": "barpolar"
                      }
                    ],
                    "carpet": [
                      {
                        "aaxis": {
                          "endlinecolor": "#2a3f5f",
                          "gridcolor": "white",
                          "linecolor": "white",
                          "minorgridcolor": "white",
                          "startlinecolor": "#2a3f5f"
                        },
                        "baxis": {
                          "endlinecolor": "#2a3f5f",
                          "gridcolor": "white",
                          "linecolor": "white",
                          "minorgridcolor": "white",
                          "startlinecolor": "#2a3f5f"
                        },
                        "type": "carpet"
                      }
                    ],
                    "choropleth": [
                      {
                        "colorbar": {
                          "outlinewidth": 0,
                          "ticks": ""
                        },
                        "type": "choropleth"
                      }
                    ],
                    "contour": [
                      {
                        "colorbar": {
                          "outlinewidth": 0,
                          "ticks": ""
                        },
                        "colorscale": [
                          [
                            0,
                            "#0d0887"
                          ],
                          [
                            0.1111111111111111,
                            "#46039f"
                          ],
                          [
                            0.2222222222222222,
                            "#7201a8"
                          ],
                          [
                            0.3333333333333333,
                            "#9c179e"
                          ],
                          [
                            0.4444444444444444,
                            "#bd3786"
                          ],
                          [
                            0.5555555555555556,
                            "#d8576b"
                          ],
                          [
                            0.6666666666666666,
                            "#ed7953"
                          ],
                          [
                            0.7777777777777778,
                            "#fb9f3a"
                          ],
                          [
                            0.8888888888888888,
                            "#fdca26"
                          ],
                          [
                            1,
                            "#f0f921"
                          ]
                        ],
                        "type": "contour"
                      }
                    ],
                    "contourcarpet": [
                      {
                        "colorbar": {
                          "outlinewidth": 0,
                          "ticks": ""
                        },
                        "type": "contourcarpet"
                      }
                    ],
                    "heatmap": [
                      {
                        "colorbar": {
                          "outlinewidth": 0,
                          "ticks": ""
                        },
                        "colorscale": [
                          [
                            0,
                            "#0d0887"
                          ],
                          [
                            0.1111111111111111,
                            "#46039f"
                          ],
                          [
                            0.2222222222222222,
                            "#7201a8"
                          ],
                          [
                            0.3333333333333333,
                            "#9c179e"
                          ],
                          [
                            0.4444444444444444,
                            "#bd3786"
                          ],
                          [
                            0.5555555555555556,
                            "#d8576b"
                          ],
                          [
                            0.6666666666666666,
                            "#ed7953"
                          ],
                          [
                            0.7777777777777778,
                            "#fb9f3a"
                          ],
                          [
                            0.8888888888888888,
                            "#fdca26"
                          ],
                          [
                            1,
                            "#f0f921"
                          ]
                        ],
                        "type": "heatmap"
                      }
                    ],
                    "heatmapgl": [
                      {
                        "colorbar": {
                          "outlinewidth": 0,
                          "ticks": ""
                        },
                        "colorscale": [
                          [
                            0,
                            "#0d0887"
                          ],
                          [
                            0.1111111111111111,
                            "#46039f"
                          ],
                          [
                            0.2222222222222222,
                            "#7201a8"
                          ],
                          [
                            0.3333333333333333,
                            "#9c179e"
                          ],
                          [
                            0.4444444444444444,
                            "#bd3786"
                          ],
                          [
                            0.5555555555555556,
                            "#d8576b"
                          ],
                          [
                            0.6666666666666666,
                            "#ed7953"
                          ],
                          [
                            0.7777777777777778,
                            "#fb9f3a"
                          ],
                          [
                            0.8888888888888888,
                            "#fdca26"
                          ],
                          [
                            1,
                            "#f0f921"
                          ]
                        ],
                        "type": "heatmapgl"
                      }
                    ],
                    "histogram": [
                      {
                        "marker": {
                          "pattern": {
                            "fillmode": "overlay",
                            "size": 10,
                            "solidity": 0.2
                          }
                        },
                        "type": "histogram"
                      }
                    ],
                    "histogram2d": [
                      {
                        "colorbar": {
                          "outlinewidth": 0,
                          "ticks": ""
                        },
                        "colorscale": [
                          [
                            0,
                            "#0d0887"
                          ],
                          [
                            0.1111111111111111,
                            "#46039f"
                          ],
                          [
                            0.2222222222222222,
                            "#7201a8"
                          ],
                          [
                            0.3333333333333333,
                            "#9c179e"
                          ],
                          [
                            0.4444444444444444,
                            "#bd3786"
                          ],
                          [
                            0.5555555555555556,
                            "#d8576b"
                          ],
                          [
                            0.6666666666666666,
                            "#ed7953"
                          ],
                          [
                            0.7777777777777778,
                            "#fb9f3a"
                          ],
                          [
                            0.8888888888888888,
                            "#fdca26"
                          ],
                          [
                            1,
                            "#f0f921"
                          ]
                        ],
                        "type": "histogram2d"
                      }
                    ],
                    "histogram2dcontour": [
                      {
                        "colorbar": {
                          "outlinewidth": 0,
                          "ticks": ""
                        },
                        "colorscale": [
                          [
                            0,
                            "#0d0887"
                          ],
                          [
                            0.1111111111111111,
                            "#46039f"
                          ],
                          [
                            0.2222222222222222,
                            "#7201a8"
                          ],
                          [
                            0.3333333333333333,
                            "#9c179e"
                          ],
                          [
                            0.4444444444444444,
                            "#bd3786"
                          ],
                          [
                            0.5555555555555556,
                            "#d8576b"
                          ],
                          [
                            0.6666666666666666,
                            "#ed7953"
                          ],
                          [
                            0.7777777777777778,
                            "#fb9f3a"
                          ],
                          [
                            0.8888888888888888,
                            "#fdca26"
                          ],
                          [
                            1,
                            "#f0f921"
                          ]
                        ],
                        "type": "histogram2dcontour"
                      }
                    ],
                    "mesh3d": [
                      {
                        "colorbar": {
                          "outlinewidth": 0,
                          "ticks": ""
                        },
                        "type": "mesh3d"
                      }
                    ],
                    "parcoords": [
                      {
                        "line": {
                          "colorbar": {
                            "outlinewidth": 0,
                            "ticks": ""
                          }
                        },
                        "type": "parcoords"
                      }
                    ],
                    "pie": [
                      {
                        "automargin": true,
                        "type": "pie"
                      }
                    ],
                    "scatter": [
                      {
                        "marker": {
                          "colorbar": {
                            "outlinewidth": 0,
                            "ticks": ""
                          }
                        },
                        "type": "scatter"
                      }
                    ],
                    "scatter3d": [
                      {
                        "line": {
                          "colorbar": {
                            "outlinewidth": 0,
                            "ticks": ""
                          }
                        },
                        "marker": {
                          "colorbar": {
                            "outlinewidth": 0,
                            "ticks": ""
                          }
                        },
                        "type": "scatter3d"
                      }
                    ],
                    "scattercarpet": [
                      {
                        "marker": {
                          "colorbar": {
                            "outlinewidth": 0,
                            "ticks": ""
                          }
                        },
                        "type": "scattercarpet"
                      }
                    ],
                    "scattergeo": [
                      {
                        "marker": {
                          "colorbar": {
                            "outlinewidth": 0,
                            "ticks": ""
                          }
                        },
                        "type": "scattergeo"
                      }
                    ],
                    "scattergl": [
                      {
                        "marker": {
                          "colorbar": {
                            "outlinewidth": 0,
                            "ticks": ""
                          }
                        },
                        "type": "scattergl"
                      }
                    ],
                    "scattermapbox": [
                      {
                        "marker": {
                          "colorbar": {
                            "outlinewidth": 0,
                            "ticks": ""
                          }
                        },
                        "type": "scattermapbox"
                      }
                    ],
                    "scatterpolar": [
                      {
                        "marker": {
                          "colorbar": {
                            "outlinewidth": 0,
                            "ticks": ""
                          }
                        },
                        "type": "scatterpolar"
                      }
                    ],
                    "scatterpolargl": [
                      {
                        "marker": {
                          "colorbar": {
                            "outlinewidth": 0,
                            "ticks": ""
                          }
                        },
                        "type": "scatterpolargl"
                      }
                    ],
                    "scatterternary": [
                      {
                        "marker": {
                          "colorbar": {
                            "outlinewidth": 0,
                            "ticks": ""
                          }
                        },
                        "type": "scatterternary"
                      }
                    ],
                    "surface": [
                      {
                        "colorbar": {
                          "outlinewidth": 0,
                          "ticks": ""
                        },
                        "colorscale": [
                          [
                            0,
                            "#0d0887"
                          ],
                          [
                            0.1111111111111111,
                            "#46039f"
                          ],
                          [
                            0.2222222222222222,
                            "#7201a8"
                          ],
                          [
                            0.3333333333333333,
                            "#9c179e"
                          ],
                          [
                            0.4444444444444444,
                            "#bd3786"
                          ],
                          [
                            0.5555555555555556,
                            "#d8576b"
                          ],
                          [
                            0.6666666666666666,
                            "#ed7953"
                          ],
                          [
                            0.7777777777777778,
                            "#fb9f3a"
                          ],
                          [
                            0.8888888888888888,
                            "#fdca26"
                          ],
                          [
                            1,
                            "#f0f921"
                          ]
                        ],
                        "type": "surface"
                      }
                    ],
                    "table": [
                      {
                        "cells": {
                          "fill": {
                            "color": "#EBF0F8"
                          },
                          "line": {
                            "color": "white"
                          }
                        },
                        "header": {
                          "fill": {
                            "color": "#C8D4E3"
                          },
                          "line": {
                            "color": "white"
                          }
                        },
                        "type": "table"
                      }
                    ]
                  },
                  "layout": {
                    "annotationdefaults": {
                      "arrowcolor": "#2a3f5f",
                      "arrowhead": 0,
                      "arrowwidth": 1
                    },
                    "autotypenumbers": "strict",
                    "coloraxis": {
                      "colorbar": {
                        "outlinewidth": 0,
                        "ticks": ""
                      }
                    },
                    "colorscale": {
                      "diverging": [
                        [
                          0,
                          "#8e0152"
                        ],
                        [
                          0.1,
                          "#c51b7d"
                        ],
                        [
                          0.2,
                          "#de77ae"
                        ],
                        [
                          0.3,
                          "#f1b6da"
                        ],
                        [
                          0.4,
                          "#fde0ef"
                        ],
                        [
                          0.5,
                          "#f7f7f7"
                        ],
                        [
                          0.6,
                          "#e6f5d0"
                        ],
                        [
                          0.7,
                          "#b8e186"
                        ],
                        [
                          0.8,
                          "#7fbc41"
                        ],
                        [
                          0.9,
                          "#4d9221"
                        ],
                        [
                          1,
                          "#276419"
                        ]
                      ],
                      "sequential": [
                        [
                          0,
                          "#0d0887"
                        ],
                        [
                          0.1111111111111111,
                          "#46039f"
                        ],
                        [
                          0.2222222222222222,
                          "#7201a8"
                        ],
                        [
                          0.3333333333333333,
                          "#9c179e"
                        ],
                        [
                          0.4444444444444444,
                          "#bd3786"
                        ],
                        [
                          0.5555555555555556,
                          "#d8576b"
                        ],
                        [
                          0.6666666666666666,
                          "#ed7953"
                        ],
                        [
                          0.7777777777777778,
                          "#fb9f3a"
                        ],
                        [
                          0.8888888888888888,
                          "#fdca26"
                        ],
                        [
                          1,
                          "#f0f921"
                        ]
                      ],
                      "sequentialminus": [
                        [
                          0,
                          "#0d0887"
                        ],
                        [
                          0.1111111111111111,
                          "#46039f"
                        ],
                        [
                          0.2222222222222222,
                          "#7201a8"
                        ],
                        [
                          0.3333333333333333,
                          "#9c179e"
                        ],
                        [
                          0.4444444444444444,
                          "#bd3786"
                        ],
                        [
                          0.5555555555555556,
                          "#d8576b"
                        ],
                        [
                          0.6666666666666666,
                          "#ed7953"
                        ],
                        [
                          0.7777777777777778,
                          "#fb9f3a"
                        ],
                        [
                          0.8888888888888888,
                          "#fdca26"
                        ],
                        [
                          1,
                          "#f0f921"
                        ]
                      ]
                    },
                    "colorway": [
                      "#636efa",
                      "#EF553B",
                      "#00cc96",
                      "#ab63fa",
                      "#FFA15A",
                      "#19d3f3",
                      "#FF6692",
                      "#B6E880",
                      "#FF97FF",
                      "#FECB52"
                    ],
                    "font": {
                      "color": "#2a3f5f"
                    },
                    "geo": {
                      "bgcolor": "white",
                      "lakecolor": "white",
                      "landcolor": "#E5ECF6",
                      "showlakes": true,
                      "showland": true,
                      "subunitcolor": "white"
                    },
                    "hoverlabel": {
                      "align": "left"
                    },
                    "hovermode": "closest",
                    "mapbox": {
                      "style": "light"
                    },
                    "paper_bgcolor": "white",
                    "plot_bgcolor": "#E5ECF6",
                    "polar": {
                      "angularaxis": {
                        "gridcolor": "white",
                        "linecolor": "white",
                        "ticks": ""
                      },
                      "bgcolor": "#E5ECF6",
                      "radialaxis": {
                        "gridcolor": "white",
                        "linecolor": "white",
                        "ticks": ""
                      }
                    },
                    "scene": {
                      "xaxis": {
                        "backgroundcolor": "#E5ECF6",
                        "gridcolor": "white",
                        "gridwidth": 2,
                        "linecolor": "white",
                        "showbackground": true,
                        "ticks": "",
                        "zerolinecolor": "white"
                      },
                      "yaxis": {
                        "backgroundcolor": "#E5ECF6",
                        "gridcolor": "white",
                        "gridwidth": 2,
                        "linecolor": "white",
                        "showbackground": true,
                        "ticks": "",
                        "zerolinecolor": "white"
                      },
                      "zaxis": {
                        "backgroundcolor": "#E5ECF6",
                        "gridcolor": "white",
                        "gridwidth": 2,
                        "linecolor": "white",
                        "showbackground": true,
                        "ticks": "",
                        "zerolinecolor": "white"
                      }
                    },
                    "shapedefaults": {
                      "line": {
                        "color": "#2a3f5f"
                      }
                    },
                    "ternary": {
                      "aaxis": {
                        "gridcolor": "white",
                        "linecolor": "white",
                        "ticks": ""
                      },
                      "baxis": {
                        "gridcolor": "white",
                        "linecolor": "white",
                        "ticks": ""
                      },
                      "bgcolor": "#E5ECF6",
                      "caxis": {
                        "gridcolor": "white",
                        "linecolor": "white",
                        "ticks": ""
                      }
                    },
                    "title": {
                      "x": 0.05
                    },
                    "xaxis": {
                      "automargin": true,
                      "gridcolor": "white",
                      "linecolor": "white",
                      "ticks": "",
                      "title": {
                        "standoff": 15
                      },
                      "zerolinecolor": "white",
                      "zerolinewidth": 2
                    },
                    "yaxis": {
                      "automargin": true,
                      "gridcolor": "white",
                      "linecolor": "white",
                      "ticks": "",
                      "title": {
                        "standoff": 15
                      },
                      "zerolinecolor": "white",
                      "zerolinewidth": 2
                    }
                  }
                },
                "xaxis": {
                  "anchor": "y",
                  "domain": [
                    0,
                    1
                  ],
                  "title": {
                    "text": "fecha"
                  }
                },
                "yaxis": {
                  "anchor": "x",
                  "domain": [
                    0,
                    1
                  ],
                  "title": {
                    "text": "value"
                  }
                }
              }
            }
          },
          "metadata": {},
          "output_type": "display_data"
        }
      ],
      "source": [
        "grafico1 = px.line(result.trend)\n",
        "grafico1['data'][0]['line']['color']='rgb(0, 255, 0)'\n",
        "grafico1.show()"
      ]
    },
    {
      "cell_type": "code",
      "execution_count": 73,
      "metadata": {},
      "outputs": [
        {
          "data": {
            "application/vnd.plotly.v1+json": {
              "config": {
                "plotlyServerURL": "https://plot.ly"
              },
              "data": [
                {
                  "hovertemplate": "variable=seasonal<br>fecha=%{x}<br>value=%{y}<extra></extra>",
                  "legendgroup": "seasonal",
                  "line": {
                    "color": "#636efa",
                    "dash": "solid"
                  },
                  "marker": {
                    "symbol": "circle"
                  },
                  "mode": "lines",
                  "name": "seasonal",
                  "orientation": "v",
                  "showlegend": true,
                  "type": "scatter",
                  "x": [
                    "2017-01-01T00:00:00",
                    "2017-01-08T00:00:00",
                    "2017-01-15T00:00:00",
                    "2017-01-22T00:00:00",
                    "2017-01-29T00:00:00",
                    "2017-02-05T00:00:00",
                    "2017-02-12T00:00:00",
                    "2017-02-19T00:00:00",
                    "2017-02-26T00:00:00",
                    "2017-03-05T00:00:00",
                    "2017-03-12T00:00:00",
                    "2017-03-19T00:00:00",
                    "2017-03-26T00:00:00",
                    "2017-04-02T00:00:00",
                    "2017-04-09T00:00:00",
                    "2017-04-16T00:00:00",
                    "2017-04-23T00:00:00",
                    "2017-04-30T00:00:00",
                    "2017-05-07T00:00:00",
                    "2017-05-14T00:00:00",
                    "2017-05-21T00:00:00",
                    "2017-05-28T00:00:00",
                    "2017-06-04T00:00:00",
                    "2017-06-11T00:00:00",
                    "2017-06-18T00:00:00",
                    "2017-06-25T00:00:00",
                    "2017-07-02T00:00:00",
                    "2017-07-09T00:00:00",
                    "2017-07-16T00:00:00",
                    "2017-07-23T00:00:00",
                    "2017-07-30T00:00:00",
                    "2017-08-06T00:00:00",
                    "2017-08-13T00:00:00",
                    "2017-08-20T00:00:00",
                    "2017-08-27T00:00:00",
                    "2017-09-03T00:00:00",
                    "2017-09-10T00:00:00",
                    "2017-09-17T00:00:00",
                    "2017-09-24T00:00:00",
                    "2017-10-01T00:00:00",
                    "2017-10-08T00:00:00",
                    "2017-10-15T00:00:00",
                    "2017-10-22T00:00:00",
                    "2017-10-29T00:00:00",
                    "2017-11-05T00:00:00",
                    "2017-11-12T00:00:00",
                    "2017-11-19T00:00:00",
                    "2017-11-26T00:00:00",
                    "2017-12-03T00:00:00",
                    "2017-12-10T00:00:00",
                    "2017-12-17T00:00:00",
                    "2017-12-24T00:00:00",
                    "2017-12-31T00:00:00",
                    "2018-01-07T00:00:00",
                    "2018-01-14T00:00:00",
                    "2018-01-21T00:00:00",
                    "2018-01-28T00:00:00",
                    "2018-02-04T00:00:00",
                    "2018-02-11T00:00:00",
                    "2018-02-18T00:00:00",
                    "2018-02-25T00:00:00",
                    "2018-03-04T00:00:00",
                    "2018-03-11T00:00:00",
                    "2018-03-18T00:00:00",
                    "2018-03-25T00:00:00",
                    "2018-04-01T00:00:00",
                    "2018-04-08T00:00:00",
                    "2018-04-15T00:00:00",
                    "2018-04-22T00:00:00",
                    "2018-04-29T00:00:00",
                    "2018-05-06T00:00:00",
                    "2018-05-13T00:00:00",
                    "2018-05-20T00:00:00",
                    "2018-05-27T00:00:00",
                    "2018-06-03T00:00:00",
                    "2018-06-10T00:00:00",
                    "2018-06-17T00:00:00",
                    "2018-06-24T00:00:00",
                    "2018-07-01T00:00:00",
                    "2018-07-08T00:00:00",
                    "2018-07-15T00:00:00",
                    "2018-07-22T00:00:00",
                    "2018-07-29T00:00:00",
                    "2018-08-05T00:00:00",
                    "2018-08-12T00:00:00",
                    "2018-08-19T00:00:00",
                    "2018-08-26T00:00:00",
                    "2018-09-02T00:00:00",
                    "2018-09-09T00:00:00",
                    "2018-09-16T00:00:00",
                    "2018-09-23T00:00:00",
                    "2018-09-30T00:00:00",
                    "2018-10-07T00:00:00",
                    "2018-10-14T00:00:00",
                    "2018-10-21T00:00:00",
                    "2018-10-28T00:00:00",
                    "2018-11-04T00:00:00",
                    "2018-11-11T00:00:00",
                    "2018-11-18T00:00:00",
                    "2018-11-25T00:00:00",
                    "2018-12-02T00:00:00",
                    "2018-12-09T00:00:00",
                    "2018-12-16T00:00:00",
                    "2018-12-23T00:00:00",
                    "2018-12-30T00:00:00",
                    "2019-01-06T00:00:00",
                    "2019-01-13T00:00:00",
                    "2019-01-20T00:00:00",
                    "2019-01-27T00:00:00",
                    "2019-02-03T00:00:00",
                    "2019-02-10T00:00:00",
                    "2019-02-17T00:00:00",
                    "2019-02-24T00:00:00",
                    "2019-03-03T00:00:00",
                    "2019-03-10T00:00:00",
                    "2019-03-17T00:00:00",
                    "2019-03-24T00:00:00",
                    "2019-03-31T00:00:00",
                    "2019-04-07T00:00:00",
                    "2019-04-14T00:00:00",
                    "2019-04-21T00:00:00",
                    "2019-04-28T00:00:00",
                    "2019-05-05T00:00:00",
                    "2019-05-12T00:00:00",
                    "2019-05-19T00:00:00",
                    "2019-05-26T00:00:00",
                    "2019-06-02T00:00:00",
                    "2019-06-09T00:00:00",
                    "2019-06-16T00:00:00",
                    "2019-06-23T00:00:00",
                    "2019-06-30T00:00:00",
                    "2019-07-07T00:00:00",
                    "2019-07-14T00:00:00",
                    "2019-07-21T00:00:00",
                    "2019-07-28T00:00:00",
                    "2019-08-04T00:00:00",
                    "2019-08-11T00:00:00",
                    "2019-08-18T00:00:00",
                    "2019-08-25T00:00:00",
                    "2019-09-01T00:00:00",
                    "2019-09-08T00:00:00",
                    "2019-09-15T00:00:00",
                    "2019-09-22T00:00:00",
                    "2019-09-29T00:00:00",
                    "2019-10-06T00:00:00",
                    "2019-10-13T00:00:00",
                    "2019-10-20T00:00:00",
                    "2019-10-27T00:00:00",
                    "2019-11-03T00:00:00",
                    "2019-11-10T00:00:00",
                    "2019-11-17T00:00:00",
                    "2019-11-24T00:00:00",
                    "2019-12-01T00:00:00",
                    "2019-12-08T00:00:00",
                    "2019-12-15T00:00:00",
                    "2019-12-22T00:00:00",
                    "2019-12-29T00:00:00",
                    "2020-01-05T00:00:00"
                  ],
                  "xaxis": "x",
                  "y": [
                    -31158.69356804571,
                    -37302.60702958415,
                    -28434.813760353398,
                    -19208.760875737993,
                    -15651.727221891864,
                    -131.26087573799134,
                    -4862.563760353396,
                    -11196.19837573802,
                    -1643.530106507269,
                    13022.840085800477,
                    10280.580470415853,
                    10814.070855031228,
                    14976.224701185014,
                    8671.373739646604,
                    -6853.655106507269,
                    1416.2439319542918,
                    -4995.179144968772,
                    -2079.506068045708,
                    -29123.40029881496,
                    4682.474701185072,
                    1497.8064319542918,
                    -5168.107029584147,
                    -856.6546722640325,
                    5085.792008877355,
                    -14551.193568045708,
                    -35189.96279881496,
                    -6891.5199662132445,
                    -3628.550949119282,
                    4419.942257016317,
                    11275.740333939351,
                    -5343.451973752903,
                    318.7162954778486,
                    -4009.0000506760243,
                    1785.1105262470683,
                    -16443.846204522153,
                    -4537.995242983654,
                    -1403.3029352913709,
                    10303.32687240097,
                    5644.831680093224,
                    1004.6297570163459,
                    -9152.75240799607,
                    27357.201965453045,
                    2425.4375423761394,
                    19465.56254237611,
                    14960.615426991515,
                    19885.38465776082,
                    27601.620234683796,
                    9711.976003914579,
                    7497.802058505187,
                    29242.296816569695,
                    27427.109316569666,
                    9043.522778108165,
                    -31158.69356804571,
                    -37302.60702958415,
                    -28434.813760353398,
                    -19208.760875737993,
                    -15651.727221891864,
                    -131.26087573799134,
                    -4862.563760353396,
                    -11196.19837573802,
                    -1643.530106507269,
                    13022.840085800477,
                    10280.580470415853,
                    10814.070855031228,
                    14976.224701185014,
                    8671.373739646604,
                    -6853.655106507269,
                    1416.2439319542918,
                    -4995.179144968772,
                    -2079.506068045708,
                    -29123.40029881496,
                    4682.474701185072,
                    1497.8064319542918,
                    -5168.107029584147,
                    -856.6546722640325,
                    5085.792008877355,
                    -14551.193568045708,
                    -35189.96279881496,
                    -6891.5199662132445,
                    -3628.550949119282,
                    4419.942257016317,
                    11275.740333939351,
                    -5343.451973752903,
                    318.7162954778486,
                    -4009.0000506760243,
                    1785.1105262470683,
                    -16443.846204522153,
                    -4537.995242983654,
                    -1403.3029352913709,
                    10303.32687240097,
                    5644.831680093224,
                    1004.6297570163459,
                    -9152.75240799607,
                    27357.201965453045,
                    2425.4375423761394,
                    19465.56254237611,
                    14960.615426991515,
                    19885.38465776082,
                    27601.620234683796,
                    9711.976003914579,
                    7497.802058505187,
                    29242.296816569695,
                    27427.109316569666,
                    9043.522778108165,
                    -31158.69356804571,
                    -37302.60702958415,
                    -28434.813760353398,
                    -19208.760875737993,
                    -15651.727221891864,
                    -131.26087573799134,
                    -4862.563760353396,
                    -11196.19837573802,
                    -1643.530106507269,
                    13022.840085800477,
                    10280.580470415853,
                    10814.070855031228,
                    14976.224701185014,
                    8671.373739646604,
                    -6853.655106507269,
                    1416.2439319542918,
                    -4995.179144968772,
                    -2079.506068045708,
                    -29123.40029881496,
                    4682.474701185072,
                    1497.8064319542918,
                    -5168.107029584147,
                    -856.6546722640325,
                    5085.792008877355,
                    -14551.193568045708,
                    -35189.96279881496,
                    -6891.5199662132445,
                    -3628.550949119282,
                    4419.942257016317,
                    11275.740333939351,
                    -5343.451973752903,
                    318.7162954778486,
                    -4009.0000506760243,
                    1785.1105262470683,
                    -16443.846204522153,
                    -4537.995242983654,
                    -1403.3029352913709,
                    10303.32687240097,
                    5644.831680093224,
                    1004.6297570163459,
                    -9152.75240799607,
                    27357.201965453045,
                    2425.4375423761394,
                    19465.56254237611,
                    14960.615426991515,
                    19885.38465776082,
                    27601.620234683796,
                    9711.976003914579,
                    7497.802058505187,
                    29242.296816569695,
                    27427.109316569666,
                    9043.522778108165,
                    -31158.69356804571,
                    -37302.60702958415
                  ],
                  "yaxis": "y"
                }
              ],
              "layout": {
                "legend": {
                  "title": {
                    "text": "variable"
                  },
                  "tracegroupgap": 0
                },
                "margin": {
                  "t": 60
                },
                "template": {
                  "data": {
                    "bar": [
                      {
                        "error_x": {
                          "color": "#2a3f5f"
                        },
                        "error_y": {
                          "color": "#2a3f5f"
                        },
                        "marker": {
                          "line": {
                            "color": "#E5ECF6",
                            "width": 0.5
                          },
                          "pattern": {
                            "fillmode": "overlay",
                            "size": 10,
                            "solidity": 0.2
                          }
                        },
                        "type": "bar"
                      }
                    ],
                    "barpolar": [
                      {
                        "marker": {
                          "line": {
                            "color": "#E5ECF6",
                            "width": 0.5
                          },
                          "pattern": {
                            "fillmode": "overlay",
                            "size": 10,
                            "solidity": 0.2
                          }
                        },
                        "type": "barpolar"
                      }
                    ],
                    "carpet": [
                      {
                        "aaxis": {
                          "endlinecolor": "#2a3f5f",
                          "gridcolor": "white",
                          "linecolor": "white",
                          "minorgridcolor": "white",
                          "startlinecolor": "#2a3f5f"
                        },
                        "baxis": {
                          "endlinecolor": "#2a3f5f",
                          "gridcolor": "white",
                          "linecolor": "white",
                          "minorgridcolor": "white",
                          "startlinecolor": "#2a3f5f"
                        },
                        "type": "carpet"
                      }
                    ],
                    "choropleth": [
                      {
                        "colorbar": {
                          "outlinewidth": 0,
                          "ticks": ""
                        },
                        "type": "choropleth"
                      }
                    ],
                    "contour": [
                      {
                        "colorbar": {
                          "outlinewidth": 0,
                          "ticks": ""
                        },
                        "colorscale": [
                          [
                            0,
                            "#0d0887"
                          ],
                          [
                            0.1111111111111111,
                            "#46039f"
                          ],
                          [
                            0.2222222222222222,
                            "#7201a8"
                          ],
                          [
                            0.3333333333333333,
                            "#9c179e"
                          ],
                          [
                            0.4444444444444444,
                            "#bd3786"
                          ],
                          [
                            0.5555555555555556,
                            "#d8576b"
                          ],
                          [
                            0.6666666666666666,
                            "#ed7953"
                          ],
                          [
                            0.7777777777777778,
                            "#fb9f3a"
                          ],
                          [
                            0.8888888888888888,
                            "#fdca26"
                          ],
                          [
                            1,
                            "#f0f921"
                          ]
                        ],
                        "type": "contour"
                      }
                    ],
                    "contourcarpet": [
                      {
                        "colorbar": {
                          "outlinewidth": 0,
                          "ticks": ""
                        },
                        "type": "contourcarpet"
                      }
                    ],
                    "heatmap": [
                      {
                        "colorbar": {
                          "outlinewidth": 0,
                          "ticks": ""
                        },
                        "colorscale": [
                          [
                            0,
                            "#0d0887"
                          ],
                          [
                            0.1111111111111111,
                            "#46039f"
                          ],
                          [
                            0.2222222222222222,
                            "#7201a8"
                          ],
                          [
                            0.3333333333333333,
                            "#9c179e"
                          ],
                          [
                            0.4444444444444444,
                            "#bd3786"
                          ],
                          [
                            0.5555555555555556,
                            "#d8576b"
                          ],
                          [
                            0.6666666666666666,
                            "#ed7953"
                          ],
                          [
                            0.7777777777777778,
                            "#fb9f3a"
                          ],
                          [
                            0.8888888888888888,
                            "#fdca26"
                          ],
                          [
                            1,
                            "#f0f921"
                          ]
                        ],
                        "type": "heatmap"
                      }
                    ],
                    "heatmapgl": [
                      {
                        "colorbar": {
                          "outlinewidth": 0,
                          "ticks": ""
                        },
                        "colorscale": [
                          [
                            0,
                            "#0d0887"
                          ],
                          [
                            0.1111111111111111,
                            "#46039f"
                          ],
                          [
                            0.2222222222222222,
                            "#7201a8"
                          ],
                          [
                            0.3333333333333333,
                            "#9c179e"
                          ],
                          [
                            0.4444444444444444,
                            "#bd3786"
                          ],
                          [
                            0.5555555555555556,
                            "#d8576b"
                          ],
                          [
                            0.6666666666666666,
                            "#ed7953"
                          ],
                          [
                            0.7777777777777778,
                            "#fb9f3a"
                          ],
                          [
                            0.8888888888888888,
                            "#fdca26"
                          ],
                          [
                            1,
                            "#f0f921"
                          ]
                        ],
                        "type": "heatmapgl"
                      }
                    ],
                    "histogram": [
                      {
                        "marker": {
                          "pattern": {
                            "fillmode": "overlay",
                            "size": 10,
                            "solidity": 0.2
                          }
                        },
                        "type": "histogram"
                      }
                    ],
                    "histogram2d": [
                      {
                        "colorbar": {
                          "outlinewidth": 0,
                          "ticks": ""
                        },
                        "colorscale": [
                          [
                            0,
                            "#0d0887"
                          ],
                          [
                            0.1111111111111111,
                            "#46039f"
                          ],
                          [
                            0.2222222222222222,
                            "#7201a8"
                          ],
                          [
                            0.3333333333333333,
                            "#9c179e"
                          ],
                          [
                            0.4444444444444444,
                            "#bd3786"
                          ],
                          [
                            0.5555555555555556,
                            "#d8576b"
                          ],
                          [
                            0.6666666666666666,
                            "#ed7953"
                          ],
                          [
                            0.7777777777777778,
                            "#fb9f3a"
                          ],
                          [
                            0.8888888888888888,
                            "#fdca26"
                          ],
                          [
                            1,
                            "#f0f921"
                          ]
                        ],
                        "type": "histogram2d"
                      }
                    ],
                    "histogram2dcontour": [
                      {
                        "colorbar": {
                          "outlinewidth": 0,
                          "ticks": ""
                        },
                        "colorscale": [
                          [
                            0,
                            "#0d0887"
                          ],
                          [
                            0.1111111111111111,
                            "#46039f"
                          ],
                          [
                            0.2222222222222222,
                            "#7201a8"
                          ],
                          [
                            0.3333333333333333,
                            "#9c179e"
                          ],
                          [
                            0.4444444444444444,
                            "#bd3786"
                          ],
                          [
                            0.5555555555555556,
                            "#d8576b"
                          ],
                          [
                            0.6666666666666666,
                            "#ed7953"
                          ],
                          [
                            0.7777777777777778,
                            "#fb9f3a"
                          ],
                          [
                            0.8888888888888888,
                            "#fdca26"
                          ],
                          [
                            1,
                            "#f0f921"
                          ]
                        ],
                        "type": "histogram2dcontour"
                      }
                    ],
                    "mesh3d": [
                      {
                        "colorbar": {
                          "outlinewidth": 0,
                          "ticks": ""
                        },
                        "type": "mesh3d"
                      }
                    ],
                    "parcoords": [
                      {
                        "line": {
                          "colorbar": {
                            "outlinewidth": 0,
                            "ticks": ""
                          }
                        },
                        "type": "parcoords"
                      }
                    ],
                    "pie": [
                      {
                        "automargin": true,
                        "type": "pie"
                      }
                    ],
                    "scatter": [
                      {
                        "marker": {
                          "colorbar": {
                            "outlinewidth": 0,
                            "ticks": ""
                          }
                        },
                        "type": "scatter"
                      }
                    ],
                    "scatter3d": [
                      {
                        "line": {
                          "colorbar": {
                            "outlinewidth": 0,
                            "ticks": ""
                          }
                        },
                        "marker": {
                          "colorbar": {
                            "outlinewidth": 0,
                            "ticks": ""
                          }
                        },
                        "type": "scatter3d"
                      }
                    ],
                    "scattercarpet": [
                      {
                        "marker": {
                          "colorbar": {
                            "outlinewidth": 0,
                            "ticks": ""
                          }
                        },
                        "type": "scattercarpet"
                      }
                    ],
                    "scattergeo": [
                      {
                        "marker": {
                          "colorbar": {
                            "outlinewidth": 0,
                            "ticks": ""
                          }
                        },
                        "type": "scattergeo"
                      }
                    ],
                    "scattergl": [
                      {
                        "marker": {
                          "colorbar": {
                            "outlinewidth": 0,
                            "ticks": ""
                          }
                        },
                        "type": "scattergl"
                      }
                    ],
                    "scattermapbox": [
                      {
                        "marker": {
                          "colorbar": {
                            "outlinewidth": 0,
                            "ticks": ""
                          }
                        },
                        "type": "scattermapbox"
                      }
                    ],
                    "scatterpolar": [
                      {
                        "marker": {
                          "colorbar": {
                            "outlinewidth": 0,
                            "ticks": ""
                          }
                        },
                        "type": "scatterpolar"
                      }
                    ],
                    "scatterpolargl": [
                      {
                        "marker": {
                          "colorbar": {
                            "outlinewidth": 0,
                            "ticks": ""
                          }
                        },
                        "type": "scatterpolargl"
                      }
                    ],
                    "scatterternary": [
                      {
                        "marker": {
                          "colorbar": {
                            "outlinewidth": 0,
                            "ticks": ""
                          }
                        },
                        "type": "scatterternary"
                      }
                    ],
                    "surface": [
                      {
                        "colorbar": {
                          "outlinewidth": 0,
                          "ticks": ""
                        },
                        "colorscale": [
                          [
                            0,
                            "#0d0887"
                          ],
                          [
                            0.1111111111111111,
                            "#46039f"
                          ],
                          [
                            0.2222222222222222,
                            "#7201a8"
                          ],
                          [
                            0.3333333333333333,
                            "#9c179e"
                          ],
                          [
                            0.4444444444444444,
                            "#bd3786"
                          ],
                          [
                            0.5555555555555556,
                            "#d8576b"
                          ],
                          [
                            0.6666666666666666,
                            "#ed7953"
                          ],
                          [
                            0.7777777777777778,
                            "#fb9f3a"
                          ],
                          [
                            0.8888888888888888,
                            "#fdca26"
                          ],
                          [
                            1,
                            "#f0f921"
                          ]
                        ],
                        "type": "surface"
                      }
                    ],
                    "table": [
                      {
                        "cells": {
                          "fill": {
                            "color": "#EBF0F8"
                          },
                          "line": {
                            "color": "white"
                          }
                        },
                        "header": {
                          "fill": {
                            "color": "#C8D4E3"
                          },
                          "line": {
                            "color": "white"
                          }
                        },
                        "type": "table"
                      }
                    ]
                  },
                  "layout": {
                    "annotationdefaults": {
                      "arrowcolor": "#2a3f5f",
                      "arrowhead": 0,
                      "arrowwidth": 1
                    },
                    "autotypenumbers": "strict",
                    "coloraxis": {
                      "colorbar": {
                        "outlinewidth": 0,
                        "ticks": ""
                      }
                    },
                    "colorscale": {
                      "diverging": [
                        [
                          0,
                          "#8e0152"
                        ],
                        [
                          0.1,
                          "#c51b7d"
                        ],
                        [
                          0.2,
                          "#de77ae"
                        ],
                        [
                          0.3,
                          "#f1b6da"
                        ],
                        [
                          0.4,
                          "#fde0ef"
                        ],
                        [
                          0.5,
                          "#f7f7f7"
                        ],
                        [
                          0.6,
                          "#e6f5d0"
                        ],
                        [
                          0.7,
                          "#b8e186"
                        ],
                        [
                          0.8,
                          "#7fbc41"
                        ],
                        [
                          0.9,
                          "#4d9221"
                        ],
                        [
                          1,
                          "#276419"
                        ]
                      ],
                      "sequential": [
                        [
                          0,
                          "#0d0887"
                        ],
                        [
                          0.1111111111111111,
                          "#46039f"
                        ],
                        [
                          0.2222222222222222,
                          "#7201a8"
                        ],
                        [
                          0.3333333333333333,
                          "#9c179e"
                        ],
                        [
                          0.4444444444444444,
                          "#bd3786"
                        ],
                        [
                          0.5555555555555556,
                          "#d8576b"
                        ],
                        [
                          0.6666666666666666,
                          "#ed7953"
                        ],
                        [
                          0.7777777777777778,
                          "#fb9f3a"
                        ],
                        [
                          0.8888888888888888,
                          "#fdca26"
                        ],
                        [
                          1,
                          "#f0f921"
                        ]
                      ],
                      "sequentialminus": [
                        [
                          0,
                          "#0d0887"
                        ],
                        [
                          0.1111111111111111,
                          "#46039f"
                        ],
                        [
                          0.2222222222222222,
                          "#7201a8"
                        ],
                        [
                          0.3333333333333333,
                          "#9c179e"
                        ],
                        [
                          0.4444444444444444,
                          "#bd3786"
                        ],
                        [
                          0.5555555555555556,
                          "#d8576b"
                        ],
                        [
                          0.6666666666666666,
                          "#ed7953"
                        ],
                        [
                          0.7777777777777778,
                          "#fb9f3a"
                        ],
                        [
                          0.8888888888888888,
                          "#fdca26"
                        ],
                        [
                          1,
                          "#f0f921"
                        ]
                      ]
                    },
                    "colorway": [
                      "#636efa",
                      "#EF553B",
                      "#00cc96",
                      "#ab63fa",
                      "#FFA15A",
                      "#19d3f3",
                      "#FF6692",
                      "#B6E880",
                      "#FF97FF",
                      "#FECB52"
                    ],
                    "font": {
                      "color": "#2a3f5f"
                    },
                    "geo": {
                      "bgcolor": "white",
                      "lakecolor": "white",
                      "landcolor": "#E5ECF6",
                      "showlakes": true,
                      "showland": true,
                      "subunitcolor": "white"
                    },
                    "hoverlabel": {
                      "align": "left"
                    },
                    "hovermode": "closest",
                    "mapbox": {
                      "style": "light"
                    },
                    "paper_bgcolor": "white",
                    "plot_bgcolor": "#E5ECF6",
                    "polar": {
                      "angularaxis": {
                        "gridcolor": "white",
                        "linecolor": "white",
                        "ticks": ""
                      },
                      "bgcolor": "#E5ECF6",
                      "radialaxis": {
                        "gridcolor": "white",
                        "linecolor": "white",
                        "ticks": ""
                      }
                    },
                    "scene": {
                      "xaxis": {
                        "backgroundcolor": "#E5ECF6",
                        "gridcolor": "white",
                        "gridwidth": 2,
                        "linecolor": "white",
                        "showbackground": true,
                        "ticks": "",
                        "zerolinecolor": "white"
                      },
                      "yaxis": {
                        "backgroundcolor": "#E5ECF6",
                        "gridcolor": "white",
                        "gridwidth": 2,
                        "linecolor": "white",
                        "showbackground": true,
                        "ticks": "",
                        "zerolinecolor": "white"
                      },
                      "zaxis": {
                        "backgroundcolor": "#E5ECF6",
                        "gridcolor": "white",
                        "gridwidth": 2,
                        "linecolor": "white",
                        "showbackground": true,
                        "ticks": "",
                        "zerolinecolor": "white"
                      }
                    },
                    "shapedefaults": {
                      "line": {
                        "color": "#2a3f5f"
                      }
                    },
                    "ternary": {
                      "aaxis": {
                        "gridcolor": "white",
                        "linecolor": "white",
                        "ticks": ""
                      },
                      "baxis": {
                        "gridcolor": "white",
                        "linecolor": "white",
                        "ticks": ""
                      },
                      "bgcolor": "#E5ECF6",
                      "caxis": {
                        "gridcolor": "white",
                        "linecolor": "white",
                        "ticks": ""
                      }
                    },
                    "title": {
                      "x": 0.05
                    },
                    "xaxis": {
                      "automargin": true,
                      "gridcolor": "white",
                      "linecolor": "white",
                      "ticks": "",
                      "title": {
                        "standoff": 15
                      },
                      "zerolinecolor": "white",
                      "zerolinewidth": 2
                    },
                    "yaxis": {
                      "automargin": true,
                      "gridcolor": "white",
                      "linecolor": "white",
                      "ticks": "",
                      "title": {
                        "standoff": 15
                      },
                      "zerolinecolor": "white",
                      "zerolinewidth": 2
                    }
                  }
                },
                "xaxis": {
                  "anchor": "y",
                  "domain": [
                    0,
                    1
                  ],
                  "title": {
                    "text": "fecha"
                  }
                },
                "yaxis": {
                  "anchor": "x",
                  "domain": [
                    0,
                    1
                  ],
                  "title": {
                    "text": "value"
                  }
                }
              }
            }
          },
          "metadata": {},
          "output_type": "display_data"
        }
      ],
      "source": [
        "grafico4 = px.line(result.seasonal)\n",
        "grafico4.show()\n"
      ]
    },
    {
      "cell_type": "code",
      "execution_count": 54,
      "metadata": {},
      "outputs": [
        {
          "data": {
            "application/vnd.plotly.v1+json": {
              "config": {
                "plotlyServerURL": "https://plot.ly"
              },
              "data": [
                {
                  "hovertemplate": "variable=resid<br>fecha=%{x}<br>value=%{y}<extra></extra>",
                  "legendgroup": "resid",
                  "line": {
                    "color": "#636efa",
                    "dash": "solid"
                  },
                  "marker": {
                    "symbol": "circle"
                  },
                  "mode": "lines",
                  "name": "resid",
                  "orientation": "v",
                  "showlegend": true,
                  "type": "scatter",
                  "x": [
                    "2017-01-01T00:00:00",
                    "2017-01-08T00:00:00",
                    "2017-01-15T00:00:00",
                    "2017-01-22T00:00:00",
                    "2017-01-29T00:00:00",
                    "2017-02-05T00:00:00",
                    "2017-02-12T00:00:00",
                    "2017-02-19T00:00:00",
                    "2017-02-26T00:00:00",
                    "2017-03-05T00:00:00",
                    "2017-03-12T00:00:00",
                    "2017-03-19T00:00:00",
                    "2017-03-26T00:00:00",
                    "2017-04-02T00:00:00",
                    "2017-04-09T00:00:00",
                    "2017-04-16T00:00:00",
                    "2017-04-23T00:00:00",
                    "2017-04-30T00:00:00",
                    "2017-05-07T00:00:00",
                    "2017-05-14T00:00:00",
                    "2017-05-21T00:00:00",
                    "2017-05-28T00:00:00",
                    "2017-06-04T00:00:00",
                    "2017-06-11T00:00:00",
                    "2017-06-18T00:00:00",
                    "2017-06-25T00:00:00",
                    "2017-07-02T00:00:00",
                    "2017-07-09T00:00:00",
                    "2017-07-16T00:00:00",
                    "2017-07-23T00:00:00",
                    "2017-07-30T00:00:00",
                    "2017-08-06T00:00:00",
                    "2017-08-13T00:00:00",
                    "2017-08-20T00:00:00",
                    "2017-08-27T00:00:00",
                    "2017-09-03T00:00:00",
                    "2017-09-10T00:00:00",
                    "2017-09-17T00:00:00",
                    "2017-09-24T00:00:00",
                    "2017-10-01T00:00:00",
                    "2017-10-08T00:00:00",
                    "2017-10-15T00:00:00",
                    "2017-10-22T00:00:00",
                    "2017-10-29T00:00:00",
                    "2017-11-05T00:00:00",
                    "2017-11-12T00:00:00",
                    "2017-11-19T00:00:00",
                    "2017-11-26T00:00:00",
                    "2017-12-03T00:00:00",
                    "2017-12-10T00:00:00",
                    "2017-12-17T00:00:00",
                    "2017-12-24T00:00:00",
                    "2017-12-31T00:00:00",
                    "2018-01-07T00:00:00",
                    "2018-01-14T00:00:00",
                    "2018-01-21T00:00:00",
                    "2018-01-28T00:00:00",
                    "2018-02-04T00:00:00",
                    "2018-02-11T00:00:00",
                    "2018-02-18T00:00:00",
                    "2018-02-25T00:00:00",
                    "2018-03-04T00:00:00",
                    "2018-03-11T00:00:00",
                    "2018-03-18T00:00:00",
                    "2018-03-25T00:00:00",
                    "2018-04-01T00:00:00",
                    "2018-04-08T00:00:00",
                    "2018-04-15T00:00:00",
                    "2018-04-22T00:00:00",
                    "2018-04-29T00:00:00",
                    "2018-05-06T00:00:00",
                    "2018-05-13T00:00:00",
                    "2018-05-20T00:00:00",
                    "2018-05-27T00:00:00",
                    "2018-06-03T00:00:00",
                    "2018-06-10T00:00:00",
                    "2018-06-17T00:00:00",
                    "2018-06-24T00:00:00",
                    "2018-07-01T00:00:00",
                    "2018-07-08T00:00:00",
                    "2018-07-15T00:00:00",
                    "2018-07-22T00:00:00",
                    "2018-07-29T00:00:00",
                    "2018-08-05T00:00:00",
                    "2018-08-12T00:00:00",
                    "2018-08-19T00:00:00",
                    "2018-08-26T00:00:00",
                    "2018-09-02T00:00:00",
                    "2018-09-09T00:00:00",
                    "2018-09-16T00:00:00",
                    "2018-09-23T00:00:00",
                    "2018-09-30T00:00:00",
                    "2018-10-07T00:00:00",
                    "2018-10-14T00:00:00",
                    "2018-10-21T00:00:00",
                    "2018-10-28T00:00:00",
                    "2018-11-04T00:00:00",
                    "2018-11-11T00:00:00",
                    "2018-11-18T00:00:00",
                    "2018-11-25T00:00:00",
                    "2018-12-02T00:00:00",
                    "2018-12-09T00:00:00",
                    "2018-12-16T00:00:00",
                    "2018-12-23T00:00:00",
                    "2018-12-30T00:00:00",
                    "2019-01-06T00:00:00",
                    "2019-01-13T00:00:00",
                    "2019-01-20T00:00:00",
                    "2019-01-27T00:00:00",
                    "2019-02-03T00:00:00",
                    "2019-02-10T00:00:00",
                    "2019-02-17T00:00:00",
                    "2019-02-24T00:00:00",
                    "2019-03-03T00:00:00",
                    "2019-03-10T00:00:00",
                    "2019-03-17T00:00:00",
                    "2019-03-24T00:00:00",
                    "2019-03-31T00:00:00",
                    "2019-04-07T00:00:00",
                    "2019-04-14T00:00:00",
                    "2019-04-21T00:00:00",
                    "2019-04-28T00:00:00",
                    "2019-05-05T00:00:00",
                    "2019-05-12T00:00:00",
                    "2019-05-19T00:00:00",
                    "2019-05-26T00:00:00",
                    "2019-06-02T00:00:00",
                    "2019-06-09T00:00:00",
                    "2019-06-16T00:00:00",
                    "2019-06-23T00:00:00",
                    "2019-06-30T00:00:00",
                    "2019-07-07T00:00:00",
                    "2019-07-14T00:00:00",
                    "2019-07-21T00:00:00",
                    "2019-07-28T00:00:00",
                    "2019-08-04T00:00:00",
                    "2019-08-11T00:00:00",
                    "2019-08-18T00:00:00",
                    "2019-08-25T00:00:00",
                    "2019-09-01T00:00:00",
                    "2019-09-08T00:00:00",
                    "2019-09-15T00:00:00",
                    "2019-09-22T00:00:00",
                    "2019-09-29T00:00:00",
                    "2019-10-06T00:00:00",
                    "2019-10-13T00:00:00",
                    "2019-10-20T00:00:00",
                    "2019-10-27T00:00:00",
                    "2019-11-03T00:00:00",
                    "2019-11-10T00:00:00",
                    "2019-11-17T00:00:00",
                    "2019-11-24T00:00:00",
                    "2019-12-01T00:00:00",
                    "2019-12-08T00:00:00",
                    "2019-12-15T00:00:00",
                    "2019-12-22T00:00:00",
                    "2019-12-29T00:00:00",
                    "2020-01-05T00:00:00"
                  ],
                  "xaxis": "x",
                  "y": [
                    null,
                    null,
                    null,
                    null,
                    null,
                    null,
                    null,
                    null,
                    null,
                    null,
                    null,
                    null,
                    null,
                    null,
                    null,
                    null,
                    null,
                    null,
                    null,
                    null,
                    null,
                    null,
                    null,
                    null,
                    null,
                    null,
                    3173.34670318597,
                    -15056.958852369611,
                    2444.038326110165,
                    5738.557556879443,
                    7975.884479956379,
                    5678.293133802565,
                    -577.8366738897475,
                    -2980.9280200436497,
                    -4675.53859696674,
                    3749.9277491871308,
                    217.3892876486625,
                    24646.499864571757,
                    8165.71621072557,
                    16144.937364571755,
                    38722.00712263628,
                    9893.980726854701,
                    -608.5433116069489,
                    6864.110534546897,
                    -687.8173500685098,
                    16309.048034546926,
                    10056.937457623833,
                    9691.206688393051,
                    24908.08255687944,
                    -3494.0275858005043,
                    -1105.4554704158509,
                    -19608.01316272354,
                    3335.13100640857,
                    532.3761370792345,
                    7669.717483233049,
                    11773.376137079205,
                    8615.582867848452,
                    6369.453060156082,
                    19610.59248323305,
                    -2772.792132151577,
                    -4563.77770907464,
                    5247.525175540735,
                    5528.015560156111,
                    12438.14056015617,
                    18454.87132938695,
                    -9862.748308187032,
                    5746.954169623581,
                    14811.622438854332,
                    8948.324361931269,
                    3320.5647465467027,
                    -3275.63717653029,
                    795.6705157774832,
                    6623.617631162078,
                    40.97340039282972,
                    -5964.165805562547,
                    -3584.5397199546296,
                    -501.4002968776931,
                    12055.330472353118,
                    -7008.134796145917,
                    4118.072468811373,
                    -444.4303527088505,
                    -3738.9495834781283,
                    -5976.276506555065,
                    -3678.68516040125,
                    2577.444647291062,
                    4980.535993444964,
                    6675.146570368059,
                    -1750.319775785816,
                    1782.2186857526522,
                    -22646.89189117044,
                    -6166.108237324255,
                    -14145.32939117044,
                    -36722.39914923496,
                    -7894.372753453383,
                    2608.1512850082636,
                    -4864.5025611455785,
                    2687.4253234698244,
                    -14309.440061145608,
                    -8057.329484222515,
                    -7691.598714991736,
                    -22908.47458347812,
                    5493.635559201823,
                    3105.063443817169,
                    21607.621136124857,
                    -1335.5230330072518,
                    1467.2318363220838,
                    -5670.109509831731,
                    -9773.768163677887,
                    -6615.974894447138,
                    -4369.845086754767,
                    -17610.98450983173,
                    4772.400105552892,
                    6563.385682475955,
                    -3247.9172021394206,
                    -3528.4075867547963,
                    -10438.532586754854,
                    -16455.263355985633,
                    11862.356281588347,
                    -3747.3461962222664,
                    -12812.014465453018,
                    -6948.716388529954,
                    -1320.956773145388,
                    5275.2451499316085,
                    1203.9374576238315,
                    -4624.009657760764,
                    1958.634573008485,
                    7963.773778963861,
                    5584.147693355944,
                    2501.008270279008,
                    -10055.7224989518,
                    6834.20005306192,
                    13938.298343660212,
                    null,
                    null,
                    null,
                    null,
                    null,
                    null,
                    null,
                    null,
                    null,
                    null,
                    null,
                    null,
                    null,
                    null,
                    null,
                    null,
                    null,
                    null,
                    null,
                    null,
                    null,
                    null,
                    null,
                    null,
                    null,
                    null
                  ],
                  "yaxis": "y"
                }
              ],
              "layout": {
                "legend": {
                  "title": {
                    "text": "variable"
                  },
                  "tracegroupgap": 0
                },
                "margin": {
                  "t": 60
                },
                "template": {
                  "data": {
                    "bar": [
                      {
                        "error_x": {
                          "color": "#2a3f5f"
                        },
                        "error_y": {
                          "color": "#2a3f5f"
                        },
                        "marker": {
                          "line": {
                            "color": "#E5ECF6",
                            "width": 0.5
                          },
                          "pattern": {
                            "fillmode": "overlay",
                            "size": 10,
                            "solidity": 0.2
                          }
                        },
                        "type": "bar"
                      }
                    ],
                    "barpolar": [
                      {
                        "marker": {
                          "line": {
                            "color": "#E5ECF6",
                            "width": 0.5
                          },
                          "pattern": {
                            "fillmode": "overlay",
                            "size": 10,
                            "solidity": 0.2
                          }
                        },
                        "type": "barpolar"
                      }
                    ],
                    "carpet": [
                      {
                        "aaxis": {
                          "endlinecolor": "#2a3f5f",
                          "gridcolor": "white",
                          "linecolor": "white",
                          "minorgridcolor": "white",
                          "startlinecolor": "#2a3f5f"
                        },
                        "baxis": {
                          "endlinecolor": "#2a3f5f",
                          "gridcolor": "white",
                          "linecolor": "white",
                          "minorgridcolor": "white",
                          "startlinecolor": "#2a3f5f"
                        },
                        "type": "carpet"
                      }
                    ],
                    "choropleth": [
                      {
                        "colorbar": {
                          "outlinewidth": 0,
                          "ticks": ""
                        },
                        "type": "choropleth"
                      }
                    ],
                    "contour": [
                      {
                        "colorbar": {
                          "outlinewidth": 0,
                          "ticks": ""
                        },
                        "colorscale": [
                          [
                            0,
                            "#0d0887"
                          ],
                          [
                            0.1111111111111111,
                            "#46039f"
                          ],
                          [
                            0.2222222222222222,
                            "#7201a8"
                          ],
                          [
                            0.3333333333333333,
                            "#9c179e"
                          ],
                          [
                            0.4444444444444444,
                            "#bd3786"
                          ],
                          [
                            0.5555555555555556,
                            "#d8576b"
                          ],
                          [
                            0.6666666666666666,
                            "#ed7953"
                          ],
                          [
                            0.7777777777777778,
                            "#fb9f3a"
                          ],
                          [
                            0.8888888888888888,
                            "#fdca26"
                          ],
                          [
                            1,
                            "#f0f921"
                          ]
                        ],
                        "type": "contour"
                      }
                    ],
                    "contourcarpet": [
                      {
                        "colorbar": {
                          "outlinewidth": 0,
                          "ticks": ""
                        },
                        "type": "contourcarpet"
                      }
                    ],
                    "heatmap": [
                      {
                        "colorbar": {
                          "outlinewidth": 0,
                          "ticks": ""
                        },
                        "colorscale": [
                          [
                            0,
                            "#0d0887"
                          ],
                          [
                            0.1111111111111111,
                            "#46039f"
                          ],
                          [
                            0.2222222222222222,
                            "#7201a8"
                          ],
                          [
                            0.3333333333333333,
                            "#9c179e"
                          ],
                          [
                            0.4444444444444444,
                            "#bd3786"
                          ],
                          [
                            0.5555555555555556,
                            "#d8576b"
                          ],
                          [
                            0.6666666666666666,
                            "#ed7953"
                          ],
                          [
                            0.7777777777777778,
                            "#fb9f3a"
                          ],
                          [
                            0.8888888888888888,
                            "#fdca26"
                          ],
                          [
                            1,
                            "#f0f921"
                          ]
                        ],
                        "type": "heatmap"
                      }
                    ],
                    "heatmapgl": [
                      {
                        "colorbar": {
                          "outlinewidth": 0,
                          "ticks": ""
                        },
                        "colorscale": [
                          [
                            0,
                            "#0d0887"
                          ],
                          [
                            0.1111111111111111,
                            "#46039f"
                          ],
                          [
                            0.2222222222222222,
                            "#7201a8"
                          ],
                          [
                            0.3333333333333333,
                            "#9c179e"
                          ],
                          [
                            0.4444444444444444,
                            "#bd3786"
                          ],
                          [
                            0.5555555555555556,
                            "#d8576b"
                          ],
                          [
                            0.6666666666666666,
                            "#ed7953"
                          ],
                          [
                            0.7777777777777778,
                            "#fb9f3a"
                          ],
                          [
                            0.8888888888888888,
                            "#fdca26"
                          ],
                          [
                            1,
                            "#f0f921"
                          ]
                        ],
                        "type": "heatmapgl"
                      }
                    ],
                    "histogram": [
                      {
                        "marker": {
                          "pattern": {
                            "fillmode": "overlay",
                            "size": 10,
                            "solidity": 0.2
                          }
                        },
                        "type": "histogram"
                      }
                    ],
                    "histogram2d": [
                      {
                        "colorbar": {
                          "outlinewidth": 0,
                          "ticks": ""
                        },
                        "colorscale": [
                          [
                            0,
                            "#0d0887"
                          ],
                          [
                            0.1111111111111111,
                            "#46039f"
                          ],
                          [
                            0.2222222222222222,
                            "#7201a8"
                          ],
                          [
                            0.3333333333333333,
                            "#9c179e"
                          ],
                          [
                            0.4444444444444444,
                            "#bd3786"
                          ],
                          [
                            0.5555555555555556,
                            "#d8576b"
                          ],
                          [
                            0.6666666666666666,
                            "#ed7953"
                          ],
                          [
                            0.7777777777777778,
                            "#fb9f3a"
                          ],
                          [
                            0.8888888888888888,
                            "#fdca26"
                          ],
                          [
                            1,
                            "#f0f921"
                          ]
                        ],
                        "type": "histogram2d"
                      }
                    ],
                    "histogram2dcontour": [
                      {
                        "colorbar": {
                          "outlinewidth": 0,
                          "ticks": ""
                        },
                        "colorscale": [
                          [
                            0,
                            "#0d0887"
                          ],
                          [
                            0.1111111111111111,
                            "#46039f"
                          ],
                          [
                            0.2222222222222222,
                            "#7201a8"
                          ],
                          [
                            0.3333333333333333,
                            "#9c179e"
                          ],
                          [
                            0.4444444444444444,
                            "#bd3786"
                          ],
                          [
                            0.5555555555555556,
                            "#d8576b"
                          ],
                          [
                            0.6666666666666666,
                            "#ed7953"
                          ],
                          [
                            0.7777777777777778,
                            "#fb9f3a"
                          ],
                          [
                            0.8888888888888888,
                            "#fdca26"
                          ],
                          [
                            1,
                            "#f0f921"
                          ]
                        ],
                        "type": "histogram2dcontour"
                      }
                    ],
                    "mesh3d": [
                      {
                        "colorbar": {
                          "outlinewidth": 0,
                          "ticks": ""
                        },
                        "type": "mesh3d"
                      }
                    ],
                    "parcoords": [
                      {
                        "line": {
                          "colorbar": {
                            "outlinewidth": 0,
                            "ticks": ""
                          }
                        },
                        "type": "parcoords"
                      }
                    ],
                    "pie": [
                      {
                        "automargin": true,
                        "type": "pie"
                      }
                    ],
                    "scatter": [
                      {
                        "marker": {
                          "colorbar": {
                            "outlinewidth": 0,
                            "ticks": ""
                          }
                        },
                        "type": "scatter"
                      }
                    ],
                    "scatter3d": [
                      {
                        "line": {
                          "colorbar": {
                            "outlinewidth": 0,
                            "ticks": ""
                          }
                        },
                        "marker": {
                          "colorbar": {
                            "outlinewidth": 0,
                            "ticks": ""
                          }
                        },
                        "type": "scatter3d"
                      }
                    ],
                    "scattercarpet": [
                      {
                        "marker": {
                          "colorbar": {
                            "outlinewidth": 0,
                            "ticks": ""
                          }
                        },
                        "type": "scattercarpet"
                      }
                    ],
                    "scattergeo": [
                      {
                        "marker": {
                          "colorbar": {
                            "outlinewidth": 0,
                            "ticks": ""
                          }
                        },
                        "type": "scattergeo"
                      }
                    ],
                    "scattergl": [
                      {
                        "marker": {
                          "colorbar": {
                            "outlinewidth": 0,
                            "ticks": ""
                          }
                        },
                        "type": "scattergl"
                      }
                    ],
                    "scattermapbox": [
                      {
                        "marker": {
                          "colorbar": {
                            "outlinewidth": 0,
                            "ticks": ""
                          }
                        },
                        "type": "scattermapbox"
                      }
                    ],
                    "scatterpolar": [
                      {
                        "marker": {
                          "colorbar": {
                            "outlinewidth": 0,
                            "ticks": ""
                          }
                        },
                        "type": "scatterpolar"
                      }
                    ],
                    "scatterpolargl": [
                      {
                        "marker": {
                          "colorbar": {
                            "outlinewidth": 0,
                            "ticks": ""
                          }
                        },
                        "type": "scatterpolargl"
                      }
                    ],
                    "scatterternary": [
                      {
                        "marker": {
                          "colorbar": {
                            "outlinewidth": 0,
                            "ticks": ""
                          }
                        },
                        "type": "scatterternary"
                      }
                    ],
                    "surface": [
                      {
                        "colorbar": {
                          "outlinewidth": 0,
                          "ticks": ""
                        },
                        "colorscale": [
                          [
                            0,
                            "#0d0887"
                          ],
                          [
                            0.1111111111111111,
                            "#46039f"
                          ],
                          [
                            0.2222222222222222,
                            "#7201a8"
                          ],
                          [
                            0.3333333333333333,
                            "#9c179e"
                          ],
                          [
                            0.4444444444444444,
                            "#bd3786"
                          ],
                          [
                            0.5555555555555556,
                            "#d8576b"
                          ],
                          [
                            0.6666666666666666,
                            "#ed7953"
                          ],
                          [
                            0.7777777777777778,
                            "#fb9f3a"
                          ],
                          [
                            0.8888888888888888,
                            "#fdca26"
                          ],
                          [
                            1,
                            "#f0f921"
                          ]
                        ],
                        "type": "surface"
                      }
                    ],
                    "table": [
                      {
                        "cells": {
                          "fill": {
                            "color": "#EBF0F8"
                          },
                          "line": {
                            "color": "white"
                          }
                        },
                        "header": {
                          "fill": {
                            "color": "#C8D4E3"
                          },
                          "line": {
                            "color": "white"
                          }
                        },
                        "type": "table"
                      }
                    ]
                  },
                  "layout": {
                    "annotationdefaults": {
                      "arrowcolor": "#2a3f5f",
                      "arrowhead": 0,
                      "arrowwidth": 1
                    },
                    "autotypenumbers": "strict",
                    "coloraxis": {
                      "colorbar": {
                        "outlinewidth": 0,
                        "ticks": ""
                      }
                    },
                    "colorscale": {
                      "diverging": [
                        [
                          0,
                          "#8e0152"
                        ],
                        [
                          0.1,
                          "#c51b7d"
                        ],
                        [
                          0.2,
                          "#de77ae"
                        ],
                        [
                          0.3,
                          "#f1b6da"
                        ],
                        [
                          0.4,
                          "#fde0ef"
                        ],
                        [
                          0.5,
                          "#f7f7f7"
                        ],
                        [
                          0.6,
                          "#e6f5d0"
                        ],
                        [
                          0.7,
                          "#b8e186"
                        ],
                        [
                          0.8,
                          "#7fbc41"
                        ],
                        [
                          0.9,
                          "#4d9221"
                        ],
                        [
                          1,
                          "#276419"
                        ]
                      ],
                      "sequential": [
                        [
                          0,
                          "#0d0887"
                        ],
                        [
                          0.1111111111111111,
                          "#46039f"
                        ],
                        [
                          0.2222222222222222,
                          "#7201a8"
                        ],
                        [
                          0.3333333333333333,
                          "#9c179e"
                        ],
                        [
                          0.4444444444444444,
                          "#bd3786"
                        ],
                        [
                          0.5555555555555556,
                          "#d8576b"
                        ],
                        [
                          0.6666666666666666,
                          "#ed7953"
                        ],
                        [
                          0.7777777777777778,
                          "#fb9f3a"
                        ],
                        [
                          0.8888888888888888,
                          "#fdca26"
                        ],
                        [
                          1,
                          "#f0f921"
                        ]
                      ],
                      "sequentialminus": [
                        [
                          0,
                          "#0d0887"
                        ],
                        [
                          0.1111111111111111,
                          "#46039f"
                        ],
                        [
                          0.2222222222222222,
                          "#7201a8"
                        ],
                        [
                          0.3333333333333333,
                          "#9c179e"
                        ],
                        [
                          0.4444444444444444,
                          "#bd3786"
                        ],
                        [
                          0.5555555555555556,
                          "#d8576b"
                        ],
                        [
                          0.6666666666666666,
                          "#ed7953"
                        ],
                        [
                          0.7777777777777778,
                          "#fb9f3a"
                        ],
                        [
                          0.8888888888888888,
                          "#fdca26"
                        ],
                        [
                          1,
                          "#f0f921"
                        ]
                      ]
                    },
                    "colorway": [
                      "#636efa",
                      "#EF553B",
                      "#00cc96",
                      "#ab63fa",
                      "#FFA15A",
                      "#19d3f3",
                      "#FF6692",
                      "#B6E880",
                      "#FF97FF",
                      "#FECB52"
                    ],
                    "font": {
                      "color": "#2a3f5f"
                    },
                    "geo": {
                      "bgcolor": "white",
                      "lakecolor": "white",
                      "landcolor": "#E5ECF6",
                      "showlakes": true,
                      "showland": true,
                      "subunitcolor": "white"
                    },
                    "hoverlabel": {
                      "align": "left"
                    },
                    "hovermode": "closest",
                    "mapbox": {
                      "style": "light"
                    },
                    "paper_bgcolor": "white",
                    "plot_bgcolor": "#E5ECF6",
                    "polar": {
                      "angularaxis": {
                        "gridcolor": "white",
                        "linecolor": "white",
                        "ticks": ""
                      },
                      "bgcolor": "#E5ECF6",
                      "radialaxis": {
                        "gridcolor": "white",
                        "linecolor": "white",
                        "ticks": ""
                      }
                    },
                    "scene": {
                      "xaxis": {
                        "backgroundcolor": "#E5ECF6",
                        "gridcolor": "white",
                        "gridwidth": 2,
                        "linecolor": "white",
                        "showbackground": true,
                        "ticks": "",
                        "zerolinecolor": "white"
                      },
                      "yaxis": {
                        "backgroundcolor": "#E5ECF6",
                        "gridcolor": "white",
                        "gridwidth": 2,
                        "linecolor": "white",
                        "showbackground": true,
                        "ticks": "",
                        "zerolinecolor": "white"
                      },
                      "zaxis": {
                        "backgroundcolor": "#E5ECF6",
                        "gridcolor": "white",
                        "gridwidth": 2,
                        "linecolor": "white",
                        "showbackground": true,
                        "ticks": "",
                        "zerolinecolor": "white"
                      }
                    },
                    "shapedefaults": {
                      "line": {
                        "color": "#2a3f5f"
                      }
                    },
                    "ternary": {
                      "aaxis": {
                        "gridcolor": "white",
                        "linecolor": "white",
                        "ticks": ""
                      },
                      "baxis": {
                        "gridcolor": "white",
                        "linecolor": "white",
                        "ticks": ""
                      },
                      "bgcolor": "#E5ECF6",
                      "caxis": {
                        "gridcolor": "white",
                        "linecolor": "white",
                        "ticks": ""
                      }
                    },
                    "title": {
                      "x": 0.05
                    },
                    "xaxis": {
                      "automargin": true,
                      "gridcolor": "white",
                      "linecolor": "white",
                      "ticks": "",
                      "title": {
                        "standoff": 15
                      },
                      "zerolinecolor": "white",
                      "zerolinewidth": 2
                    },
                    "yaxis": {
                      "automargin": true,
                      "gridcolor": "white",
                      "linecolor": "white",
                      "ticks": "",
                      "title": {
                        "standoff": 15
                      },
                      "zerolinecolor": "white",
                      "zerolinewidth": 2
                    }
                  }
                },
                "xaxis": {
                  "anchor": "y",
                  "domain": [
                    0,
                    1
                  ],
                  "title": {
                    "text": "fecha"
                  }
                },
                "yaxis": {
                  "anchor": "x",
                  "domain": [
                    0,
                    1
                  ],
                  "title": {
                    "text": "value"
                  }
                }
              }
            }
          },
          "metadata": {},
          "output_type": "display_data"
        }
      ],
      "source": [
        "grafico2 = px.line(result.resid)\n",
        "grafico2.show()\n"
      ]
    },
    {
      "cell_type": "code",
      "execution_count": 80,
      "metadata": {},
      "outputs": [
        {
          "data": {
            "application/vnd.plotly.v1+json": {
              "config": {
                "plotlyServerURL": "https://plot.ly"
              },
              "data": [
                {
                  "hovertemplate": "variable=cantidad_pasos<br>fecha=%{x}<br>value=%{y}<extra></extra>",
                  "legendgroup": "cantidad_pasos",
                  "line": {
                    "color": "#636efa",
                    "dash": "solid"
                  },
                  "marker": {
                    "symbol": "circle"
                  },
                  "mode": "lines",
                  "name": "cantidad_pasos",
                  "orientation": "v",
                  "showlegend": true,
                  "type": "scatter",
                  "x": [
                    "2017-01-01T00:00:00",
                    "2017-01-08T00:00:00",
                    "2017-01-15T00:00:00",
                    "2017-01-22T00:00:00",
                    "2017-01-29T00:00:00",
                    "2017-02-05T00:00:00",
                    "2017-02-12T00:00:00",
                    "2017-02-19T00:00:00",
                    "2017-02-26T00:00:00",
                    "2017-03-05T00:00:00",
                    "2017-03-12T00:00:00",
                    "2017-03-19T00:00:00",
                    "2017-03-26T00:00:00",
                    "2017-04-02T00:00:00",
                    "2017-04-09T00:00:00",
                    "2017-04-16T00:00:00",
                    "2017-04-23T00:00:00",
                    "2017-04-30T00:00:00",
                    "2017-05-07T00:00:00",
                    "2017-05-14T00:00:00",
                    "2017-05-21T00:00:00",
                    "2017-05-28T00:00:00",
                    "2017-06-04T00:00:00",
                    "2017-06-11T00:00:00",
                    "2017-06-18T00:00:00",
                    "2017-06-25T00:00:00",
                    "2017-07-02T00:00:00",
                    "2017-07-09T00:00:00",
                    "2017-07-16T00:00:00",
                    "2017-07-23T00:00:00",
                    "2017-07-30T00:00:00",
                    "2017-08-06T00:00:00",
                    "2017-08-13T00:00:00",
                    "2017-08-20T00:00:00",
                    "2017-08-27T00:00:00",
                    "2017-09-03T00:00:00",
                    "2017-09-10T00:00:00",
                    "2017-09-17T00:00:00",
                    "2017-09-24T00:00:00",
                    "2017-10-01T00:00:00",
                    "2017-10-08T00:00:00",
                    "2017-10-15T00:00:00",
                    "2017-10-22T00:00:00",
                    "2017-10-29T00:00:00",
                    "2017-11-05T00:00:00",
                    "2017-11-12T00:00:00",
                    "2017-11-19T00:00:00",
                    "2017-11-26T00:00:00",
                    "2017-12-03T00:00:00",
                    "2017-12-10T00:00:00",
                    "2017-12-17T00:00:00",
                    "2017-12-24T00:00:00",
                    "2017-12-31T00:00:00",
                    "2018-01-07T00:00:00",
                    "2018-01-14T00:00:00",
                    "2018-01-21T00:00:00",
                    "2018-01-28T00:00:00",
                    "2018-02-04T00:00:00",
                    "2018-02-11T00:00:00",
                    "2018-02-18T00:00:00",
                    "2018-02-25T00:00:00",
                    "2018-03-04T00:00:00",
                    "2018-03-11T00:00:00",
                    "2018-03-18T00:00:00",
                    "2018-03-25T00:00:00",
                    "2018-04-01T00:00:00",
                    "2018-04-08T00:00:00",
                    "2018-04-15T00:00:00",
                    "2018-04-22T00:00:00",
                    "2018-04-29T00:00:00",
                    "2018-05-06T00:00:00",
                    "2018-05-13T00:00:00",
                    "2018-05-20T00:00:00",
                    "2018-05-27T00:00:00",
                    "2018-06-03T00:00:00",
                    "2018-06-10T00:00:00",
                    "2018-06-17T00:00:00",
                    "2018-06-24T00:00:00",
                    "2018-07-01T00:00:00",
                    "2018-07-08T00:00:00",
                    "2018-07-15T00:00:00",
                    "2018-07-22T00:00:00",
                    "2018-07-29T00:00:00",
                    "2018-08-05T00:00:00",
                    "2018-08-12T00:00:00",
                    "2018-08-19T00:00:00",
                    "2018-08-26T00:00:00",
                    "2018-09-02T00:00:00",
                    "2018-09-09T00:00:00",
                    "2018-09-16T00:00:00",
                    "2018-09-23T00:00:00",
                    "2018-09-30T00:00:00",
                    "2018-10-07T00:00:00",
                    "2018-10-14T00:00:00",
                    "2018-10-21T00:00:00",
                    "2018-10-28T00:00:00",
                    "2018-11-04T00:00:00",
                    "2018-11-11T00:00:00",
                    "2018-11-18T00:00:00",
                    "2018-11-25T00:00:00",
                    "2018-12-02T00:00:00",
                    "2018-12-09T00:00:00",
                    "2018-12-16T00:00:00",
                    "2018-12-23T00:00:00",
                    "2018-12-30T00:00:00",
                    "2019-01-06T00:00:00",
                    "2019-01-13T00:00:00",
                    "2019-01-20T00:00:00",
                    "2019-01-27T00:00:00",
                    "2019-02-03T00:00:00",
                    "2019-02-10T00:00:00",
                    "2019-02-17T00:00:00",
                    "2019-02-24T00:00:00",
                    "2019-03-03T00:00:00",
                    "2019-03-10T00:00:00",
                    "2019-03-17T00:00:00",
                    "2019-03-24T00:00:00",
                    "2019-03-31T00:00:00",
                    "2019-04-07T00:00:00",
                    "2019-04-14T00:00:00",
                    "2019-04-21T00:00:00",
                    "2019-04-28T00:00:00",
                    "2019-05-05T00:00:00",
                    "2019-05-12T00:00:00",
                    "2019-05-19T00:00:00",
                    "2019-05-26T00:00:00",
                    "2019-06-02T00:00:00",
                    "2019-06-09T00:00:00",
                    "2019-06-16T00:00:00",
                    "2019-06-23T00:00:00",
                    "2019-06-30T00:00:00",
                    "2019-07-07T00:00:00",
                    "2019-07-14T00:00:00",
                    "2019-07-21T00:00:00",
                    "2019-07-28T00:00:00",
                    "2019-08-04T00:00:00",
                    "2019-08-11T00:00:00",
                    "2019-08-18T00:00:00",
                    "2019-08-25T00:00:00",
                    "2019-09-01T00:00:00",
                    "2019-09-08T00:00:00",
                    "2019-09-15T00:00:00",
                    "2019-09-22T00:00:00",
                    "2019-09-29T00:00:00",
                    "2019-10-06T00:00:00",
                    "2019-10-13T00:00:00",
                    "2019-10-20T00:00:00",
                    "2019-10-27T00:00:00",
                    "2019-11-03T00:00:00",
                    "2019-11-10T00:00:00",
                    "2019-11-17T00:00:00",
                    "2019-11-24T00:00:00",
                    "2019-12-01T00:00:00",
                    "2019-12-08T00:00:00",
                    "2019-12-15T00:00:00",
                    "2019-12-22T00:00:00",
                    "2019-12-29T00:00:00",
                    "2020-01-05T00:00:00"
                  ],
                  "xaxis": "x",
                  "y": [
                    31183,
                    347212,
                    366413,
                    357215,
                    354581,
                    359401,
                    363774,
                    343877,
                    335395,
                    304908,
                    321494,
                    330794,
                    319083,
                    333297,
                    333932.5096774193,
                    304912,
                    342225,
                    350946,
                    325875,
                    309072,
                    324240,
                    307054,
                    319937,
                    335147,
                    328122,
                    316651,
                    335900,
                    323159,
                    347770,
                    357156,
                    342240,
                    345164,
                    334245,
                    337243,
                    316987,
                    337659,
                    337933,
                    374520,
                    353999,
                    357671,
                    369918,
                    377832,
                    342571,
                    366650,
                    353947,
                    375644,
                    377263,
                    359053,
                    371970,
                    364991,
                    365063,
                    327602,
                    309692,
                    300242,
                    315780,
                    328359,
                    327887,
                    340275,
                    348044,
                    318733,
                    325966,
                    349768,
                    346506,
                    352713,
                    361465,
                    325545,
                    323725,
                    339255,
                    325904,
                    322154,
                    287470,
                    324115,
                    325304,
                    310709,
                    307369,
                    314291,
                    296834,
                    288154,
                    296700.50641025644,
                    310012,
                    312335,
                    314517,
                    294270,
                    300955,
                    301407,
                    308307,
                    290940,
                    293436,
                    298932,
                    284913,
                    295210,
                    281516.9423076923,
                    247986,
                    312089,
                    296381,
                    304897,
                    307134,
                    294310,
                    307352,
                    288934,
                    270872.4322580645,
                    320481,
                    315645,
                    314832,
                    250861,
                    246994,
                    248077,
                    252617,
                    259019,
                    276568,
                    258204,
                    273664,
                    284439,
                    288919,
                    285547,
                    278834,
                    276714,
                    298638,
                    267797,
                    266745,
                    265423,
                    273282,
                    252104,
                    281283,
                    271796,
                    271232,
                    281272.135483871,
                    284432,
                    260940,
                    227123,
                    271865,
                    280160,
                    274852,
                    291431,
                    284822,
                    287773,
                    273867,
                    274513,
                    265594,
                    279775,
                    276271,
                    272592,
                    279927,
                    287568,
                    272483,
                    260840,
                    267147,
                    262950,
                    273129,
                    270536,
                    281790,
                    264500,
                    266555,
                    282891,
                    272960,
                    292881,
                    226390,
                    55970
                  ],
                  "yaxis": "y"
                },
                {
                  "hovertemplate": "variable=trend<br>fecha=%{x}<br>value=%{y}<extra></extra>",
                  "legendgroup": "trend",
                  "line": {
                    "color": "rgb(0, 255, 0)",
                    "dash": "solid"
                  },
                  "marker": {
                    "symbol": "circle"
                  },
                  "mode": "lines",
                  "name": "trend",
                  "orientation": "v",
                  "showlegend": true,
                  "type": "scatter",
                  "x": [
                    "2017-01-01T00:00:00",
                    "2017-01-08T00:00:00",
                    "2017-01-15T00:00:00",
                    "2017-01-22T00:00:00",
                    "2017-01-29T00:00:00",
                    "2017-02-05T00:00:00",
                    "2017-02-12T00:00:00",
                    "2017-02-19T00:00:00",
                    "2017-02-26T00:00:00",
                    "2017-03-05T00:00:00",
                    "2017-03-12T00:00:00",
                    "2017-03-19T00:00:00",
                    "2017-03-26T00:00:00",
                    "2017-04-02T00:00:00",
                    "2017-04-09T00:00:00",
                    "2017-04-16T00:00:00",
                    "2017-04-23T00:00:00",
                    "2017-04-30T00:00:00",
                    "2017-05-07T00:00:00",
                    "2017-05-14T00:00:00",
                    "2017-05-21T00:00:00",
                    "2017-05-28T00:00:00",
                    "2017-06-04T00:00:00",
                    "2017-06-11T00:00:00",
                    "2017-06-18T00:00:00",
                    "2017-06-25T00:00:00",
                    "2017-07-02T00:00:00",
                    "2017-07-09T00:00:00",
                    "2017-07-16T00:00:00",
                    "2017-07-23T00:00:00",
                    "2017-07-30T00:00:00",
                    "2017-08-06T00:00:00",
                    "2017-08-13T00:00:00",
                    "2017-08-20T00:00:00",
                    "2017-08-27T00:00:00",
                    "2017-09-03T00:00:00",
                    "2017-09-10T00:00:00",
                    "2017-09-17T00:00:00",
                    "2017-09-24T00:00:00",
                    "2017-10-01T00:00:00",
                    "2017-10-08T00:00:00",
                    "2017-10-15T00:00:00",
                    "2017-10-22T00:00:00",
                    "2017-10-29T00:00:00",
                    "2017-11-05T00:00:00",
                    "2017-11-12T00:00:00",
                    "2017-11-19T00:00:00",
                    "2017-11-26T00:00:00",
                    "2017-12-03T00:00:00",
                    "2017-12-10T00:00:00",
                    "2017-12-17T00:00:00",
                    "2017-12-24T00:00:00",
                    "2017-12-31T00:00:00",
                    "2018-01-07T00:00:00",
                    "2018-01-14T00:00:00",
                    "2018-01-21T00:00:00",
                    "2018-01-28T00:00:00",
                    "2018-02-04T00:00:00",
                    "2018-02-11T00:00:00",
                    "2018-02-18T00:00:00",
                    "2018-02-25T00:00:00",
                    "2018-03-04T00:00:00",
                    "2018-03-11T00:00:00",
                    "2018-03-18T00:00:00",
                    "2018-03-25T00:00:00",
                    "2018-04-01T00:00:00",
                    "2018-04-08T00:00:00",
                    "2018-04-15T00:00:00",
                    "2018-04-22T00:00:00",
                    "2018-04-29T00:00:00",
                    "2018-05-06T00:00:00",
                    "2018-05-13T00:00:00",
                    "2018-05-20T00:00:00",
                    "2018-05-27T00:00:00",
                    "2018-06-03T00:00:00",
                    "2018-06-10T00:00:00",
                    "2018-06-17T00:00:00",
                    "2018-06-24T00:00:00",
                    "2018-07-01T00:00:00",
                    "2018-07-08T00:00:00",
                    "2018-07-15T00:00:00",
                    "2018-07-22T00:00:00",
                    "2018-07-29T00:00:00",
                    "2018-08-05T00:00:00",
                    "2018-08-12T00:00:00",
                    "2018-08-19T00:00:00",
                    "2018-08-26T00:00:00",
                    "2018-09-02T00:00:00",
                    "2018-09-09T00:00:00",
                    "2018-09-16T00:00:00",
                    "2018-09-23T00:00:00",
                    "2018-09-30T00:00:00",
                    "2018-10-07T00:00:00",
                    "2018-10-14T00:00:00",
                    "2018-10-21T00:00:00",
                    "2018-10-28T00:00:00",
                    "2018-11-04T00:00:00",
                    "2018-11-11T00:00:00",
                    "2018-11-18T00:00:00",
                    "2018-11-25T00:00:00",
                    "2018-12-02T00:00:00",
                    "2018-12-09T00:00:00",
                    "2018-12-16T00:00:00",
                    "2018-12-23T00:00:00",
                    "2018-12-30T00:00:00",
                    "2019-01-06T00:00:00",
                    "2019-01-13T00:00:00",
                    "2019-01-20T00:00:00",
                    "2019-01-27T00:00:00",
                    "2019-02-03T00:00:00",
                    "2019-02-10T00:00:00",
                    "2019-02-17T00:00:00",
                    "2019-02-24T00:00:00",
                    "2019-03-03T00:00:00",
                    "2019-03-10T00:00:00",
                    "2019-03-17T00:00:00",
                    "2019-03-24T00:00:00",
                    "2019-03-31T00:00:00",
                    "2019-04-07T00:00:00",
                    "2019-04-14T00:00:00",
                    "2019-04-21T00:00:00",
                    "2019-04-28T00:00:00",
                    "2019-05-05T00:00:00",
                    "2019-05-12T00:00:00",
                    "2019-05-19T00:00:00",
                    "2019-05-26T00:00:00",
                    "2019-06-02T00:00:00",
                    "2019-06-09T00:00:00",
                    "2019-06-16T00:00:00",
                    "2019-06-23T00:00:00",
                    "2019-06-30T00:00:00",
                    "2019-07-07T00:00:00",
                    "2019-07-14T00:00:00",
                    "2019-07-21T00:00:00",
                    "2019-07-28T00:00:00",
                    "2019-08-04T00:00:00",
                    "2019-08-11T00:00:00",
                    "2019-08-18T00:00:00",
                    "2019-08-25T00:00:00",
                    "2019-09-01T00:00:00",
                    "2019-09-08T00:00:00",
                    "2019-09-15T00:00:00",
                    "2019-09-22T00:00:00",
                    "2019-09-29T00:00:00",
                    "2019-10-06T00:00:00",
                    "2019-10-13T00:00:00",
                    "2019-10-20T00:00:00",
                    "2019-10-27T00:00:00",
                    "2019-11-03T00:00:00",
                    "2019-11-10T00:00:00",
                    "2019-11-17T00:00:00",
                    "2019-11-24T00:00:00",
                    "2019-12-01T00:00:00",
                    "2019-12-08T00:00:00",
                    "2019-12-15T00:00:00",
                    "2019-12-22T00:00:00",
                    "2019-12-29T00:00:00",
                    "2020-01-05T00:00:00"
                  ],
                  "xaxis": "x",
                  "y": [
                    null,
                    null,
                    null,
                    null,
                    null,
                    null,
                    null,
                    null,
                    null,
                    null,
                    null,
                    null,
                    null,
                    null,
                    null,
                    null,
                    null,
                    null,
                    null,
                    null,
                    null,
                    null,
                    null,
                    null,
                    null,
                    null,
                    339618.1732630273,
                    341844.5098014889,
                    340906.0194168735,
                    340141.7021091812,
                    339607.5674937965,
                    339166.9905707196,
                    338831.8367245658,
                    338438.8174937966,
                    338106.3848014889,
                    338447.0674937965,
                    339118.9136476427,
                    339570.1732630273,
                    340188.4521091812,
                    340521.4328784119,
                    340348.7452853598,
                    340580.81730769225,
                    340754.1057692308,
                    340320.326923077,
                    339674.201923077,
                    339449.56730769225,
                    339604.44230769237,
                    339649.81730769237,
                    339564.1153846154,
                    339242.7307692308,
                    338741.3461538462,
                    338166.4903846154,
                    337515.56256163714,
                    337012.2308925049,
                    336545.09627712035,
                    335794.3847386588,
                    334923.1443540434,
                    334036.8078155819,
                    333295.97127712035,
                    332701.9905078896,
                    332173.3078155819,
                    331497.6347386588,
                    330697.40396942804,
                    329460.7885848126,
                    328033.90396942804,
                    326736.3745685404,
                    324831.7009368837,
                    323027.1336291914,
                    321950.8547830375,
                    320912.941321499,
                    319869.03747534525,
                    318636.85478303744,
                    317182.57593688363,
                    315836.1336291913,
                    314189.8204778266,
                    312789.7477110773,
                    311886.5938649234,
                    311288.63232646184,
                    310600.1611726156,
                    309522.4784803079,
                    308359.48809569253,
                    306980.2092495388,
                    305589.72848030797,
                    304314.9688649234,
                    302838.55540338496,
                    301541.35348030797,
                    300708.6996341541,
                    299724.31501876947,
                    298553.0842495387,
                    297256.56501876947,
                    295731.27655723103,
                    294657.6419418464,
                    293861.15155723103,
                    292626.17078800034,
                    291347.4111726156,
                    290295.94001876947,
                    289485.95924953866,
                    288734.0554033848,
                    287807.7092495387,
                    286913.62271107716,
                    286283.10478303744,
                    285745.0676242285,
                    285112.82723961317,
                    284180.856085767,
                    283355.21660105296,
                    282829.37519326207,
                    282181.9232701851,
                    281599.5290394159,
                    281286.702116339,
                    281069.10596249276,
                    280677.5482701851,
                    280087.7982701851,
                    279519.1444240313,
                    279144.07711633894,
                    278794.82711633894,
                    278458.4617317236,
                    278193.0386548006,
                    278104.26997876505,
                    278398.00130272954,
                    278140.7705334987,
                    277366.8955334987,
                    276682.4628411911,
                    275952.15514888335,
                    275396.5878411911,
                    274922.2032258065,
                    274441.47245657566,
                    274165.01637717115,
                    273762.0602977667,
                    272990.1852977667,
                    272368.68529776676,
                    271922.3199131513,
                    269850.25260545907,
                    null,
                    null,
                    null,
                    null,
                    null,
                    null,
                    null,
                    null,
                    null,
                    null,
                    null,
                    null,
                    null,
                    null,
                    null,
                    null,
                    null,
                    null,
                    null,
                    null,
                    null,
                    null,
                    null,
                    null,
                    null,
                    null
                  ],
                  "yaxis": "y"
                }
              ],
              "layout": {
                "template": {
                  "data": {
                    "bar": [
                      {
                        "error_x": {
                          "color": "#2a3f5f"
                        },
                        "error_y": {
                          "color": "#2a3f5f"
                        },
                        "marker": {
                          "line": {
                            "color": "#E5ECF6",
                            "width": 0.5
                          },
                          "pattern": {
                            "fillmode": "overlay",
                            "size": 10,
                            "solidity": 0.2
                          }
                        },
                        "type": "bar"
                      }
                    ],
                    "barpolar": [
                      {
                        "marker": {
                          "line": {
                            "color": "#E5ECF6",
                            "width": 0.5
                          },
                          "pattern": {
                            "fillmode": "overlay",
                            "size": 10,
                            "solidity": 0.2
                          }
                        },
                        "type": "barpolar"
                      }
                    ],
                    "carpet": [
                      {
                        "aaxis": {
                          "endlinecolor": "#2a3f5f",
                          "gridcolor": "white",
                          "linecolor": "white",
                          "minorgridcolor": "white",
                          "startlinecolor": "#2a3f5f"
                        },
                        "baxis": {
                          "endlinecolor": "#2a3f5f",
                          "gridcolor": "white",
                          "linecolor": "white",
                          "minorgridcolor": "white",
                          "startlinecolor": "#2a3f5f"
                        },
                        "type": "carpet"
                      }
                    ],
                    "choropleth": [
                      {
                        "colorbar": {
                          "outlinewidth": 0,
                          "ticks": ""
                        },
                        "type": "choropleth"
                      }
                    ],
                    "contour": [
                      {
                        "colorbar": {
                          "outlinewidth": 0,
                          "ticks": ""
                        },
                        "colorscale": [
                          [
                            0,
                            "#0d0887"
                          ],
                          [
                            0.1111111111111111,
                            "#46039f"
                          ],
                          [
                            0.2222222222222222,
                            "#7201a8"
                          ],
                          [
                            0.3333333333333333,
                            "#9c179e"
                          ],
                          [
                            0.4444444444444444,
                            "#bd3786"
                          ],
                          [
                            0.5555555555555556,
                            "#d8576b"
                          ],
                          [
                            0.6666666666666666,
                            "#ed7953"
                          ],
                          [
                            0.7777777777777778,
                            "#fb9f3a"
                          ],
                          [
                            0.8888888888888888,
                            "#fdca26"
                          ],
                          [
                            1,
                            "#f0f921"
                          ]
                        ],
                        "type": "contour"
                      }
                    ],
                    "contourcarpet": [
                      {
                        "colorbar": {
                          "outlinewidth": 0,
                          "ticks": ""
                        },
                        "type": "contourcarpet"
                      }
                    ],
                    "heatmap": [
                      {
                        "colorbar": {
                          "outlinewidth": 0,
                          "ticks": ""
                        },
                        "colorscale": [
                          [
                            0,
                            "#0d0887"
                          ],
                          [
                            0.1111111111111111,
                            "#46039f"
                          ],
                          [
                            0.2222222222222222,
                            "#7201a8"
                          ],
                          [
                            0.3333333333333333,
                            "#9c179e"
                          ],
                          [
                            0.4444444444444444,
                            "#bd3786"
                          ],
                          [
                            0.5555555555555556,
                            "#d8576b"
                          ],
                          [
                            0.6666666666666666,
                            "#ed7953"
                          ],
                          [
                            0.7777777777777778,
                            "#fb9f3a"
                          ],
                          [
                            0.8888888888888888,
                            "#fdca26"
                          ],
                          [
                            1,
                            "#f0f921"
                          ]
                        ],
                        "type": "heatmap"
                      }
                    ],
                    "heatmapgl": [
                      {
                        "colorbar": {
                          "outlinewidth": 0,
                          "ticks": ""
                        },
                        "colorscale": [
                          [
                            0,
                            "#0d0887"
                          ],
                          [
                            0.1111111111111111,
                            "#46039f"
                          ],
                          [
                            0.2222222222222222,
                            "#7201a8"
                          ],
                          [
                            0.3333333333333333,
                            "#9c179e"
                          ],
                          [
                            0.4444444444444444,
                            "#bd3786"
                          ],
                          [
                            0.5555555555555556,
                            "#d8576b"
                          ],
                          [
                            0.6666666666666666,
                            "#ed7953"
                          ],
                          [
                            0.7777777777777778,
                            "#fb9f3a"
                          ],
                          [
                            0.8888888888888888,
                            "#fdca26"
                          ],
                          [
                            1,
                            "#f0f921"
                          ]
                        ],
                        "type": "heatmapgl"
                      }
                    ],
                    "histogram": [
                      {
                        "marker": {
                          "pattern": {
                            "fillmode": "overlay",
                            "size": 10,
                            "solidity": 0.2
                          }
                        },
                        "type": "histogram"
                      }
                    ],
                    "histogram2d": [
                      {
                        "colorbar": {
                          "outlinewidth": 0,
                          "ticks": ""
                        },
                        "colorscale": [
                          [
                            0,
                            "#0d0887"
                          ],
                          [
                            0.1111111111111111,
                            "#46039f"
                          ],
                          [
                            0.2222222222222222,
                            "#7201a8"
                          ],
                          [
                            0.3333333333333333,
                            "#9c179e"
                          ],
                          [
                            0.4444444444444444,
                            "#bd3786"
                          ],
                          [
                            0.5555555555555556,
                            "#d8576b"
                          ],
                          [
                            0.6666666666666666,
                            "#ed7953"
                          ],
                          [
                            0.7777777777777778,
                            "#fb9f3a"
                          ],
                          [
                            0.8888888888888888,
                            "#fdca26"
                          ],
                          [
                            1,
                            "#f0f921"
                          ]
                        ],
                        "type": "histogram2d"
                      }
                    ],
                    "histogram2dcontour": [
                      {
                        "colorbar": {
                          "outlinewidth": 0,
                          "ticks": ""
                        },
                        "colorscale": [
                          [
                            0,
                            "#0d0887"
                          ],
                          [
                            0.1111111111111111,
                            "#46039f"
                          ],
                          [
                            0.2222222222222222,
                            "#7201a8"
                          ],
                          [
                            0.3333333333333333,
                            "#9c179e"
                          ],
                          [
                            0.4444444444444444,
                            "#bd3786"
                          ],
                          [
                            0.5555555555555556,
                            "#d8576b"
                          ],
                          [
                            0.6666666666666666,
                            "#ed7953"
                          ],
                          [
                            0.7777777777777778,
                            "#fb9f3a"
                          ],
                          [
                            0.8888888888888888,
                            "#fdca26"
                          ],
                          [
                            1,
                            "#f0f921"
                          ]
                        ],
                        "type": "histogram2dcontour"
                      }
                    ],
                    "mesh3d": [
                      {
                        "colorbar": {
                          "outlinewidth": 0,
                          "ticks": ""
                        },
                        "type": "mesh3d"
                      }
                    ],
                    "parcoords": [
                      {
                        "line": {
                          "colorbar": {
                            "outlinewidth": 0,
                            "ticks": ""
                          }
                        },
                        "type": "parcoords"
                      }
                    ],
                    "pie": [
                      {
                        "automargin": true,
                        "type": "pie"
                      }
                    ],
                    "scatter": [
                      {
                        "marker": {
                          "colorbar": {
                            "outlinewidth": 0,
                            "ticks": ""
                          }
                        },
                        "type": "scatter"
                      }
                    ],
                    "scatter3d": [
                      {
                        "line": {
                          "colorbar": {
                            "outlinewidth": 0,
                            "ticks": ""
                          }
                        },
                        "marker": {
                          "colorbar": {
                            "outlinewidth": 0,
                            "ticks": ""
                          }
                        },
                        "type": "scatter3d"
                      }
                    ],
                    "scattercarpet": [
                      {
                        "marker": {
                          "colorbar": {
                            "outlinewidth": 0,
                            "ticks": ""
                          }
                        },
                        "type": "scattercarpet"
                      }
                    ],
                    "scattergeo": [
                      {
                        "marker": {
                          "colorbar": {
                            "outlinewidth": 0,
                            "ticks": ""
                          }
                        },
                        "type": "scattergeo"
                      }
                    ],
                    "scattergl": [
                      {
                        "marker": {
                          "colorbar": {
                            "outlinewidth": 0,
                            "ticks": ""
                          }
                        },
                        "type": "scattergl"
                      }
                    ],
                    "scattermapbox": [
                      {
                        "marker": {
                          "colorbar": {
                            "outlinewidth": 0,
                            "ticks": ""
                          }
                        },
                        "type": "scattermapbox"
                      }
                    ],
                    "scatterpolar": [
                      {
                        "marker": {
                          "colorbar": {
                            "outlinewidth": 0,
                            "ticks": ""
                          }
                        },
                        "type": "scatterpolar"
                      }
                    ],
                    "scatterpolargl": [
                      {
                        "marker": {
                          "colorbar": {
                            "outlinewidth": 0,
                            "ticks": ""
                          }
                        },
                        "type": "scatterpolargl"
                      }
                    ],
                    "scatterternary": [
                      {
                        "marker": {
                          "colorbar": {
                            "outlinewidth": 0,
                            "ticks": ""
                          }
                        },
                        "type": "scatterternary"
                      }
                    ],
                    "surface": [
                      {
                        "colorbar": {
                          "outlinewidth": 0,
                          "ticks": ""
                        },
                        "colorscale": [
                          [
                            0,
                            "#0d0887"
                          ],
                          [
                            0.1111111111111111,
                            "#46039f"
                          ],
                          [
                            0.2222222222222222,
                            "#7201a8"
                          ],
                          [
                            0.3333333333333333,
                            "#9c179e"
                          ],
                          [
                            0.4444444444444444,
                            "#bd3786"
                          ],
                          [
                            0.5555555555555556,
                            "#d8576b"
                          ],
                          [
                            0.6666666666666666,
                            "#ed7953"
                          ],
                          [
                            0.7777777777777778,
                            "#fb9f3a"
                          ],
                          [
                            0.8888888888888888,
                            "#fdca26"
                          ],
                          [
                            1,
                            "#f0f921"
                          ]
                        ],
                        "type": "surface"
                      }
                    ],
                    "table": [
                      {
                        "cells": {
                          "fill": {
                            "color": "#EBF0F8"
                          },
                          "line": {
                            "color": "white"
                          }
                        },
                        "header": {
                          "fill": {
                            "color": "#C8D4E3"
                          },
                          "line": {
                            "color": "white"
                          }
                        },
                        "type": "table"
                      }
                    ]
                  },
                  "layout": {
                    "annotationdefaults": {
                      "arrowcolor": "#2a3f5f",
                      "arrowhead": 0,
                      "arrowwidth": 1
                    },
                    "autotypenumbers": "strict",
                    "coloraxis": {
                      "colorbar": {
                        "outlinewidth": 0,
                        "ticks": ""
                      }
                    },
                    "colorscale": {
                      "diverging": [
                        [
                          0,
                          "#8e0152"
                        ],
                        [
                          0.1,
                          "#c51b7d"
                        ],
                        [
                          0.2,
                          "#de77ae"
                        ],
                        [
                          0.3,
                          "#f1b6da"
                        ],
                        [
                          0.4,
                          "#fde0ef"
                        ],
                        [
                          0.5,
                          "#f7f7f7"
                        ],
                        [
                          0.6,
                          "#e6f5d0"
                        ],
                        [
                          0.7,
                          "#b8e186"
                        ],
                        [
                          0.8,
                          "#7fbc41"
                        ],
                        [
                          0.9,
                          "#4d9221"
                        ],
                        [
                          1,
                          "#276419"
                        ]
                      ],
                      "sequential": [
                        [
                          0,
                          "#0d0887"
                        ],
                        [
                          0.1111111111111111,
                          "#46039f"
                        ],
                        [
                          0.2222222222222222,
                          "#7201a8"
                        ],
                        [
                          0.3333333333333333,
                          "#9c179e"
                        ],
                        [
                          0.4444444444444444,
                          "#bd3786"
                        ],
                        [
                          0.5555555555555556,
                          "#d8576b"
                        ],
                        [
                          0.6666666666666666,
                          "#ed7953"
                        ],
                        [
                          0.7777777777777778,
                          "#fb9f3a"
                        ],
                        [
                          0.8888888888888888,
                          "#fdca26"
                        ],
                        [
                          1,
                          "#f0f921"
                        ]
                      ],
                      "sequentialminus": [
                        [
                          0,
                          "#0d0887"
                        ],
                        [
                          0.1111111111111111,
                          "#46039f"
                        ],
                        [
                          0.2222222222222222,
                          "#7201a8"
                        ],
                        [
                          0.3333333333333333,
                          "#9c179e"
                        ],
                        [
                          0.4444444444444444,
                          "#bd3786"
                        ],
                        [
                          0.5555555555555556,
                          "#d8576b"
                        ],
                        [
                          0.6666666666666666,
                          "#ed7953"
                        ],
                        [
                          0.7777777777777778,
                          "#fb9f3a"
                        ],
                        [
                          0.8888888888888888,
                          "#fdca26"
                        ],
                        [
                          1,
                          "#f0f921"
                        ]
                      ]
                    },
                    "colorway": [
                      "#636efa",
                      "#EF553B",
                      "#00cc96",
                      "#ab63fa",
                      "#FFA15A",
                      "#19d3f3",
                      "#FF6692",
                      "#B6E880",
                      "#FF97FF",
                      "#FECB52"
                    ],
                    "font": {
                      "color": "#2a3f5f"
                    },
                    "geo": {
                      "bgcolor": "white",
                      "lakecolor": "white",
                      "landcolor": "#E5ECF6",
                      "showlakes": true,
                      "showland": true,
                      "subunitcolor": "white"
                    },
                    "hoverlabel": {
                      "align": "left"
                    },
                    "hovermode": "closest",
                    "mapbox": {
                      "style": "light"
                    },
                    "paper_bgcolor": "white",
                    "plot_bgcolor": "#E5ECF6",
                    "polar": {
                      "angularaxis": {
                        "gridcolor": "white",
                        "linecolor": "white",
                        "ticks": ""
                      },
                      "bgcolor": "#E5ECF6",
                      "radialaxis": {
                        "gridcolor": "white",
                        "linecolor": "white",
                        "ticks": ""
                      }
                    },
                    "scene": {
                      "xaxis": {
                        "backgroundcolor": "#E5ECF6",
                        "gridcolor": "white",
                        "gridwidth": 2,
                        "linecolor": "white",
                        "showbackground": true,
                        "ticks": "",
                        "zerolinecolor": "white"
                      },
                      "yaxis": {
                        "backgroundcolor": "#E5ECF6",
                        "gridcolor": "white",
                        "gridwidth": 2,
                        "linecolor": "white",
                        "showbackground": true,
                        "ticks": "",
                        "zerolinecolor": "white"
                      },
                      "zaxis": {
                        "backgroundcolor": "#E5ECF6",
                        "gridcolor": "white",
                        "gridwidth": 2,
                        "linecolor": "white",
                        "showbackground": true,
                        "ticks": "",
                        "zerolinecolor": "white"
                      }
                    },
                    "shapedefaults": {
                      "line": {
                        "color": "#2a3f5f"
                      }
                    },
                    "ternary": {
                      "aaxis": {
                        "gridcolor": "white",
                        "linecolor": "white",
                        "ticks": ""
                      },
                      "baxis": {
                        "gridcolor": "white",
                        "linecolor": "white",
                        "ticks": ""
                      },
                      "bgcolor": "#E5ECF6",
                      "caxis": {
                        "gridcolor": "white",
                        "linecolor": "white",
                        "ticks": ""
                      }
                    },
                    "title": {
                      "x": 0.05
                    },
                    "xaxis": {
                      "automargin": true,
                      "gridcolor": "white",
                      "linecolor": "white",
                      "ticks": "",
                      "title": {
                        "standoff": 15
                      },
                      "zerolinecolor": "white",
                      "zerolinewidth": 2
                    },
                    "yaxis": {
                      "automargin": true,
                      "gridcolor": "white",
                      "linecolor": "white",
                      "ticks": "",
                      "title": {
                        "standoff": 15
                      },
                      "zerolinecolor": "white",
                      "zerolinewidth": 2
                    }
                  }
                },
                "yaxis": {
                  "range": [
                    220000,
                    380000
                  ]
                }
              }
            }
          },
          "metadata": {},
          "output_type": "display_data"
        }
      ],
      "source": [
        "fig1 = go.Figure(data=grafico_sem.data + grafico1.data)\n",
        "fig1.update_yaxes(range=[220000,380000])\n",
        "fig1.show()"
      ]
    },
    {
      "cell_type": "markdown",
      "metadata": {},
      "source": [
        "Al descomponer la serie observamos los siguientes aspectos:\n",
        "* Tendencia: Existe una clara tenedencia negativa, esto puede ser por apertura de nuevas rutas o por migración a otras formas de pago. Si ninguna de estas razones puede demostrarse entonces puede deberse a diferencias en la construcción del dataset.\n",
        "* Estacionalidad: Se observan menor circulación en enero aumentando hasta marzo y volviendo a bajar hasta mitad de año. A partir de ahí aumenta hasta fin de año. Se destacan los bajos valores de cantidad de pasos para los días 24 y 31 de Diciembre."
      ]
    },
    {
      "cell_type": "markdown",
      "metadata": {},
      "source": [
        "Vamos a probar la hipótesis de que la tendencia es negativa debido a la migración a otras formas de pago"
      ]
    },
    {
      "cell_type": "code",
      "execution_count": 44,
      "metadata": {},
      "outputs": [
        {
          "data": {
            "text/html": [
              "<div>\n",
              "<style scoped>\n",
              "    .dataframe tbody tr th:only-of-type {\n",
              "        vertical-align: middle;\n",
              "    }\n",
              "\n",
              "    .dataframe tbody tr th {\n",
              "        vertical-align: top;\n",
              "    }\n",
              "\n",
              "    .dataframe thead th {\n",
              "        text-align: right;\n",
              "    }\n",
              "</style>\n",
              "<table border=\"1\" class=\"dataframe\">\n",
              "  <thead>\n",
              "    <tr style=\"text-align: right;\">\n",
              "      <th></th>\n",
              "      <th>fecha</th>\n",
              "      <th>hora_fin</th>\n",
              "      <th>dia</th>\n",
              "      <th>sentido</th>\n",
              "      <th>tipo_vehiculo</th>\n",
              "      <th>forma_pago</th>\n",
              "      <th>cantidad_pasos</th>\n",
              "    </tr>\n",
              "  </thead>\n",
              "  <tbody>\n",
              "    <tr>\n",
              "      <th>19</th>\n",
              "      <td>2019-01-01</td>\n",
              "      <td>1</td>\n",
              "      <td>Martes</td>\n",
              "      <td>Centro</td>\n",
              "      <td>Liviano</td>\n",
              "      <td>NO COBRADO</td>\n",
              "      <td>146</td>\n",
              "    </tr>\n",
              "    <tr>\n",
              "      <th>20</th>\n",
              "      <td>2019-01-01</td>\n",
              "      <td>1</td>\n",
              "      <td>Martes</td>\n",
              "      <td>Centro</td>\n",
              "      <td>Liviano</td>\n",
              "      <td>TELEPASE</td>\n",
              "      <td>59</td>\n",
              "    </tr>\n",
              "    <tr>\n",
              "      <th>21</th>\n",
              "      <td>2019-01-01</td>\n",
              "      <td>1</td>\n",
              "      <td>Martes</td>\n",
              "      <td>Centro</td>\n",
              "      <td>Pesado</td>\n",
              "      <td>TELEPASE</td>\n",
              "      <td>1</td>\n",
              "    </tr>\n",
              "    <tr>\n",
              "      <th>22</th>\n",
              "      <td>2019-01-01</td>\n",
              "      <td>1</td>\n",
              "      <td>Martes</td>\n",
              "      <td>Provincia</td>\n",
              "      <td>Liviano</td>\n",
              "      <td>NO COBRADO</td>\n",
              "      <td>147</td>\n",
              "    </tr>\n",
              "    <tr>\n",
              "      <th>23</th>\n",
              "      <td>2019-01-01</td>\n",
              "      <td>1</td>\n",
              "      <td>Martes</td>\n",
              "      <td>Provincia</td>\n",
              "      <td>Liviano</td>\n",
              "      <td>TELEPASE</td>\n",
              "      <td>106</td>\n",
              "    </tr>\n",
              "  </tbody>\n",
              "</table>\n",
              "</div>"
            ],
            "text/plain": [
              "         fecha  hora_fin     dia    sentido tipo_vehiculo  forma_pago  \\\n",
              "19  2019-01-01         1  Martes     Centro       Liviano  NO COBRADO   \n",
              "20  2019-01-01         1  Martes     Centro       Liviano    TELEPASE   \n",
              "21  2019-01-01         1  Martes     Centro        Pesado    TELEPASE   \n",
              "22  2019-01-01         1  Martes  Provincia       Liviano  NO COBRADO   \n",
              "23  2019-01-01         1  Martes  Provincia       Liviano    TELEPASE   \n",
              "\n",
              "    cantidad_pasos  \n",
              "19             146  \n",
              "20              59  \n",
              "21               1  \n",
              "22             147  \n",
              "23             106  "
            ]
          },
          "execution_count": 44,
          "metadata": {},
          "output_type": "execute_result"
        }
      ],
      "source": [
        "#Unimos los 3 datasets, podemos hacerlo asi directamente ya que tienen las mismas columnas\n",
        "dataset_2 = pd.concat([data_2019, data_2018, data_2017])\n",
        "\n",
        "#Nos quedamos solamente con la estación Illia\n",
        "mask = (dataset_2.estacion=='Illia')\n",
        "dataset_2 = dataset_2[mask]\n",
        "\n",
        "#Quitamos las columnas que no vamos a utilizar\n",
        "dataset_2.drop(columns = ['periodo','hora_inicio', 'estacion'], inplace = True)\n",
        "\n",
        "dataset_2.head()"
      ]
    },
    {
      "cell_type": "code",
      "execution_count": 45,
      "metadata": {},
      "outputs": [
        {
          "name": "stdout",
          "output_type": "stream",
          "text": [
            "(1095, 1)\n"
          ]
        },
        {
          "data": {
            "text/html": [
              "<div>\n",
              "<style scoped>\n",
              "    .dataframe tbody tr th:only-of-type {\n",
              "        vertical-align: middle;\n",
              "    }\n",
              "\n",
              "    .dataframe tbody tr th {\n",
              "        vertical-align: top;\n",
              "    }\n",
              "\n",
              "    .dataframe thead th {\n",
              "        text-align: right;\n",
              "    }\n",
              "</style>\n",
              "<table border=\"1\" class=\"dataframe\">\n",
              "  <thead>\n",
              "    <tr style=\"text-align: right;\">\n",
              "      <th></th>\n",
              "      <th>cantidad_pasos</th>\n",
              "    </tr>\n",
              "    <tr>\n",
              "      <th>fecha</th>\n",
              "      <th></th>\n",
              "    </tr>\n",
              "  </thead>\n",
              "  <tbody>\n",
              "    <tr>\n",
              "      <th>2017-01-01</th>\n",
              "      <td>45478</td>\n",
              "    </tr>\n",
              "    <tr>\n",
              "      <th>2017-01-02</th>\n",
              "      <td>89289</td>\n",
              "    </tr>\n",
              "    <tr>\n",
              "      <th>2017-01-03</th>\n",
              "      <td>92602</td>\n",
              "    </tr>\n",
              "    <tr>\n",
              "      <th>2017-01-04</th>\n",
              "      <td>95813</td>\n",
              "    </tr>\n",
              "    <tr>\n",
              "      <th>2017-01-05</th>\n",
              "      <td>100044</td>\n",
              "    </tr>\n",
              "  </tbody>\n",
              "</table>\n",
              "</div>"
            ],
            "text/plain": [
              "            cantidad_pasos\n",
              "fecha                     \n",
              "2017-01-01           45478\n",
              "2017-01-02           89289\n",
              "2017-01-03           92602\n",
              "2017-01-04           95813\n",
              "2017-01-05          100044"
            ]
          },
          "execution_count": 45,
          "metadata": {},
          "output_type": "execute_result"
        }
      ],
      "source": [
        "#Pasamos la columna fecha a formato datetime, y le unimos la hora_fin como hora\n",
        "dataset2=dataset_2.copy()\n",
        "dataset2['fecha2'] = pd.to_datetime(dataset_2.fecha) + pd.to_timedelta(dataset_2.hora_fin, unit = 'h')\n",
        "\n",
        "#Quitamos las columnas fecha y hora_fin ya que las incluimos en el campo fecha2\n",
        "dataset2.drop(columns=['fecha','hora_fin'], inplace = True)\n",
        "#Corregimos el nombre de fecha2 a fecha\n",
        "dataset2.rename(columns = {'fecha2':'fecha'}, inplace = True) \n",
        "#Reordenamos el dataset por fecha\n",
        "dataset2.sort_values('fecha', inplace = True)\n",
        "dataset2.reset_index(drop=True, inplace = True)\n",
        "#Resampleamos nuestros datos para agrupar por dia, y asi tal vez lograr una visualización mas amigable\n",
        "diario2 = dataset2.resample('D', on = 'fecha').sum()\n",
        "print(diario2.shape)\n",
        "diario2.head(5)"
      ]
    },
    {
      "cell_type": "code",
      "execution_count": 46,
      "metadata": {},
      "outputs": [
        {
          "data": {
            "text/html": [
              "<div>\n",
              "<style scoped>\n",
              "    .dataframe tbody tr th:only-of-type {\n",
              "        vertical-align: middle;\n",
              "    }\n",
              "\n",
              "    .dataframe tbody tr th {\n",
              "        vertical-align: top;\n",
              "    }\n",
              "\n",
              "    .dataframe thead th {\n",
              "        text-align: right;\n",
              "    }\n",
              "</style>\n",
              "<table border=\"1\" class=\"dataframe\">\n",
              "  <thead>\n",
              "    <tr style=\"text-align: right;\">\n",
              "      <th></th>\n",
              "      <th>cantidad_pasos</th>\n",
              "    </tr>\n",
              "    <tr>\n",
              "      <th>fecha</th>\n",
              "      <th></th>\n",
              "    </tr>\n",
              "  </thead>\n",
              "  <tbody>\n",
              "    <tr>\n",
              "      <th>2018-11-30</th>\n",
              "      <td>387</td>\n",
              "    </tr>\n",
              "    <tr>\n",
              "      <th>2018-12-01</th>\n",
              "      <td>1121</td>\n",
              "    </tr>\n",
              "    <tr>\n",
              "      <th>2019-01-13</th>\n",
              "      <td>33529</td>\n",
              "    </tr>\n",
              "    <tr>\n",
              "      <th>2017-12-31</th>\n",
              "      <td>35435</td>\n",
              "    </tr>\n",
              "    <tr>\n",
              "      <th>2019-12-01</th>\n",
              "      <td>35587</td>\n",
              "    </tr>\n",
              "    <tr>\n",
              "      <th>...</th>\n",
              "      <td>...</td>\n",
              "    </tr>\n",
              "    <tr>\n",
              "      <th>2018-03-23</th>\n",
              "      <td>122528</td>\n",
              "    </tr>\n",
              "    <tr>\n",
              "      <th>2018-03-22</th>\n",
              "      <td>122955</td>\n",
              "    </tr>\n",
              "    <tr>\n",
              "      <th>2018-03-21</th>\n",
              "      <td>123380</td>\n",
              "    </tr>\n",
              "    <tr>\n",
              "      <th>2017-12-07</th>\n",
              "      <td>123854</td>\n",
              "    </tr>\n",
              "    <tr>\n",
              "      <th>2018-05-24</th>\n",
              "      <td>125519</td>\n",
              "    </tr>\n",
              "  </tbody>\n",
              "</table>\n",
              "<p>1095 rows × 1 columns</p>\n",
              "</div>"
            ],
            "text/plain": [
              "            cantidad_pasos\n",
              "fecha                     \n",
              "2018-11-30             387\n",
              "2018-12-01            1121\n",
              "2019-01-13           33529\n",
              "2017-12-31           35435\n",
              "2019-12-01           35587\n",
              "...                    ...\n",
              "2018-03-23          122528\n",
              "2018-03-22          122955\n",
              "2018-03-21          123380\n",
              "2017-12-07          123854\n",
              "2018-05-24          125519\n",
              "\n",
              "[1095 rows x 1 columns]"
            ]
          },
          "execution_count": 46,
          "metadata": {},
          "output_type": "execute_result"
        }
      ],
      "source": [
        "diario2.sort_values(by = 'cantidad_pasos')"
      ]
    },
    {
      "cell_type": "markdown",
      "metadata": {},
      "source": [
        "Hacemos una rapida imputacion de los dos primeros valores que son atpicos. Les colocamos el valor minimo siguiente"
      ]
    },
    {
      "cell_type": "code",
      "execution_count": 47,
      "metadata": {},
      "outputs": [],
      "source": [
        "diario2.loc['2018-11-30','cantidad_pasos'] =33529\n",
        "diario2.loc['2018-12-01','cantidad_pasos'] =33529"
      ]
    },
    {
      "cell_type": "code",
      "execution_count": 55,
      "metadata": {},
      "outputs": [],
      "source": [
        "#Convertimos en semanas\n",
        "diario2 = diario2.reset_index()\n",
        "semanal2 = diario2.resample('W', on = 'fecha').sum()"
      ]
    },
    {
      "cell_type": "code",
      "execution_count": 63,
      "metadata": {},
      "outputs": [
        {
          "data": {
            "application/vnd.plotly.v1+json": {
              "config": {
                "plotlyServerURL": "https://plot.ly"
              },
              "data": [
                {
                  "hovertemplate": "variable=cantidad_pasos<br>fecha=%{x}<br>value=%{y}<extra></extra>",
                  "legendgroup": "cantidad_pasos",
                  "line": {
                    "color": "#636efa",
                    "dash": "solid"
                  },
                  "marker": {
                    "symbol": "circle"
                  },
                  "mode": "lines",
                  "name": "cantidad_pasos",
                  "orientation": "v",
                  "showlegend": true,
                  "type": "scatter",
                  "x": [
                    "2017-01-01T00:00:00",
                    "2017-01-08T00:00:00",
                    "2017-01-15T00:00:00",
                    "2017-01-22T00:00:00",
                    "2017-01-29T00:00:00",
                    "2017-02-05T00:00:00",
                    "2017-02-12T00:00:00",
                    "2017-02-19T00:00:00",
                    "2017-02-26T00:00:00",
                    "2017-03-05T00:00:00",
                    "2017-03-12T00:00:00",
                    "2017-03-19T00:00:00",
                    "2017-03-26T00:00:00",
                    "2017-04-02T00:00:00",
                    "2017-04-09T00:00:00",
                    "2017-04-16T00:00:00",
                    "2017-04-23T00:00:00",
                    "2017-04-30T00:00:00",
                    "2017-05-07T00:00:00",
                    "2017-05-14T00:00:00",
                    "2017-05-21T00:00:00",
                    "2017-05-28T00:00:00",
                    "2017-06-04T00:00:00",
                    "2017-06-11T00:00:00",
                    "2017-06-18T00:00:00",
                    "2017-06-25T00:00:00",
                    "2017-07-02T00:00:00",
                    "2017-07-09T00:00:00",
                    "2017-07-16T00:00:00",
                    "2017-07-23T00:00:00",
                    "2017-07-30T00:00:00",
                    "2017-08-06T00:00:00",
                    "2017-08-13T00:00:00",
                    "2017-08-20T00:00:00",
                    "2017-08-27T00:00:00",
                    "2017-09-03T00:00:00",
                    "2017-09-10T00:00:00",
                    "2017-09-17T00:00:00",
                    "2017-09-24T00:00:00",
                    "2017-10-01T00:00:00",
                    "2017-10-08T00:00:00",
                    "2017-10-15T00:00:00",
                    "2017-10-22T00:00:00",
                    "2017-10-29T00:00:00",
                    "2017-11-05T00:00:00",
                    "2017-11-12T00:00:00",
                    "2017-11-19T00:00:00",
                    "2017-11-26T00:00:00",
                    "2017-12-03T00:00:00",
                    "2017-12-10T00:00:00",
                    "2017-12-17T00:00:00",
                    "2017-12-24T00:00:00",
                    "2017-12-31T00:00:00",
                    "2018-01-07T00:00:00",
                    "2018-01-14T00:00:00",
                    "2018-01-21T00:00:00",
                    "2018-01-28T00:00:00",
                    "2018-02-04T00:00:00",
                    "2018-02-11T00:00:00",
                    "2018-02-18T00:00:00",
                    "2018-02-25T00:00:00",
                    "2018-03-04T00:00:00",
                    "2018-03-11T00:00:00",
                    "2018-03-18T00:00:00",
                    "2018-03-25T00:00:00",
                    "2018-04-01T00:00:00",
                    "2018-04-08T00:00:00",
                    "2018-04-15T00:00:00",
                    "2018-04-22T00:00:00",
                    "2018-04-29T00:00:00",
                    "2018-05-06T00:00:00",
                    "2018-05-13T00:00:00",
                    "2018-05-20T00:00:00",
                    "2018-05-27T00:00:00",
                    "2018-06-03T00:00:00",
                    "2018-06-10T00:00:00",
                    "2018-06-17T00:00:00",
                    "2018-06-24T00:00:00",
                    "2018-07-01T00:00:00",
                    "2018-07-08T00:00:00",
                    "2018-07-15T00:00:00",
                    "2018-07-22T00:00:00",
                    "2018-07-29T00:00:00",
                    "2018-08-05T00:00:00",
                    "2018-08-12T00:00:00",
                    "2018-08-19T00:00:00",
                    "2018-08-26T00:00:00",
                    "2018-09-02T00:00:00",
                    "2018-09-09T00:00:00",
                    "2018-09-16T00:00:00",
                    "2018-09-23T00:00:00",
                    "2018-09-30T00:00:00",
                    "2018-10-07T00:00:00",
                    "2018-10-14T00:00:00",
                    "2018-10-21T00:00:00",
                    "2018-10-28T00:00:00",
                    "2018-11-04T00:00:00",
                    "2018-11-11T00:00:00",
                    "2018-11-18T00:00:00",
                    "2018-11-25T00:00:00",
                    "2018-12-02T00:00:00",
                    "2018-12-09T00:00:00",
                    "2018-12-16T00:00:00",
                    "2018-12-23T00:00:00",
                    "2018-12-30T00:00:00",
                    "2019-01-06T00:00:00",
                    "2019-01-13T00:00:00",
                    "2019-01-20T00:00:00",
                    "2019-01-27T00:00:00",
                    "2019-02-03T00:00:00",
                    "2019-02-10T00:00:00",
                    "2019-02-17T00:00:00",
                    "2019-02-24T00:00:00",
                    "2019-03-03T00:00:00",
                    "2019-03-10T00:00:00",
                    "2019-03-17T00:00:00",
                    "2019-03-24T00:00:00",
                    "2019-03-31T00:00:00",
                    "2019-04-07T00:00:00",
                    "2019-04-14T00:00:00",
                    "2019-04-21T00:00:00",
                    "2019-04-28T00:00:00",
                    "2019-05-05T00:00:00",
                    "2019-05-12T00:00:00",
                    "2019-05-19T00:00:00",
                    "2019-05-26T00:00:00",
                    "2019-06-02T00:00:00",
                    "2019-06-09T00:00:00",
                    "2019-06-16T00:00:00",
                    "2019-06-23T00:00:00",
                    "2019-06-30T00:00:00",
                    "2019-07-07T00:00:00",
                    "2019-07-14T00:00:00",
                    "2019-07-21T00:00:00",
                    "2019-07-28T00:00:00",
                    "2019-08-04T00:00:00",
                    "2019-08-11T00:00:00",
                    "2019-08-18T00:00:00",
                    "2019-08-25T00:00:00",
                    "2019-09-01T00:00:00",
                    "2019-09-08T00:00:00",
                    "2019-09-15T00:00:00",
                    "2019-09-22T00:00:00",
                    "2019-09-29T00:00:00",
                    "2019-10-06T00:00:00",
                    "2019-10-13T00:00:00",
                    "2019-10-20T00:00:00",
                    "2019-10-27T00:00:00",
                    "2019-11-03T00:00:00",
                    "2019-11-10T00:00:00",
                    "2019-11-17T00:00:00",
                    "2019-11-24T00:00:00",
                    "2019-12-01T00:00:00",
                    "2019-12-08T00:00:00",
                    "2019-12-15T00:00:00",
                    "2019-12-22T00:00:00",
                    "2019-12-29T00:00:00",
                    "2020-01-05T00:00:00"
                  ],
                  "xaxis": "x",
                  "y": [
                    45478,
                    585700,
                    613675,
                    599307,
                    598163,
                    619701,
                    626109,
                    612954,
                    601143,
                    526914,
                    600009,
                    624624,
                    586728,
                    640626,
                    615541,
                    542752,
                    659510,
                    669105,
                    605508,
                    631823,
                    628624,
                    599136,
                    621916,
                    645548,
                    637390,
                    597958,
                    653751,
                    634502,
                    661685,
                    658167,
                    638646,
                    671795,
                    658925,
                    652837,
                    602100,
                    666852,
                    661461,
                    719394,
                    684351,
                    695812,
                    718086,
                    719259,
                    659551,
                    716268,
                    719055,
                    727544,
                    722192,
                    678911,
                    724303,
                    679899,
                    699223,
                    641893,
                    568180,
                    537201,
                    583070,
                    607882,
                    613219,
                    641769,
                    656343,
                    572000,
                    650200,
                    698089,
                    699933,
                    713043,
                    744460,
                    614889,
                    659147,
                    719636,
                    701209,
                    691380,
                    591871,
                    709192,
                    712384,
                    653071,
                    684033,
                    692618,
                    659481,
                    629912,
                    656596,
                    701181,
                    665826,
                    669871,
                    630071,
                    683663,
                    693852,
                    702274,
                    650057,
                    699323,
                    698923,
                    673936,
                    688640,
                    638604,
                    583993,
                    714196,
                    662147,
                    707436,
                    717293,
                    698074,
                    711393,
                    649041,
                    501146,
                    723367,
                    727789,
                    711788,
                    518973,
                    531607,
                    597952,
                    560049,
                    568394,
                    616658,
                    654833,
                    645243,
                    654882,
                    647386,
                    732906,
                    673784,
                    678838,
                    712100,
                    633384,
                    642164,
                    586146,
                    678482,
                    575084,
                    726170,
                    675900,
                    677024,
                    670116,
                    695620,
                    624916,
                    536112,
                    682831,
                    652134,
                    636583,
                    696073,
                    656188,
                    702138,
                    656928,
                    655029,
                    649061,
                    717011,
                    617872,
                    655191,
                    690042,
                    715304,
                    650000,
                    624643,
                    666350,
                    687950,
                    722382,
                    675614,
                    705733,
                    658474,
                    682974,
                    707644,
                    658014,
                    724497,
                    525807,
                    127053
                  ],
                  "yaxis": "y"
                }
              ],
              "layout": {
                "legend": {
                  "title": {
                    "text": "variable"
                  },
                  "tracegroupgap": 0
                },
                "margin": {
                  "t": 60
                },
                "template": {
                  "data": {
                    "bar": [
                      {
                        "error_x": {
                          "color": "#2a3f5f"
                        },
                        "error_y": {
                          "color": "#2a3f5f"
                        },
                        "marker": {
                          "line": {
                            "color": "#E5ECF6",
                            "width": 0.5
                          },
                          "pattern": {
                            "fillmode": "overlay",
                            "size": 10,
                            "solidity": 0.2
                          }
                        },
                        "type": "bar"
                      }
                    ],
                    "barpolar": [
                      {
                        "marker": {
                          "line": {
                            "color": "#E5ECF6",
                            "width": 0.5
                          },
                          "pattern": {
                            "fillmode": "overlay",
                            "size": 10,
                            "solidity": 0.2
                          }
                        },
                        "type": "barpolar"
                      }
                    ],
                    "carpet": [
                      {
                        "aaxis": {
                          "endlinecolor": "#2a3f5f",
                          "gridcolor": "white",
                          "linecolor": "white",
                          "minorgridcolor": "white",
                          "startlinecolor": "#2a3f5f"
                        },
                        "baxis": {
                          "endlinecolor": "#2a3f5f",
                          "gridcolor": "white",
                          "linecolor": "white",
                          "minorgridcolor": "white",
                          "startlinecolor": "#2a3f5f"
                        },
                        "type": "carpet"
                      }
                    ],
                    "choropleth": [
                      {
                        "colorbar": {
                          "outlinewidth": 0,
                          "ticks": ""
                        },
                        "type": "choropleth"
                      }
                    ],
                    "contour": [
                      {
                        "colorbar": {
                          "outlinewidth": 0,
                          "ticks": ""
                        },
                        "colorscale": [
                          [
                            0,
                            "#0d0887"
                          ],
                          [
                            0.1111111111111111,
                            "#46039f"
                          ],
                          [
                            0.2222222222222222,
                            "#7201a8"
                          ],
                          [
                            0.3333333333333333,
                            "#9c179e"
                          ],
                          [
                            0.4444444444444444,
                            "#bd3786"
                          ],
                          [
                            0.5555555555555556,
                            "#d8576b"
                          ],
                          [
                            0.6666666666666666,
                            "#ed7953"
                          ],
                          [
                            0.7777777777777778,
                            "#fb9f3a"
                          ],
                          [
                            0.8888888888888888,
                            "#fdca26"
                          ],
                          [
                            1,
                            "#f0f921"
                          ]
                        ],
                        "type": "contour"
                      }
                    ],
                    "contourcarpet": [
                      {
                        "colorbar": {
                          "outlinewidth": 0,
                          "ticks": ""
                        },
                        "type": "contourcarpet"
                      }
                    ],
                    "heatmap": [
                      {
                        "colorbar": {
                          "outlinewidth": 0,
                          "ticks": ""
                        },
                        "colorscale": [
                          [
                            0,
                            "#0d0887"
                          ],
                          [
                            0.1111111111111111,
                            "#46039f"
                          ],
                          [
                            0.2222222222222222,
                            "#7201a8"
                          ],
                          [
                            0.3333333333333333,
                            "#9c179e"
                          ],
                          [
                            0.4444444444444444,
                            "#bd3786"
                          ],
                          [
                            0.5555555555555556,
                            "#d8576b"
                          ],
                          [
                            0.6666666666666666,
                            "#ed7953"
                          ],
                          [
                            0.7777777777777778,
                            "#fb9f3a"
                          ],
                          [
                            0.8888888888888888,
                            "#fdca26"
                          ],
                          [
                            1,
                            "#f0f921"
                          ]
                        ],
                        "type": "heatmap"
                      }
                    ],
                    "heatmapgl": [
                      {
                        "colorbar": {
                          "outlinewidth": 0,
                          "ticks": ""
                        },
                        "colorscale": [
                          [
                            0,
                            "#0d0887"
                          ],
                          [
                            0.1111111111111111,
                            "#46039f"
                          ],
                          [
                            0.2222222222222222,
                            "#7201a8"
                          ],
                          [
                            0.3333333333333333,
                            "#9c179e"
                          ],
                          [
                            0.4444444444444444,
                            "#bd3786"
                          ],
                          [
                            0.5555555555555556,
                            "#d8576b"
                          ],
                          [
                            0.6666666666666666,
                            "#ed7953"
                          ],
                          [
                            0.7777777777777778,
                            "#fb9f3a"
                          ],
                          [
                            0.8888888888888888,
                            "#fdca26"
                          ],
                          [
                            1,
                            "#f0f921"
                          ]
                        ],
                        "type": "heatmapgl"
                      }
                    ],
                    "histogram": [
                      {
                        "marker": {
                          "pattern": {
                            "fillmode": "overlay",
                            "size": 10,
                            "solidity": 0.2
                          }
                        },
                        "type": "histogram"
                      }
                    ],
                    "histogram2d": [
                      {
                        "colorbar": {
                          "outlinewidth": 0,
                          "ticks": ""
                        },
                        "colorscale": [
                          [
                            0,
                            "#0d0887"
                          ],
                          [
                            0.1111111111111111,
                            "#46039f"
                          ],
                          [
                            0.2222222222222222,
                            "#7201a8"
                          ],
                          [
                            0.3333333333333333,
                            "#9c179e"
                          ],
                          [
                            0.4444444444444444,
                            "#bd3786"
                          ],
                          [
                            0.5555555555555556,
                            "#d8576b"
                          ],
                          [
                            0.6666666666666666,
                            "#ed7953"
                          ],
                          [
                            0.7777777777777778,
                            "#fb9f3a"
                          ],
                          [
                            0.8888888888888888,
                            "#fdca26"
                          ],
                          [
                            1,
                            "#f0f921"
                          ]
                        ],
                        "type": "histogram2d"
                      }
                    ],
                    "histogram2dcontour": [
                      {
                        "colorbar": {
                          "outlinewidth": 0,
                          "ticks": ""
                        },
                        "colorscale": [
                          [
                            0,
                            "#0d0887"
                          ],
                          [
                            0.1111111111111111,
                            "#46039f"
                          ],
                          [
                            0.2222222222222222,
                            "#7201a8"
                          ],
                          [
                            0.3333333333333333,
                            "#9c179e"
                          ],
                          [
                            0.4444444444444444,
                            "#bd3786"
                          ],
                          [
                            0.5555555555555556,
                            "#d8576b"
                          ],
                          [
                            0.6666666666666666,
                            "#ed7953"
                          ],
                          [
                            0.7777777777777778,
                            "#fb9f3a"
                          ],
                          [
                            0.8888888888888888,
                            "#fdca26"
                          ],
                          [
                            1,
                            "#f0f921"
                          ]
                        ],
                        "type": "histogram2dcontour"
                      }
                    ],
                    "mesh3d": [
                      {
                        "colorbar": {
                          "outlinewidth": 0,
                          "ticks": ""
                        },
                        "type": "mesh3d"
                      }
                    ],
                    "parcoords": [
                      {
                        "line": {
                          "colorbar": {
                            "outlinewidth": 0,
                            "ticks": ""
                          }
                        },
                        "type": "parcoords"
                      }
                    ],
                    "pie": [
                      {
                        "automargin": true,
                        "type": "pie"
                      }
                    ],
                    "scatter": [
                      {
                        "marker": {
                          "colorbar": {
                            "outlinewidth": 0,
                            "ticks": ""
                          }
                        },
                        "type": "scatter"
                      }
                    ],
                    "scatter3d": [
                      {
                        "line": {
                          "colorbar": {
                            "outlinewidth": 0,
                            "ticks": ""
                          }
                        },
                        "marker": {
                          "colorbar": {
                            "outlinewidth": 0,
                            "ticks": ""
                          }
                        },
                        "type": "scatter3d"
                      }
                    ],
                    "scattercarpet": [
                      {
                        "marker": {
                          "colorbar": {
                            "outlinewidth": 0,
                            "ticks": ""
                          }
                        },
                        "type": "scattercarpet"
                      }
                    ],
                    "scattergeo": [
                      {
                        "marker": {
                          "colorbar": {
                            "outlinewidth": 0,
                            "ticks": ""
                          }
                        },
                        "type": "scattergeo"
                      }
                    ],
                    "scattergl": [
                      {
                        "marker": {
                          "colorbar": {
                            "outlinewidth": 0,
                            "ticks": ""
                          }
                        },
                        "type": "scattergl"
                      }
                    ],
                    "scattermapbox": [
                      {
                        "marker": {
                          "colorbar": {
                            "outlinewidth": 0,
                            "ticks": ""
                          }
                        },
                        "type": "scattermapbox"
                      }
                    ],
                    "scatterpolar": [
                      {
                        "marker": {
                          "colorbar": {
                            "outlinewidth": 0,
                            "ticks": ""
                          }
                        },
                        "type": "scatterpolar"
                      }
                    ],
                    "scatterpolargl": [
                      {
                        "marker": {
                          "colorbar": {
                            "outlinewidth": 0,
                            "ticks": ""
                          }
                        },
                        "type": "scatterpolargl"
                      }
                    ],
                    "scatterternary": [
                      {
                        "marker": {
                          "colorbar": {
                            "outlinewidth": 0,
                            "ticks": ""
                          }
                        },
                        "type": "scatterternary"
                      }
                    ],
                    "surface": [
                      {
                        "colorbar": {
                          "outlinewidth": 0,
                          "ticks": ""
                        },
                        "colorscale": [
                          [
                            0,
                            "#0d0887"
                          ],
                          [
                            0.1111111111111111,
                            "#46039f"
                          ],
                          [
                            0.2222222222222222,
                            "#7201a8"
                          ],
                          [
                            0.3333333333333333,
                            "#9c179e"
                          ],
                          [
                            0.4444444444444444,
                            "#bd3786"
                          ],
                          [
                            0.5555555555555556,
                            "#d8576b"
                          ],
                          [
                            0.6666666666666666,
                            "#ed7953"
                          ],
                          [
                            0.7777777777777778,
                            "#fb9f3a"
                          ],
                          [
                            0.8888888888888888,
                            "#fdca26"
                          ],
                          [
                            1,
                            "#f0f921"
                          ]
                        ],
                        "type": "surface"
                      }
                    ],
                    "table": [
                      {
                        "cells": {
                          "fill": {
                            "color": "#EBF0F8"
                          },
                          "line": {
                            "color": "white"
                          }
                        },
                        "header": {
                          "fill": {
                            "color": "#C8D4E3"
                          },
                          "line": {
                            "color": "white"
                          }
                        },
                        "type": "table"
                      }
                    ]
                  },
                  "layout": {
                    "annotationdefaults": {
                      "arrowcolor": "#2a3f5f",
                      "arrowhead": 0,
                      "arrowwidth": 1
                    },
                    "autotypenumbers": "strict",
                    "coloraxis": {
                      "colorbar": {
                        "outlinewidth": 0,
                        "ticks": ""
                      }
                    },
                    "colorscale": {
                      "diverging": [
                        [
                          0,
                          "#8e0152"
                        ],
                        [
                          0.1,
                          "#c51b7d"
                        ],
                        [
                          0.2,
                          "#de77ae"
                        ],
                        [
                          0.3,
                          "#f1b6da"
                        ],
                        [
                          0.4,
                          "#fde0ef"
                        ],
                        [
                          0.5,
                          "#f7f7f7"
                        ],
                        [
                          0.6,
                          "#e6f5d0"
                        ],
                        [
                          0.7,
                          "#b8e186"
                        ],
                        [
                          0.8,
                          "#7fbc41"
                        ],
                        [
                          0.9,
                          "#4d9221"
                        ],
                        [
                          1,
                          "#276419"
                        ]
                      ],
                      "sequential": [
                        [
                          0,
                          "#0d0887"
                        ],
                        [
                          0.1111111111111111,
                          "#46039f"
                        ],
                        [
                          0.2222222222222222,
                          "#7201a8"
                        ],
                        [
                          0.3333333333333333,
                          "#9c179e"
                        ],
                        [
                          0.4444444444444444,
                          "#bd3786"
                        ],
                        [
                          0.5555555555555556,
                          "#d8576b"
                        ],
                        [
                          0.6666666666666666,
                          "#ed7953"
                        ],
                        [
                          0.7777777777777778,
                          "#fb9f3a"
                        ],
                        [
                          0.8888888888888888,
                          "#fdca26"
                        ],
                        [
                          1,
                          "#f0f921"
                        ]
                      ],
                      "sequentialminus": [
                        [
                          0,
                          "#0d0887"
                        ],
                        [
                          0.1111111111111111,
                          "#46039f"
                        ],
                        [
                          0.2222222222222222,
                          "#7201a8"
                        ],
                        [
                          0.3333333333333333,
                          "#9c179e"
                        ],
                        [
                          0.4444444444444444,
                          "#bd3786"
                        ],
                        [
                          0.5555555555555556,
                          "#d8576b"
                        ],
                        [
                          0.6666666666666666,
                          "#ed7953"
                        ],
                        [
                          0.7777777777777778,
                          "#fb9f3a"
                        ],
                        [
                          0.8888888888888888,
                          "#fdca26"
                        ],
                        [
                          1,
                          "#f0f921"
                        ]
                      ]
                    },
                    "colorway": [
                      "#636efa",
                      "#EF553B",
                      "#00cc96",
                      "#ab63fa",
                      "#FFA15A",
                      "#19d3f3",
                      "#FF6692",
                      "#B6E880",
                      "#FF97FF",
                      "#FECB52"
                    ],
                    "font": {
                      "color": "#2a3f5f"
                    },
                    "geo": {
                      "bgcolor": "white",
                      "lakecolor": "white",
                      "landcolor": "#E5ECF6",
                      "showlakes": true,
                      "showland": true,
                      "subunitcolor": "white"
                    },
                    "hoverlabel": {
                      "align": "left"
                    },
                    "hovermode": "closest",
                    "mapbox": {
                      "style": "light"
                    },
                    "paper_bgcolor": "white",
                    "plot_bgcolor": "#E5ECF6",
                    "polar": {
                      "angularaxis": {
                        "gridcolor": "white",
                        "linecolor": "white",
                        "ticks": ""
                      },
                      "bgcolor": "#E5ECF6",
                      "radialaxis": {
                        "gridcolor": "white",
                        "linecolor": "white",
                        "ticks": ""
                      }
                    },
                    "scene": {
                      "xaxis": {
                        "backgroundcolor": "#E5ECF6",
                        "gridcolor": "white",
                        "gridwidth": 2,
                        "linecolor": "white",
                        "showbackground": true,
                        "ticks": "",
                        "zerolinecolor": "white"
                      },
                      "yaxis": {
                        "backgroundcolor": "#E5ECF6",
                        "gridcolor": "white",
                        "gridwidth": 2,
                        "linecolor": "white",
                        "showbackground": true,
                        "ticks": "",
                        "zerolinecolor": "white"
                      },
                      "zaxis": {
                        "backgroundcolor": "#E5ECF6",
                        "gridcolor": "white",
                        "gridwidth": 2,
                        "linecolor": "white",
                        "showbackground": true,
                        "ticks": "",
                        "zerolinecolor": "white"
                      }
                    },
                    "shapedefaults": {
                      "line": {
                        "color": "#2a3f5f"
                      }
                    },
                    "ternary": {
                      "aaxis": {
                        "gridcolor": "white",
                        "linecolor": "white",
                        "ticks": ""
                      },
                      "baxis": {
                        "gridcolor": "white",
                        "linecolor": "white",
                        "ticks": ""
                      },
                      "bgcolor": "#E5ECF6",
                      "caxis": {
                        "gridcolor": "white",
                        "linecolor": "white",
                        "ticks": ""
                      }
                    },
                    "title": {
                      "x": 0.05
                    },
                    "xaxis": {
                      "automargin": true,
                      "gridcolor": "white",
                      "linecolor": "white",
                      "ticks": "",
                      "title": {
                        "standoff": 15
                      },
                      "zerolinecolor": "white",
                      "zerolinewidth": 2
                    },
                    "yaxis": {
                      "automargin": true,
                      "gridcolor": "white",
                      "linecolor": "white",
                      "ticks": "",
                      "title": {
                        "standoff": 15
                      },
                      "zerolinecolor": "white",
                      "zerolinewidth": 2
                    }
                  }
                },
                "xaxis": {
                  "anchor": "y",
                  "domain": [
                    0,
                    1
                  ],
                  "range": [
                    "2017-02",
                    "2019-11"
                  ],
                  "title": {
                    "text": "fecha"
                  }
                },
                "yaxis": {
                  "anchor": "x",
                  "domain": [
                    0,
                    1
                  ],
                  "title": {
                    "text": "value"
                  }
                }
              }
            }
          },
          "metadata": {},
          "output_type": "display_data"
        }
      ],
      "source": [
        "grafico3 = px.line(semanal2)\n",
        "grafico3.update_xaxes(range=['2017-02','2019-11'])\n",
        "grafico3.show()"
      ]
    },
    {
      "cell_type": "code",
      "execution_count": 71,
      "metadata": {},
      "outputs": [
        {
          "data": {
            "application/vnd.plotly.v1+json": {
              "config": {
                "plotlyServerURL": "https://plot.ly"
              },
              "data": [
                {
                  "hovertemplate": "variable=trend<br>fecha=%{x}<br>value=%{y}<extra></extra>",
                  "legendgroup": "trend",
                  "line": {
                    "color": "rgb(0, 255, 0)",
                    "dash": "solid"
                  },
                  "marker": {
                    "symbol": "circle"
                  },
                  "mode": "lines",
                  "name": "trend",
                  "orientation": "v",
                  "showlegend": true,
                  "type": "scatter",
                  "x": [
                    "2017-01-01T00:00:00",
                    "2017-01-08T00:00:00",
                    "2017-01-15T00:00:00",
                    "2017-01-22T00:00:00",
                    "2017-01-29T00:00:00",
                    "2017-02-05T00:00:00",
                    "2017-02-12T00:00:00",
                    "2017-02-19T00:00:00",
                    "2017-02-26T00:00:00",
                    "2017-03-05T00:00:00",
                    "2017-03-12T00:00:00",
                    "2017-03-19T00:00:00",
                    "2017-03-26T00:00:00",
                    "2017-04-02T00:00:00",
                    "2017-04-09T00:00:00",
                    "2017-04-16T00:00:00",
                    "2017-04-23T00:00:00",
                    "2017-04-30T00:00:00",
                    "2017-05-07T00:00:00",
                    "2017-05-14T00:00:00",
                    "2017-05-21T00:00:00",
                    "2017-05-28T00:00:00",
                    "2017-06-04T00:00:00",
                    "2017-06-11T00:00:00",
                    "2017-06-18T00:00:00",
                    "2017-06-25T00:00:00",
                    "2017-07-02T00:00:00",
                    "2017-07-09T00:00:00",
                    "2017-07-16T00:00:00",
                    "2017-07-23T00:00:00",
                    "2017-07-30T00:00:00",
                    "2017-08-06T00:00:00",
                    "2017-08-13T00:00:00",
                    "2017-08-20T00:00:00",
                    "2017-08-27T00:00:00",
                    "2017-09-03T00:00:00",
                    "2017-09-10T00:00:00",
                    "2017-09-17T00:00:00",
                    "2017-09-24T00:00:00",
                    "2017-10-01T00:00:00",
                    "2017-10-08T00:00:00",
                    "2017-10-15T00:00:00",
                    "2017-10-22T00:00:00",
                    "2017-10-29T00:00:00",
                    "2017-11-05T00:00:00",
                    "2017-11-12T00:00:00",
                    "2017-11-19T00:00:00",
                    "2017-11-26T00:00:00",
                    "2017-12-03T00:00:00",
                    "2017-12-10T00:00:00",
                    "2017-12-17T00:00:00",
                    "2017-12-24T00:00:00",
                    "2017-12-31T00:00:00",
                    "2018-01-07T00:00:00",
                    "2018-01-14T00:00:00",
                    "2018-01-21T00:00:00",
                    "2018-01-28T00:00:00",
                    "2018-02-04T00:00:00",
                    "2018-02-11T00:00:00",
                    "2018-02-18T00:00:00",
                    "2018-02-25T00:00:00",
                    "2018-03-04T00:00:00",
                    "2018-03-11T00:00:00",
                    "2018-03-18T00:00:00",
                    "2018-03-25T00:00:00",
                    "2018-04-01T00:00:00",
                    "2018-04-08T00:00:00",
                    "2018-04-15T00:00:00",
                    "2018-04-22T00:00:00",
                    "2018-04-29T00:00:00",
                    "2018-05-06T00:00:00",
                    "2018-05-13T00:00:00",
                    "2018-05-20T00:00:00",
                    "2018-05-27T00:00:00",
                    "2018-06-03T00:00:00",
                    "2018-06-10T00:00:00",
                    "2018-06-17T00:00:00",
                    "2018-06-24T00:00:00",
                    "2018-07-01T00:00:00",
                    "2018-07-08T00:00:00",
                    "2018-07-15T00:00:00",
                    "2018-07-22T00:00:00",
                    "2018-07-29T00:00:00",
                    "2018-08-05T00:00:00",
                    "2018-08-12T00:00:00",
                    "2018-08-19T00:00:00",
                    "2018-08-26T00:00:00",
                    "2018-09-02T00:00:00",
                    "2018-09-09T00:00:00",
                    "2018-09-16T00:00:00",
                    "2018-09-23T00:00:00",
                    "2018-09-30T00:00:00",
                    "2018-10-07T00:00:00",
                    "2018-10-14T00:00:00",
                    "2018-10-21T00:00:00",
                    "2018-10-28T00:00:00",
                    "2018-11-04T00:00:00",
                    "2018-11-11T00:00:00",
                    "2018-11-18T00:00:00",
                    "2018-11-25T00:00:00",
                    "2018-12-02T00:00:00",
                    "2018-12-09T00:00:00",
                    "2018-12-16T00:00:00",
                    "2018-12-23T00:00:00",
                    "2018-12-30T00:00:00",
                    "2019-01-06T00:00:00",
                    "2019-01-13T00:00:00",
                    "2019-01-20T00:00:00",
                    "2019-01-27T00:00:00",
                    "2019-02-03T00:00:00",
                    "2019-02-10T00:00:00",
                    "2019-02-17T00:00:00",
                    "2019-02-24T00:00:00",
                    "2019-03-03T00:00:00",
                    "2019-03-10T00:00:00",
                    "2019-03-17T00:00:00",
                    "2019-03-24T00:00:00",
                    "2019-03-31T00:00:00",
                    "2019-04-07T00:00:00",
                    "2019-04-14T00:00:00",
                    "2019-04-21T00:00:00",
                    "2019-04-28T00:00:00",
                    "2019-05-05T00:00:00",
                    "2019-05-12T00:00:00",
                    "2019-05-19T00:00:00",
                    "2019-05-26T00:00:00",
                    "2019-06-02T00:00:00",
                    "2019-06-09T00:00:00",
                    "2019-06-16T00:00:00",
                    "2019-06-23T00:00:00",
                    "2019-06-30T00:00:00",
                    "2019-07-07T00:00:00",
                    "2019-07-14T00:00:00",
                    "2019-07-21T00:00:00",
                    "2019-07-28T00:00:00",
                    "2019-08-04T00:00:00",
                    "2019-08-11T00:00:00",
                    "2019-08-18T00:00:00",
                    "2019-08-25T00:00:00",
                    "2019-09-01T00:00:00",
                    "2019-09-08T00:00:00",
                    "2019-09-15T00:00:00",
                    "2019-09-22T00:00:00",
                    "2019-09-29T00:00:00",
                    "2019-10-06T00:00:00",
                    "2019-10-13T00:00:00",
                    "2019-10-20T00:00:00",
                    "2019-10-27T00:00:00",
                    "2019-11-03T00:00:00",
                    "2019-11-10T00:00:00",
                    "2019-11-17T00:00:00",
                    "2019-11-24T00:00:00",
                    "2019-12-01T00:00:00",
                    "2019-12-08T00:00:00",
                    "2019-12-15T00:00:00",
                    "2019-12-22T00:00:00",
                    "2019-12-29T00:00:00",
                    "2020-01-05T00:00:00"
                  ],
                  "xaxis": "x",
                  "y": [
                    null,
                    null,
                    null,
                    null,
                    null,
                    null,
                    null,
                    null,
                    null,
                    null,
                    null,
                    null,
                    null,
                    null,
                    null,
                    null,
                    null,
                    null,
                    null,
                    null,
                    null,
                    null,
                    null,
                    null,
                    null,
                    null,
                    639687.5961538461,
                    644247.2403846154,
                    643486.625,
                    643274.7980769229,
                    643502.0192307691,
                    643858.9807692308,
                    644361.8846153845,
                    644258.8076923076,
                    644336.721153846,
                    646454.3365384616,
                    649061.0576923079,
                    650872.0480769231,
                    653238.8846153845,
                    654508.0673076924,
                    654679.8846153845,
                    656799.9807692308,
                    658901.7403846154,
                    659516.8750000001,
                    659599.9326923076,
                    660212.7403846154,
                    661762.0576923076,
                    663086.0480769231,
                    664201.9326923077,
                    665251.8076923077,
                    665916.8173076924,
                    666436.4807692306,
                    666771.0865384616,
                    667439.5865384615,
                    668120.5480769231,
                    668272.9038461539,
                    668302.9903846154,
                    668334.6538461539,
                    668784.6057692308,
                    669595.7980769231,
                    670532.2788461539,
                    671305.625,
                    671978.0576923076,
                    671901.1730769231,
                    671505.3173076923,
                    670996.4807692308,
                    669157.0480769232,
                    667819.0096153847,
                    667795.2884615385,
                    667735.3269230769,
                    667633.4615384616,
                    667333.1538461539,
                    666945.951923077,
                    666554.9038461539,
                    664121.951923077,
                    662394.1730769229,
                    663086.8076923076,
                    664033.5480769229,
                    664232.4711538461,
                    663705.5384615385,
                    663794.8461538461,
                    663478.0096153847,
                    662587.0673076924,
                    661914.6057692308,
                    661658.6346153845,
                    662348.375,
                    663097.6538461539,
                    662655.1442307691,
                    662484.6634615386,
                    662424.2211538461,
                    661415.75,
                    661719.4903846154,
                    662406.4903846153,
                    661413.8461538461,
                    659562.5480769231,
                    658332.1538461538,
                    658046.7211538461,
                    658048.5576923079,
                    657861,
                    657740.5096153844,
                    657837.0096153845,
                    657732.0576923075,
                    657428.5673076921,
                    656194.2884615384,
                    655544.625,
                    655325.2788461538,
                    654572.4903846153,
                    654543.25,
                    655046.3173076921,
                    655475.0865384615,
                    655297.6923076923,
                    654488.375,
                    654024.5192307691,
                    654185.0192307691,
                    653575.7596153845,
                    652616.1826923076,
                    652449.4230769229,
                    653200.4038461538,
                    654572.5865384615,
                    654346.1826923076,
                    653525.5096153845,
                    653378.5576923079,
                    653240.125,
                    653073.096153846,
                    652802.7115384616,
                    652838.9903846153,
                    654678.0384615385,
                    656275.2019230769,
                    655453.1057692308,
                    654904.3942307692,
                    655092.3076923075,
                    651268.0769230769,
                    null,
                    null,
                    null,
                    null,
                    null,
                    null,
                    null,
                    null,
                    null,
                    null,
                    null,
                    null,
                    null,
                    null,
                    null,
                    null,
                    null,
                    null,
                    null,
                    null,
                    null,
                    null,
                    null,
                    null,
                    null,
                    null
                  ],
                  "yaxis": "y"
                }
              ],
              "layout": {
                "legend": {
                  "title": {
                    "text": "variable"
                  },
                  "tracegroupgap": 0
                },
                "margin": {
                  "t": 60
                },
                "template": {
                  "data": {
                    "bar": [
                      {
                        "error_x": {
                          "color": "#2a3f5f"
                        },
                        "error_y": {
                          "color": "#2a3f5f"
                        },
                        "marker": {
                          "line": {
                            "color": "#E5ECF6",
                            "width": 0.5
                          },
                          "pattern": {
                            "fillmode": "overlay",
                            "size": 10,
                            "solidity": 0.2
                          }
                        },
                        "type": "bar"
                      }
                    ],
                    "barpolar": [
                      {
                        "marker": {
                          "line": {
                            "color": "#E5ECF6",
                            "width": 0.5
                          },
                          "pattern": {
                            "fillmode": "overlay",
                            "size": 10,
                            "solidity": 0.2
                          }
                        },
                        "type": "barpolar"
                      }
                    ],
                    "carpet": [
                      {
                        "aaxis": {
                          "endlinecolor": "#2a3f5f",
                          "gridcolor": "white",
                          "linecolor": "white",
                          "minorgridcolor": "white",
                          "startlinecolor": "#2a3f5f"
                        },
                        "baxis": {
                          "endlinecolor": "#2a3f5f",
                          "gridcolor": "white",
                          "linecolor": "white",
                          "minorgridcolor": "white",
                          "startlinecolor": "#2a3f5f"
                        },
                        "type": "carpet"
                      }
                    ],
                    "choropleth": [
                      {
                        "colorbar": {
                          "outlinewidth": 0,
                          "ticks": ""
                        },
                        "type": "choropleth"
                      }
                    ],
                    "contour": [
                      {
                        "colorbar": {
                          "outlinewidth": 0,
                          "ticks": ""
                        },
                        "colorscale": [
                          [
                            0,
                            "#0d0887"
                          ],
                          [
                            0.1111111111111111,
                            "#46039f"
                          ],
                          [
                            0.2222222222222222,
                            "#7201a8"
                          ],
                          [
                            0.3333333333333333,
                            "#9c179e"
                          ],
                          [
                            0.4444444444444444,
                            "#bd3786"
                          ],
                          [
                            0.5555555555555556,
                            "#d8576b"
                          ],
                          [
                            0.6666666666666666,
                            "#ed7953"
                          ],
                          [
                            0.7777777777777778,
                            "#fb9f3a"
                          ],
                          [
                            0.8888888888888888,
                            "#fdca26"
                          ],
                          [
                            1,
                            "#f0f921"
                          ]
                        ],
                        "type": "contour"
                      }
                    ],
                    "contourcarpet": [
                      {
                        "colorbar": {
                          "outlinewidth": 0,
                          "ticks": ""
                        },
                        "type": "contourcarpet"
                      }
                    ],
                    "heatmap": [
                      {
                        "colorbar": {
                          "outlinewidth": 0,
                          "ticks": ""
                        },
                        "colorscale": [
                          [
                            0,
                            "#0d0887"
                          ],
                          [
                            0.1111111111111111,
                            "#46039f"
                          ],
                          [
                            0.2222222222222222,
                            "#7201a8"
                          ],
                          [
                            0.3333333333333333,
                            "#9c179e"
                          ],
                          [
                            0.4444444444444444,
                            "#bd3786"
                          ],
                          [
                            0.5555555555555556,
                            "#d8576b"
                          ],
                          [
                            0.6666666666666666,
                            "#ed7953"
                          ],
                          [
                            0.7777777777777778,
                            "#fb9f3a"
                          ],
                          [
                            0.8888888888888888,
                            "#fdca26"
                          ],
                          [
                            1,
                            "#f0f921"
                          ]
                        ],
                        "type": "heatmap"
                      }
                    ],
                    "heatmapgl": [
                      {
                        "colorbar": {
                          "outlinewidth": 0,
                          "ticks": ""
                        },
                        "colorscale": [
                          [
                            0,
                            "#0d0887"
                          ],
                          [
                            0.1111111111111111,
                            "#46039f"
                          ],
                          [
                            0.2222222222222222,
                            "#7201a8"
                          ],
                          [
                            0.3333333333333333,
                            "#9c179e"
                          ],
                          [
                            0.4444444444444444,
                            "#bd3786"
                          ],
                          [
                            0.5555555555555556,
                            "#d8576b"
                          ],
                          [
                            0.6666666666666666,
                            "#ed7953"
                          ],
                          [
                            0.7777777777777778,
                            "#fb9f3a"
                          ],
                          [
                            0.8888888888888888,
                            "#fdca26"
                          ],
                          [
                            1,
                            "#f0f921"
                          ]
                        ],
                        "type": "heatmapgl"
                      }
                    ],
                    "histogram": [
                      {
                        "marker": {
                          "pattern": {
                            "fillmode": "overlay",
                            "size": 10,
                            "solidity": 0.2
                          }
                        },
                        "type": "histogram"
                      }
                    ],
                    "histogram2d": [
                      {
                        "colorbar": {
                          "outlinewidth": 0,
                          "ticks": ""
                        },
                        "colorscale": [
                          [
                            0,
                            "#0d0887"
                          ],
                          [
                            0.1111111111111111,
                            "#46039f"
                          ],
                          [
                            0.2222222222222222,
                            "#7201a8"
                          ],
                          [
                            0.3333333333333333,
                            "#9c179e"
                          ],
                          [
                            0.4444444444444444,
                            "#bd3786"
                          ],
                          [
                            0.5555555555555556,
                            "#d8576b"
                          ],
                          [
                            0.6666666666666666,
                            "#ed7953"
                          ],
                          [
                            0.7777777777777778,
                            "#fb9f3a"
                          ],
                          [
                            0.8888888888888888,
                            "#fdca26"
                          ],
                          [
                            1,
                            "#f0f921"
                          ]
                        ],
                        "type": "histogram2d"
                      }
                    ],
                    "histogram2dcontour": [
                      {
                        "colorbar": {
                          "outlinewidth": 0,
                          "ticks": ""
                        },
                        "colorscale": [
                          [
                            0,
                            "#0d0887"
                          ],
                          [
                            0.1111111111111111,
                            "#46039f"
                          ],
                          [
                            0.2222222222222222,
                            "#7201a8"
                          ],
                          [
                            0.3333333333333333,
                            "#9c179e"
                          ],
                          [
                            0.4444444444444444,
                            "#bd3786"
                          ],
                          [
                            0.5555555555555556,
                            "#d8576b"
                          ],
                          [
                            0.6666666666666666,
                            "#ed7953"
                          ],
                          [
                            0.7777777777777778,
                            "#fb9f3a"
                          ],
                          [
                            0.8888888888888888,
                            "#fdca26"
                          ],
                          [
                            1,
                            "#f0f921"
                          ]
                        ],
                        "type": "histogram2dcontour"
                      }
                    ],
                    "mesh3d": [
                      {
                        "colorbar": {
                          "outlinewidth": 0,
                          "ticks": ""
                        },
                        "type": "mesh3d"
                      }
                    ],
                    "parcoords": [
                      {
                        "line": {
                          "colorbar": {
                            "outlinewidth": 0,
                            "ticks": ""
                          }
                        },
                        "type": "parcoords"
                      }
                    ],
                    "pie": [
                      {
                        "automargin": true,
                        "type": "pie"
                      }
                    ],
                    "scatter": [
                      {
                        "marker": {
                          "colorbar": {
                            "outlinewidth": 0,
                            "ticks": ""
                          }
                        },
                        "type": "scatter"
                      }
                    ],
                    "scatter3d": [
                      {
                        "line": {
                          "colorbar": {
                            "outlinewidth": 0,
                            "ticks": ""
                          }
                        },
                        "marker": {
                          "colorbar": {
                            "outlinewidth": 0,
                            "ticks": ""
                          }
                        },
                        "type": "scatter3d"
                      }
                    ],
                    "scattercarpet": [
                      {
                        "marker": {
                          "colorbar": {
                            "outlinewidth": 0,
                            "ticks": ""
                          }
                        },
                        "type": "scattercarpet"
                      }
                    ],
                    "scattergeo": [
                      {
                        "marker": {
                          "colorbar": {
                            "outlinewidth": 0,
                            "ticks": ""
                          }
                        },
                        "type": "scattergeo"
                      }
                    ],
                    "scattergl": [
                      {
                        "marker": {
                          "colorbar": {
                            "outlinewidth": 0,
                            "ticks": ""
                          }
                        },
                        "type": "scattergl"
                      }
                    ],
                    "scattermapbox": [
                      {
                        "marker": {
                          "colorbar": {
                            "outlinewidth": 0,
                            "ticks": ""
                          }
                        },
                        "type": "scattermapbox"
                      }
                    ],
                    "scatterpolar": [
                      {
                        "marker": {
                          "colorbar": {
                            "outlinewidth": 0,
                            "ticks": ""
                          }
                        },
                        "type": "scatterpolar"
                      }
                    ],
                    "scatterpolargl": [
                      {
                        "marker": {
                          "colorbar": {
                            "outlinewidth": 0,
                            "ticks": ""
                          }
                        },
                        "type": "scatterpolargl"
                      }
                    ],
                    "scatterternary": [
                      {
                        "marker": {
                          "colorbar": {
                            "outlinewidth": 0,
                            "ticks": ""
                          }
                        },
                        "type": "scatterternary"
                      }
                    ],
                    "surface": [
                      {
                        "colorbar": {
                          "outlinewidth": 0,
                          "ticks": ""
                        },
                        "colorscale": [
                          [
                            0,
                            "#0d0887"
                          ],
                          [
                            0.1111111111111111,
                            "#46039f"
                          ],
                          [
                            0.2222222222222222,
                            "#7201a8"
                          ],
                          [
                            0.3333333333333333,
                            "#9c179e"
                          ],
                          [
                            0.4444444444444444,
                            "#bd3786"
                          ],
                          [
                            0.5555555555555556,
                            "#d8576b"
                          ],
                          [
                            0.6666666666666666,
                            "#ed7953"
                          ],
                          [
                            0.7777777777777778,
                            "#fb9f3a"
                          ],
                          [
                            0.8888888888888888,
                            "#fdca26"
                          ],
                          [
                            1,
                            "#f0f921"
                          ]
                        ],
                        "type": "surface"
                      }
                    ],
                    "table": [
                      {
                        "cells": {
                          "fill": {
                            "color": "#EBF0F8"
                          },
                          "line": {
                            "color": "white"
                          }
                        },
                        "header": {
                          "fill": {
                            "color": "#C8D4E3"
                          },
                          "line": {
                            "color": "white"
                          }
                        },
                        "type": "table"
                      }
                    ]
                  },
                  "layout": {
                    "annotationdefaults": {
                      "arrowcolor": "#2a3f5f",
                      "arrowhead": 0,
                      "arrowwidth": 1
                    },
                    "autotypenumbers": "strict",
                    "coloraxis": {
                      "colorbar": {
                        "outlinewidth": 0,
                        "ticks": ""
                      }
                    },
                    "colorscale": {
                      "diverging": [
                        [
                          0,
                          "#8e0152"
                        ],
                        [
                          0.1,
                          "#c51b7d"
                        ],
                        [
                          0.2,
                          "#de77ae"
                        ],
                        [
                          0.3,
                          "#f1b6da"
                        ],
                        [
                          0.4,
                          "#fde0ef"
                        ],
                        [
                          0.5,
                          "#f7f7f7"
                        ],
                        [
                          0.6,
                          "#e6f5d0"
                        ],
                        [
                          0.7,
                          "#b8e186"
                        ],
                        [
                          0.8,
                          "#7fbc41"
                        ],
                        [
                          0.9,
                          "#4d9221"
                        ],
                        [
                          1,
                          "#276419"
                        ]
                      ],
                      "sequential": [
                        [
                          0,
                          "#0d0887"
                        ],
                        [
                          0.1111111111111111,
                          "#46039f"
                        ],
                        [
                          0.2222222222222222,
                          "#7201a8"
                        ],
                        [
                          0.3333333333333333,
                          "#9c179e"
                        ],
                        [
                          0.4444444444444444,
                          "#bd3786"
                        ],
                        [
                          0.5555555555555556,
                          "#d8576b"
                        ],
                        [
                          0.6666666666666666,
                          "#ed7953"
                        ],
                        [
                          0.7777777777777778,
                          "#fb9f3a"
                        ],
                        [
                          0.8888888888888888,
                          "#fdca26"
                        ],
                        [
                          1,
                          "#f0f921"
                        ]
                      ],
                      "sequentialminus": [
                        [
                          0,
                          "#0d0887"
                        ],
                        [
                          0.1111111111111111,
                          "#46039f"
                        ],
                        [
                          0.2222222222222222,
                          "#7201a8"
                        ],
                        [
                          0.3333333333333333,
                          "#9c179e"
                        ],
                        [
                          0.4444444444444444,
                          "#bd3786"
                        ],
                        [
                          0.5555555555555556,
                          "#d8576b"
                        ],
                        [
                          0.6666666666666666,
                          "#ed7953"
                        ],
                        [
                          0.7777777777777778,
                          "#fb9f3a"
                        ],
                        [
                          0.8888888888888888,
                          "#fdca26"
                        ],
                        [
                          1,
                          "#f0f921"
                        ]
                      ]
                    },
                    "colorway": [
                      "#636efa",
                      "#EF553B",
                      "#00cc96",
                      "#ab63fa",
                      "#FFA15A",
                      "#19d3f3",
                      "#FF6692",
                      "#B6E880",
                      "#FF97FF",
                      "#FECB52"
                    ],
                    "font": {
                      "color": "#2a3f5f"
                    },
                    "geo": {
                      "bgcolor": "white",
                      "lakecolor": "white",
                      "landcolor": "#E5ECF6",
                      "showlakes": true,
                      "showland": true,
                      "subunitcolor": "white"
                    },
                    "hoverlabel": {
                      "align": "left"
                    },
                    "hovermode": "closest",
                    "mapbox": {
                      "style": "light"
                    },
                    "paper_bgcolor": "white",
                    "plot_bgcolor": "#E5ECF6",
                    "polar": {
                      "angularaxis": {
                        "gridcolor": "white",
                        "linecolor": "white",
                        "ticks": ""
                      },
                      "bgcolor": "#E5ECF6",
                      "radialaxis": {
                        "gridcolor": "white",
                        "linecolor": "white",
                        "ticks": ""
                      }
                    },
                    "scene": {
                      "xaxis": {
                        "backgroundcolor": "#E5ECF6",
                        "gridcolor": "white",
                        "gridwidth": 2,
                        "linecolor": "white",
                        "showbackground": true,
                        "ticks": "",
                        "zerolinecolor": "white"
                      },
                      "yaxis": {
                        "backgroundcolor": "#E5ECF6",
                        "gridcolor": "white",
                        "gridwidth": 2,
                        "linecolor": "white",
                        "showbackground": true,
                        "ticks": "",
                        "zerolinecolor": "white"
                      },
                      "zaxis": {
                        "backgroundcolor": "#E5ECF6",
                        "gridcolor": "white",
                        "gridwidth": 2,
                        "linecolor": "white",
                        "showbackground": true,
                        "ticks": "",
                        "zerolinecolor": "white"
                      }
                    },
                    "shapedefaults": {
                      "line": {
                        "color": "#2a3f5f"
                      }
                    },
                    "ternary": {
                      "aaxis": {
                        "gridcolor": "white",
                        "linecolor": "white",
                        "ticks": ""
                      },
                      "baxis": {
                        "gridcolor": "white",
                        "linecolor": "white",
                        "ticks": ""
                      },
                      "bgcolor": "#E5ECF6",
                      "caxis": {
                        "gridcolor": "white",
                        "linecolor": "white",
                        "ticks": ""
                      }
                    },
                    "title": {
                      "x": 0.05
                    },
                    "xaxis": {
                      "automargin": true,
                      "gridcolor": "white",
                      "linecolor": "white",
                      "ticks": "",
                      "title": {
                        "standoff": 15
                      },
                      "zerolinecolor": "white",
                      "zerolinewidth": 2
                    },
                    "yaxis": {
                      "automargin": true,
                      "gridcolor": "white",
                      "linecolor": "white",
                      "ticks": "",
                      "title": {
                        "standoff": 15
                      },
                      "zerolinecolor": "white",
                      "zerolinewidth": 2
                    }
                  }
                },
                "xaxis": {
                  "anchor": "y",
                  "domain": [
                    0,
                    1
                  ],
                  "title": {
                    "text": "fecha"
                  }
                },
                "yaxis": {
                  "anchor": "x",
                  "domain": [
                    0,
                    1
                  ],
                  "title": {
                    "text": "value"
                  }
                }
              }
            }
          },
          "metadata": {},
          "output_type": "display_data"
        }
      ],
      "source": [
        "from statsmodels.tsa.seasonal import seasonal_decompose\n",
        "\n",
        "result2 = seasonal_decompose(semanal2, model='additive', period=(int(365/7)))\n",
        "grafico2 = px.line(result2.trend)\n",
        "grafico2['data'][0]['line']['color']='rgb(0, 255, 0)'\n",
        "grafico2.show()"
      ]
    },
    {
      "cell_type": "code",
      "execution_count": 65,
      "metadata": {},
      "outputs": [],
      "source": [
        "import plotly.graph_objects as go"
      ]
    },
    {
      "cell_type": "code",
      "execution_count": 72,
      "metadata": {},
      "outputs": [
        {
          "data": {
            "application/vnd.plotly.v1+json": {
              "config": {
                "plotlyServerURL": "https://plot.ly"
              },
              "data": [
                {
                  "hovertemplate": "variable=trend<br>fecha=%{x}<br>value=%{y}<extra></extra>",
                  "legendgroup": "trend",
                  "line": {
                    "color": "rgb(0, 255, 0)",
                    "dash": "solid"
                  },
                  "marker": {
                    "symbol": "circle"
                  },
                  "mode": "lines",
                  "name": "trend",
                  "orientation": "v",
                  "showlegend": true,
                  "type": "scatter",
                  "x": [
                    "2017-01-01T00:00:00",
                    "2017-01-08T00:00:00",
                    "2017-01-15T00:00:00",
                    "2017-01-22T00:00:00",
                    "2017-01-29T00:00:00",
                    "2017-02-05T00:00:00",
                    "2017-02-12T00:00:00",
                    "2017-02-19T00:00:00",
                    "2017-02-26T00:00:00",
                    "2017-03-05T00:00:00",
                    "2017-03-12T00:00:00",
                    "2017-03-19T00:00:00",
                    "2017-03-26T00:00:00",
                    "2017-04-02T00:00:00",
                    "2017-04-09T00:00:00",
                    "2017-04-16T00:00:00",
                    "2017-04-23T00:00:00",
                    "2017-04-30T00:00:00",
                    "2017-05-07T00:00:00",
                    "2017-05-14T00:00:00",
                    "2017-05-21T00:00:00",
                    "2017-05-28T00:00:00",
                    "2017-06-04T00:00:00",
                    "2017-06-11T00:00:00",
                    "2017-06-18T00:00:00",
                    "2017-06-25T00:00:00",
                    "2017-07-02T00:00:00",
                    "2017-07-09T00:00:00",
                    "2017-07-16T00:00:00",
                    "2017-07-23T00:00:00",
                    "2017-07-30T00:00:00",
                    "2017-08-06T00:00:00",
                    "2017-08-13T00:00:00",
                    "2017-08-20T00:00:00",
                    "2017-08-27T00:00:00",
                    "2017-09-03T00:00:00",
                    "2017-09-10T00:00:00",
                    "2017-09-17T00:00:00",
                    "2017-09-24T00:00:00",
                    "2017-10-01T00:00:00",
                    "2017-10-08T00:00:00",
                    "2017-10-15T00:00:00",
                    "2017-10-22T00:00:00",
                    "2017-10-29T00:00:00",
                    "2017-11-05T00:00:00",
                    "2017-11-12T00:00:00",
                    "2017-11-19T00:00:00",
                    "2017-11-26T00:00:00",
                    "2017-12-03T00:00:00",
                    "2017-12-10T00:00:00",
                    "2017-12-17T00:00:00",
                    "2017-12-24T00:00:00",
                    "2017-12-31T00:00:00",
                    "2018-01-07T00:00:00",
                    "2018-01-14T00:00:00",
                    "2018-01-21T00:00:00",
                    "2018-01-28T00:00:00",
                    "2018-02-04T00:00:00",
                    "2018-02-11T00:00:00",
                    "2018-02-18T00:00:00",
                    "2018-02-25T00:00:00",
                    "2018-03-04T00:00:00",
                    "2018-03-11T00:00:00",
                    "2018-03-18T00:00:00",
                    "2018-03-25T00:00:00",
                    "2018-04-01T00:00:00",
                    "2018-04-08T00:00:00",
                    "2018-04-15T00:00:00",
                    "2018-04-22T00:00:00",
                    "2018-04-29T00:00:00",
                    "2018-05-06T00:00:00",
                    "2018-05-13T00:00:00",
                    "2018-05-20T00:00:00",
                    "2018-05-27T00:00:00",
                    "2018-06-03T00:00:00",
                    "2018-06-10T00:00:00",
                    "2018-06-17T00:00:00",
                    "2018-06-24T00:00:00",
                    "2018-07-01T00:00:00",
                    "2018-07-08T00:00:00",
                    "2018-07-15T00:00:00",
                    "2018-07-22T00:00:00",
                    "2018-07-29T00:00:00",
                    "2018-08-05T00:00:00",
                    "2018-08-12T00:00:00",
                    "2018-08-19T00:00:00",
                    "2018-08-26T00:00:00",
                    "2018-09-02T00:00:00",
                    "2018-09-09T00:00:00",
                    "2018-09-16T00:00:00",
                    "2018-09-23T00:00:00",
                    "2018-09-30T00:00:00",
                    "2018-10-07T00:00:00",
                    "2018-10-14T00:00:00",
                    "2018-10-21T00:00:00",
                    "2018-10-28T00:00:00",
                    "2018-11-04T00:00:00",
                    "2018-11-11T00:00:00",
                    "2018-11-18T00:00:00",
                    "2018-11-25T00:00:00",
                    "2018-12-02T00:00:00",
                    "2018-12-09T00:00:00",
                    "2018-12-16T00:00:00",
                    "2018-12-23T00:00:00",
                    "2018-12-30T00:00:00",
                    "2019-01-06T00:00:00",
                    "2019-01-13T00:00:00",
                    "2019-01-20T00:00:00",
                    "2019-01-27T00:00:00",
                    "2019-02-03T00:00:00",
                    "2019-02-10T00:00:00",
                    "2019-02-17T00:00:00",
                    "2019-02-24T00:00:00",
                    "2019-03-03T00:00:00",
                    "2019-03-10T00:00:00",
                    "2019-03-17T00:00:00",
                    "2019-03-24T00:00:00",
                    "2019-03-31T00:00:00",
                    "2019-04-07T00:00:00",
                    "2019-04-14T00:00:00",
                    "2019-04-21T00:00:00",
                    "2019-04-28T00:00:00",
                    "2019-05-05T00:00:00",
                    "2019-05-12T00:00:00",
                    "2019-05-19T00:00:00",
                    "2019-05-26T00:00:00",
                    "2019-06-02T00:00:00",
                    "2019-06-09T00:00:00",
                    "2019-06-16T00:00:00",
                    "2019-06-23T00:00:00",
                    "2019-06-30T00:00:00",
                    "2019-07-07T00:00:00",
                    "2019-07-14T00:00:00",
                    "2019-07-21T00:00:00",
                    "2019-07-28T00:00:00",
                    "2019-08-04T00:00:00",
                    "2019-08-11T00:00:00",
                    "2019-08-18T00:00:00",
                    "2019-08-25T00:00:00",
                    "2019-09-01T00:00:00",
                    "2019-09-08T00:00:00",
                    "2019-09-15T00:00:00",
                    "2019-09-22T00:00:00",
                    "2019-09-29T00:00:00",
                    "2019-10-06T00:00:00",
                    "2019-10-13T00:00:00",
                    "2019-10-20T00:00:00",
                    "2019-10-27T00:00:00",
                    "2019-11-03T00:00:00",
                    "2019-11-10T00:00:00",
                    "2019-11-17T00:00:00",
                    "2019-11-24T00:00:00",
                    "2019-12-01T00:00:00",
                    "2019-12-08T00:00:00",
                    "2019-12-15T00:00:00",
                    "2019-12-22T00:00:00",
                    "2019-12-29T00:00:00",
                    "2020-01-05T00:00:00"
                  ],
                  "xaxis": "x",
                  "y": [
                    null,
                    null,
                    null,
                    null,
                    null,
                    null,
                    null,
                    null,
                    null,
                    null,
                    null,
                    null,
                    null,
                    null,
                    null,
                    null,
                    null,
                    null,
                    null,
                    null,
                    null,
                    null,
                    null,
                    null,
                    null,
                    null,
                    639687.5961538461,
                    644247.2403846154,
                    643486.625,
                    643274.7980769229,
                    643502.0192307691,
                    643858.9807692308,
                    644361.8846153845,
                    644258.8076923076,
                    644336.721153846,
                    646454.3365384616,
                    649061.0576923079,
                    650872.0480769231,
                    653238.8846153845,
                    654508.0673076924,
                    654679.8846153845,
                    656799.9807692308,
                    658901.7403846154,
                    659516.8750000001,
                    659599.9326923076,
                    660212.7403846154,
                    661762.0576923076,
                    663086.0480769231,
                    664201.9326923077,
                    665251.8076923077,
                    665916.8173076924,
                    666436.4807692306,
                    666771.0865384616,
                    667439.5865384615,
                    668120.5480769231,
                    668272.9038461539,
                    668302.9903846154,
                    668334.6538461539,
                    668784.6057692308,
                    669595.7980769231,
                    670532.2788461539,
                    671305.625,
                    671978.0576923076,
                    671901.1730769231,
                    671505.3173076923,
                    670996.4807692308,
                    669157.0480769232,
                    667819.0096153847,
                    667795.2884615385,
                    667735.3269230769,
                    667633.4615384616,
                    667333.1538461539,
                    666945.951923077,
                    666554.9038461539,
                    664121.951923077,
                    662394.1730769229,
                    663086.8076923076,
                    664033.5480769229,
                    664232.4711538461,
                    663705.5384615385,
                    663794.8461538461,
                    663478.0096153847,
                    662587.0673076924,
                    661914.6057692308,
                    661658.6346153845,
                    662348.375,
                    663097.6538461539,
                    662655.1442307691,
                    662484.6634615386,
                    662424.2211538461,
                    661415.75,
                    661719.4903846154,
                    662406.4903846153,
                    661413.8461538461,
                    659562.5480769231,
                    658332.1538461538,
                    658046.7211538461,
                    658048.5576923079,
                    657861,
                    657740.5096153844,
                    657837.0096153845,
                    657732.0576923075,
                    657428.5673076921,
                    656194.2884615384,
                    655544.625,
                    655325.2788461538,
                    654572.4903846153,
                    654543.25,
                    655046.3173076921,
                    655475.0865384615,
                    655297.6923076923,
                    654488.375,
                    654024.5192307691,
                    654185.0192307691,
                    653575.7596153845,
                    652616.1826923076,
                    652449.4230769229,
                    653200.4038461538,
                    654572.5865384615,
                    654346.1826923076,
                    653525.5096153845,
                    653378.5576923079,
                    653240.125,
                    653073.096153846,
                    652802.7115384616,
                    652838.9903846153,
                    654678.0384615385,
                    656275.2019230769,
                    655453.1057692308,
                    654904.3942307692,
                    655092.3076923075,
                    651268.0769230769,
                    null,
                    null,
                    null,
                    null,
                    null,
                    null,
                    null,
                    null,
                    null,
                    null,
                    null,
                    null,
                    null,
                    null,
                    null,
                    null,
                    null,
                    null,
                    null,
                    null,
                    null,
                    null,
                    null,
                    null,
                    null,
                    null
                  ],
                  "yaxis": "y"
                },
                {
                  "hovertemplate": "variable=cantidad_pasos<br>fecha=%{x}<br>value=%{y}<extra></extra>",
                  "legendgroup": "cantidad_pasos",
                  "line": {
                    "color": "#636efa",
                    "dash": "solid"
                  },
                  "marker": {
                    "symbol": "circle"
                  },
                  "mode": "lines",
                  "name": "cantidad_pasos",
                  "orientation": "v",
                  "showlegend": true,
                  "type": "scatter",
                  "x": [
                    "2017-01-01T00:00:00",
                    "2017-01-08T00:00:00",
                    "2017-01-15T00:00:00",
                    "2017-01-22T00:00:00",
                    "2017-01-29T00:00:00",
                    "2017-02-05T00:00:00",
                    "2017-02-12T00:00:00",
                    "2017-02-19T00:00:00",
                    "2017-02-26T00:00:00",
                    "2017-03-05T00:00:00",
                    "2017-03-12T00:00:00",
                    "2017-03-19T00:00:00",
                    "2017-03-26T00:00:00",
                    "2017-04-02T00:00:00",
                    "2017-04-09T00:00:00",
                    "2017-04-16T00:00:00",
                    "2017-04-23T00:00:00",
                    "2017-04-30T00:00:00",
                    "2017-05-07T00:00:00",
                    "2017-05-14T00:00:00",
                    "2017-05-21T00:00:00",
                    "2017-05-28T00:00:00",
                    "2017-06-04T00:00:00",
                    "2017-06-11T00:00:00",
                    "2017-06-18T00:00:00",
                    "2017-06-25T00:00:00",
                    "2017-07-02T00:00:00",
                    "2017-07-09T00:00:00",
                    "2017-07-16T00:00:00",
                    "2017-07-23T00:00:00",
                    "2017-07-30T00:00:00",
                    "2017-08-06T00:00:00",
                    "2017-08-13T00:00:00",
                    "2017-08-20T00:00:00",
                    "2017-08-27T00:00:00",
                    "2017-09-03T00:00:00",
                    "2017-09-10T00:00:00",
                    "2017-09-17T00:00:00",
                    "2017-09-24T00:00:00",
                    "2017-10-01T00:00:00",
                    "2017-10-08T00:00:00",
                    "2017-10-15T00:00:00",
                    "2017-10-22T00:00:00",
                    "2017-10-29T00:00:00",
                    "2017-11-05T00:00:00",
                    "2017-11-12T00:00:00",
                    "2017-11-19T00:00:00",
                    "2017-11-26T00:00:00",
                    "2017-12-03T00:00:00",
                    "2017-12-10T00:00:00",
                    "2017-12-17T00:00:00",
                    "2017-12-24T00:00:00",
                    "2017-12-31T00:00:00",
                    "2018-01-07T00:00:00",
                    "2018-01-14T00:00:00",
                    "2018-01-21T00:00:00",
                    "2018-01-28T00:00:00",
                    "2018-02-04T00:00:00",
                    "2018-02-11T00:00:00",
                    "2018-02-18T00:00:00",
                    "2018-02-25T00:00:00",
                    "2018-03-04T00:00:00",
                    "2018-03-11T00:00:00",
                    "2018-03-18T00:00:00",
                    "2018-03-25T00:00:00",
                    "2018-04-01T00:00:00",
                    "2018-04-08T00:00:00",
                    "2018-04-15T00:00:00",
                    "2018-04-22T00:00:00",
                    "2018-04-29T00:00:00",
                    "2018-05-06T00:00:00",
                    "2018-05-13T00:00:00",
                    "2018-05-20T00:00:00",
                    "2018-05-27T00:00:00",
                    "2018-06-03T00:00:00",
                    "2018-06-10T00:00:00",
                    "2018-06-17T00:00:00",
                    "2018-06-24T00:00:00",
                    "2018-07-01T00:00:00",
                    "2018-07-08T00:00:00",
                    "2018-07-15T00:00:00",
                    "2018-07-22T00:00:00",
                    "2018-07-29T00:00:00",
                    "2018-08-05T00:00:00",
                    "2018-08-12T00:00:00",
                    "2018-08-19T00:00:00",
                    "2018-08-26T00:00:00",
                    "2018-09-02T00:00:00",
                    "2018-09-09T00:00:00",
                    "2018-09-16T00:00:00",
                    "2018-09-23T00:00:00",
                    "2018-09-30T00:00:00",
                    "2018-10-07T00:00:00",
                    "2018-10-14T00:00:00",
                    "2018-10-21T00:00:00",
                    "2018-10-28T00:00:00",
                    "2018-11-04T00:00:00",
                    "2018-11-11T00:00:00",
                    "2018-11-18T00:00:00",
                    "2018-11-25T00:00:00",
                    "2018-12-02T00:00:00",
                    "2018-12-09T00:00:00",
                    "2018-12-16T00:00:00",
                    "2018-12-23T00:00:00",
                    "2018-12-30T00:00:00",
                    "2019-01-06T00:00:00",
                    "2019-01-13T00:00:00",
                    "2019-01-20T00:00:00",
                    "2019-01-27T00:00:00",
                    "2019-02-03T00:00:00",
                    "2019-02-10T00:00:00",
                    "2019-02-17T00:00:00",
                    "2019-02-24T00:00:00",
                    "2019-03-03T00:00:00",
                    "2019-03-10T00:00:00",
                    "2019-03-17T00:00:00",
                    "2019-03-24T00:00:00",
                    "2019-03-31T00:00:00",
                    "2019-04-07T00:00:00",
                    "2019-04-14T00:00:00",
                    "2019-04-21T00:00:00",
                    "2019-04-28T00:00:00",
                    "2019-05-05T00:00:00",
                    "2019-05-12T00:00:00",
                    "2019-05-19T00:00:00",
                    "2019-05-26T00:00:00",
                    "2019-06-02T00:00:00",
                    "2019-06-09T00:00:00",
                    "2019-06-16T00:00:00",
                    "2019-06-23T00:00:00",
                    "2019-06-30T00:00:00",
                    "2019-07-07T00:00:00",
                    "2019-07-14T00:00:00",
                    "2019-07-21T00:00:00",
                    "2019-07-28T00:00:00",
                    "2019-08-04T00:00:00",
                    "2019-08-11T00:00:00",
                    "2019-08-18T00:00:00",
                    "2019-08-25T00:00:00",
                    "2019-09-01T00:00:00",
                    "2019-09-08T00:00:00",
                    "2019-09-15T00:00:00",
                    "2019-09-22T00:00:00",
                    "2019-09-29T00:00:00",
                    "2019-10-06T00:00:00",
                    "2019-10-13T00:00:00",
                    "2019-10-20T00:00:00",
                    "2019-10-27T00:00:00",
                    "2019-11-03T00:00:00",
                    "2019-11-10T00:00:00",
                    "2019-11-17T00:00:00",
                    "2019-11-24T00:00:00",
                    "2019-12-01T00:00:00",
                    "2019-12-08T00:00:00",
                    "2019-12-15T00:00:00",
                    "2019-12-22T00:00:00",
                    "2019-12-29T00:00:00",
                    "2020-01-05T00:00:00"
                  ],
                  "xaxis": "x",
                  "y": [
                    45478,
                    585700,
                    613675,
                    599307,
                    598163,
                    619701,
                    626109,
                    612954,
                    601143,
                    526914,
                    600009,
                    624624,
                    586728,
                    640626,
                    615541,
                    542752,
                    659510,
                    669105,
                    605508,
                    631823,
                    628624,
                    599136,
                    621916,
                    645548,
                    637390,
                    597958,
                    653751,
                    634502,
                    661685,
                    658167,
                    638646,
                    671795,
                    658925,
                    652837,
                    602100,
                    666852,
                    661461,
                    719394,
                    684351,
                    695812,
                    718086,
                    719259,
                    659551,
                    716268,
                    719055,
                    727544,
                    722192,
                    678911,
                    724303,
                    679899,
                    699223,
                    641893,
                    568180,
                    537201,
                    583070,
                    607882,
                    613219,
                    641769,
                    656343,
                    572000,
                    650200,
                    698089,
                    699933,
                    713043,
                    744460,
                    614889,
                    659147,
                    719636,
                    701209,
                    691380,
                    591871,
                    709192,
                    712384,
                    653071,
                    684033,
                    692618,
                    659481,
                    629912,
                    656596,
                    701181,
                    665826,
                    669871,
                    630071,
                    683663,
                    693852,
                    702274,
                    650057,
                    699323,
                    698923,
                    673936,
                    688640,
                    638604,
                    583993,
                    714196,
                    662147,
                    707436,
                    717293,
                    698074,
                    711393,
                    649041,
                    501146,
                    723367,
                    727789,
                    711788,
                    518973,
                    531607,
                    597952,
                    560049,
                    568394,
                    616658,
                    654833,
                    645243,
                    654882,
                    647386,
                    732906,
                    673784,
                    678838,
                    712100,
                    633384,
                    642164,
                    586146,
                    678482,
                    575084,
                    726170,
                    675900,
                    677024,
                    670116,
                    695620,
                    624916,
                    536112,
                    682831,
                    652134,
                    636583,
                    696073,
                    656188,
                    702138,
                    656928,
                    655029,
                    649061,
                    717011,
                    617872,
                    655191,
                    690042,
                    715304,
                    650000,
                    624643,
                    666350,
                    687950,
                    722382,
                    675614,
                    705733,
                    658474,
                    682974,
                    707644,
                    658014,
                    724497,
                    525807,
                    127053
                  ],
                  "yaxis": "y"
                }
              ],
              "layout": {
                "template": {
                  "data": {
                    "bar": [
                      {
                        "error_x": {
                          "color": "#2a3f5f"
                        },
                        "error_y": {
                          "color": "#2a3f5f"
                        },
                        "marker": {
                          "line": {
                            "color": "#E5ECF6",
                            "width": 0.5
                          },
                          "pattern": {
                            "fillmode": "overlay",
                            "size": 10,
                            "solidity": 0.2
                          }
                        },
                        "type": "bar"
                      }
                    ],
                    "barpolar": [
                      {
                        "marker": {
                          "line": {
                            "color": "#E5ECF6",
                            "width": 0.5
                          },
                          "pattern": {
                            "fillmode": "overlay",
                            "size": 10,
                            "solidity": 0.2
                          }
                        },
                        "type": "barpolar"
                      }
                    ],
                    "carpet": [
                      {
                        "aaxis": {
                          "endlinecolor": "#2a3f5f",
                          "gridcolor": "white",
                          "linecolor": "white",
                          "minorgridcolor": "white",
                          "startlinecolor": "#2a3f5f"
                        },
                        "baxis": {
                          "endlinecolor": "#2a3f5f",
                          "gridcolor": "white",
                          "linecolor": "white",
                          "minorgridcolor": "white",
                          "startlinecolor": "#2a3f5f"
                        },
                        "type": "carpet"
                      }
                    ],
                    "choropleth": [
                      {
                        "colorbar": {
                          "outlinewidth": 0,
                          "ticks": ""
                        },
                        "type": "choropleth"
                      }
                    ],
                    "contour": [
                      {
                        "colorbar": {
                          "outlinewidth": 0,
                          "ticks": ""
                        },
                        "colorscale": [
                          [
                            0,
                            "#0d0887"
                          ],
                          [
                            0.1111111111111111,
                            "#46039f"
                          ],
                          [
                            0.2222222222222222,
                            "#7201a8"
                          ],
                          [
                            0.3333333333333333,
                            "#9c179e"
                          ],
                          [
                            0.4444444444444444,
                            "#bd3786"
                          ],
                          [
                            0.5555555555555556,
                            "#d8576b"
                          ],
                          [
                            0.6666666666666666,
                            "#ed7953"
                          ],
                          [
                            0.7777777777777778,
                            "#fb9f3a"
                          ],
                          [
                            0.8888888888888888,
                            "#fdca26"
                          ],
                          [
                            1,
                            "#f0f921"
                          ]
                        ],
                        "type": "contour"
                      }
                    ],
                    "contourcarpet": [
                      {
                        "colorbar": {
                          "outlinewidth": 0,
                          "ticks": ""
                        },
                        "type": "contourcarpet"
                      }
                    ],
                    "heatmap": [
                      {
                        "colorbar": {
                          "outlinewidth": 0,
                          "ticks": ""
                        },
                        "colorscale": [
                          [
                            0,
                            "#0d0887"
                          ],
                          [
                            0.1111111111111111,
                            "#46039f"
                          ],
                          [
                            0.2222222222222222,
                            "#7201a8"
                          ],
                          [
                            0.3333333333333333,
                            "#9c179e"
                          ],
                          [
                            0.4444444444444444,
                            "#bd3786"
                          ],
                          [
                            0.5555555555555556,
                            "#d8576b"
                          ],
                          [
                            0.6666666666666666,
                            "#ed7953"
                          ],
                          [
                            0.7777777777777778,
                            "#fb9f3a"
                          ],
                          [
                            0.8888888888888888,
                            "#fdca26"
                          ],
                          [
                            1,
                            "#f0f921"
                          ]
                        ],
                        "type": "heatmap"
                      }
                    ],
                    "heatmapgl": [
                      {
                        "colorbar": {
                          "outlinewidth": 0,
                          "ticks": ""
                        },
                        "colorscale": [
                          [
                            0,
                            "#0d0887"
                          ],
                          [
                            0.1111111111111111,
                            "#46039f"
                          ],
                          [
                            0.2222222222222222,
                            "#7201a8"
                          ],
                          [
                            0.3333333333333333,
                            "#9c179e"
                          ],
                          [
                            0.4444444444444444,
                            "#bd3786"
                          ],
                          [
                            0.5555555555555556,
                            "#d8576b"
                          ],
                          [
                            0.6666666666666666,
                            "#ed7953"
                          ],
                          [
                            0.7777777777777778,
                            "#fb9f3a"
                          ],
                          [
                            0.8888888888888888,
                            "#fdca26"
                          ],
                          [
                            1,
                            "#f0f921"
                          ]
                        ],
                        "type": "heatmapgl"
                      }
                    ],
                    "histogram": [
                      {
                        "marker": {
                          "pattern": {
                            "fillmode": "overlay",
                            "size": 10,
                            "solidity": 0.2
                          }
                        },
                        "type": "histogram"
                      }
                    ],
                    "histogram2d": [
                      {
                        "colorbar": {
                          "outlinewidth": 0,
                          "ticks": ""
                        },
                        "colorscale": [
                          [
                            0,
                            "#0d0887"
                          ],
                          [
                            0.1111111111111111,
                            "#46039f"
                          ],
                          [
                            0.2222222222222222,
                            "#7201a8"
                          ],
                          [
                            0.3333333333333333,
                            "#9c179e"
                          ],
                          [
                            0.4444444444444444,
                            "#bd3786"
                          ],
                          [
                            0.5555555555555556,
                            "#d8576b"
                          ],
                          [
                            0.6666666666666666,
                            "#ed7953"
                          ],
                          [
                            0.7777777777777778,
                            "#fb9f3a"
                          ],
                          [
                            0.8888888888888888,
                            "#fdca26"
                          ],
                          [
                            1,
                            "#f0f921"
                          ]
                        ],
                        "type": "histogram2d"
                      }
                    ],
                    "histogram2dcontour": [
                      {
                        "colorbar": {
                          "outlinewidth": 0,
                          "ticks": ""
                        },
                        "colorscale": [
                          [
                            0,
                            "#0d0887"
                          ],
                          [
                            0.1111111111111111,
                            "#46039f"
                          ],
                          [
                            0.2222222222222222,
                            "#7201a8"
                          ],
                          [
                            0.3333333333333333,
                            "#9c179e"
                          ],
                          [
                            0.4444444444444444,
                            "#bd3786"
                          ],
                          [
                            0.5555555555555556,
                            "#d8576b"
                          ],
                          [
                            0.6666666666666666,
                            "#ed7953"
                          ],
                          [
                            0.7777777777777778,
                            "#fb9f3a"
                          ],
                          [
                            0.8888888888888888,
                            "#fdca26"
                          ],
                          [
                            1,
                            "#f0f921"
                          ]
                        ],
                        "type": "histogram2dcontour"
                      }
                    ],
                    "mesh3d": [
                      {
                        "colorbar": {
                          "outlinewidth": 0,
                          "ticks": ""
                        },
                        "type": "mesh3d"
                      }
                    ],
                    "parcoords": [
                      {
                        "line": {
                          "colorbar": {
                            "outlinewidth": 0,
                            "ticks": ""
                          }
                        },
                        "type": "parcoords"
                      }
                    ],
                    "pie": [
                      {
                        "automargin": true,
                        "type": "pie"
                      }
                    ],
                    "scatter": [
                      {
                        "marker": {
                          "colorbar": {
                            "outlinewidth": 0,
                            "ticks": ""
                          }
                        },
                        "type": "scatter"
                      }
                    ],
                    "scatter3d": [
                      {
                        "line": {
                          "colorbar": {
                            "outlinewidth": 0,
                            "ticks": ""
                          }
                        },
                        "marker": {
                          "colorbar": {
                            "outlinewidth": 0,
                            "ticks": ""
                          }
                        },
                        "type": "scatter3d"
                      }
                    ],
                    "scattercarpet": [
                      {
                        "marker": {
                          "colorbar": {
                            "outlinewidth": 0,
                            "ticks": ""
                          }
                        },
                        "type": "scattercarpet"
                      }
                    ],
                    "scattergeo": [
                      {
                        "marker": {
                          "colorbar": {
                            "outlinewidth": 0,
                            "ticks": ""
                          }
                        },
                        "type": "scattergeo"
                      }
                    ],
                    "scattergl": [
                      {
                        "marker": {
                          "colorbar": {
                            "outlinewidth": 0,
                            "ticks": ""
                          }
                        },
                        "type": "scattergl"
                      }
                    ],
                    "scattermapbox": [
                      {
                        "marker": {
                          "colorbar": {
                            "outlinewidth": 0,
                            "ticks": ""
                          }
                        },
                        "type": "scattermapbox"
                      }
                    ],
                    "scatterpolar": [
                      {
                        "marker": {
                          "colorbar": {
                            "outlinewidth": 0,
                            "ticks": ""
                          }
                        },
                        "type": "scatterpolar"
                      }
                    ],
                    "scatterpolargl": [
                      {
                        "marker": {
                          "colorbar": {
                            "outlinewidth": 0,
                            "ticks": ""
                          }
                        },
                        "type": "scatterpolargl"
                      }
                    ],
                    "scatterternary": [
                      {
                        "marker": {
                          "colorbar": {
                            "outlinewidth": 0,
                            "ticks": ""
                          }
                        },
                        "type": "scatterternary"
                      }
                    ],
                    "surface": [
                      {
                        "colorbar": {
                          "outlinewidth": 0,
                          "ticks": ""
                        },
                        "colorscale": [
                          [
                            0,
                            "#0d0887"
                          ],
                          [
                            0.1111111111111111,
                            "#46039f"
                          ],
                          [
                            0.2222222222222222,
                            "#7201a8"
                          ],
                          [
                            0.3333333333333333,
                            "#9c179e"
                          ],
                          [
                            0.4444444444444444,
                            "#bd3786"
                          ],
                          [
                            0.5555555555555556,
                            "#d8576b"
                          ],
                          [
                            0.6666666666666666,
                            "#ed7953"
                          ],
                          [
                            0.7777777777777778,
                            "#fb9f3a"
                          ],
                          [
                            0.8888888888888888,
                            "#fdca26"
                          ],
                          [
                            1,
                            "#f0f921"
                          ]
                        ],
                        "type": "surface"
                      }
                    ],
                    "table": [
                      {
                        "cells": {
                          "fill": {
                            "color": "#EBF0F8"
                          },
                          "line": {
                            "color": "white"
                          }
                        },
                        "header": {
                          "fill": {
                            "color": "#C8D4E3"
                          },
                          "line": {
                            "color": "white"
                          }
                        },
                        "type": "table"
                      }
                    ]
                  },
                  "layout": {
                    "annotationdefaults": {
                      "arrowcolor": "#2a3f5f",
                      "arrowhead": 0,
                      "arrowwidth": 1
                    },
                    "autotypenumbers": "strict",
                    "coloraxis": {
                      "colorbar": {
                        "outlinewidth": 0,
                        "ticks": ""
                      }
                    },
                    "colorscale": {
                      "diverging": [
                        [
                          0,
                          "#8e0152"
                        ],
                        [
                          0.1,
                          "#c51b7d"
                        ],
                        [
                          0.2,
                          "#de77ae"
                        ],
                        [
                          0.3,
                          "#f1b6da"
                        ],
                        [
                          0.4,
                          "#fde0ef"
                        ],
                        [
                          0.5,
                          "#f7f7f7"
                        ],
                        [
                          0.6,
                          "#e6f5d0"
                        ],
                        [
                          0.7,
                          "#b8e186"
                        ],
                        [
                          0.8,
                          "#7fbc41"
                        ],
                        [
                          0.9,
                          "#4d9221"
                        ],
                        [
                          1,
                          "#276419"
                        ]
                      ],
                      "sequential": [
                        [
                          0,
                          "#0d0887"
                        ],
                        [
                          0.1111111111111111,
                          "#46039f"
                        ],
                        [
                          0.2222222222222222,
                          "#7201a8"
                        ],
                        [
                          0.3333333333333333,
                          "#9c179e"
                        ],
                        [
                          0.4444444444444444,
                          "#bd3786"
                        ],
                        [
                          0.5555555555555556,
                          "#d8576b"
                        ],
                        [
                          0.6666666666666666,
                          "#ed7953"
                        ],
                        [
                          0.7777777777777778,
                          "#fb9f3a"
                        ],
                        [
                          0.8888888888888888,
                          "#fdca26"
                        ],
                        [
                          1,
                          "#f0f921"
                        ]
                      ],
                      "sequentialminus": [
                        [
                          0,
                          "#0d0887"
                        ],
                        [
                          0.1111111111111111,
                          "#46039f"
                        ],
                        [
                          0.2222222222222222,
                          "#7201a8"
                        ],
                        [
                          0.3333333333333333,
                          "#9c179e"
                        ],
                        [
                          0.4444444444444444,
                          "#bd3786"
                        ],
                        [
                          0.5555555555555556,
                          "#d8576b"
                        ],
                        [
                          0.6666666666666666,
                          "#ed7953"
                        ],
                        [
                          0.7777777777777778,
                          "#fb9f3a"
                        ],
                        [
                          0.8888888888888888,
                          "#fdca26"
                        ],
                        [
                          1,
                          "#f0f921"
                        ]
                      ]
                    },
                    "colorway": [
                      "#636efa",
                      "#EF553B",
                      "#00cc96",
                      "#ab63fa",
                      "#FFA15A",
                      "#19d3f3",
                      "#FF6692",
                      "#B6E880",
                      "#FF97FF",
                      "#FECB52"
                    ],
                    "font": {
                      "color": "#2a3f5f"
                    },
                    "geo": {
                      "bgcolor": "white",
                      "lakecolor": "white",
                      "landcolor": "#E5ECF6",
                      "showlakes": true,
                      "showland": true,
                      "subunitcolor": "white"
                    },
                    "hoverlabel": {
                      "align": "left"
                    },
                    "hovermode": "closest",
                    "mapbox": {
                      "style": "light"
                    },
                    "paper_bgcolor": "white",
                    "plot_bgcolor": "#E5ECF6",
                    "polar": {
                      "angularaxis": {
                        "gridcolor": "white",
                        "linecolor": "white",
                        "ticks": ""
                      },
                      "bgcolor": "#E5ECF6",
                      "radialaxis": {
                        "gridcolor": "white",
                        "linecolor": "white",
                        "ticks": ""
                      }
                    },
                    "scene": {
                      "xaxis": {
                        "backgroundcolor": "#E5ECF6",
                        "gridcolor": "white",
                        "gridwidth": 2,
                        "linecolor": "white",
                        "showbackground": true,
                        "ticks": "",
                        "zerolinecolor": "white"
                      },
                      "yaxis": {
                        "backgroundcolor": "#E5ECF6",
                        "gridcolor": "white",
                        "gridwidth": 2,
                        "linecolor": "white",
                        "showbackground": true,
                        "ticks": "",
                        "zerolinecolor": "white"
                      },
                      "zaxis": {
                        "backgroundcolor": "#E5ECF6",
                        "gridcolor": "white",
                        "gridwidth": 2,
                        "linecolor": "white",
                        "showbackground": true,
                        "ticks": "",
                        "zerolinecolor": "white"
                      }
                    },
                    "shapedefaults": {
                      "line": {
                        "color": "#2a3f5f"
                      }
                    },
                    "ternary": {
                      "aaxis": {
                        "gridcolor": "white",
                        "linecolor": "white",
                        "ticks": ""
                      },
                      "baxis": {
                        "gridcolor": "white",
                        "linecolor": "white",
                        "ticks": ""
                      },
                      "bgcolor": "#E5ECF6",
                      "caxis": {
                        "gridcolor": "white",
                        "linecolor": "white",
                        "ticks": ""
                      }
                    },
                    "title": {
                      "x": 0.05
                    },
                    "xaxis": {
                      "automargin": true,
                      "gridcolor": "white",
                      "linecolor": "white",
                      "ticks": "",
                      "title": {
                        "standoff": 15
                      },
                      "zerolinecolor": "white",
                      "zerolinewidth": 2
                    },
                    "yaxis": {
                      "automargin": true,
                      "gridcolor": "white",
                      "linecolor": "white",
                      "ticks": "",
                      "title": {
                        "standoff": 15
                      },
                      "zerolinecolor": "white",
                      "zerolinewidth": 2
                    }
                  }
                },
                "yaxis": {
                  "range": [
                    520000,
                    750000
                  ]
                }
              }
            }
          },
          "metadata": {},
          "output_type": "display_data"
        }
      ],
      "source": [
        "fig3 = go.Figure(data=grafico2.data + grafico3.data)\n",
        "fig3.update_yaxes(range=[520000,750000])\n",
        "fig3.show()"
      ]
    },
    {
      "cell_type": "markdown",
      "metadata": {},
      "source": [
        "La línea de tendencia es diferente a la que obteniamos sólo con pago en efectivo. Si bien parece haber una ligera tendencia negativa desde marzo de 2018, no parece significativa y la línea verde en general se mantiene más bien estable. \n",
        "Podríamos aceptar la hipótesis de que la tendencia negativa de pasos que se pagan en efectivo no se refleja en la cantidad de pasos totales, y por lo tanto se debe a una migración a otros medios de pago. "
      ]
    },
    {
      "cell_type": "markdown",
      "metadata": {},
      "source": [
        "### Transformación de Datos"
      ]
    },
    {
      "cell_type": "markdown",
      "metadata": {},
      "source": [
        "Las transformaciones de datos necesarias ya fueron realizadas durante el análisis exploratorio. Éstas fueron: detección de outliers e imputación de los mismos."
      ]
    },
    {
      "cell_type": "markdown",
      "metadata": {},
      "source": [
        "## Modelos Predictivos"
      ]
    },
    {
      "cell_type": "markdown",
      "metadata": {},
      "source": [
        "### Modelo Benchmark"
      ]
    },
    {
      "cell_type": "code",
      "execution_count": 85,
      "metadata": {},
      "outputs": [],
      "source": [
        "from statsmodels.tsa.api import VAR"
      ]
    }
  ],
  "metadata": {
    "colab": {
      "collapsed_sections": [],
      "name": "DS_Proyecto_03_ST.ipynb",
      "provenance": []
    },
    "interpreter": {
      "hash": "3f7a46753943352118a8c5dcfb1ff7cc9df5eea12c48c710380e7d35f5ca18fd"
    },
    "kernelspec": {
      "display_name": "Python 3.9.7 64-bit ('series': conda)",
      "name": "python3"
    },
    "language_info": {
      "codemirror_mode": {
        "name": "ipython",
        "version": 3
      },
      "file_extension": ".py",
      "mimetype": "text/x-python",
      "name": "python",
      "nbconvert_exporter": "python",
      "pygments_lexer": "ipython3",
      "version": "3.9.7"
    }
  },
  "nbformat": 4,
  "nbformat_minor": 0
}
